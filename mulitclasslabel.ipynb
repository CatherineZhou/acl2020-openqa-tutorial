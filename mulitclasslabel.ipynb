{
 "cells": [
  {
   "cell_type": "code",
   "execution_count": 1,
   "id": "0d0f5c49",
   "metadata": {
    "_cell_guid": "b1076dfc-b9ad-4769-8c92-a6c4dae69d19",
    "_uuid": "8f2839f25d086af736a60e9eeb907d3b93b6e0e5",
    "execution": {
     "iopub.execute_input": "2022-09-13T06:21:35.798801Z",
     "iopub.status.busy": "2022-09-13T06:21:35.798236Z",
     "iopub.status.idle": "2022-09-13T06:21:35.812935Z",
     "shell.execute_reply": "2022-09-13T06:21:35.812048Z"
    },
    "papermill": {
     "duration": 0.024286,
     "end_time": "2022-09-13T06:21:35.814963",
     "exception": false,
     "start_time": "2022-09-13T06:21:35.790677",
     "status": "completed"
    },
    "tags": []
   },
   "outputs": [
    {
     "name": "stdout",
     "output_type": "stream",
     "text": [
      "/kaggle/working/__notebook__.ipynb\n"
     ]
    }
   ],
   "source": [
    "# This Python 3 environment comes with many helpful analytics libraries installed\n",
    "# It is defined by the kaggle/python Docker image: https://github.com/kaggle/docker-python\n",
    "# For example, here's several helpful packages to load\n",
    "\n",
    "import numpy as np # linear algebra\n",
    "import pandas as pd # data processing, CSV file I/O (e.g. pd.read_csv)\n",
    "\n",
    "# Input data files are available in the read-only \"../input/\" directory\n",
    "# For example, running this (by clicking run or pressing Shift+Enter) will list all files under the input directory\n",
    "\n",
    "import os\n",
    "for dirname, _, filenames in os.walk('/kaggle/working'):\n",
    "    for filename in filenames:\n",
    "        print(os.path.join(dirname, filename))\n",
    "\n",
    "# You can write up to 20GB to the current directory (/kaggle/working/) that gets preserved as output when you create a version using \"Save & Run All\" \n",
    "# You can also write temporary files to /kaggle/temp/, but they won't be saved outside of the current session"
   ]
  },
  {
   "cell_type": "code",
   "execution_count": 2,
   "id": "10e43d0c",
   "metadata": {
    "execution": {
     "iopub.execute_input": "2022-09-13T06:21:35.826686Z",
     "iopub.status.busy": "2022-09-13T06:21:35.825801Z",
     "iopub.status.idle": "2022-09-13T06:21:35.830983Z",
     "shell.execute_reply": "2022-09-13T06:21:35.829933Z"
    },
    "papermill": {
     "duration": 0.01409,
     "end_time": "2022-09-13T06:21:35.834143",
     "exception": false,
     "start_time": "2022-09-13T06:21:35.820053",
     "status": "completed"
    },
    "tags": []
   },
   "outputs": [
    {
     "name": "stdout",
     "output_type": "stream",
     "text": [
      "/kaggle/working\n"
     ]
    }
   ],
   "source": [
    "import os\n",
    "print(os.getcwd())"
   ]
  },
  {
   "cell_type": "code",
   "execution_count": null,
   "id": "872779c7",
   "metadata": {
    "papermill": {
     "duration": 0.004864,
     "end_time": "2022-09-13T06:21:35.844954",
     "exception": false,
     "start_time": "2022-09-13T06:21:35.840090",
     "status": "completed"
    },
    "tags": []
   },
   "outputs": [],
   "source": []
  },
  {
   "cell_type": "code",
   "execution_count": 3,
   "id": "1bac72db",
   "metadata": {
    "execution": {
     "iopub.execute_input": "2022-09-13T06:21:35.856110Z",
     "iopub.status.busy": "2022-09-13T06:21:35.855856Z",
     "iopub.status.idle": "2022-09-13T06:21:37.704287Z",
     "shell.execute_reply": "2022-09-13T06:21:37.703291Z"
    },
    "papermill": {
     "duration": 1.861249,
     "end_time": "2022-09-13T06:21:37.711328",
     "exception": false,
     "start_time": "2022-09-13T06:21:35.850079",
     "status": "completed"
    },
    "tags": []
   },
   "outputs": [
    {
     "name": "stdout",
     "output_type": "stream",
     "text": [
      "4.20.1\n",
      "1.11.0\n"
     ]
    }
   ],
   "source": [
    "import transformers\n",
    "import torch\n",
    "\n",
    "print(transformers.__version__)\n",
    "print(torch.__version__)"
   ]
  },
  {
   "cell_type": "code",
   "execution_count": 4,
   "id": "bb7ebaf4",
   "metadata": {
    "execution": {
     "iopub.execute_input": "2022-09-13T06:21:37.729761Z",
     "iopub.status.busy": "2022-09-13T06:21:37.729220Z",
     "iopub.status.idle": "2022-09-13T06:21:37.733404Z",
     "shell.execute_reply": "2022-09-13T06:21:37.732566Z"
    },
    "papermill": {
     "duration": 0.017143,
     "end_time": "2022-09-13T06:21:37.737336",
     "exception": false,
     "start_time": "2022-09-13T06:21:37.720193",
     "status": "completed"
    },
    "tags": []
   },
   "outputs": [],
   "source": [
    "# !pip uninstall transformers --yes\n",
    "# !pip uninstall torch --yes\n",
    "# !pip uninstall protobuf --yes"
   ]
  },
  {
   "cell_type": "code",
   "execution_count": 5,
   "id": "50213a53",
   "metadata": {
    "execution": {
     "iopub.execute_input": "2022-09-13T06:21:37.755263Z",
     "iopub.status.busy": "2022-09-13T06:21:37.754948Z",
     "iopub.status.idle": "2022-09-13T06:21:37.758787Z",
     "shell.execute_reply": "2022-09-13T06:21:37.757860Z"
    },
    "papermill": {
     "duration": 0.016693,
     "end_time": "2022-09-13T06:21:37.762888",
     "exception": false,
     "start_time": "2022-09-13T06:21:37.746195",
     "status": "completed"
    },
    "tags": []
   },
   "outputs": [],
   "source": [
    "# !pip install protobuf==3.19.4 \n",
    "# !pip install transformers==4.21.2\n",
    "# !pip install torch==1.10.0\n"
   ]
  },
  {
   "cell_type": "code",
   "execution_count": 6,
   "id": "af79f995",
   "metadata": {
    "execution": {
     "iopub.execute_input": "2022-09-13T06:21:37.774764Z",
     "iopub.status.busy": "2022-09-13T06:21:37.774478Z",
     "iopub.status.idle": "2022-09-13T06:21:37.778806Z",
     "shell.execute_reply": "2022-09-13T06:21:37.777825Z"
    },
    "papermill": {
     "duration": 0.01263,
     "end_time": "2022-09-13T06:21:37.780909",
     "exception": false,
     "start_time": "2022-09-13T06:21:37.768279",
     "status": "completed"
    },
    "tags": []
   },
   "outputs": [],
   "source": [
    "import sys\n",
    "sys.path.append('/kaggle/input/dialog-script/script/')"
   ]
  },
  {
   "cell_type": "code",
   "execution_count": 7,
   "id": "a8bea790",
   "metadata": {
    "execution": {
     "iopub.execute_input": "2022-09-13T06:21:37.792741Z",
     "iopub.status.busy": "2022-09-13T06:21:37.792464Z",
     "iopub.status.idle": "2022-09-13T06:21:38.771135Z",
     "shell.execute_reply": "2022-09-13T06:21:38.770170Z"
    },
    "papermill": {
     "duration": 0.987294,
     "end_time": "2022-09-13T06:21:38.773658",
     "exception": false,
     "start_time": "2022-09-13T06:21:37.786364",
     "status": "completed"
    },
    "tags": []
   },
   "outputs": [],
   "source": [
    "import os\n",
    "import logging\n",
    "from sklearn.metrics import accuracy_score, f1_score, classification_report\n",
    "import torch\n",
    "import torch.nn as nn\n",
    "import numpy as np\n",
    "from transformers import BertTokenizer\n",
    "import  json"
   ]
  },
  {
   "cell_type": "markdown",
   "id": "3d50dcaa",
   "metadata": {
    "papermill": {
     "duration": 0.005683,
     "end_time": "2022-09-13T06:21:38.785053",
     "exception": false,
     "start_time": "2022-09-13T06:21:38.779370",
     "status": "completed"
    },
    "tags": []
   },
   "source": [
    "## ***bert config"
   ]
  },
  {
   "cell_type": "code",
   "execution_count": 8,
   "id": "ecb4feea",
   "metadata": {
    "execution": {
     "iopub.execute_input": "2022-09-13T06:21:38.797694Z",
     "iopub.status.busy": "2022-09-13T06:21:38.797368Z",
     "iopub.status.idle": "2022-09-13T06:21:38.812932Z",
     "shell.execute_reply": "2022-09-13T06:21:38.811586Z"
    },
    "papermill": {
     "duration": 0.024159,
     "end_time": "2022-09-13T06:21:38.814975",
     "exception": false,
     "start_time": "2022-09-13T06:21:38.790816",
     "status": "completed"
    },
    "tags": []
   },
   "outputs": [
    {
     "name": "stdout",
     "output_type": "stream",
     "text": [
      "Namespace(adam_epsilon=1e-08, bert_dir='hfl/chinese-roberta-wwm-ext', data_dir='/kaggle/input/dialog-house-train-data/train_data/', dropout_prob=0.2, eval_batch_size=1, eval_model=True, gpu_ids='0,1', log_dir='./logs/', lr=3e-05, max_grad_norm=1, max_seq_len=256, num_tags=65, other_lr=0.0003, output_dir='./checkpoints/', seed=123, swa_start=3, train_batch_size=16, train_epochs=10, warmup_proportion=0.1, weight_decay=0.01)\n"
     ]
    }
   ],
   "source": [
    "import argparse\n",
    "class Args:\n",
    "    @staticmethod\n",
    "    def parse():\n",
    "        parser = argparse.ArgumentParser()\n",
    "        return parser\n",
    "    @staticmethod\n",
    "    def initialize(parser):\n",
    "        # args for path\n",
    "        parser.add_argument('--output_dir', default='./checkpoints/',help='the output dir for model checkpoints')\n",
    "        #parser.add_argument('--bert_dir', default='/kaggle/input/pretrain-model-robert/pretrain_model_0901/', help='bert dir for uer')\n",
    "        parser.add_argument('--bert_dir', default='hfl/chinese-roberta-wwm-ext', help='bert dir for uer')\n",
    "        parser.add_argument('--data_dir', default='/kaggle/input/dialog-house-train-data/train_data/', help='data dir for uer')\n",
    "        parser.add_argument('--log_dir', default='./logs/', help='log dir for uer')\n",
    "        # other args\n",
    "        parser.add_argument('--num_tags', default=65, type=int,help='number of tags')\n",
    "        parser.add_argument('--seed', type=int, default=123, help='random seed')\n",
    "\n",
    "        parser.add_argument('--gpu_ids', type=str, default=\"0,1\",help='gpu ids to use, -1 for cpu, \"0,1\" for multi gpu')\n",
    "        parser.add_argument('--max_seq_len', default=256, type=int)\n",
    "        parser.add_argument('--eval_batch_size', default=1, type=int)\n",
    "        parser.add_argument('--swa_start', default=3, type=int, help='the epoch when swa start')\n",
    "        # train args\n",
    "        parser.add_argument('--train_epochs', default=10, type=int,help='Max training epoch')\n",
    "        parser.add_argument('--dropout_prob', default=0.2, type=float,help='drop out probability')\n",
    "        # 2e-5\n",
    "        parser.add_argument('--lr', default=3e-5, type=float,help='learning rate for the bert module')\n",
    "        # 2e-3\n",
    "        parser.add_argument('--other_lr', default=3e-4, type=float,help='learning rate for the module except bert')\n",
    "        # 0.5\n",
    "        parser.add_argument('--max_grad_norm', default=1, type=float,help='max grad clip')\n",
    "        parser.add_argument('--warmup_proportion', default=0.1, type=float)\n",
    "        parser.add_argument('--weight_decay', default=0.01, type=float)\n",
    "        parser.add_argument('--adam_epsilon', default=1e-8, type=float)\n",
    "        parser.add_argument('--train_batch_size', default=16, type=int)\n",
    "        parser.add_argument('--eval_model', default=True, action='store_true',help='whether to eval model after training')\n",
    "        return parser\n",
    "\n",
    "    def get_parser(self):\n",
    "        parser = self.parse()\n",
    "        parser = self.initialize(parser)\n",
    "        return parser.parse_args(args=[])\n",
    "    \n",
    "logger = logging.getLogger(__name__)\n",
    "args =Args()\n",
    "args = args.get_parser()\n",
    "print(args)"
   ]
  },
  {
   "cell_type": "markdown",
   "id": "c9d5bd31",
   "metadata": {
    "papermill": {
     "duration": 0.00604,
     "end_time": "2022-09-13T06:21:38.826232",
     "exception": false,
     "start_time": "2022-09-13T06:21:38.820192",
     "status": "completed"
    },
    "tags": []
   },
   "source": [
    "# data loader"
   ]
  },
  {
   "cell_type": "code",
   "execution_count": 9,
   "id": "603eb648",
   "metadata": {
    "execution": {
     "iopub.execute_input": "2022-09-13T06:21:38.839052Z",
     "iopub.status.busy": "2022-09-13T06:21:38.838399Z",
     "iopub.status.idle": "2022-09-13T06:21:38.856190Z",
     "shell.execute_reply": "2022-09-13T06:21:38.855018Z"
    },
    "papermill": {
     "duration": 0.026264,
     "end_time": "2022-09-13T06:21:38.858298",
     "exception": false,
     "start_time": "2022-09-13T06:21:38.832034",
     "status": "completed"
    },
    "tags": []
   },
   "outputs": [],
   "source": [
    "import torch\n",
    "import pandas as pd\n",
    "from torch.utils.data import Dataset, DataLoader\n",
    "from transformers import BertTokenizer\n",
    "\n",
    "# Torch数据集导入类\n",
    "class CustomDataset(Dataset):\n",
    "    def __init__(self, dataframe, tokenizer, max_len,class_type):\n",
    "        self.tokenizer = tokenizer\n",
    "        self.data = dataframe\n",
    "        self.text = dataframe['text']\n",
    "        self.first_label = dataframe['fir_key']\n",
    "        self.targets = self.data.target_list\n",
    "        self.max_len = max_len\n",
    "        self.class_type = class_type\n",
    "\n",
    "    def __len__(self):\n",
    "        return len(self.text)\n",
    "\n",
    "    def __getitem__(self, index):\n",
    "        if self.class_type == 'first':\n",
    "            text = str(self.text[index])\n",
    "            first_label = None\n",
    "        else:\n",
    "            text = str(self.text[index])\n",
    "            first_label = str(self.first_label[index])\n",
    "        inputs = self.tokenizer.encode_plus(\n",
    "            text,\n",
    "            first_label,\n",
    "            add_special_tokens=True,\n",
    "            max_length=self.max_len,\n",
    "            padding='max_length',\n",
    "            return_token_type_ids=True,\n",
    "            truncation='longest_first'\n",
    "        )\n",
    "        ids = inputs['input_ids']\n",
    "        mask = inputs['attention_mask']\n",
    "        token_type_ids = inputs[\"token_type_ids\"]\n",
    "\n",
    "        return {'token_ids': torch.tensor(ids, dtype=torch.long),\n",
    "                'attention_masks': torch.tensor(mask, dtype=torch.long),\n",
    "                'token_type_ids': torch.tensor(token_type_ids, dtype=torch.long),\n",
    "                'labels': torch.tensor(self.targets[index], dtype=torch.float)\n",
    "                }\n",
    "\n",
    "\n",
    "def data_loader(raw_csv_path,class_type):\n",
    "    df_raw = pd.read_csv(raw_csv_path)\n",
    "    if class_type == 'first':\n",
    "        df_raw['target_list'] = df_raw['first_key_list_flag'].apply(lambda x: x.split(','))\n",
    "    else:\n",
    "        df_raw['target_list'] = df_raw['second_key_list_flag'].apply(lambda x: x.split(','))\n",
    "\n",
    "    df_raw['target_list'] = df_raw['target_list'].apply(lambda x: [float(i) for i in x])\n",
    "    #df_raw = df_raw.head(10000)\n",
    "    print('---df columns ',df_raw.columns)\n",
    "    print('-----df_raw before', df_raw.shape)\n",
    "    df = df_raw[['fir_key', 'text', 'target_list']].copy()\n",
    "    df.dropna(inplace=True)\n",
    "    print('-----df_raw after', df.shape)\n",
    "    df.to_csv('./test.txt', index=False)\n",
    "    \n",
    "\n",
    "    # 划分数据, 训练集:测试集=8:2\n",
    "    train_size = 0.8\n",
    "    train_dataset = df.sample(frac=train_size, random_state=200)\n",
    "    valid_dataset = df.drop(train_dataset.index).reset_index(drop=True)\n",
    "    train_dataset = train_dataset.reset_index(drop=True)\n",
    "    print(f\"FULL Dataset: {df.shape}, \"\n",
    "          f\"TRAIN Dataset: {train_dataset.shape}, \"\n",
    "          f\"TEST Dataset: {valid_dataset.shape}\")\n",
    "    # 使用改造后的Torch DataLoader加载数据集\n",
    "    tokenizer = BertTokenizer.from_pretrained(args.bert_dir)\n",
    "    training_set = CustomDataset(train_dataset, tokenizer, args.max_seq_len, class_type)\n",
    "    validation_set = CustomDataset(valid_dataset, tokenizer, args.max_seq_len, class_type)\n",
    "\n",
    "    train_params = {'batch_size': args.train_batch_size, 'shuffle': False, 'num_workers': 0}\n",
    "    test_params = {'batch_size': args.eval_batch_size, 'shuffle': False, 'num_workers': 0}\n",
    "\n",
    "    training_loader = DataLoader(training_set, **train_params)\n",
    "    validation_loader = DataLoader(validation_set, **test_params)\n",
    "    return training_loader, validation_loader\n",
    "\n",
    "def show_batch(loader):\n",
    "    for step,sample in enumerate(loader): # 每一次挑选出来的size个数据\n",
    "        print(list(sample.keys()))\n",
    "        print('----token_ids', sample['token_ids'].shape)\n",
    "        print('----token_ids', sample['attention_masks'].shape)\n",
    "        print('----token_ids', sample['token_type_ids'].shape)\n",
    "        print('----token_ids', sample['labels'].shape)\n"
   ]
  },
  {
   "cell_type": "markdown",
   "id": "541ba8cd",
   "metadata": {
    "papermill": {
     "duration": 0.005092,
     "end_time": "2022-09-13T06:21:38.868545",
     "exception": false,
     "start_time": "2022-09-13T06:21:38.863453",
     "status": "completed"
    },
    "tags": []
   },
   "source": [
    "# utils"
   ]
  },
  {
   "cell_type": "code",
   "execution_count": 10,
   "id": "259ec537",
   "metadata": {
    "execution": {
     "iopub.execute_input": "2022-09-13T06:21:38.881014Z",
     "iopub.status.busy": "2022-09-13T06:21:38.880121Z",
     "iopub.status.idle": "2022-09-13T06:21:38.890378Z",
     "shell.execute_reply": "2022-09-13T06:21:38.889560Z"
    },
    "papermill": {
     "duration": 0.018688,
     "end_time": "2022-09-13T06:21:38.892511",
     "exception": false,
     "start_time": "2022-09-13T06:21:38.873823",
     "status": "completed"
    },
    "tags": []
   },
   "outputs": [],
   "source": [
    "# coding=utf-8\n",
    "import random\n",
    "import logging\n",
    "import time\n",
    "import numpy as np\n",
    "import torch\n",
    "\n",
    "\n",
    "def timer(func):\n",
    "    \"\"\"\n",
    "    函数计时器\n",
    "    :param func:\n",
    "    :return:\n",
    "    \"\"\"\n",
    "\n",
    "    @functools.wraps(func)\n",
    "    def wrapper(*args, **kwargs):\n",
    "        start = time.time()\n",
    "        res = func(*args, **kwargs)\n",
    "        end = time.time()\n",
    "        print(\"{}共耗时约{:.4f}秒\".format(func.__name__, end - start))\n",
    "        return res\n",
    "\n",
    "    return wrapper\n",
    "\n",
    "\n",
    "def set_seed(seed=123):\n",
    "    \"\"\"\n",
    "    设置随机数种子，保证实验可重现\n",
    "    :param seed:\n",
    "    :return:\n",
    "    \"\"\"\n",
    "    random.seed(seed)\n",
    "    torch.manual_seed(seed)\n",
    "    np.random.seed(seed)\n",
    "    #torch.cuda.manual_seed_all(seed)\n",
    "\n",
    "\n",
    "def set_logger(log_path):\n",
    "    \"\"\"\n",
    "    配置log\n",
    "    :param log_path:s\n",
    "    :return:\n",
    "    \"\"\"\n",
    "    logger = logging.getLogger()\n",
    "    logger.setLevel(logging.INFO)\n",
    "\n",
    "    # 由于每调用一次set_logger函数，就会创建一个handler，会造成重复打印的问题，因此需要判断root logger中是否已有该handler\n",
    "    if not any(handler.__class__ == logging.FileHandler for handler in logger.handlers):\n",
    "        file_handler = logging.FileHandler(log_path)\n",
    "        formatter = logging.Formatter(\n",
    "            '%(asctime)s - %(levelname)s - %(filename)s - %(funcName)s - %(lineno)d - %(message)s')\n",
    "        file_handler.setFormatter(formatter)\n",
    "        logger.addHandler(file_handler)\n",
    "\n",
    "    if not any(handler.__class__ == logging.StreamHandler for handler in logger.handlers):\n",
    "        stream_handler = logging.StreamHandler()\n",
    "        stream_handler.setFormatter(logging.Formatter('%(message)s'))\n",
    "        logger.addHandler(stream_handler)\n"
   ]
  },
  {
   "cell_type": "markdown",
   "id": "82aca71a",
   "metadata": {
    "papermill": {
     "duration": 0.00509,
     "end_time": "2022-09-13T06:21:38.902792",
     "exception": false,
     "start_time": "2022-09-13T06:21:38.897702",
     "status": "completed"
    },
    "tags": []
   },
   "source": [
    "# model"
   ]
  },
  {
   "cell_type": "code",
   "execution_count": 11,
   "id": "c918ee06",
   "metadata": {
    "execution": {
     "iopub.execute_input": "2022-09-13T06:21:38.914354Z",
     "iopub.status.busy": "2022-09-13T06:21:38.914084Z",
     "iopub.status.idle": "2022-09-13T06:21:40.081707Z",
     "shell.execute_reply": "2022-09-13T06:21:40.080582Z"
    },
    "papermill": {
     "duration": 1.176303,
     "end_time": "2022-09-13T06:21:40.084297",
     "exception": false,
     "start_time": "2022-09-13T06:21:38.907994",
     "status": "completed"
    },
    "tags": []
   },
   "outputs": [],
   "source": [
    "from transformers import BertModel\n",
    "import torch.nn as nn\n",
    "\n",
    "\n",
    "class BertForMultiLabelClassification(nn.Module):\n",
    "    def __init__(self, args):\n",
    "        super(BertForMultiLabelClassification, self).__init__()\n",
    "        self.bert = BertModel.from_pretrained(args.bert_dir)\n",
    "        self.bert_config = self.bert.config\n",
    "        out_dims = self.bert_config.hidden_size\n",
    "        self.dropout = nn.Dropout(0.3)\n",
    "        self.linear = nn.Linear(out_dims, args.num_tags)\n",
    "\n",
    "    def forward(self, token_ids, attention_masks, token_type_ids):\n",
    "#         print('---input shape', token_ids.shape, attention_masks.shape, token_type_ids.shape)\n",
    "#         print('---token_ids ', token_ids[0])\n",
    "#         print('---attention_masks ', attention_masks[0])\n",
    "#         print('---token_type_ids ', token_type_ids[0])\n",
    "        \n",
    "        bert_outputs = self.bert(\n",
    "            input_ids = token_ids,\n",
    "            attention_mask = attention_masks,\n",
    "            token_type_ids = token_type_ids\n",
    "        )\n",
    "        #print('----bert out', bert_outputs.pooler_output.shape)\n",
    "        #seq_out = bert_outputs[1]\n",
    "        seq_out = bert_outputs.pooler_output\n",
    "        seq_out = self.dropout(seq_out)\n",
    "        seq_out = self.linear(seq_out)\n",
    "        return seq_out"
   ]
  },
  {
   "cell_type": "code",
   "execution_count": 12,
   "id": "e68f32b4",
   "metadata": {
    "execution": {
     "iopub.execute_input": "2022-09-13T06:21:40.097016Z",
     "iopub.status.busy": "2022-09-13T06:21:40.096271Z",
     "iopub.status.idle": "2022-09-13T06:21:40.101440Z",
     "shell.execute_reply": "2022-09-13T06:21:40.100629Z"
    },
    "papermill": {
     "duration": 0.01352,
     "end_time": "2022-09-13T06:21:40.103400",
     "exception": false,
     "start_time": "2022-09-13T06:21:40.089880",
     "status": "completed"
    },
    "tags": []
   },
   "outputs": [],
   "source": [
    "# import torch\n",
    " \n",
    "# # 返回当前设备索引\n",
    " \n",
    "# print(torch.cuda.current_device())\n",
    " \n",
    "# # 返回GPU的数量\n",
    "# print(torch.cuda.device_count())\n",
    " \n",
    "# # 返回gpu名字，设备索引默认从0开始\n",
    "# print(torch.cuda.get_device_name(0))\n",
    " \n",
    "# # cuda是否可用\n",
    "# print(torch.cuda.is_available())\n",
    " \n",
    "# # cuda当前的版本\n",
    "# print(torch.version.cuda)\n",
    " \n",
    "# # 测试程序\n",
    "# a = torch.Tensor(5,3)\n",
    "# a=a.cuda()\n",
    "# print(a)"
   ]
  },
  {
   "cell_type": "code",
   "execution_count": 13,
   "id": "5816f7e5",
   "metadata": {
    "execution": {
     "iopub.execute_input": "2022-09-13T06:21:40.115840Z",
     "iopub.status.busy": "2022-09-13T06:21:40.115554Z",
     "iopub.status.idle": "2022-09-13T06:21:40.120678Z",
     "shell.execute_reply": "2022-09-13T06:21:40.119875Z"
    },
    "papermill": {
     "duration": 0.013895,
     "end_time": "2022-09-13T06:21:40.122732",
     "exception": false,
     "start_time": "2022-09-13T06:21:40.108837",
     "status": "completed"
    },
    "tags": []
   },
   "outputs": [],
   "source": [
    "# from transformers import BertTokenizer, BertModel\n",
    "# import torch\n",
    "# import os\n",
    "\n",
    "# os.environ['CUDA_LAUNCH_BLOCKING'] = '1'\n",
    "\n",
    "# gpu_ids = args.gpu_ids.split(',')\n",
    "# device = torch.device(\"cpu\" if gpu_ids[0] == '-1' else \"cuda:\" + gpu_ids[0])\n",
    "# print(device)\n",
    "        \n",
    "\n",
    "# tokenizer = BertTokenizer.from_pretrained(args.bert_dir)\n",
    "# model = BertModel.from_pretrained(args.bert_dir)\n",
    "\n",
    "# inputs = tokenizer(\"Hello, my dog is cute\", return_tensors=\"pt\")\n",
    "# print(inputs)\n",
    "# #outputs = model(**inputs)\n",
    "\n",
    "# model = BertForMultiLabelClassification(args)\n",
    "# outputs = model(inputs['input_ids'], inputs['attention_mask'], inputs['token_type_ids'])\n",
    "\n",
    "# #last_hidden_states = outputs.last_hidden_state\n",
    "# print(outputs.shape)"
   ]
  },
  {
   "cell_type": "code",
   "execution_count": 14,
   "id": "4cfd99a5",
   "metadata": {
    "execution": {
     "iopub.execute_input": "2022-09-13T06:21:40.134874Z",
     "iopub.status.busy": "2022-09-13T06:21:40.134622Z",
     "iopub.status.idle": "2022-09-13T06:21:40.165756Z",
     "shell.execute_reply": "2022-09-13T06:21:40.164924Z"
    },
    "papermill": {
     "duration": 0.039689,
     "end_time": "2022-09-13T06:21:40.167702",
     "exception": false,
     "start_time": "2022-09-13T06:21:40.128013",
     "status": "completed"
    },
    "tags": []
   },
   "outputs": [],
   "source": [
    "class Trainer:\n",
    "    def __init__(self, args, train_loader, dev_loader, test_loader, device):\n",
    "        self.args = args\n",
    "        gpu_ids = args.gpu_ids.split(',')\n",
    "        self.device = torch.device(\"cpu\" if gpu_ids[0] == '-1' else \"cuda:\" + gpu_ids[0])\n",
    "        self.device = 'cuda' if torch.cuda.is_available() else 'cpu'\n",
    "        self.model = BertForMultiLabelClassification(args)\n",
    "        self.optimizer = torch.optim.Adam(params=self.model.parameters(), lr=self.args.lr)\n",
    "        self.criterion = nn.BCEWithLogitsLoss()\n",
    "        self.train_loader = train_loader\n",
    "        self.dev_loader = dev_loader\n",
    "        self.test_loader = test_loader\n",
    "        self.model.to(self.device)\n",
    "\n",
    "    def load_ckp(self, model, optimizer, checkpoint_path):\n",
    "        checkpoint = torch.load(checkpoint_path)\n",
    "        model.load_state_dict(checkpoint['state_dict'])\n",
    "        optimizer.load_state_dict(checkpoint['optimizer'])\n",
    "        epoch = checkpoint['epoch']\n",
    "        loss = checkpoint['loss']\n",
    "        return model, optimizer, epoch, loss\n",
    "\n",
    "    def save_ckp(self, state, checkpoint_path):\n",
    "        torch.save(state, checkpoint_path)\n",
    "\n",
    "    \"\"\"\n",
    "    def save_ckp(self, state, is_best, checkpoint_path, best_model_path):\n",
    "        tmp_checkpoint_path = checkpoint_path\n",
    "        torch.save(state, tmp_checkpoint_path)\n",
    "        if is_best:\n",
    "            tmp_best_model_path = best_model_path\n",
    "            shutil.copyfile(tmp_checkpoint_path, tmp_best_model_path)\n",
    "    \"\"\"\n",
    "\n",
    "    def train(self):\n",
    "        print('----self device', self.device)\n",
    "        total_step = len(self.train_loader) * self.args.train_epochs\n",
    "        global_step = 0\n",
    "        eval_step = 1 # 决定每多少步，保存一次模型\n",
    "        best_dev_micro_f1 = 0.0\n",
    "        for epoch in range(args.train_epochs):\n",
    "            for train_step, train_data in enumerate(self.train_loader):\n",
    "                self.model.train()\n",
    "#                 print('---input shape', train_data['token_ids'].shape, train_data['attention_masks'].shape, train_data['token_type_ids'].shape)\n",
    "#                 print('---token_ids ', train_data['token_ids'][0])\n",
    "#                 print('---attention_masks ', train_data['attention_masks'][0])\n",
    "#                 print('---token_type_ids ', train_data['token_type_ids'][0])\n",
    "                token_ids = train_data['token_ids'].to(self.device)\n",
    "                attention_masks = train_data['attention_masks'].to(self.device)\n",
    "                token_type_ids = train_data['token_type_ids'].to(self.device)\n",
    "                labels = train_data['labels'].to(self.device)\n",
    "                try:\n",
    "                    train_outputs = self.model(token_ids, attention_masks, token_type_ids)\n",
    "                except:\n",
    "                    print('------except  have data nan')\n",
    "                    continue\n",
    "                print('-----bert model output')\n",
    "                loss = self.criterion(train_outputs, labels)\n",
    "                self.optimizer.zero_grad()\n",
    "                loss.backward()\n",
    "                self.optimizer.step()\n",
    "                logger.info(\n",
    "                    \"【train】 epoch：{} step:{}/{} loss：{:.6f}\".format(epoch, global_step, total_step, loss.item()))\n",
    "                global_step += 1\n",
    "                if global_step % eval_step == 0:\n",
    "                    dev_loss, dev_outputs, dev_targets = self.dev()\n",
    "                    accuracy, micro_f1, macro_f1 = self.get_metrics(dev_outputs, dev_targets)\n",
    "                    logger.info(\n",
    "                        \"【dev】 loss：{:.6f} accuracy：{:.4f} micro_f1：{:.4f} macro_f1：{:.4f}\".format(dev_loss, accuracy,\n",
    "                                                                                                   micro_f1, macro_f1))\n",
    "                    if macro_f1 > best_dev_micro_f1:\n",
    "                        logger.info(\"------------>保存当前最好的模型\")\n",
    "                        checkpoint = {\n",
    "                            'epoch': epoch,\n",
    "                            'loss': dev_loss,\n",
    "                            'state_dict': self.model.state_dict(),\n",
    "                            'optimizer': self.optimizer.state_dict(),\n",
    "                        }\n",
    "                        best_dev_micro_f1 = macro_f1\n",
    "                        checkpoint_path = os.path.join(self.args.output_dir, 'best.pt')\n",
    "                        print('-----save checkpoint_path', checkpoint_path)\n",
    "                        self.save_ckp(checkpoint, checkpoint_path)\n",
    "\n",
    "    def dev(self):\n",
    "        self.model.eval()\n",
    "        total_loss = 0.0\n",
    "        dev_outputs = []\n",
    "        dev_targets = []\n",
    "        with torch.no_grad():\n",
    "            for dev_step, dev_data in enumerate(self.dev_loader):\n",
    "                token_ids = dev_data['token_ids'].to(self.device)\n",
    "                attention_masks = dev_data['attention_masks'].to(self.device)\n",
    "                token_type_ids = dev_data['token_type_ids'].to(self.device)\n",
    "                labels = dev_data['labels'].to(self.device)\n",
    "                outputs = self.model(token_ids, attention_masks, token_type_ids)\n",
    "                loss = self.criterion(outputs, labels)\n",
    "                # val_loss = val_loss + ((1 / (dev_step + 1))) * (loss.item() - val_loss)\n",
    "                total_loss += loss.item()\n",
    "                outputs = torch.sigmoid(outputs).cpu().detach().numpy().tolist()\n",
    "                outputs = (np.array(outputs) > 0.6).astype(int)\n",
    "                dev_outputs.extend(outputs.tolist())\n",
    "                dev_targets.extend(labels.cpu().detach().numpy().tolist())\n",
    "\n",
    "        return total_loss, dev_outputs, dev_targets\n",
    "\n",
    "    def test(self, checkpoint_path):\n",
    "        model = self.model\n",
    "        optimizer = self.optimizer\n",
    "        model, optimizer, epoch, loss = self.load_ckp(model, optimizer, checkpoint_path)\n",
    "        model.eval()\n",
    "        model.to(self.device)\n",
    "        total_loss = 0.0\n",
    "        test_outputs = []\n",
    "        test_targets = []\n",
    "        with torch.no_grad():\n",
    "            for test_step, test_data in enumerate(self.test_loader):\n",
    "                token_ids = test_data['token_ids'].to(self.device)\n",
    "                attention_masks = test_data['attention_masks'].to(self.device)\n",
    "                token_type_ids = test_data['token_type_ids'].to(self.device)\n",
    "                labels = test_data['labels'].to(self.device)\n",
    "                outputs = model(token_ids, attention_masks, token_type_ids)\n",
    "                loss = self.criterion(outputs, labels)\n",
    "                # val_loss = val_loss + ((1 / (dev_step + 1))) * (loss.item() - val_loss)\n",
    "                total_loss += loss.item()\n",
    "                outputs = torch.sigmoid(outputs).cpu().detach().numpy().tolist()\n",
    "                outputs = (np.array(outputs) > 0.6).astype(int)\n",
    "                test_outputs.extend(outputs.tolist())\n",
    "                test_targets.extend(labels.cpu().detach().numpy().tolist())\n",
    "\n",
    "        return total_loss, test_outputs, test_targets\n",
    "\n",
    "    def predict(self, tokenizer, text, id2label, args):\n",
    "        model = self.model\n",
    "        optimizer = self.optimizer\n",
    "        checkpoint = os.path.join(args.output_dir, 'best.pt')\n",
    "        model, optimizer, epoch, loss = self.load_ckp(model, optimizer, checkpoint)\n",
    "        model.eval()\n",
    "        model.to(self.device)\n",
    "        with torch.no_grad():\n",
    "            inputs = tokenizer.encode_plus(text=text,\n",
    "                                        add_special_tokens=True,\n",
    "                                        max_length=args.max_seq_len,\n",
    "                                        truncation='longest_first',\n",
    "                                        padding=\"max_length\",\n",
    "                                        return_token_type_ids=True,\n",
    "                                        return_attention_mask=True,\n",
    "                                        return_tensors='pt')\n",
    "            token_ids = inputs['input_ids'].to(self.device)\n",
    "            attention_masks = inputs['attention_mask'].to(self.device)\n",
    "            token_type_ids = inputs['token_type_ids'].to(self.device)\n",
    "            outputs = model(token_ids, attention_masks, token_type_ids)\n",
    "            outputs = torch.sigmoid(outputs).cpu().detach().numpy().tolist()\n",
    "            outputs = (np.array(outputs) > 0.5).astype(int)\n",
    "            outputs = np.where(outputs[0] == 1)[0].tolist()\n",
    "            if len(outputs) != 0:\n",
    "                #print('----output',outputs )\n",
    "                outputs = [id2label[str(i)] for i in outputs]\n",
    "                return outputs\n",
    "            else:\n",
    "                return '不好意思，我没有识别出来'\n",
    "\n",
    "    def get_metrics(self, outputs, targets):\n",
    "        accuracy = accuracy_score(targets, outputs)\n",
    "        micro_f1 = f1_score(targets, outputs, average='micro')\n",
    "        macro_f1 = f1_score(targets, outputs, average='macro')\n",
    "        return accuracy, micro_f1, macro_f1\n",
    "\n",
    "    def get_classification_report(self, outputs, targets, labels):\n",
    "        # confusion_matrix = multilabel_confusion_matrix(targets, outputs)\n",
    "        report = classification_report(targets, outputs, target_names=labels)\n",
    "        return report\n"
   ]
  },
  {
   "cell_type": "code",
   "execution_count": 15,
   "id": "5b18def1",
   "metadata": {
    "execution": {
     "iopub.execute_input": "2022-09-13T06:21:40.179501Z",
     "iopub.status.busy": "2022-09-13T06:21:40.179248Z",
     "iopub.status.idle": "2022-09-13T06:21:40.189658Z",
     "shell.execute_reply": "2022-09-13T06:21:40.188847Z"
    },
    "papermill": {
     "duration": 0.018858,
     "end_time": "2022-09-13T06:21:40.191754",
     "exception": false,
     "start_time": "2022-09-13T06:21:40.172896",
     "status": "completed"
    },
    "tags": []
   },
   "outputs": [],
   "source": [
    "def main():\n",
    "    os.environ['CUDA_LAUNCH_BLOCKING'] = '1'\n",
    "    if not os.path.exists('./checkpoints/'):\n",
    "        os.makedirs('./checkpoints/')\n",
    "\n",
    "    if not os.path.exists('./logs/'):\n",
    "        os.makedirs('./logs/')\n",
    "\n",
    "\n",
    "    class_type = 'second'\n",
    "    print('---当前目录',os.getcwd())\n",
    "    #args = bert_config.Args().get_parser()\n",
    "    print('----args')\n",
    "    #set_seed(args.seed)\n",
    "    set_logger(os.path.join(args.log_dir, 'main.log'))\n",
    "    set_seed(args.seed)\n",
    "\n",
    "    device = 'cuda' if torch.cuda.is_available() else 'cpu'\n",
    "    print('-----device',device)\n",
    "\n",
    "    # load label 映射id\n",
    "    if class_type == 'first':\n",
    "        label2id = json.load(open(args.data_dir + '/span_first_label2id.json'))\n",
    "        train_file_name = 'span_df_train_mulitclass_data.txt'\n",
    "    else:\n",
    "        label2id = json.load(open(args.data_dir + '/span_second_label2id.json'))\n",
    "        train_file_name = 'span_df_train_mulitclass_data.txt'\n",
    "\n",
    "    id2label = {}\n",
    "    labels = []\n",
    "    for key, value in label2id.items():\n",
    "        id2label[value] = key\n",
    "        labels.append(key)\n",
    "    args.num_tags=len(labels)\n",
    "    print('------id2label',id2label)\n",
    "\n",
    "    # 加载数据集\n",
    "    train_loader, dev_loader = data_loader(args.data_dir + train_file_name,class_type)\n",
    "    #print('--train_loader', train_loader)\n",
    "    \n",
    "    #show_batch(train_loader)\n",
    "    \n",
    "\n",
    "    trainer = Trainer(args, train_loader, dev_loader, dev_loader,device)\n",
    "    #训练和验证\n",
    "    trainer.train()\n",
    "    \n",
    "    \n",
    "#     # 测试\n",
    "#     logger.info('========进行测试========')\n",
    "#     #checkpoint_path = args.output_dir + 'best.pt'\n",
    "#     checkpoint_path = os.path.join(args.output_dir, 'best.pt')\n",
    "#     print('-----test load path',checkpoint_path)\n",
    "#     total_loss, test_outputs, test_targets = trainer.test(checkpoint_path)\n",
    "#     accuracy, micro_f1, macro_f1 = trainer.get_metrics(test_outputs, test_targets)\n",
    "#     logger.info(\"【test】 loss：{:.6f} accuracy：{:.4f} micro_f1：{:.4f} macro_f1：{:.4f}\".format(total_loss, accuracy, micro_f1, macro_f1))\n",
    "#     report = trainer.get_classification_report(test_outputs, test_targets, labels)\n",
    "#     logger.info(report)\n",
    "    \n",
    "#     # 预测\n",
    "#     trainer = Trainer(args, None, None, None)\n",
    "#     #checkpoint_path = './checkpoints/best.pt'\n",
    "#     checkpoint_path = os.path.join(args.output_dir, 'best.pt')\n",
    "#     tokenizer = BertTokenizer.from_pretrained(args.bert_dir)\n",
    "    \n",
    "#     # 读取test1.json里面的数据, 一级预测， 二级预测\n",
    "#     import pandas as pd\n",
    "#     df_test = pd.read_csv(args.data_dir + '/span_df_train_mulitclass_data.txt')\n",
    "    \n",
    "#     df_test = df_test.head(10)\n",
    "#     test_text = df_test['text'].values.tolist()\n",
    "#     all_result = []\n",
    "#     for t in test_text:\n",
    "#         result = trainer.predict(tokenizer, t, id2label, args)\n",
    "#         all_result.append(result)\n",
    "#         print('-----text',t)\n",
    "#         print(result)\n",
    "#     # 预测单条\n",
    "#     text = '8岁男童海螺沟失联13日，父母悬赏10万寻子，马上就到他9岁生日了'\n",
    "#     print(trainer.predict(tokenizer, text, id2label, args))\n"
   ]
  },
  {
   "cell_type": "code",
   "execution_count": 16,
   "id": "e44a7a4a",
   "metadata": {
    "execution": {
     "iopub.execute_input": "2022-09-13T06:21:40.204540Z",
     "iopub.status.busy": "2022-09-13T06:21:40.203001Z",
     "iopub.status.idle": "2022-09-13T07:24:34.022691Z",
     "shell.execute_reply": "2022-09-13T07:24:34.021702Z"
    },
    "papermill": {
     "duration": 3773.828199,
     "end_time": "2022-09-13T07:24:34.025091",
     "exception": false,
     "start_time": "2022-09-13T06:21:40.196892",
     "status": "completed"
    },
    "tags": []
   },
   "outputs": [
    {
     "name": "stdout",
     "output_type": "stream",
     "text": [
      "---当前目录 /kaggle/working\n",
      "----args\n",
      "-----device cuda\n",
      "------id2label {0: '108', 1: '没有预算', 2: '60万左右', 3: '洋房', 4: 'loft', 5: '首套房', 6: '三成', 7: '86', 8: '休闲娱乐', 9: '一次性', 10: '360', 11: '80多', 12: '420', 13: '50万', 14: '奶奶', 15: '89平', 16: '90多', 17: '62', 18: '限购', 19: '闺女', 20: '100多平米', 21: '首付五成', 22: '自住', 23: '250万左右', 24: '女儿', 25: '99平', 26: '两个小孩', 27: '95', 28: '150万', 29: '对象', 30: '70平', 31: '100平左右', 32: '已婚', 33: '200左右', 34: '102', 35: '八九十平', 36: '200平米左右', 37: '组合贷款', 38: '845', 39: '医疗配套', 40: '89', 41: '改善', 42: '300', 43: '30%', 44: '200万左右', 45: '80平米', 46: '教育配套', 47: '80多平', 48: '商业配套', 49: '二次置业', 50: '八九', 51: '二套房', 52: '96', 53: '100平米以下', 54: '200多出头', 55: '90左右', 56: '俩孩子', 57: '增加居住面积', 58: '一半', 59: '宝宝', 60: '100多平', 61: '110', 62: '100多万', 63: '三房', 64: '爱人', 65: '三居室', 66: '两居', 67: '全款', 68: '一半儿', 69: '100平米', 70: '670万', 71: '60', 72: '缩短通勤时间', 73: '六成', 74: '一个小孩', 75: '俩小孩', 76: '33室', 77: '80多方', 78: '85平米', 79: '140', 80: '100左右', 81: '三个孩子', 82: '家人居住', 83: '99', 84: '98', 85: '投资', 86: '儿子', 87: '一次性付款', 88: '首次置业', 89: '夫妻', 90: '三居', 91: '80几', 92: '200以下', 93: '3室', 94: '88', 95: '100平', 96: '2室', 97: '八九十', 98: '240', 99: '多套', 100: '三成首付', 101: '一房', 102: '150', 103: '两个小孩儿', 104: '82', 105: '70', 106: '老婆', 107: '200多', 108: '108平', 109: '180万左右', 110: '200万', 111: '200万以内', 112: '商业按揭贷款', 113: '首付六成', 114: '190万', 115: '两个孩子', 116: '100', 117: '首付三成', 118: '婚房', 119: '3居', 120: '180', 121: '80', 122: '186', 123: '170', 124: '300出头', 125: '120', 126: '160', 127: '两个大孩子', 128: '160多万', 129: '孩子', 130: '30', 131: '98平以上', 132: '二百三四', 133: '130', 134: '五成', 135: '90', 136: '200万以下', 137: '85', 138: '180左右', 139: '330', 140: '一次付款', 141: '优惠', 142: '纯公积金', 143: '280左右', 144: '父母', 145: '物业服务', 146: '100平方', 147: '爷爷奶奶', 148: '100以上', 149: '老人', 150: '媳妇', 151: '100以内', 152: '80平方', 153: '高层', 154: '100几', 155: '养老配套', 156: '108平米', 157: '83', 158: '110左右', 159: '小孩', 160: '160左右', 161: '160万左右', 162: '小孩儿', 163: '200', 164: '一个孩子', 165: '200以内', 166: '85平', 167: '98平米', 168: '交通配套', 169: '200多二万', 170: '89平米', 171: '一百四五十万', 172: '100多', 173: '教育', 174: '小高层', 175: '三次置业'}\n",
      "---df columns  Index(['first_key_list', 'second_key_list', 'text', 'first_key_list_flag',\n",
      "       'second_key_list_flag', 'file_id', 'fir_key', 'sec_key', 'target_list'],\n",
      "      dtype='object')\n",
      "-----df_raw before (1250, 9)\n",
      "-----df_raw after (1250, 3)\n",
      "FULL Dataset: (1250, 3), TRAIN Dataset: (1000, 3), TEST Dataset: (250, 3)\n"
     ]
    },
    {
     "data": {
      "application/vnd.jupyter.widget-view+json": {
       "model_id": "454d64ac811e4f6e9fc3c22eee33efb3",
       "version_major": 2,
       "version_minor": 0
      },
      "text/plain": [
       "Downloading:   0%|          | 0.00/107k [00:00<?, ?B/s]"
      ]
     },
     "metadata": {},
     "output_type": "display_data"
    },
    {
     "data": {
      "application/vnd.jupyter.widget-view+json": {
       "model_id": "073e81979dca485f8df43044d4ee826f",
       "version_major": 2,
       "version_minor": 0
      },
      "text/plain": [
       "Downloading:   0%|          | 0.00/2.00 [00:00<?, ?B/s]"
      ]
     },
     "metadata": {},
     "output_type": "display_data"
    },
    {
     "data": {
      "application/vnd.jupyter.widget-view+json": {
       "model_id": "0b75edb4f210467dbe4c9dfe0d561be3",
       "version_major": 2,
       "version_minor": 0
      },
      "text/plain": [
       "Downloading:   0%|          | 0.00/112 [00:00<?, ?B/s]"
      ]
     },
     "metadata": {},
     "output_type": "display_data"
    },
    {
     "data": {
      "application/vnd.jupyter.widget-view+json": {
       "model_id": "43077a5ea04c4a2ea44e4220e8760365",
       "version_major": 2,
       "version_minor": 0
      },
      "text/plain": [
       "Downloading:   0%|          | 0.00/19.0 [00:00<?, ?B/s]"
      ]
     },
     "metadata": {},
     "output_type": "display_data"
    },
    {
     "data": {
      "application/vnd.jupyter.widget-view+json": {
       "model_id": "4ea94475a6da4e6cbc0bd31dd92455c8",
       "version_major": 2,
       "version_minor": 0
      },
      "text/plain": [
       "Downloading:   0%|          | 0.00/689 [00:00<?, ?B/s]"
      ]
     },
     "metadata": {},
     "output_type": "display_data"
    },
    {
     "data": {
      "application/vnd.jupyter.widget-view+json": {
       "model_id": "dd34b9ffa84948bea3487d8da0696dfd",
       "version_major": 2,
       "version_minor": 0
      },
      "text/plain": [
       "Downloading:   0%|          | 0.00/393M [00:00<?, ?B/s]"
      ]
     },
     "metadata": {},
     "output_type": "display_data"
    },
    {
     "name": "stderr",
     "output_type": "stream",
     "text": [
      "Some weights of the model checkpoint at hfl/chinese-roberta-wwm-ext were not used when initializing BertModel: ['cls.predictions.bias', 'cls.predictions.transform.LayerNorm.weight', 'cls.predictions.transform.dense.bias', 'cls.predictions.transform.LayerNorm.bias', 'cls.seq_relationship.weight', 'cls.predictions.decoder.weight', 'cls.predictions.transform.dense.weight', 'cls.seq_relationship.bias']\n",
      "- This IS expected if you are initializing BertModel from the checkpoint of a model trained on another task or with another architecture (e.g. initializing a BertForSequenceClassification model from a BertForPreTraining model).\n",
      "- This IS NOT expected if you are initializing BertModel from the checkpoint of a model that you expect to be exactly identical (initializing a BertForSequenceClassification model from a BertForSequenceClassification model).\n"
     ]
    },
    {
     "name": "stdout",
     "output_type": "stream",
     "text": [
      "----self device cuda\n",
      "-----bert model output\n"
     ]
    },
    {
     "name": "stderr",
     "output_type": "stream",
     "text": [
      "【train】 epoch：0 step:0/630 loss：0.742342\n",
      "/opt/conda/lib/python3.7/site-packages/sklearn/metrics/_classification.py:1580: UndefinedMetricWarning: F-score is ill-defined and being set to 0.0 in labels with no true nor predicted samples. Use `zero_division` parameter to control this behavior.\n",
      "  _warn_prf(average, \"true nor predicted\", \"F-score is\", len(true_sum))\n",
      "【dev】 loss：175.213970 accuracy：0.0000 micro_f1：0.0127 macro_f1：0.0043\n",
      "------------>保存当前最好的模型\n"
     ]
    },
    {
     "name": "stdout",
     "output_type": "stream",
     "text": [
      "-----save checkpoint_path ./checkpoints/best.pt\n",
      "-----bert model output\n"
     ]
    },
    {
     "name": "stderr",
     "output_type": "stream",
     "text": [
      "【train】 epoch：0 step:1/630 loss：0.709831\n",
      "/opt/conda/lib/python3.7/site-packages/sklearn/metrics/_classification.py:1580: UndefinedMetricWarning: F-score is ill-defined and being set to 0.0 in labels with no true nor predicted samples. Use `zero_division` parameter to control this behavior.\n",
      "  _warn_prf(average, \"true nor predicted\", \"F-score is\", len(true_sum))\n",
      "【dev】 loss：167.482225 accuracy：0.0000 micro_f1：0.0049 macro_f1：0.0031\n"
     ]
    },
    {
     "name": "stdout",
     "output_type": "stream",
     "text": [
      "-----bert model output\n"
     ]
    },
    {
     "name": "stderr",
     "output_type": "stream",
     "text": [
      "【train】 epoch：0 step:2/630 loss：0.675577\n",
      "/opt/conda/lib/python3.7/site-packages/sklearn/metrics/_classification.py:1580: UndefinedMetricWarning: F-score is ill-defined and being set to 0.0 in labels with no true nor predicted samples. Use `zero_division` parameter to control this behavior.\n",
      "  _warn_prf(average, \"true nor predicted\", \"F-score is\", len(true_sum))\n",
      "【dev】 loss：163.877737 accuracy：0.0000 micro_f1：0.0039 macro_f1：0.0017\n"
     ]
    },
    {
     "name": "stdout",
     "output_type": "stream",
     "text": [
      "-----bert model output\n"
     ]
    },
    {
     "name": "stderr",
     "output_type": "stream",
     "text": [
      "【train】 epoch：0 step:3/630 loss：0.659108\n",
      "/opt/conda/lib/python3.7/site-packages/sklearn/metrics/_classification.py:1580: UndefinedMetricWarning: F-score is ill-defined and being set to 0.0 in labels with no true nor predicted samples. Use `zero_division` parameter to control this behavior.\n",
      "  _warn_prf(average, \"true nor predicted\", \"F-score is\", len(true_sum))\n",
      "【dev】 loss：159.396498 accuracy：0.0000 micro_f1：0.0036 macro_f1：0.0010\n"
     ]
    },
    {
     "name": "stdout",
     "output_type": "stream",
     "text": [
      "-----bert model output\n"
     ]
    },
    {
     "name": "stderr",
     "output_type": "stream",
     "text": [
      "【train】 epoch：0 step:4/630 loss：0.646947\n",
      "/opt/conda/lib/python3.7/site-packages/sklearn/metrics/_classification.py:1580: UndefinedMetricWarning: F-score is ill-defined and being set to 0.0 in labels with no true nor predicted samples. Use `zero_division` parameter to control this behavior.\n",
      "  _warn_prf(average, \"true nor predicted\", \"F-score is\", len(true_sum))\n",
      "【dev】 loss：153.261625 accuracy：0.0000 micro_f1：0.0026 macro_f1：0.0003\n"
     ]
    },
    {
     "name": "stdout",
     "output_type": "stream",
     "text": [
      "-----bert model output\n"
     ]
    },
    {
     "name": "stderr",
     "output_type": "stream",
     "text": [
      "【train】 epoch：0 step:5/630 loss：0.619059\n",
      "/opt/conda/lib/python3.7/site-packages/sklearn/metrics/_classification.py:1580: UndefinedMetricWarning: F-score is ill-defined and being set to 0.0 in labels with no true nor predicted samples. Use `zero_division` parameter to control this behavior.\n",
      "  _warn_prf(average, \"true nor predicted\", \"F-score is\", len(true_sum))\n",
      "【dev】 loss：149.889778 accuracy：0.0000 micro_f1：0.0045 macro_f1：0.0003\n"
     ]
    },
    {
     "name": "stdout",
     "output_type": "stream",
     "text": [
      "-----bert model output\n"
     ]
    },
    {
     "name": "stderr",
     "output_type": "stream",
     "text": [
      "【train】 epoch：0 step:6/630 loss：0.611103\n",
      "/opt/conda/lib/python3.7/site-packages/sklearn/metrics/_classification.py:1580: UndefinedMetricWarning: F-score is ill-defined and being set to 0.0 in labels with no true nor predicted samples. Use `zero_division` parameter to control this behavior.\n",
      "  _warn_prf(average, \"true nor predicted\", \"F-score is\", len(true_sum))\n",
      "【dev】 loss：147.686456 accuracy：0.0000 micro_f1：0.0049 macro_f1：0.0009\n"
     ]
    },
    {
     "name": "stdout",
     "output_type": "stream",
     "text": [
      "-----bert model output\n"
     ]
    },
    {
     "name": "stderr",
     "output_type": "stream",
     "text": [
      "【train】 epoch：0 step:7/630 loss：0.600797\n",
      "/opt/conda/lib/python3.7/site-packages/sklearn/metrics/_classification.py:1580: UndefinedMetricWarning: F-score is ill-defined and being set to 0.0 in labels with no true nor predicted samples. Use `zero_division` parameter to control this behavior.\n",
      "  _warn_prf(average, \"true nor predicted\", \"F-score is\", len(true_sum))\n",
      "【dev】 loss：144.337022 accuracy：0.0000 micro_f1：0.0016 macro_f1：0.0000\n"
     ]
    },
    {
     "name": "stdout",
     "output_type": "stream",
     "text": [
      "-----bert model output\n"
     ]
    },
    {
     "name": "stderr",
     "output_type": "stream",
     "text": [
      "【train】 epoch：0 step:8/630 loss：0.590595\n",
      "/opt/conda/lib/python3.7/site-packages/sklearn/metrics/_classification.py:1580: UndefinedMetricWarning: F-score is ill-defined and being set to 0.0 in labels with no true nor predicted samples. Use `zero_division` parameter to control this behavior.\n",
      "  _warn_prf(average, \"true nor predicted\", \"F-score is\", len(true_sum))\n",
      "【dev】 loss：140.721834 accuracy：0.0000 micro_f1：0.0021 macro_f1：0.0001\n"
     ]
    },
    {
     "name": "stdout",
     "output_type": "stream",
     "text": [
      "-----bert model output\n"
     ]
    },
    {
     "name": "stderr",
     "output_type": "stream",
     "text": [
      "【train】 epoch：0 step:9/630 loss：0.575656\n",
      "/opt/conda/lib/python3.7/site-packages/sklearn/metrics/_classification.py:1580: UndefinedMetricWarning: F-score is ill-defined and being set to 0.0 in labels with no true nor predicted samples. Use `zero_division` parameter to control this behavior.\n",
      "  _warn_prf(average, \"true nor predicted\", \"F-score is\", len(true_sum))\n",
      "【dev】 loss：138.756806 accuracy：0.0000 micro_f1：0.0000 macro_f1：0.0000\n"
     ]
    },
    {
     "name": "stdout",
     "output_type": "stream",
     "text": [
      "-----bert model output\n"
     ]
    },
    {
     "name": "stderr",
     "output_type": "stream",
     "text": [
      "【train】 epoch：0 step:10/630 loss：0.569079\n",
      "/opt/conda/lib/python3.7/site-packages/sklearn/metrics/_classification.py:1580: UndefinedMetricWarning: F-score is ill-defined and being set to 0.0 in labels with no true nor predicted samples. Use `zero_division` parameter to control this behavior.\n",
      "  _warn_prf(average, \"true nor predicted\", \"F-score is\", len(true_sum))\n",
      "【dev】 loss：137.614370 accuracy：0.0040 micro_f1：0.0088 macro_f1：0.0003\n"
     ]
    },
    {
     "name": "stdout",
     "output_type": "stream",
     "text": [
      "-----bert model output\n"
     ]
    },
    {
     "name": "stderr",
     "output_type": "stream",
     "text": [
      "【train】 epoch：0 step:11/630 loss：0.568705\n",
      "/opt/conda/lib/python3.7/site-packages/sklearn/metrics/_classification.py:1580: UndefinedMetricWarning: F-score is ill-defined and being set to 0.0 in labels with no true nor predicted samples. Use `zero_division` parameter to control this behavior.\n",
      "  _warn_prf(average, \"true nor predicted\", \"F-score is\", len(true_sum))\n",
      "【dev】 loss：134.567420 accuracy：0.0000 micro_f1：0.0000 macro_f1：0.0000\n"
     ]
    },
    {
     "name": "stdout",
     "output_type": "stream",
     "text": [
      "-----bert model output\n"
     ]
    },
    {
     "name": "stderr",
     "output_type": "stream",
     "text": [
      "【train】 epoch：0 step:12/630 loss：0.551500\n",
      "/opt/conda/lib/python3.7/site-packages/sklearn/metrics/_classification.py:1580: UndefinedMetricWarning: F-score is ill-defined and being set to 0.0 in labels with no true nor predicted samples. Use `zero_division` parameter to control this behavior.\n",
      "  _warn_prf(average, \"true nor predicted\", \"F-score is\", len(true_sum))\n",
      "【dev】 loss：131.120152 accuracy：0.0000 micro_f1：0.0000 macro_f1：0.0000\n"
     ]
    },
    {
     "name": "stdout",
     "output_type": "stream",
     "text": [
      "-----bert model output\n"
     ]
    },
    {
     "name": "stderr",
     "output_type": "stream",
     "text": [
      "【train】 epoch：0 step:13/630 loss：0.539228\n",
      "/opt/conda/lib/python3.7/site-packages/sklearn/metrics/_classification.py:1580: UndefinedMetricWarning: F-score is ill-defined and being set to 0.0 in labels with no true nor predicted samples. Use `zero_division` parameter to control this behavior.\n",
      "  _warn_prf(average, \"true nor predicted\", \"F-score is\", len(true_sum))\n",
      "【dev】 loss：128.981764 accuracy：0.0000 micro_f1：0.0000 macro_f1：0.0000\n"
     ]
    },
    {
     "name": "stdout",
     "output_type": "stream",
     "text": [
      "-----bert model output\n"
     ]
    },
    {
     "name": "stderr",
     "output_type": "stream",
     "text": [
      "【train】 epoch：0 step:14/630 loss：0.527100\n",
      "/opt/conda/lib/python3.7/site-packages/sklearn/metrics/_classification.py:1580: UndefinedMetricWarning: F-score is ill-defined and being set to 0.0 in labels with no true nor predicted samples. Use `zero_division` parameter to control this behavior.\n",
      "  _warn_prf(average, \"true nor predicted\", \"F-score is\", len(true_sum))\n",
      "【dev】 loss：127.098346 accuracy：0.0000 micro_f1：0.0000 macro_f1：0.0000\n"
     ]
    },
    {
     "name": "stdout",
     "output_type": "stream",
     "text": [
      "-----bert model output\n"
     ]
    },
    {
     "name": "stderr",
     "output_type": "stream",
     "text": [
      "【train】 epoch：0 step:15/630 loss：0.521429\n",
      "/opt/conda/lib/python3.7/site-packages/sklearn/metrics/_classification.py:1580: UndefinedMetricWarning: F-score is ill-defined and being set to 0.0 in labels with no true nor predicted samples. Use `zero_division` parameter to control this behavior.\n",
      "  _warn_prf(average, \"true nor predicted\", \"F-score is\", len(true_sum))\n",
      "【dev】 loss：124.674889 accuracy：0.0000 micro_f1：0.0000 macro_f1：0.0000\n"
     ]
    },
    {
     "name": "stdout",
     "output_type": "stream",
     "text": [
      "-----bert model output\n"
     ]
    },
    {
     "name": "stderr",
     "output_type": "stream",
     "text": [
      "【train】 epoch：0 step:16/630 loss：0.515716\n",
      "/opt/conda/lib/python3.7/site-packages/sklearn/metrics/_classification.py:1580: UndefinedMetricWarning: F-score is ill-defined and being set to 0.0 in labels with no true nor predicted samples. Use `zero_division` parameter to control this behavior.\n",
      "  _warn_prf(average, \"true nor predicted\", \"F-score is\", len(true_sum))\n",
      "【dev】 loss：122.417608 accuracy：0.0000 micro_f1：0.0000 macro_f1：0.0000\n"
     ]
    },
    {
     "name": "stdout",
     "output_type": "stream",
     "text": [
      "-----bert model output\n"
     ]
    },
    {
     "name": "stderr",
     "output_type": "stream",
     "text": [
      "【train】 epoch：0 step:17/630 loss：0.506097\n",
      "/opt/conda/lib/python3.7/site-packages/sklearn/metrics/_classification.py:1580: UndefinedMetricWarning: F-score is ill-defined and being set to 0.0 in labels with no true nor predicted samples. Use `zero_division` parameter to control this behavior.\n",
      "  _warn_prf(average, \"true nor predicted\", \"F-score is\", len(true_sum))\n",
      "【dev】 loss：120.773947 accuracy：0.0000 micro_f1：0.0000 macro_f1：0.0000\n"
     ]
    },
    {
     "name": "stdout",
     "output_type": "stream",
     "text": [
      "-----bert model output\n"
     ]
    },
    {
     "name": "stderr",
     "output_type": "stream",
     "text": [
      "【train】 epoch：0 step:18/630 loss：0.494715\n",
      "/opt/conda/lib/python3.7/site-packages/sklearn/metrics/_classification.py:1580: UndefinedMetricWarning: F-score is ill-defined and being set to 0.0 in labels with no true nor predicted samples. Use `zero_division` parameter to control this behavior.\n",
      "  _warn_prf(average, \"true nor predicted\", \"F-score is\", len(true_sum))\n",
      "【dev】 loss：119.182095 accuracy：0.0000 micro_f1：0.0000 macro_f1：0.0000\n"
     ]
    },
    {
     "name": "stdout",
     "output_type": "stream",
     "text": [
      "-----bert model output\n"
     ]
    },
    {
     "name": "stderr",
     "output_type": "stream",
     "text": [
      "【train】 epoch：0 step:19/630 loss：0.490894\n",
      "/opt/conda/lib/python3.7/site-packages/sklearn/metrics/_classification.py:1580: UndefinedMetricWarning: F-score is ill-defined and being set to 0.0 in labels with no true nor predicted samples. Use `zero_division` parameter to control this behavior.\n",
      "  _warn_prf(average, \"true nor predicted\", \"F-score is\", len(true_sum))\n",
      "【dev】 loss：117.092599 accuracy：0.0000 micro_f1：0.0000 macro_f1：0.0000\n"
     ]
    },
    {
     "name": "stdout",
     "output_type": "stream",
     "text": [
      "-----bert model output\n"
     ]
    },
    {
     "name": "stderr",
     "output_type": "stream",
     "text": [
      "【train】 epoch：0 step:20/630 loss：0.485175\n",
      "/opt/conda/lib/python3.7/site-packages/sklearn/metrics/_classification.py:1580: UndefinedMetricWarning: F-score is ill-defined and being set to 0.0 in labels with no true nor predicted samples. Use `zero_division` parameter to control this behavior.\n",
      "  _warn_prf(average, \"true nor predicted\", \"F-score is\", len(true_sum))\n",
      "【dev】 loss：114.788137 accuracy：0.0000 micro_f1：0.0000 macro_f1：0.0000\n"
     ]
    },
    {
     "name": "stdout",
     "output_type": "stream",
     "text": [
      "-----bert model output\n"
     ]
    },
    {
     "name": "stderr",
     "output_type": "stream",
     "text": [
      "【train】 epoch：0 step:21/630 loss：0.473679\n",
      "/opt/conda/lib/python3.7/site-packages/sklearn/metrics/_classification.py:1580: UndefinedMetricWarning: F-score is ill-defined and being set to 0.0 in labels with no true nor predicted samples. Use `zero_division` parameter to control this behavior.\n",
      "  _warn_prf(average, \"true nor predicted\", \"F-score is\", len(true_sum))\n",
      "【dev】 loss：112.839074 accuracy：0.0000 micro_f1：0.0000 macro_f1：0.0000\n"
     ]
    },
    {
     "name": "stdout",
     "output_type": "stream",
     "text": [
      "-----bert model output\n"
     ]
    },
    {
     "name": "stderr",
     "output_type": "stream",
     "text": [
      "【train】 epoch：0 step:22/630 loss：0.467795\n",
      "/opt/conda/lib/python3.7/site-packages/sklearn/metrics/_classification.py:1580: UndefinedMetricWarning: F-score is ill-defined and being set to 0.0 in labels with no true nor predicted samples. Use `zero_division` parameter to control this behavior.\n",
      "  _warn_prf(average, \"true nor predicted\", \"F-score is\", len(true_sum))\n",
      "【dev】 loss：111.047524 accuracy：0.0000 micro_f1：0.0000 macro_f1：0.0000\n"
     ]
    },
    {
     "name": "stdout",
     "output_type": "stream",
     "text": [
      "-----bert model output\n"
     ]
    },
    {
     "name": "stderr",
     "output_type": "stream",
     "text": [
      "【train】 epoch：0 step:23/630 loss：0.459942\n",
      "/opt/conda/lib/python3.7/site-packages/sklearn/metrics/_classification.py:1580: UndefinedMetricWarning: F-score is ill-defined and being set to 0.0 in labels with no true nor predicted samples. Use `zero_division` parameter to control this behavior.\n",
      "  _warn_prf(average, \"true nor predicted\", \"F-score is\", len(true_sum))\n",
      "【dev】 loss：109.171086 accuracy：0.0000 micro_f1：0.0000 macro_f1：0.0000\n"
     ]
    },
    {
     "name": "stdout",
     "output_type": "stream",
     "text": [
      "-----bert model output\n"
     ]
    },
    {
     "name": "stderr",
     "output_type": "stream",
     "text": [
      "【train】 epoch：0 step:24/630 loss：0.455777\n",
      "/opt/conda/lib/python3.7/site-packages/sklearn/metrics/_classification.py:1580: UndefinedMetricWarning: F-score is ill-defined and being set to 0.0 in labels with no true nor predicted samples. Use `zero_division` parameter to control this behavior.\n",
      "  _warn_prf(average, \"true nor predicted\", \"F-score is\", len(true_sum))\n",
      "【dev】 loss：107.381380 accuracy：0.0000 micro_f1：0.0000 macro_f1：0.0000\n"
     ]
    },
    {
     "name": "stdout",
     "output_type": "stream",
     "text": [
      "-----bert model output\n"
     ]
    },
    {
     "name": "stderr",
     "output_type": "stream",
     "text": [
      "【train】 epoch：0 step:25/630 loss：0.449626\n",
      "/opt/conda/lib/python3.7/site-packages/sklearn/metrics/_classification.py:1580: UndefinedMetricWarning: F-score is ill-defined and being set to 0.0 in labels with no true nor predicted samples. Use `zero_division` parameter to control this behavior.\n",
      "  _warn_prf(average, \"true nor predicted\", \"F-score is\", len(true_sum))\n",
      "【dev】 loss：105.754549 accuracy：0.0000 micro_f1：0.0000 macro_f1：0.0000\n"
     ]
    },
    {
     "name": "stdout",
     "output_type": "stream",
     "text": [
      "-----bert model output\n"
     ]
    },
    {
     "name": "stderr",
     "output_type": "stream",
     "text": [
      "【train】 epoch：0 step:26/630 loss：0.439148\n",
      "/opt/conda/lib/python3.7/site-packages/sklearn/metrics/_classification.py:1580: UndefinedMetricWarning: F-score is ill-defined and being set to 0.0 in labels with no true nor predicted samples. Use `zero_division` parameter to control this behavior.\n",
      "  _warn_prf(average, \"true nor predicted\", \"F-score is\", len(true_sum))\n",
      "【dev】 loss：104.119144 accuracy：0.0000 micro_f1：0.0000 macro_f1：0.0000\n"
     ]
    },
    {
     "name": "stdout",
     "output_type": "stream",
     "text": [
      "-----bert model output\n"
     ]
    },
    {
     "name": "stderr",
     "output_type": "stream",
     "text": [
      "【train】 epoch：0 step:27/630 loss：0.431464\n",
      "/opt/conda/lib/python3.7/site-packages/sklearn/metrics/_classification.py:1580: UndefinedMetricWarning: F-score is ill-defined and being set to 0.0 in labels with no true nor predicted samples. Use `zero_division` parameter to control this behavior.\n",
      "  _warn_prf(average, \"true nor predicted\", \"F-score is\", len(true_sum))\n",
      "【dev】 loss：102.391966 accuracy：0.0000 micro_f1：0.0000 macro_f1：0.0000\n"
     ]
    },
    {
     "name": "stdout",
     "output_type": "stream",
     "text": [
      "-----bert model output\n"
     ]
    },
    {
     "name": "stderr",
     "output_type": "stream",
     "text": [
      "【train】 epoch：0 step:28/630 loss：0.420173\n",
      "/opt/conda/lib/python3.7/site-packages/sklearn/metrics/_classification.py:1580: UndefinedMetricWarning: F-score is ill-defined and being set to 0.0 in labels with no true nor predicted samples. Use `zero_division` parameter to control this behavior.\n",
      "  _warn_prf(average, \"true nor predicted\", \"F-score is\", len(true_sum))\n",
      "【dev】 loss：100.689900 accuracy：0.0000 micro_f1：0.0000 macro_f1：0.0000\n"
     ]
    },
    {
     "name": "stdout",
     "output_type": "stream",
     "text": [
      "-----bert model output\n"
     ]
    },
    {
     "name": "stderr",
     "output_type": "stream",
     "text": [
      "【train】 epoch：0 step:29/630 loss：0.415937\n",
      "/opt/conda/lib/python3.7/site-packages/sklearn/metrics/_classification.py:1580: UndefinedMetricWarning: F-score is ill-defined and being set to 0.0 in labels with no true nor predicted samples. Use `zero_division` parameter to control this behavior.\n",
      "  _warn_prf(average, \"true nor predicted\", \"F-score is\", len(true_sum))\n",
      "【dev】 loss：99.082219 accuracy：0.0000 micro_f1：0.0000 macro_f1：0.0000\n"
     ]
    },
    {
     "name": "stdout",
     "output_type": "stream",
     "text": [
      "-----bert model output\n"
     ]
    },
    {
     "name": "stderr",
     "output_type": "stream",
     "text": [
      "【train】 epoch：0 step:30/630 loss：0.410799\n",
      "/opt/conda/lib/python3.7/site-packages/sklearn/metrics/_classification.py:1580: UndefinedMetricWarning: F-score is ill-defined and being set to 0.0 in labels with no true nor predicted samples. Use `zero_division` parameter to control this behavior.\n",
      "  _warn_prf(average, \"true nor predicted\", \"F-score is\", len(true_sum))\n",
      "【dev】 loss：97.512094 accuracy：0.0000 micro_f1：0.0000 macro_f1：0.0000\n"
     ]
    },
    {
     "name": "stdout",
     "output_type": "stream",
     "text": [
      "-----bert model output\n"
     ]
    },
    {
     "name": "stderr",
     "output_type": "stream",
     "text": [
      "【train】 epoch：0 step:31/630 loss：0.404745\n",
      "/opt/conda/lib/python3.7/site-packages/sklearn/metrics/_classification.py:1580: UndefinedMetricWarning: F-score is ill-defined and being set to 0.0 in labels with no true nor predicted samples. Use `zero_division` parameter to control this behavior.\n",
      "  _warn_prf(average, \"true nor predicted\", \"F-score is\", len(true_sum))\n",
      "【dev】 loss：95.958538 accuracy：0.0000 micro_f1：0.0000 macro_f1：0.0000\n"
     ]
    },
    {
     "name": "stdout",
     "output_type": "stream",
     "text": [
      "-----bert model output\n"
     ]
    },
    {
     "name": "stderr",
     "output_type": "stream",
     "text": [
      "【train】 epoch：0 step:32/630 loss：0.402137\n",
      "/opt/conda/lib/python3.7/site-packages/sklearn/metrics/_classification.py:1580: UndefinedMetricWarning: F-score is ill-defined and being set to 0.0 in labels with no true nor predicted samples. Use `zero_division` parameter to control this behavior.\n",
      "  _warn_prf(average, \"true nor predicted\", \"F-score is\", len(true_sum))\n",
      "【dev】 loss：94.591908 accuracy：0.0000 micro_f1：0.0000 macro_f1：0.0000\n"
     ]
    },
    {
     "name": "stdout",
     "output_type": "stream",
     "text": [
      "-----bert model output\n"
     ]
    },
    {
     "name": "stderr",
     "output_type": "stream",
     "text": [
      "【train】 epoch：0 step:33/630 loss：0.391047\n",
      "/opt/conda/lib/python3.7/site-packages/sklearn/metrics/_classification.py:1580: UndefinedMetricWarning: F-score is ill-defined and being set to 0.0 in labels with no true nor predicted samples. Use `zero_division` parameter to control this behavior.\n",
      "  _warn_prf(average, \"true nor predicted\", \"F-score is\", len(true_sum))\n",
      "【dev】 loss：93.075066 accuracy：0.0000 micro_f1：0.0000 macro_f1：0.0000\n"
     ]
    },
    {
     "name": "stdout",
     "output_type": "stream",
     "text": [
      "-----bert model output\n"
     ]
    },
    {
     "name": "stderr",
     "output_type": "stream",
     "text": [
      "【train】 epoch：0 step:34/630 loss：0.388143\n",
      "/opt/conda/lib/python3.7/site-packages/sklearn/metrics/_classification.py:1580: UndefinedMetricWarning: F-score is ill-defined and being set to 0.0 in labels with no true nor predicted samples. Use `zero_division` parameter to control this behavior.\n",
      "  _warn_prf(average, \"true nor predicted\", \"F-score is\", len(true_sum))\n",
      "【dev】 loss：91.514846 accuracy：0.0000 micro_f1：0.0000 macro_f1：0.0000\n"
     ]
    },
    {
     "name": "stdout",
     "output_type": "stream",
     "text": [
      "-----bert model output\n"
     ]
    },
    {
     "name": "stderr",
     "output_type": "stream",
     "text": [
      "【train】 epoch：0 step:35/630 loss：0.386512\n",
      "/opt/conda/lib/python3.7/site-packages/sklearn/metrics/_classification.py:1580: UndefinedMetricWarning: F-score is ill-defined and being set to 0.0 in labels with no true nor predicted samples. Use `zero_division` parameter to control this behavior.\n",
      "  _warn_prf(average, \"true nor predicted\", \"F-score is\", len(true_sum))\n",
      "【dev】 loss：89.961004 accuracy：0.0000 micro_f1：0.0000 macro_f1：0.0000\n"
     ]
    },
    {
     "name": "stdout",
     "output_type": "stream",
     "text": [
      "-----bert model output\n"
     ]
    },
    {
     "name": "stderr",
     "output_type": "stream",
     "text": [
      "【train】 epoch：0 step:36/630 loss：0.374426\n",
      "/opt/conda/lib/python3.7/site-packages/sklearn/metrics/_classification.py:1580: UndefinedMetricWarning: F-score is ill-defined and being set to 0.0 in labels with no true nor predicted samples. Use `zero_division` parameter to control this behavior.\n",
      "  _warn_prf(average, \"true nor predicted\", \"F-score is\", len(true_sum))\n",
      "【dev】 loss：88.473672 accuracy：0.0000 micro_f1：0.0000 macro_f1：0.0000\n"
     ]
    },
    {
     "name": "stdout",
     "output_type": "stream",
     "text": [
      "-----bert model output\n"
     ]
    },
    {
     "name": "stderr",
     "output_type": "stream",
     "text": [
      "【train】 epoch：0 step:37/630 loss：0.373753\n",
      "/opt/conda/lib/python3.7/site-packages/sklearn/metrics/_classification.py:1580: UndefinedMetricWarning: F-score is ill-defined and being set to 0.0 in labels with no true nor predicted samples. Use `zero_division` parameter to control this behavior.\n",
      "  _warn_prf(average, \"true nor predicted\", \"F-score is\", len(true_sum))\n",
      "【dev】 loss：87.173129 accuracy：0.0000 micro_f1：0.0000 macro_f1：0.0000\n"
     ]
    },
    {
     "name": "stdout",
     "output_type": "stream",
     "text": [
      "-----bert model output\n"
     ]
    },
    {
     "name": "stderr",
     "output_type": "stream",
     "text": [
      "【train】 epoch：0 step:38/630 loss：0.369439\n",
      "/opt/conda/lib/python3.7/site-packages/sklearn/metrics/_classification.py:1580: UndefinedMetricWarning: F-score is ill-defined and being set to 0.0 in labels with no true nor predicted samples. Use `zero_division` parameter to control this behavior.\n",
      "  _warn_prf(average, \"true nor predicted\", \"F-score is\", len(true_sum))\n",
      "【dev】 loss：85.671699 accuracy：0.0000 micro_f1：0.0000 macro_f1：0.0000\n"
     ]
    },
    {
     "name": "stdout",
     "output_type": "stream",
     "text": [
      "-----bert model output\n"
     ]
    },
    {
     "name": "stderr",
     "output_type": "stream",
     "text": [
      "【train】 epoch：0 step:39/630 loss：0.362099\n",
      "/opt/conda/lib/python3.7/site-packages/sklearn/metrics/_classification.py:1580: UndefinedMetricWarning: F-score is ill-defined and being set to 0.0 in labels with no true nor predicted samples. Use `zero_division` parameter to control this behavior.\n",
      "  _warn_prf(average, \"true nor predicted\", \"F-score is\", len(true_sum))\n",
      "【dev】 loss：84.235689 accuracy：0.0000 micro_f1：0.0000 macro_f1：0.0000\n"
     ]
    },
    {
     "name": "stdout",
     "output_type": "stream",
     "text": [
      "-----bert model output\n"
     ]
    },
    {
     "name": "stderr",
     "output_type": "stream",
     "text": [
      "【train】 epoch：0 step:40/630 loss：0.353597\n",
      "/opt/conda/lib/python3.7/site-packages/sklearn/metrics/_classification.py:1580: UndefinedMetricWarning: F-score is ill-defined and being set to 0.0 in labels with no true nor predicted samples. Use `zero_division` parameter to control this behavior.\n",
      "  _warn_prf(average, \"true nor predicted\", \"F-score is\", len(true_sum))\n",
      "【dev】 loss：83.003813 accuracy：0.0000 micro_f1：0.0000 macro_f1：0.0000\n"
     ]
    },
    {
     "name": "stdout",
     "output_type": "stream",
     "text": [
      "-----bert model output\n"
     ]
    },
    {
     "name": "stderr",
     "output_type": "stream",
     "text": [
      "【train】 epoch：0 step:41/630 loss：0.344140\n",
      "/opt/conda/lib/python3.7/site-packages/sklearn/metrics/_classification.py:1580: UndefinedMetricWarning: F-score is ill-defined and being set to 0.0 in labels with no true nor predicted samples. Use `zero_division` parameter to control this behavior.\n",
      "  _warn_prf(average, \"true nor predicted\", \"F-score is\", len(true_sum))\n",
      "【dev】 loss：81.737235 accuracy：0.0000 micro_f1：0.0000 macro_f1：0.0000\n"
     ]
    },
    {
     "name": "stdout",
     "output_type": "stream",
     "text": [
      "-----bert model output\n"
     ]
    },
    {
     "name": "stderr",
     "output_type": "stream",
     "text": [
      "【train】 epoch：0 step:42/630 loss：0.342176\n",
      "/opt/conda/lib/python3.7/site-packages/sklearn/metrics/_classification.py:1580: UndefinedMetricWarning: F-score is ill-defined and being set to 0.0 in labels with no true nor predicted samples. Use `zero_division` parameter to control this behavior.\n",
      "  _warn_prf(average, \"true nor predicted\", \"F-score is\", len(true_sum))\n",
      "【dev】 loss：80.259999 accuracy：0.0000 micro_f1：0.0000 macro_f1：0.0000\n"
     ]
    },
    {
     "name": "stdout",
     "output_type": "stream",
     "text": [
      "-----bert model output\n"
     ]
    },
    {
     "name": "stderr",
     "output_type": "stream",
     "text": [
      "【train】 epoch：0 step:43/630 loss：0.338492\n",
      "/opt/conda/lib/python3.7/site-packages/sklearn/metrics/_classification.py:1580: UndefinedMetricWarning: F-score is ill-defined and being set to 0.0 in labels with no true nor predicted samples. Use `zero_division` parameter to control this behavior.\n",
      "  _warn_prf(average, \"true nor predicted\", \"F-score is\", len(true_sum))\n",
      "【dev】 loss：78.913703 accuracy：0.0000 micro_f1：0.0000 macro_f1：0.0000\n"
     ]
    },
    {
     "name": "stdout",
     "output_type": "stream",
     "text": [
      "-----bert model output\n"
     ]
    },
    {
     "name": "stderr",
     "output_type": "stream",
     "text": [
      "【train】 epoch：0 step:44/630 loss：0.332532\n",
      "/opt/conda/lib/python3.7/site-packages/sklearn/metrics/_classification.py:1580: UndefinedMetricWarning: F-score is ill-defined and being set to 0.0 in labels with no true nor predicted samples. Use `zero_division` parameter to control this behavior.\n",
      "  _warn_prf(average, \"true nor predicted\", \"F-score is\", len(true_sum))\n",
      "【dev】 loss：77.782922 accuracy：0.0000 micro_f1：0.0000 macro_f1：0.0000\n"
     ]
    },
    {
     "name": "stdout",
     "output_type": "stream",
     "text": [
      "-----bert model output\n"
     ]
    },
    {
     "name": "stderr",
     "output_type": "stream",
     "text": [
      "【train】 epoch：0 step:45/630 loss：0.325349\n",
      "/opt/conda/lib/python3.7/site-packages/sklearn/metrics/_classification.py:1580: UndefinedMetricWarning: F-score is ill-defined and being set to 0.0 in labels with no true nor predicted samples. Use `zero_division` parameter to control this behavior.\n",
      "  _warn_prf(average, \"true nor predicted\", \"F-score is\", len(true_sum))\n",
      "【dev】 loss：76.546204 accuracy：0.0000 micro_f1：0.0000 macro_f1：0.0000\n"
     ]
    },
    {
     "name": "stdout",
     "output_type": "stream",
     "text": [
      "-----bert model output\n"
     ]
    },
    {
     "name": "stderr",
     "output_type": "stream",
     "text": [
      "【train】 epoch：0 step:46/630 loss：0.319782\n",
      "/opt/conda/lib/python3.7/site-packages/sklearn/metrics/_classification.py:1580: UndefinedMetricWarning: F-score is ill-defined and being set to 0.0 in labels with no true nor predicted samples. Use `zero_division` parameter to control this behavior.\n",
      "  _warn_prf(average, \"true nor predicted\", \"F-score is\", len(true_sum))\n",
      "【dev】 loss：75.171389 accuracy：0.0000 micro_f1：0.0000 macro_f1：0.0000\n"
     ]
    },
    {
     "name": "stdout",
     "output_type": "stream",
     "text": [
      "-----bert model output\n"
     ]
    },
    {
     "name": "stderr",
     "output_type": "stream",
     "text": [
      "【train】 epoch：0 step:47/630 loss：0.318140\n",
      "/opt/conda/lib/python3.7/site-packages/sklearn/metrics/_classification.py:1580: UndefinedMetricWarning: F-score is ill-defined and being set to 0.0 in labels with no true nor predicted samples. Use `zero_division` parameter to control this behavior.\n",
      "  _warn_prf(average, \"true nor predicted\", \"F-score is\", len(true_sum))\n",
      "【dev】 loss：73.927337 accuracy：0.0000 micro_f1：0.0000 macro_f1：0.0000\n"
     ]
    },
    {
     "name": "stdout",
     "output_type": "stream",
     "text": [
      "-----bert model output\n"
     ]
    },
    {
     "name": "stderr",
     "output_type": "stream",
     "text": [
      "【train】 epoch：0 step:48/630 loss：0.311103\n",
      "/opt/conda/lib/python3.7/site-packages/sklearn/metrics/_classification.py:1580: UndefinedMetricWarning: F-score is ill-defined and being set to 0.0 in labels with no true nor predicted samples. Use `zero_division` parameter to control this behavior.\n",
      "  _warn_prf(average, \"true nor predicted\", \"F-score is\", len(true_sum))\n",
      "【dev】 loss：72.880697 accuracy：0.0000 micro_f1：0.0000 macro_f1：0.0000\n"
     ]
    },
    {
     "name": "stdout",
     "output_type": "stream",
     "text": [
      "-----bert model output\n"
     ]
    },
    {
     "name": "stderr",
     "output_type": "stream",
     "text": [
      "【train】 epoch：0 step:49/630 loss：0.306474\n",
      "/opt/conda/lib/python3.7/site-packages/sklearn/metrics/_classification.py:1580: UndefinedMetricWarning: F-score is ill-defined and being set to 0.0 in labels with no true nor predicted samples. Use `zero_division` parameter to control this behavior.\n",
      "  _warn_prf(average, \"true nor predicted\", \"F-score is\", len(true_sum))\n",
      "【dev】 loss：71.728139 accuracy：0.0000 micro_f1：0.0000 macro_f1：0.0000\n"
     ]
    },
    {
     "name": "stdout",
     "output_type": "stream",
     "text": [
      "-----bert model output\n"
     ]
    },
    {
     "name": "stderr",
     "output_type": "stream",
     "text": [
      "【train】 epoch：0 step:50/630 loss：0.304807\n",
      "/opt/conda/lib/python3.7/site-packages/sklearn/metrics/_classification.py:1580: UndefinedMetricWarning: F-score is ill-defined and being set to 0.0 in labels with no true nor predicted samples. Use `zero_division` parameter to control this behavior.\n",
      "  _warn_prf(average, \"true nor predicted\", \"F-score is\", len(true_sum))\n",
      "【dev】 loss：70.407039 accuracy：0.0000 micro_f1：0.0000 macro_f1：0.0000\n"
     ]
    },
    {
     "name": "stdout",
     "output_type": "stream",
     "text": [
      "-----bert model output\n"
     ]
    },
    {
     "name": "stderr",
     "output_type": "stream",
     "text": [
      "【train】 epoch：0 step:51/630 loss：0.296869\n",
      "/opt/conda/lib/python3.7/site-packages/sklearn/metrics/_classification.py:1580: UndefinedMetricWarning: F-score is ill-defined and being set to 0.0 in labels with no true nor predicted samples. Use `zero_division` parameter to control this behavior.\n",
      "  _warn_prf(average, \"true nor predicted\", \"F-score is\", len(true_sum))\n",
      "【dev】 loss：69.220438 accuracy：0.0000 micro_f1：0.0000 macro_f1：0.0000\n"
     ]
    },
    {
     "name": "stdout",
     "output_type": "stream",
     "text": [
      "-----bert model output\n"
     ]
    },
    {
     "name": "stderr",
     "output_type": "stream",
     "text": [
      "【train】 epoch：0 step:52/630 loss：0.293883\n",
      "/opt/conda/lib/python3.7/site-packages/sklearn/metrics/_classification.py:1580: UndefinedMetricWarning: F-score is ill-defined and being set to 0.0 in labels with no true nor predicted samples. Use `zero_division` parameter to control this behavior.\n",
      "  _warn_prf(average, \"true nor predicted\", \"F-score is\", len(true_sum))\n",
      "【dev】 loss：68.145945 accuracy：0.0000 micro_f1：0.0000 macro_f1：0.0000\n"
     ]
    },
    {
     "name": "stdout",
     "output_type": "stream",
     "text": [
      "-----bert model output\n"
     ]
    },
    {
     "name": "stderr",
     "output_type": "stream",
     "text": [
      "【train】 epoch：0 step:53/630 loss：0.292566\n",
      "/opt/conda/lib/python3.7/site-packages/sklearn/metrics/_classification.py:1580: UndefinedMetricWarning: F-score is ill-defined and being set to 0.0 in labels with no true nor predicted samples. Use `zero_division` parameter to control this behavior.\n",
      "  _warn_prf(average, \"true nor predicted\", \"F-score is\", len(true_sum))\n",
      "【dev】 loss：67.090416 accuracy：0.0000 micro_f1：0.0000 macro_f1：0.0000\n"
     ]
    },
    {
     "name": "stdout",
     "output_type": "stream",
     "text": [
      "-----bert model output\n"
     ]
    },
    {
     "name": "stderr",
     "output_type": "stream",
     "text": [
      "【train】 epoch：0 step:54/630 loss：0.280755\n",
      "/opt/conda/lib/python3.7/site-packages/sklearn/metrics/_classification.py:1580: UndefinedMetricWarning: F-score is ill-defined and being set to 0.0 in labels with no true nor predicted samples. Use `zero_division` parameter to control this behavior.\n",
      "  _warn_prf(average, \"true nor predicted\", \"F-score is\", len(true_sum))\n",
      "【dev】 loss：66.040235 accuracy：0.0000 micro_f1：0.0000 macro_f1：0.0000\n"
     ]
    },
    {
     "name": "stdout",
     "output_type": "stream",
     "text": [
      "-----bert model output\n"
     ]
    },
    {
     "name": "stderr",
     "output_type": "stream",
     "text": [
      "【train】 epoch：0 step:55/630 loss：0.281262\n",
      "/opt/conda/lib/python3.7/site-packages/sklearn/metrics/_classification.py:1580: UndefinedMetricWarning: F-score is ill-defined and being set to 0.0 in labels with no true nor predicted samples. Use `zero_division` parameter to control this behavior.\n",
      "  _warn_prf(average, \"true nor predicted\", \"F-score is\", len(true_sum))\n",
      "【dev】 loss：64.902776 accuracy：0.0000 micro_f1：0.0000 macro_f1：0.0000\n"
     ]
    },
    {
     "name": "stdout",
     "output_type": "stream",
     "text": [
      "-----bert model output\n"
     ]
    },
    {
     "name": "stderr",
     "output_type": "stream",
     "text": [
      "【train】 epoch：0 step:56/630 loss：0.269270\n",
      "/opt/conda/lib/python3.7/site-packages/sklearn/metrics/_classification.py:1580: UndefinedMetricWarning: F-score is ill-defined and being set to 0.0 in labels with no true nor predicted samples. Use `zero_division` parameter to control this behavior.\n",
      "  _warn_prf(average, \"true nor predicted\", \"F-score is\", len(true_sum))\n",
      "【dev】 loss：63.883134 accuracy：0.0000 micro_f1：0.0000 macro_f1：0.0000\n"
     ]
    },
    {
     "name": "stdout",
     "output_type": "stream",
     "text": [
      "-----bert model output\n"
     ]
    },
    {
     "name": "stderr",
     "output_type": "stream",
     "text": [
      "【train】 epoch：0 step:57/630 loss：0.266495\n",
      "/opt/conda/lib/python3.7/site-packages/sklearn/metrics/_classification.py:1580: UndefinedMetricWarning: F-score is ill-defined and being set to 0.0 in labels with no true nor predicted samples. Use `zero_division` parameter to control this behavior.\n",
      "  _warn_prf(average, \"true nor predicted\", \"F-score is\", len(true_sum))\n",
      "【dev】 loss：63.032958 accuracy：0.0000 micro_f1：0.0000 macro_f1：0.0000\n"
     ]
    },
    {
     "name": "stdout",
     "output_type": "stream",
     "text": [
      "-----bert model output\n"
     ]
    },
    {
     "name": "stderr",
     "output_type": "stream",
     "text": [
      "【train】 epoch：0 step:58/630 loss：0.264046\n",
      "/opt/conda/lib/python3.7/site-packages/sklearn/metrics/_classification.py:1580: UndefinedMetricWarning: F-score is ill-defined and being set to 0.0 in labels with no true nor predicted samples. Use `zero_division` parameter to control this behavior.\n",
      "  _warn_prf(average, \"true nor predicted\", \"F-score is\", len(true_sum))\n",
      "【dev】 loss：62.071541 accuracy：0.0000 micro_f1：0.0000 macro_f1：0.0000\n"
     ]
    },
    {
     "name": "stdout",
     "output_type": "stream",
     "text": [
      "-----bert model output\n"
     ]
    },
    {
     "name": "stderr",
     "output_type": "stream",
     "text": [
      "【train】 epoch：0 step:59/630 loss：0.262261\n",
      "/opt/conda/lib/python3.7/site-packages/sklearn/metrics/_classification.py:1580: UndefinedMetricWarning: F-score is ill-defined and being set to 0.0 in labels with no true nor predicted samples. Use `zero_division` parameter to control this behavior.\n",
      "  _warn_prf(average, \"true nor predicted\", \"F-score is\", len(true_sum))\n",
      "【dev】 loss：60.942672 accuracy：0.0000 micro_f1：0.0000 macro_f1：0.0000\n"
     ]
    },
    {
     "name": "stdout",
     "output_type": "stream",
     "text": [
      "-----bert model output\n"
     ]
    },
    {
     "name": "stderr",
     "output_type": "stream",
     "text": [
      "【train】 epoch：0 step:60/630 loss：0.254646\n",
      "/opt/conda/lib/python3.7/site-packages/sklearn/metrics/_classification.py:1580: UndefinedMetricWarning: F-score is ill-defined and being set to 0.0 in labels with no true nor predicted samples. Use `zero_division` parameter to control this behavior.\n",
      "  _warn_prf(average, \"true nor predicted\", \"F-score is\", len(true_sum))\n",
      "【dev】 loss：59.877650 accuracy：0.0000 micro_f1：0.0000 macro_f1：0.0000\n"
     ]
    },
    {
     "name": "stdout",
     "output_type": "stream",
     "text": [
      "-----bert model output\n"
     ]
    },
    {
     "name": "stderr",
     "output_type": "stream",
     "text": [
      "【train】 epoch：0 step:61/630 loss：0.252157\n",
      "/opt/conda/lib/python3.7/site-packages/sklearn/metrics/_classification.py:1580: UndefinedMetricWarning: F-score is ill-defined and being set to 0.0 in labels with no true nor predicted samples. Use `zero_division` parameter to control this behavior.\n",
      "  _warn_prf(average, \"true nor predicted\", \"F-score is\", len(true_sum))\n",
      "【dev】 loss：58.939484 accuracy：0.0000 micro_f1：0.0000 macro_f1：0.0000\n",
      "【train】 epoch：0 step:62/630 loss：0.253405\n"
     ]
    },
    {
     "name": "stdout",
     "output_type": "stream",
     "text": [
      "-----bert model output\n"
     ]
    },
    {
     "name": "stderr",
     "output_type": "stream",
     "text": [
      "/opt/conda/lib/python3.7/site-packages/sklearn/metrics/_classification.py:1580: UndefinedMetricWarning: F-score is ill-defined and being set to 0.0 in labels with no true nor predicted samples. Use `zero_division` parameter to control this behavior.\n",
      "  _warn_prf(average, \"true nor predicted\", \"F-score is\", len(true_sum))\n",
      "【dev】 loss：58.030578 accuracy：0.0000 micro_f1：0.0000 macro_f1：0.0000\n"
     ]
    },
    {
     "name": "stdout",
     "output_type": "stream",
     "text": [
      "-----bert model output\n"
     ]
    },
    {
     "name": "stderr",
     "output_type": "stream",
     "text": [
      "【train】 epoch：1 step:63/630 loss：0.244195\n",
      "/opt/conda/lib/python3.7/site-packages/sklearn/metrics/_classification.py:1580: UndefinedMetricWarning: F-score is ill-defined and being set to 0.0 in labels with no true nor predicted samples. Use `zero_division` parameter to control this behavior.\n",
      "  _warn_prf(average, \"true nor predicted\", \"F-score is\", len(true_sum))\n",
      "【dev】 loss：57.098981 accuracy：0.0000 micro_f1：0.0000 macro_f1：0.0000\n"
     ]
    },
    {
     "name": "stdout",
     "output_type": "stream",
     "text": [
      "-----bert model output\n"
     ]
    },
    {
     "name": "stderr",
     "output_type": "stream",
     "text": [
      "【train】 epoch：1 step:64/630 loss：0.243110\n",
      "/opt/conda/lib/python3.7/site-packages/sklearn/metrics/_classification.py:1580: UndefinedMetricWarning: F-score is ill-defined and being set to 0.0 in labels with no true nor predicted samples. Use `zero_division` parameter to control this behavior.\n",
      "  _warn_prf(average, \"true nor predicted\", \"F-score is\", len(true_sum))\n",
      "【dev】 loss：56.197207 accuracy：0.0000 micro_f1：0.0000 macro_f1：0.0000\n"
     ]
    },
    {
     "name": "stdout",
     "output_type": "stream",
     "text": [
      "-----bert model output\n"
     ]
    },
    {
     "name": "stderr",
     "output_type": "stream",
     "text": [
      "【train】 epoch：1 step:65/630 loss：0.239460\n",
      "/opt/conda/lib/python3.7/site-packages/sklearn/metrics/_classification.py:1580: UndefinedMetricWarning: F-score is ill-defined and being set to 0.0 in labels with no true nor predicted samples. Use `zero_division` parameter to control this behavior.\n",
      "  _warn_prf(average, \"true nor predicted\", \"F-score is\", len(true_sum))\n",
      "【dev】 loss：55.365705 accuracy：0.0000 micro_f1：0.0000 macro_f1：0.0000\n"
     ]
    },
    {
     "name": "stdout",
     "output_type": "stream",
     "text": [
      "-----bert model output\n"
     ]
    },
    {
     "name": "stderr",
     "output_type": "stream",
     "text": [
      "【train】 epoch：1 step:66/630 loss：0.236447\n",
      "/opt/conda/lib/python3.7/site-packages/sklearn/metrics/_classification.py:1580: UndefinedMetricWarning: F-score is ill-defined and being set to 0.0 in labels with no true nor predicted samples. Use `zero_division` parameter to control this behavior.\n",
      "  _warn_prf(average, \"true nor predicted\", \"F-score is\", len(true_sum))\n",
      "【dev】 loss：54.537726 accuracy：0.0000 micro_f1：0.0000 macro_f1：0.0000\n"
     ]
    },
    {
     "name": "stdout",
     "output_type": "stream",
     "text": [
      "-----bert model output\n"
     ]
    },
    {
     "name": "stderr",
     "output_type": "stream",
     "text": [
      "【train】 epoch：1 step:67/630 loss：0.229477\n",
      "/opt/conda/lib/python3.7/site-packages/sklearn/metrics/_classification.py:1580: UndefinedMetricWarning: F-score is ill-defined and being set to 0.0 in labels with no true nor predicted samples. Use `zero_division` parameter to control this behavior.\n",
      "  _warn_prf(average, \"true nor predicted\", \"F-score is\", len(true_sum))\n",
      "【dev】 loss：53.705167 accuracy：0.0000 micro_f1：0.0000 macro_f1：0.0000\n"
     ]
    },
    {
     "name": "stdout",
     "output_type": "stream",
     "text": [
      "-----bert model output\n"
     ]
    },
    {
     "name": "stderr",
     "output_type": "stream",
     "text": [
      "【train】 epoch：1 step:68/630 loss：0.226708\n",
      "/opt/conda/lib/python3.7/site-packages/sklearn/metrics/_classification.py:1580: UndefinedMetricWarning: F-score is ill-defined and being set to 0.0 in labels with no true nor predicted samples. Use `zero_division` parameter to control this behavior.\n",
      "  _warn_prf(average, \"true nor predicted\", \"F-score is\", len(true_sum))\n",
      "【dev】 loss：52.842812 accuracy：0.0000 micro_f1：0.0000 macro_f1：0.0000\n"
     ]
    },
    {
     "name": "stdout",
     "output_type": "stream",
     "text": [
      "-----bert model output\n"
     ]
    },
    {
     "name": "stderr",
     "output_type": "stream",
     "text": [
      "【train】 epoch：1 step:69/630 loss：0.223052\n",
      "/opt/conda/lib/python3.7/site-packages/sklearn/metrics/_classification.py:1580: UndefinedMetricWarning: F-score is ill-defined and being set to 0.0 in labels with no true nor predicted samples. Use `zero_division` parameter to control this behavior.\n",
      "  _warn_prf(average, \"true nor predicted\", \"F-score is\", len(true_sum))\n",
      "【dev】 loss：52.012104 accuracy：0.0000 micro_f1：0.0000 macro_f1：0.0000\n"
     ]
    },
    {
     "name": "stdout",
     "output_type": "stream",
     "text": [
      "-----bert model output\n"
     ]
    },
    {
     "name": "stderr",
     "output_type": "stream",
     "text": [
      "【train】 epoch：1 step:70/630 loss：0.220863\n",
      "/opt/conda/lib/python3.7/site-packages/sklearn/metrics/_classification.py:1580: UndefinedMetricWarning: F-score is ill-defined and being set to 0.0 in labels with no true nor predicted samples. Use `zero_division` parameter to control this behavior.\n",
      "  _warn_prf(average, \"true nor predicted\", \"F-score is\", len(true_sum))\n",
      "【dev】 loss：51.225386 accuracy：0.0000 micro_f1：0.0000 macro_f1：0.0000\n"
     ]
    },
    {
     "name": "stdout",
     "output_type": "stream",
     "text": [
      "-----bert model output\n"
     ]
    },
    {
     "name": "stderr",
     "output_type": "stream",
     "text": [
      "【train】 epoch：1 step:71/630 loss：0.220535\n",
      "/opt/conda/lib/python3.7/site-packages/sklearn/metrics/_classification.py:1580: UndefinedMetricWarning: F-score is ill-defined and being set to 0.0 in labels with no true nor predicted samples. Use `zero_division` parameter to control this behavior.\n",
      "  _warn_prf(average, \"true nor predicted\", \"F-score is\", len(true_sum))\n",
      "【dev】 loss：50.493417 accuracy：0.0000 micro_f1：0.0000 macro_f1：0.0000\n"
     ]
    },
    {
     "name": "stdout",
     "output_type": "stream",
     "text": [
      "-----bert model output\n"
     ]
    },
    {
     "name": "stderr",
     "output_type": "stream",
     "text": [
      "【train】 epoch：1 step:72/630 loss：0.213521\n",
      "/opt/conda/lib/python3.7/site-packages/sklearn/metrics/_classification.py:1580: UndefinedMetricWarning: F-score is ill-defined and being set to 0.0 in labels with no true nor predicted samples. Use `zero_division` parameter to control this behavior.\n",
      "  _warn_prf(average, \"true nor predicted\", \"F-score is\", len(true_sum))\n",
      "【dev】 loss：49.729597 accuracy：0.0000 micro_f1：0.0000 macro_f1：0.0000\n"
     ]
    },
    {
     "name": "stdout",
     "output_type": "stream",
     "text": [
      "-----bert model output\n"
     ]
    },
    {
     "name": "stderr",
     "output_type": "stream",
     "text": [
      "【train】 epoch：1 step:73/630 loss：0.215152\n",
      "/opt/conda/lib/python3.7/site-packages/sklearn/metrics/_classification.py:1580: UndefinedMetricWarning: F-score is ill-defined and being set to 0.0 in labels with no true nor predicted samples. Use `zero_division` parameter to control this behavior.\n",
      "  _warn_prf(average, \"true nor predicted\", \"F-score is\", len(true_sum))\n",
      "【dev】 loss：48.963464 accuracy：0.0000 micro_f1：0.0000 macro_f1：0.0000\n"
     ]
    },
    {
     "name": "stdout",
     "output_type": "stream",
     "text": [
      "-----bert model output\n"
     ]
    },
    {
     "name": "stderr",
     "output_type": "stream",
     "text": [
      "【train】 epoch：1 step:74/630 loss：0.209406\n",
      "/opt/conda/lib/python3.7/site-packages/sklearn/metrics/_classification.py:1580: UndefinedMetricWarning: F-score is ill-defined and being set to 0.0 in labels with no true nor predicted samples. Use `zero_division` parameter to control this behavior.\n",
      "  _warn_prf(average, \"true nor predicted\", \"F-score is\", len(true_sum))\n",
      "【dev】 loss：48.218486 accuracy：0.0000 micro_f1：0.0000 macro_f1：0.0000\n"
     ]
    },
    {
     "name": "stdout",
     "output_type": "stream",
     "text": [
      "-----bert model output\n"
     ]
    },
    {
     "name": "stderr",
     "output_type": "stream",
     "text": [
      "【train】 epoch：1 step:75/630 loss：0.206799\n",
      "/opt/conda/lib/python3.7/site-packages/sklearn/metrics/_classification.py:1580: UndefinedMetricWarning: F-score is ill-defined and being set to 0.0 in labels with no true nor predicted samples. Use `zero_division` parameter to control this behavior.\n",
      "  _warn_prf(average, \"true nor predicted\", \"F-score is\", len(true_sum))\n",
      "【dev】 loss：47.504844 accuracy：0.0000 micro_f1：0.0000 macro_f1：0.0000\n"
     ]
    },
    {
     "name": "stdout",
     "output_type": "stream",
     "text": [
      "-----bert model output\n"
     ]
    },
    {
     "name": "stderr",
     "output_type": "stream",
     "text": [
      "【train】 epoch：1 step:76/630 loss：0.202164\n",
      "/opt/conda/lib/python3.7/site-packages/sklearn/metrics/_classification.py:1580: UndefinedMetricWarning: F-score is ill-defined and being set to 0.0 in labels with no true nor predicted samples. Use `zero_division` parameter to control this behavior.\n",
      "  _warn_prf(average, \"true nor predicted\", \"F-score is\", len(true_sum))\n",
      "【dev】 loss：46.839512 accuracy：0.0000 micro_f1：0.0000 macro_f1：0.0000\n"
     ]
    },
    {
     "name": "stdout",
     "output_type": "stream",
     "text": [
      "-----bert model output\n"
     ]
    },
    {
     "name": "stderr",
     "output_type": "stream",
     "text": [
      "【train】 epoch：1 step:77/630 loss：0.201613\n",
      "/opt/conda/lib/python3.7/site-packages/sklearn/metrics/_classification.py:1580: UndefinedMetricWarning: F-score is ill-defined and being set to 0.0 in labels with no true nor predicted samples. Use `zero_division` parameter to control this behavior.\n",
      "  _warn_prf(average, \"true nor predicted\", \"F-score is\", len(true_sum))\n",
      "【dev】 loss：46.153472 accuracy：0.0000 micro_f1：0.0000 macro_f1：0.0000\n"
     ]
    },
    {
     "name": "stdout",
     "output_type": "stream",
     "text": [
      "-----bert model output\n"
     ]
    },
    {
     "name": "stderr",
     "output_type": "stream",
     "text": [
      "【train】 epoch：1 step:78/630 loss：0.194510\n",
      "/opt/conda/lib/python3.7/site-packages/sklearn/metrics/_classification.py:1580: UndefinedMetricWarning: F-score is ill-defined and being set to 0.0 in labels with no true nor predicted samples. Use `zero_division` parameter to control this behavior.\n",
      "  _warn_prf(average, \"true nor predicted\", \"F-score is\", len(true_sum))\n",
      "【dev】 loss：45.463476 accuracy：0.0000 micro_f1：0.0000 macro_f1：0.0000\n"
     ]
    },
    {
     "name": "stdout",
     "output_type": "stream",
     "text": [
      "-----bert model output\n"
     ]
    },
    {
     "name": "stderr",
     "output_type": "stream",
     "text": [
      "【train】 epoch：1 step:79/630 loss：0.195103\n",
      "/opt/conda/lib/python3.7/site-packages/sklearn/metrics/_classification.py:1580: UndefinedMetricWarning: F-score is ill-defined and being set to 0.0 in labels with no true nor predicted samples. Use `zero_division` parameter to control this behavior.\n",
      "  _warn_prf(average, \"true nor predicted\", \"F-score is\", len(true_sum))\n",
      "【dev】 loss：44.780918 accuracy：0.0000 micro_f1：0.0000 macro_f1：0.0000\n"
     ]
    },
    {
     "name": "stdout",
     "output_type": "stream",
     "text": [
      "-----bert model output\n"
     ]
    },
    {
     "name": "stderr",
     "output_type": "stream",
     "text": [
      "【train】 epoch：1 step:80/630 loss：0.190975\n",
      "/opt/conda/lib/python3.7/site-packages/sklearn/metrics/_classification.py:1580: UndefinedMetricWarning: F-score is ill-defined and being set to 0.0 in labels with no true nor predicted samples. Use `zero_division` parameter to control this behavior.\n",
      "  _warn_prf(average, \"true nor predicted\", \"F-score is\", len(true_sum))\n",
      "【dev】 loss：44.134506 accuracy：0.0000 micro_f1：0.0000 macro_f1：0.0000\n"
     ]
    },
    {
     "name": "stdout",
     "output_type": "stream",
     "text": [
      "-----bert model output\n"
     ]
    },
    {
     "name": "stderr",
     "output_type": "stream",
     "text": [
      "【train】 epoch：1 step:81/630 loss：0.185943\n",
      "/opt/conda/lib/python3.7/site-packages/sklearn/metrics/_classification.py:1580: UndefinedMetricWarning: F-score is ill-defined and being set to 0.0 in labels with no true nor predicted samples. Use `zero_division` parameter to control this behavior.\n",
      "  _warn_prf(average, \"true nor predicted\", \"F-score is\", len(true_sum))\n",
      "【dev】 loss：43.511527 accuracy：0.0000 micro_f1：0.0000 macro_f1：0.0000\n"
     ]
    },
    {
     "name": "stdout",
     "output_type": "stream",
     "text": [
      "-----bert model output\n"
     ]
    },
    {
     "name": "stderr",
     "output_type": "stream",
     "text": [
      "【train】 epoch：1 step:82/630 loss：0.191206\n",
      "/opt/conda/lib/python3.7/site-packages/sklearn/metrics/_classification.py:1580: UndefinedMetricWarning: F-score is ill-defined and being set to 0.0 in labels with no true nor predicted samples. Use `zero_division` parameter to control this behavior.\n",
      "  _warn_prf(average, \"true nor predicted\", \"F-score is\", len(true_sum))\n",
      "【dev】 loss：42.899829 accuracy：0.0000 micro_f1：0.0000 macro_f1：0.0000\n"
     ]
    },
    {
     "name": "stdout",
     "output_type": "stream",
     "text": [
      "-----bert model output\n"
     ]
    },
    {
     "name": "stderr",
     "output_type": "stream",
     "text": [
      "【train】 epoch：1 step:83/630 loss：0.183112\n",
      "/opt/conda/lib/python3.7/site-packages/sklearn/metrics/_classification.py:1580: UndefinedMetricWarning: F-score is ill-defined and being set to 0.0 in labels with no true nor predicted samples. Use `zero_division` parameter to control this behavior.\n",
      "  _warn_prf(average, \"true nor predicted\", \"F-score is\", len(true_sum))\n",
      "【dev】 loss：42.299959 accuracy：0.0000 micro_f1：0.0000 macro_f1：0.0000\n"
     ]
    },
    {
     "name": "stdout",
     "output_type": "stream",
     "text": [
      "-----bert model output\n"
     ]
    },
    {
     "name": "stderr",
     "output_type": "stream",
     "text": [
      "【train】 epoch：1 step:84/630 loss：0.185134\n",
      "/opt/conda/lib/python3.7/site-packages/sklearn/metrics/_classification.py:1580: UndefinedMetricWarning: F-score is ill-defined and being set to 0.0 in labels with no true nor predicted samples. Use `zero_division` parameter to control this behavior.\n",
      "  _warn_prf(average, \"true nor predicted\", \"F-score is\", len(true_sum))\n",
      "【dev】 loss：41.711674 accuracy：0.0000 micro_f1：0.0000 macro_f1：0.0000\n"
     ]
    },
    {
     "name": "stdout",
     "output_type": "stream",
     "text": [
      "-----bert model output\n"
     ]
    },
    {
     "name": "stderr",
     "output_type": "stream",
     "text": [
      "【train】 epoch：1 step:85/630 loss：0.179370\n",
      "/opt/conda/lib/python3.7/site-packages/sklearn/metrics/_classification.py:1580: UndefinedMetricWarning: F-score is ill-defined and being set to 0.0 in labels with no true nor predicted samples. Use `zero_division` parameter to control this behavior.\n",
      "  _warn_prf(average, \"true nor predicted\", \"F-score is\", len(true_sum))\n",
      "【dev】 loss：41.132636 accuracy：0.0000 micro_f1：0.0000 macro_f1：0.0000\n"
     ]
    },
    {
     "name": "stdout",
     "output_type": "stream",
     "text": [
      "-----bert model output\n"
     ]
    },
    {
     "name": "stderr",
     "output_type": "stream",
     "text": [
      "【train】 epoch：1 step:86/630 loss：0.175421\n",
      "/opt/conda/lib/python3.7/site-packages/sklearn/metrics/_classification.py:1580: UndefinedMetricWarning: F-score is ill-defined and being set to 0.0 in labels with no true nor predicted samples. Use `zero_division` parameter to control this behavior.\n",
      "  _warn_prf(average, \"true nor predicted\", \"F-score is\", len(true_sum))\n",
      "【dev】 loss：40.569052 accuracy：0.0000 micro_f1：0.0000 macro_f1：0.0000\n"
     ]
    },
    {
     "name": "stdout",
     "output_type": "stream",
     "text": [
      "-----bert model output\n"
     ]
    },
    {
     "name": "stderr",
     "output_type": "stream",
     "text": [
      "【train】 epoch：1 step:87/630 loss：0.174144\n",
      "/opt/conda/lib/python3.7/site-packages/sklearn/metrics/_classification.py:1580: UndefinedMetricWarning: F-score is ill-defined and being set to 0.0 in labels with no true nor predicted samples. Use `zero_division` parameter to control this behavior.\n",
      "  _warn_prf(average, \"true nor predicted\", \"F-score is\", len(true_sum))\n",
      "【dev】 loss：40.029932 accuracy：0.0000 micro_f1：0.0000 macro_f1：0.0000\n"
     ]
    },
    {
     "name": "stdout",
     "output_type": "stream",
     "text": [
      "-----bert model output\n"
     ]
    },
    {
     "name": "stderr",
     "output_type": "stream",
     "text": [
      "【train】 epoch：1 step:88/630 loss：0.168950\n",
      "/opt/conda/lib/python3.7/site-packages/sklearn/metrics/_classification.py:1580: UndefinedMetricWarning: F-score is ill-defined and being set to 0.0 in labels with no true nor predicted samples. Use `zero_division` parameter to control this behavior.\n",
      "  _warn_prf(average, \"true nor predicted\", \"F-score is\", len(true_sum))\n",
      "【dev】 loss：39.521985 accuracy：0.0000 micro_f1：0.0000 macro_f1：0.0000\n"
     ]
    },
    {
     "name": "stdout",
     "output_type": "stream",
     "text": [
      "-----bert model output\n"
     ]
    },
    {
     "name": "stderr",
     "output_type": "stream",
     "text": [
      "【train】 epoch：1 step:89/630 loss：0.167386\n",
      "/opt/conda/lib/python3.7/site-packages/sklearn/metrics/_classification.py:1580: UndefinedMetricWarning: F-score is ill-defined and being set to 0.0 in labels with no true nor predicted samples. Use `zero_division` parameter to control this behavior.\n",
      "  _warn_prf(average, \"true nor predicted\", \"F-score is\", len(true_sum))\n",
      "【dev】 loss：39.006780 accuracy：0.0000 micro_f1：0.0000 macro_f1：0.0000\n"
     ]
    },
    {
     "name": "stdout",
     "output_type": "stream",
     "text": [
      "-----bert model output\n"
     ]
    },
    {
     "name": "stderr",
     "output_type": "stream",
     "text": [
      "【train】 epoch：1 step:90/630 loss：0.167420\n",
      "/opt/conda/lib/python3.7/site-packages/sklearn/metrics/_classification.py:1580: UndefinedMetricWarning: F-score is ill-defined and being set to 0.0 in labels with no true nor predicted samples. Use `zero_division` parameter to control this behavior.\n",
      "  _warn_prf(average, \"true nor predicted\", \"F-score is\", len(true_sum))\n",
      "【dev】 loss：38.463189 accuracy：0.0000 micro_f1：0.0000 macro_f1：0.0000\n"
     ]
    },
    {
     "name": "stdout",
     "output_type": "stream",
     "text": [
      "-----bert model output\n"
     ]
    },
    {
     "name": "stderr",
     "output_type": "stream",
     "text": [
      "【train】 epoch：1 step:91/630 loss：0.165470\n",
      "/opt/conda/lib/python3.7/site-packages/sklearn/metrics/_classification.py:1580: UndefinedMetricWarning: F-score is ill-defined and being set to 0.0 in labels with no true nor predicted samples. Use `zero_division` parameter to control this behavior.\n",
      "  _warn_prf(average, \"true nor predicted\", \"F-score is\", len(true_sum))\n",
      "【dev】 loss：37.907999 accuracy：0.0000 micro_f1：0.0000 macro_f1：0.0000\n"
     ]
    },
    {
     "name": "stdout",
     "output_type": "stream",
     "text": [
      "-----bert model output\n"
     ]
    },
    {
     "name": "stderr",
     "output_type": "stream",
     "text": [
      "【train】 epoch：1 step:92/630 loss：0.162029\n",
      "/opt/conda/lib/python3.7/site-packages/sklearn/metrics/_classification.py:1580: UndefinedMetricWarning: F-score is ill-defined and being set to 0.0 in labels with no true nor predicted samples. Use `zero_division` parameter to control this behavior.\n",
      "  _warn_prf(average, \"true nor predicted\", \"F-score is\", len(true_sum))\n",
      "【dev】 loss：37.404984 accuracy：0.0000 micro_f1：0.0000 macro_f1：0.0000\n"
     ]
    },
    {
     "name": "stdout",
     "output_type": "stream",
     "text": [
      "-----bert model output\n"
     ]
    },
    {
     "name": "stderr",
     "output_type": "stream",
     "text": [
      "【train】 epoch：1 step:93/630 loss：0.163578\n",
      "/opt/conda/lib/python3.7/site-packages/sklearn/metrics/_classification.py:1580: UndefinedMetricWarning: F-score is ill-defined and being set to 0.0 in labels with no true nor predicted samples. Use `zero_division` parameter to control this behavior.\n",
      "  _warn_prf(average, \"true nor predicted\", \"F-score is\", len(true_sum))\n",
      "【dev】 loss：36.935947 accuracy：0.0000 micro_f1：0.0000 macro_f1：0.0000\n"
     ]
    },
    {
     "name": "stdout",
     "output_type": "stream",
     "text": [
      "-----bert model output\n"
     ]
    },
    {
     "name": "stderr",
     "output_type": "stream",
     "text": [
      "【train】 epoch：1 step:94/630 loss：0.158738\n",
      "/opt/conda/lib/python3.7/site-packages/sklearn/metrics/_classification.py:1580: UndefinedMetricWarning: F-score is ill-defined and being set to 0.0 in labels with no true nor predicted samples. Use `zero_division` parameter to control this behavior.\n",
      "  _warn_prf(average, \"true nor predicted\", \"F-score is\", len(true_sum))\n",
      "【dev】 loss：36.447787 accuracy：0.0000 micro_f1：0.0000 macro_f1：0.0000\n"
     ]
    },
    {
     "name": "stdout",
     "output_type": "stream",
     "text": [
      "-----bert model output\n"
     ]
    },
    {
     "name": "stderr",
     "output_type": "stream",
     "text": [
      "【train】 epoch：1 step:95/630 loss：0.156547\n",
      "/opt/conda/lib/python3.7/site-packages/sklearn/metrics/_classification.py:1580: UndefinedMetricWarning: F-score is ill-defined and being set to 0.0 in labels with no true nor predicted samples. Use `zero_division` parameter to control this behavior.\n",
      "  _warn_prf(average, \"true nor predicted\", \"F-score is\", len(true_sum))\n",
      "【dev】 loss：35.977585 accuracy：0.0000 micro_f1：0.0000 macro_f1：0.0000\n"
     ]
    },
    {
     "name": "stdout",
     "output_type": "stream",
     "text": [
      "-----bert model output\n"
     ]
    },
    {
     "name": "stderr",
     "output_type": "stream",
     "text": [
      "【train】 epoch：1 step:96/630 loss：0.148497\n",
      "/opt/conda/lib/python3.7/site-packages/sklearn/metrics/_classification.py:1580: UndefinedMetricWarning: F-score is ill-defined and being set to 0.0 in labels with no true nor predicted samples. Use `zero_division` parameter to control this behavior.\n",
      "  _warn_prf(average, \"true nor predicted\", \"F-score is\", len(true_sum))\n",
      "【dev】 loss：35.545223 accuracy：0.0000 micro_f1：0.0000 macro_f1：0.0000\n"
     ]
    },
    {
     "name": "stdout",
     "output_type": "stream",
     "text": [
      "-----bert model output\n"
     ]
    },
    {
     "name": "stderr",
     "output_type": "stream",
     "text": [
      "【train】 epoch：1 step:97/630 loss：0.154212\n",
      "/opt/conda/lib/python3.7/site-packages/sklearn/metrics/_classification.py:1580: UndefinedMetricWarning: F-score is ill-defined and being set to 0.0 in labels with no true nor predicted samples. Use `zero_division` parameter to control this behavior.\n",
      "  _warn_prf(average, \"true nor predicted\", \"F-score is\", len(true_sum))\n",
      "【dev】 loss：35.136736 accuracy：0.0000 micro_f1：0.0000 macro_f1：0.0000\n"
     ]
    },
    {
     "name": "stdout",
     "output_type": "stream",
     "text": [
      "-----bert model output\n"
     ]
    },
    {
     "name": "stderr",
     "output_type": "stream",
     "text": [
      "【train】 epoch：1 step:98/630 loss：0.149496\n",
      "/opt/conda/lib/python3.7/site-packages/sklearn/metrics/_classification.py:1580: UndefinedMetricWarning: F-score is ill-defined and being set to 0.0 in labels with no true nor predicted samples. Use `zero_division` parameter to control this behavior.\n",
      "  _warn_prf(average, \"true nor predicted\", \"F-score is\", len(true_sum))\n",
      "【dev】 loss：34.711840 accuracy：0.0000 micro_f1：0.0000 macro_f1：0.0000\n"
     ]
    },
    {
     "name": "stdout",
     "output_type": "stream",
     "text": [
      "-----bert model output\n"
     ]
    },
    {
     "name": "stderr",
     "output_type": "stream",
     "text": [
      "【train】 epoch：1 step:99/630 loss：0.145865\n",
      "/opt/conda/lib/python3.7/site-packages/sklearn/metrics/_classification.py:1580: UndefinedMetricWarning: F-score is ill-defined and being set to 0.0 in labels with no true nor predicted samples. Use `zero_division` parameter to control this behavior.\n",
      "  _warn_prf(average, \"true nor predicted\", \"F-score is\", len(true_sum))\n",
      "【dev】 loss：34.262706 accuracy：0.0000 micro_f1：0.0000 macro_f1：0.0000\n"
     ]
    },
    {
     "name": "stdout",
     "output_type": "stream",
     "text": [
      "-----bert model output\n"
     ]
    },
    {
     "name": "stderr",
     "output_type": "stream",
     "text": [
      "【train】 epoch：1 step:100/630 loss：0.145954\n",
      "/opt/conda/lib/python3.7/site-packages/sklearn/metrics/_classification.py:1580: UndefinedMetricWarning: F-score is ill-defined and being set to 0.0 in labels with no true nor predicted samples. Use `zero_division` parameter to control this behavior.\n",
      "  _warn_prf(average, \"true nor predicted\", \"F-score is\", len(true_sum))\n",
      "【dev】 loss：33.809605 accuracy：0.0000 micro_f1：0.0000 macro_f1：0.0000\n"
     ]
    },
    {
     "name": "stdout",
     "output_type": "stream",
     "text": [
      "-----bert model output\n"
     ]
    },
    {
     "name": "stderr",
     "output_type": "stream",
     "text": [
      "【train】 epoch：1 step:101/630 loss：0.142333\n",
      "/opt/conda/lib/python3.7/site-packages/sklearn/metrics/_classification.py:1580: UndefinedMetricWarning: F-score is ill-defined and being set to 0.0 in labels with no true nor predicted samples. Use `zero_division` parameter to control this behavior.\n",
      "  _warn_prf(average, \"true nor predicted\", \"F-score is\", len(true_sum))\n",
      "【dev】 loss：33.396418 accuracy：0.0000 micro_f1：0.0000 macro_f1：0.0000\n"
     ]
    },
    {
     "name": "stdout",
     "output_type": "stream",
     "text": [
      "-----bert model output\n"
     ]
    },
    {
     "name": "stderr",
     "output_type": "stream",
     "text": [
      "【train】 epoch：1 step:102/630 loss：0.142845\n",
      "/opt/conda/lib/python3.7/site-packages/sklearn/metrics/_classification.py:1580: UndefinedMetricWarning: F-score is ill-defined and being set to 0.0 in labels with no true nor predicted samples. Use `zero_division` parameter to control this behavior.\n",
      "  _warn_prf(average, \"true nor predicted\", \"F-score is\", len(true_sum))\n",
      "【dev】 loss：33.008392 accuracy：0.0000 micro_f1：0.0000 macro_f1：0.0000\n"
     ]
    },
    {
     "name": "stdout",
     "output_type": "stream",
     "text": [
      "-----bert model output\n"
     ]
    },
    {
     "name": "stderr",
     "output_type": "stream",
     "text": [
      "【train】 epoch：1 step:103/630 loss：0.141894\n",
      "/opt/conda/lib/python3.7/site-packages/sklearn/metrics/_classification.py:1580: UndefinedMetricWarning: F-score is ill-defined and being set to 0.0 in labels with no true nor predicted samples. Use `zero_division` parameter to control this behavior.\n",
      "  _warn_prf(average, \"true nor predicted\", \"F-score is\", len(true_sum))\n",
      "【dev】 loss：32.607993 accuracy：0.0000 micro_f1：0.0000 macro_f1：0.0000\n"
     ]
    },
    {
     "name": "stdout",
     "output_type": "stream",
     "text": [
      "-----bert model output\n"
     ]
    },
    {
     "name": "stderr",
     "output_type": "stream",
     "text": [
      "【train】 epoch：1 step:104/630 loss：0.138995\n",
      "/opt/conda/lib/python3.7/site-packages/sklearn/metrics/_classification.py:1580: UndefinedMetricWarning: F-score is ill-defined and being set to 0.0 in labels with no true nor predicted samples. Use `zero_division` parameter to control this behavior.\n",
      "  _warn_prf(average, \"true nor predicted\", \"F-score is\", len(true_sum))\n",
      "【dev】 loss：32.211828 accuracy：0.0000 micro_f1：0.0000 macro_f1：0.0000\n"
     ]
    },
    {
     "name": "stdout",
     "output_type": "stream",
     "text": [
      "-----bert model output\n"
     ]
    },
    {
     "name": "stderr",
     "output_type": "stream",
     "text": [
      "【train】 epoch：1 step:105/630 loss：0.137468\n",
      "/opt/conda/lib/python3.7/site-packages/sklearn/metrics/_classification.py:1580: UndefinedMetricWarning: F-score is ill-defined and being set to 0.0 in labels with no true nor predicted samples. Use `zero_division` parameter to control this behavior.\n",
      "  _warn_prf(average, \"true nor predicted\", \"F-score is\", len(true_sum))\n",
      "【dev】 loss：31.835414 accuracy：0.0000 micro_f1：0.0000 macro_f1：0.0000\n"
     ]
    },
    {
     "name": "stdout",
     "output_type": "stream",
     "text": [
      "-----bert model output\n"
     ]
    },
    {
     "name": "stderr",
     "output_type": "stream",
     "text": [
      "【train】 epoch：1 step:106/630 loss：0.140352\n",
      "/opt/conda/lib/python3.7/site-packages/sklearn/metrics/_classification.py:1580: UndefinedMetricWarning: F-score is ill-defined and being set to 0.0 in labels with no true nor predicted samples. Use `zero_division` parameter to control this behavior.\n",
      "  _warn_prf(average, \"true nor predicted\", \"F-score is\", len(true_sum))\n",
      "【dev】 loss：31.492964 accuracy：0.0000 micro_f1：0.0000 macro_f1：0.0000\n"
     ]
    },
    {
     "name": "stdout",
     "output_type": "stream",
     "text": [
      "-----bert model output\n"
     ]
    },
    {
     "name": "stderr",
     "output_type": "stream",
     "text": [
      "【train】 epoch：1 step:107/630 loss：0.136206\n",
      "/opt/conda/lib/python3.7/site-packages/sklearn/metrics/_classification.py:1580: UndefinedMetricWarning: F-score is ill-defined and being set to 0.0 in labels with no true nor predicted samples. Use `zero_division` parameter to control this behavior.\n",
      "  _warn_prf(average, \"true nor predicted\", \"F-score is\", len(true_sum))\n",
      "【dev】 loss：31.171083 accuracy：0.0000 micro_f1：0.0000 macro_f1：0.0000\n"
     ]
    },
    {
     "name": "stdout",
     "output_type": "stream",
     "text": [
      "-----bert model output\n"
     ]
    },
    {
     "name": "stderr",
     "output_type": "stream",
     "text": [
      "【train】 epoch：1 step:108/630 loss：0.132255\n",
      "/opt/conda/lib/python3.7/site-packages/sklearn/metrics/_classification.py:1580: UndefinedMetricWarning: F-score is ill-defined and being set to 0.0 in labels with no true nor predicted samples. Use `zero_division` parameter to control this behavior.\n",
      "  _warn_prf(average, \"true nor predicted\", \"F-score is\", len(true_sum))\n",
      "【dev】 loss：30.822051 accuracy：0.0000 micro_f1：0.0000 macro_f1：0.0000\n"
     ]
    },
    {
     "name": "stdout",
     "output_type": "stream",
     "text": [
      "-----bert model output\n"
     ]
    },
    {
     "name": "stderr",
     "output_type": "stream",
     "text": [
      "【train】 epoch：1 step:109/630 loss：0.131765\n",
      "/opt/conda/lib/python3.7/site-packages/sklearn/metrics/_classification.py:1580: UndefinedMetricWarning: F-score is ill-defined and being set to 0.0 in labels with no true nor predicted samples. Use `zero_division` parameter to control this behavior.\n",
      "  _warn_prf(average, \"true nor predicted\", \"F-score is\", len(true_sum))\n",
      "【dev】 loss：30.443940 accuracy：0.0000 micro_f1：0.0000 macro_f1：0.0000\n"
     ]
    },
    {
     "name": "stdout",
     "output_type": "stream",
     "text": [
      "-----bert model output\n"
     ]
    },
    {
     "name": "stderr",
     "output_type": "stream",
     "text": [
      "【train】 epoch：1 step:110/630 loss：0.129150\n",
      "/opt/conda/lib/python3.7/site-packages/sklearn/metrics/_classification.py:1580: UndefinedMetricWarning: F-score is ill-defined and being set to 0.0 in labels with no true nor predicted samples. Use `zero_division` parameter to control this behavior.\n",
      "  _warn_prf(average, \"true nor predicted\", \"F-score is\", len(true_sum))\n",
      "【dev】 loss：30.065508 accuracy：0.0000 micro_f1：0.0000 macro_f1：0.0000\n"
     ]
    },
    {
     "name": "stdout",
     "output_type": "stream",
     "text": [
      "-----bert model output\n"
     ]
    },
    {
     "name": "stderr",
     "output_type": "stream",
     "text": [
      "【train】 epoch：1 step:111/630 loss：0.127561\n",
      "/opt/conda/lib/python3.7/site-packages/sklearn/metrics/_classification.py:1580: UndefinedMetricWarning: F-score is ill-defined and being set to 0.0 in labels with no true nor predicted samples. Use `zero_division` parameter to control this behavior.\n",
      "  _warn_prf(average, \"true nor predicted\", \"F-score is\", len(true_sum))\n",
      "【dev】 loss：29.718951 accuracy：0.0000 micro_f1：0.0000 macro_f1：0.0000\n"
     ]
    },
    {
     "name": "stdout",
     "output_type": "stream",
     "text": [
      "-----bert model output\n"
     ]
    },
    {
     "name": "stderr",
     "output_type": "stream",
     "text": [
      "【train】 epoch：1 step:112/630 loss：0.126179\n",
      "/opt/conda/lib/python3.7/site-packages/sklearn/metrics/_classification.py:1580: UndefinedMetricWarning: F-score is ill-defined and being set to 0.0 in labels with no true nor predicted samples. Use `zero_division` parameter to control this behavior.\n",
      "  _warn_prf(average, \"true nor predicted\", \"F-score is\", len(true_sum))\n",
      "【dev】 loss：29.398939 accuracy：0.0000 micro_f1：0.0000 macro_f1：0.0000\n"
     ]
    },
    {
     "name": "stdout",
     "output_type": "stream",
     "text": [
      "-----bert model output\n"
     ]
    },
    {
     "name": "stderr",
     "output_type": "stream",
     "text": [
      "【train】 epoch：1 step:113/630 loss：0.127417\n",
      "/opt/conda/lib/python3.7/site-packages/sklearn/metrics/_classification.py:1580: UndefinedMetricWarning: F-score is ill-defined and being set to 0.0 in labels with no true nor predicted samples. Use `zero_division` parameter to control this behavior.\n",
      "  _warn_prf(average, \"true nor predicted\", \"F-score is\", len(true_sum))\n",
      "【dev】 loss：29.080239 accuracy：0.0000 micro_f1：0.0000 macro_f1：0.0000\n"
     ]
    },
    {
     "name": "stdout",
     "output_type": "stream",
     "text": [
      "-----bert model output\n"
     ]
    },
    {
     "name": "stderr",
     "output_type": "stream",
     "text": [
      "【train】 epoch：1 step:114/630 loss：0.125611\n",
      "/opt/conda/lib/python3.7/site-packages/sklearn/metrics/_classification.py:1580: UndefinedMetricWarning: F-score is ill-defined and being set to 0.0 in labels with no true nor predicted samples. Use `zero_division` parameter to control this behavior.\n",
      "  _warn_prf(average, \"true nor predicted\", \"F-score is\", len(true_sum))\n",
      "【dev】 loss：28.757281 accuracy：0.0000 micro_f1：0.0000 macro_f1：0.0000\n"
     ]
    },
    {
     "name": "stdout",
     "output_type": "stream",
     "text": [
      "-----bert model output\n"
     ]
    },
    {
     "name": "stderr",
     "output_type": "stream",
     "text": [
      "【train】 epoch：1 step:115/630 loss：0.124712\n",
      "/opt/conda/lib/python3.7/site-packages/sklearn/metrics/_classification.py:1580: UndefinedMetricWarning: F-score is ill-defined and being set to 0.0 in labels with no true nor predicted samples. Use `zero_division` parameter to control this behavior.\n",
      "  _warn_prf(average, \"true nor predicted\", \"F-score is\", len(true_sum))\n",
      "【dev】 loss：28.445178 accuracy：0.0000 micro_f1：0.0000 macro_f1：0.0000\n"
     ]
    },
    {
     "name": "stdout",
     "output_type": "stream",
     "text": [
      "-----bert model output\n"
     ]
    },
    {
     "name": "stderr",
     "output_type": "stream",
     "text": [
      "【train】 epoch：1 step:116/630 loss：0.122082\n",
      "/opt/conda/lib/python3.7/site-packages/sklearn/metrics/_classification.py:1580: UndefinedMetricWarning: F-score is ill-defined and being set to 0.0 in labels with no true nor predicted samples. Use `zero_division` parameter to control this behavior.\n",
      "  _warn_prf(average, \"true nor predicted\", \"F-score is\", len(true_sum))\n",
      "【dev】 loss：28.147596 accuracy：0.0000 micro_f1：0.0000 macro_f1：0.0000\n"
     ]
    },
    {
     "name": "stdout",
     "output_type": "stream",
     "text": [
      "-----bert model output\n"
     ]
    },
    {
     "name": "stderr",
     "output_type": "stream",
     "text": [
      "【train】 epoch：1 step:117/630 loss：0.124369\n",
      "/opt/conda/lib/python3.7/site-packages/sklearn/metrics/_classification.py:1580: UndefinedMetricWarning: F-score is ill-defined and being set to 0.0 in labels with no true nor predicted samples. Use `zero_division` parameter to control this behavior.\n",
      "  _warn_prf(average, \"true nor predicted\", \"F-score is\", len(true_sum))\n",
      "【dev】 loss：27.859517 accuracy：0.0000 micro_f1：0.0000 macro_f1：0.0000\n"
     ]
    },
    {
     "name": "stdout",
     "output_type": "stream",
     "text": [
      "-----bert model output\n"
     ]
    },
    {
     "name": "stderr",
     "output_type": "stream",
     "text": [
      "【train】 epoch：1 step:118/630 loss：0.121263\n",
      "/opt/conda/lib/python3.7/site-packages/sklearn/metrics/_classification.py:1580: UndefinedMetricWarning: F-score is ill-defined and being set to 0.0 in labels with no true nor predicted samples. Use `zero_division` parameter to control this behavior.\n",
      "  _warn_prf(average, \"true nor predicted\", \"F-score is\", len(true_sum))\n",
      "【dev】 loss：27.578733 accuracy：0.0000 micro_f1：0.0000 macro_f1：0.0000\n"
     ]
    },
    {
     "name": "stdout",
     "output_type": "stream",
     "text": [
      "-----bert model output\n"
     ]
    },
    {
     "name": "stderr",
     "output_type": "stream",
     "text": [
      "【train】 epoch：1 step:119/630 loss：0.115532\n",
      "/opt/conda/lib/python3.7/site-packages/sklearn/metrics/_classification.py:1580: UndefinedMetricWarning: F-score is ill-defined and being set to 0.0 in labels with no true nor predicted samples. Use `zero_division` parameter to control this behavior.\n",
      "  _warn_prf(average, \"true nor predicted\", \"F-score is\", len(true_sum))\n",
      "【dev】 loss：27.296991 accuracy：0.0000 micro_f1：0.0000 macro_f1：0.0000\n"
     ]
    },
    {
     "name": "stdout",
     "output_type": "stream",
     "text": [
      "-----bert model output\n"
     ]
    },
    {
     "name": "stderr",
     "output_type": "stream",
     "text": [
      "【train】 epoch：1 step:120/630 loss：0.119946\n",
      "/opt/conda/lib/python3.7/site-packages/sklearn/metrics/_classification.py:1580: UndefinedMetricWarning: F-score is ill-defined and being set to 0.0 in labels with no true nor predicted samples. Use `zero_division` parameter to control this behavior.\n",
      "  _warn_prf(average, \"true nor predicted\", \"F-score is\", len(true_sum))\n",
      "【dev】 loss：27.015405 accuracy：0.0000 micro_f1：0.0000 macro_f1：0.0000\n"
     ]
    },
    {
     "name": "stdout",
     "output_type": "stream",
     "text": [
      "-----bert model output\n"
     ]
    },
    {
     "name": "stderr",
     "output_type": "stream",
     "text": [
      "【train】 epoch：1 step:121/630 loss：0.115235\n",
      "/opt/conda/lib/python3.7/site-packages/sklearn/metrics/_classification.py:1580: UndefinedMetricWarning: F-score is ill-defined and being set to 0.0 in labels with no true nor predicted samples. Use `zero_division` parameter to control this behavior.\n",
      "  _warn_prf(average, \"true nor predicted\", \"F-score is\", len(true_sum))\n",
      "【dev】 loss：26.732057 accuracy：0.0000 micro_f1：0.0000 macro_f1：0.0000\n"
     ]
    },
    {
     "name": "stdout",
     "output_type": "stream",
     "text": [
      "-----bert model output\n"
     ]
    },
    {
     "name": "stderr",
     "output_type": "stream",
     "text": [
      "【train】 epoch：1 step:122/630 loss：0.116868\n",
      "/opt/conda/lib/python3.7/site-packages/sklearn/metrics/_classification.py:1580: UndefinedMetricWarning: F-score is ill-defined and being set to 0.0 in labels with no true nor predicted samples. Use `zero_division` parameter to control this behavior.\n",
      "  _warn_prf(average, \"true nor predicted\", \"F-score is\", len(true_sum))\n",
      "【dev】 loss：26.457406 accuracy：0.0000 micro_f1：0.0000 macro_f1：0.0000\n"
     ]
    },
    {
     "name": "stdout",
     "output_type": "stream",
     "text": [
      "-----bert model output\n"
     ]
    },
    {
     "name": "stderr",
     "output_type": "stream",
     "text": [
      "【train】 epoch：1 step:123/630 loss：0.113494\n",
      "/opt/conda/lib/python3.7/site-packages/sklearn/metrics/_classification.py:1580: UndefinedMetricWarning: F-score is ill-defined and being set to 0.0 in labels with no true nor predicted samples. Use `zero_division` parameter to control this behavior.\n",
      "  _warn_prf(average, \"true nor predicted\", \"F-score is\", len(true_sum))\n",
      "【dev】 loss：26.190172 accuracy：0.0000 micro_f1：0.0000 macro_f1：0.0000\n"
     ]
    },
    {
     "name": "stdout",
     "output_type": "stream",
     "text": [
      "-----bert model output\n"
     ]
    },
    {
     "name": "stderr",
     "output_type": "stream",
     "text": [
      "【train】 epoch：1 step:124/630 loss：0.113905\n",
      "/opt/conda/lib/python3.7/site-packages/sklearn/metrics/_classification.py:1580: UndefinedMetricWarning: F-score is ill-defined and being set to 0.0 in labels with no true nor predicted samples. Use `zero_division` parameter to control this behavior.\n",
      "  _warn_prf(average, \"true nor predicted\", \"F-score is\", len(true_sum))\n",
      "【dev】 loss：25.929791 accuracy：0.0000 micro_f1：0.0000 macro_f1：0.0000\n",
      "【train】 epoch：1 step:125/630 loss：0.110391\n"
     ]
    },
    {
     "name": "stdout",
     "output_type": "stream",
     "text": [
      "-----bert model output\n"
     ]
    },
    {
     "name": "stderr",
     "output_type": "stream",
     "text": [
      "/opt/conda/lib/python3.7/site-packages/sklearn/metrics/_classification.py:1580: UndefinedMetricWarning: F-score is ill-defined and being set to 0.0 in labels with no true nor predicted samples. Use `zero_division` parameter to control this behavior.\n",
      "  _warn_prf(average, \"true nor predicted\", \"F-score is\", len(true_sum))\n",
      "【dev】 loss：25.676827 accuracy：0.0000 micro_f1：0.0000 macro_f1：0.0000\n"
     ]
    },
    {
     "name": "stdout",
     "output_type": "stream",
     "text": [
      "-----bert model output\n"
     ]
    },
    {
     "name": "stderr",
     "output_type": "stream",
     "text": [
      "【train】 epoch：2 step:126/630 loss：0.109742\n",
      "/opt/conda/lib/python3.7/site-packages/sklearn/metrics/_classification.py:1580: UndefinedMetricWarning: F-score is ill-defined and being set to 0.0 in labels with no true nor predicted samples. Use `zero_division` parameter to control this behavior.\n",
      "  _warn_prf(average, \"true nor predicted\", \"F-score is\", len(true_sum))\n",
      "【dev】 loss：25.429297 accuracy：0.0000 micro_f1：0.0000 macro_f1：0.0000\n"
     ]
    },
    {
     "name": "stdout",
     "output_type": "stream",
     "text": [
      "-----bert model output\n"
     ]
    },
    {
     "name": "stderr",
     "output_type": "stream",
     "text": [
      "【train】 epoch：2 step:127/630 loss：0.106789\n",
      "/opt/conda/lib/python3.7/site-packages/sklearn/metrics/_classification.py:1580: UndefinedMetricWarning: F-score is ill-defined and being set to 0.0 in labels with no true nor predicted samples. Use `zero_division` parameter to control this behavior.\n",
      "  _warn_prf(average, \"true nor predicted\", \"F-score is\", len(true_sum))\n",
      "【dev】 loss：25.187270 accuracy：0.0000 micro_f1：0.0000 macro_f1：0.0000\n"
     ]
    },
    {
     "name": "stdout",
     "output_type": "stream",
     "text": [
      "-----bert model output\n"
     ]
    },
    {
     "name": "stderr",
     "output_type": "stream",
     "text": [
      "【train】 epoch：2 step:128/630 loss：0.109196\n",
      "/opt/conda/lib/python3.7/site-packages/sklearn/metrics/_classification.py:1580: UndefinedMetricWarning: F-score is ill-defined and being set to 0.0 in labels with no true nor predicted samples. Use `zero_division` parameter to control this behavior.\n",
      "  _warn_prf(average, \"true nor predicted\", \"F-score is\", len(true_sum))\n",
      "【dev】 loss：24.949348 accuracy：0.0000 micro_f1：0.0000 macro_f1：0.0000\n"
     ]
    },
    {
     "name": "stdout",
     "output_type": "stream",
     "text": [
      "-----bert model output\n"
     ]
    },
    {
     "name": "stderr",
     "output_type": "stream",
     "text": [
      "【train】 epoch：2 step:129/630 loss：0.105067\n",
      "/opt/conda/lib/python3.7/site-packages/sklearn/metrics/_classification.py:1580: UndefinedMetricWarning: F-score is ill-defined and being set to 0.0 in labels with no true nor predicted samples. Use `zero_division` parameter to control this behavior.\n",
      "  _warn_prf(average, \"true nor predicted\", \"F-score is\", len(true_sum))\n",
      "【dev】 loss：24.712295 accuracy：0.0000 micro_f1：0.0000 macro_f1：0.0000\n"
     ]
    },
    {
     "name": "stdout",
     "output_type": "stream",
     "text": [
      "-----bert model output\n"
     ]
    },
    {
     "name": "stderr",
     "output_type": "stream",
     "text": [
      "【train】 epoch：2 step:130/630 loss：0.111275\n",
      "/opt/conda/lib/python3.7/site-packages/sklearn/metrics/_classification.py:1580: UndefinedMetricWarning: F-score is ill-defined and being set to 0.0 in labels with no true nor predicted samples. Use `zero_division` parameter to control this behavior.\n",
      "  _warn_prf(average, \"true nor predicted\", \"F-score is\", len(true_sum))\n",
      "【dev】 loss：24.482737 accuracy：0.0000 micro_f1：0.0000 macro_f1：0.0000\n"
     ]
    },
    {
     "name": "stdout",
     "output_type": "stream",
     "text": [
      "-----bert model output\n"
     ]
    },
    {
     "name": "stderr",
     "output_type": "stream",
     "text": [
      "【train】 epoch：2 step:131/630 loss：0.108246\n",
      "/opt/conda/lib/python3.7/site-packages/sklearn/metrics/_classification.py:1580: UndefinedMetricWarning: F-score is ill-defined and being set to 0.0 in labels with no true nor predicted samples. Use `zero_division` parameter to control this behavior.\n",
      "  _warn_prf(average, \"true nor predicted\", \"F-score is\", len(true_sum))\n",
      "【dev】 loss：24.263950 accuracy：0.0000 micro_f1：0.0000 macro_f1：0.0000\n"
     ]
    },
    {
     "name": "stdout",
     "output_type": "stream",
     "text": [
      "-----bert model output\n"
     ]
    },
    {
     "name": "stderr",
     "output_type": "stream",
     "text": [
      "【train】 epoch：2 step:132/630 loss：0.104881\n",
      "/opt/conda/lib/python3.7/site-packages/sklearn/metrics/_classification.py:1580: UndefinedMetricWarning: F-score is ill-defined and being set to 0.0 in labels with no true nor predicted samples. Use `zero_division` parameter to control this behavior.\n",
      "  _warn_prf(average, \"true nor predicted\", \"F-score is\", len(true_sum))\n",
      "【dev】 loss：24.053523 accuracy：0.0000 micro_f1：0.0000 macro_f1：0.0000\n"
     ]
    },
    {
     "name": "stdout",
     "output_type": "stream",
     "text": [
      "-----bert model output\n"
     ]
    },
    {
     "name": "stderr",
     "output_type": "stream",
     "text": [
      "【train】 epoch：2 step:133/630 loss：0.101669\n",
      "/opt/conda/lib/python3.7/site-packages/sklearn/metrics/_classification.py:1580: UndefinedMetricWarning: F-score is ill-defined and being set to 0.0 in labels with no true nor predicted samples. Use `zero_division` parameter to control this behavior.\n",
      "  _warn_prf(average, \"true nor predicted\", \"F-score is\", len(true_sum))\n",
      "【dev】 loss：23.835574 accuracy：0.0000 micro_f1：0.0000 macro_f1：0.0000\n"
     ]
    },
    {
     "name": "stdout",
     "output_type": "stream",
     "text": [
      "-----bert model output\n"
     ]
    },
    {
     "name": "stderr",
     "output_type": "stream",
     "text": [
      "【train】 epoch：2 step:134/630 loss：0.104534\n",
      "/opt/conda/lib/python3.7/site-packages/sklearn/metrics/_classification.py:1580: UndefinedMetricWarning: F-score is ill-defined and being set to 0.0 in labels with no true nor predicted samples. Use `zero_division` parameter to control this behavior.\n",
      "  _warn_prf(average, \"true nor predicted\", \"F-score is\", len(true_sum))\n",
      "【dev】 loss：23.620533 accuracy：0.0000 micro_f1：0.0000 macro_f1：0.0000\n"
     ]
    },
    {
     "name": "stdout",
     "output_type": "stream",
     "text": [
      "-----bert model output\n"
     ]
    },
    {
     "name": "stderr",
     "output_type": "stream",
     "text": [
      "【train】 epoch：2 step:135/630 loss：0.101023\n",
      "/opt/conda/lib/python3.7/site-packages/sklearn/metrics/_classification.py:1580: UndefinedMetricWarning: F-score is ill-defined and being set to 0.0 in labels with no true nor predicted samples. Use `zero_division` parameter to control this behavior.\n",
      "  _warn_prf(average, \"true nor predicted\", \"F-score is\", len(true_sum))\n",
      "【dev】 loss：23.408926 accuracy：0.0000 micro_f1：0.0000 macro_f1：0.0000\n"
     ]
    },
    {
     "name": "stdout",
     "output_type": "stream",
     "text": [
      "-----bert model output\n"
     ]
    },
    {
     "name": "stderr",
     "output_type": "stream",
     "text": [
      "【train】 epoch：2 step:136/630 loss：0.106818\n",
      "/opt/conda/lib/python3.7/site-packages/sklearn/metrics/_classification.py:1580: UndefinedMetricWarning: F-score is ill-defined and being set to 0.0 in labels with no true nor predicted samples. Use `zero_division` parameter to control this behavior.\n",
      "  _warn_prf(average, \"true nor predicted\", \"F-score is\", len(true_sum))\n",
      "【dev】 loss：23.199586 accuracy：0.0000 micro_f1：0.0000 macro_f1：0.0000\n"
     ]
    },
    {
     "name": "stdout",
     "output_type": "stream",
     "text": [
      "-----bert model output\n"
     ]
    },
    {
     "name": "stderr",
     "output_type": "stream",
     "text": [
      "【train】 epoch：2 step:137/630 loss：0.100786\n",
      "/opt/conda/lib/python3.7/site-packages/sklearn/metrics/_classification.py:1580: UndefinedMetricWarning: F-score is ill-defined and being set to 0.0 in labels with no true nor predicted samples. Use `zero_division` parameter to control this behavior.\n",
      "  _warn_prf(average, \"true nor predicted\", \"F-score is\", len(true_sum))\n",
      "【dev】 loss：22.994723 accuracy：0.0000 micro_f1：0.0000 macro_f1：0.0000\n"
     ]
    },
    {
     "name": "stdout",
     "output_type": "stream",
     "text": [
      "-----bert model output\n"
     ]
    },
    {
     "name": "stderr",
     "output_type": "stream",
     "text": [
      "【train】 epoch：2 step:138/630 loss：0.102422\n",
      "/opt/conda/lib/python3.7/site-packages/sklearn/metrics/_classification.py:1580: UndefinedMetricWarning: F-score is ill-defined and being set to 0.0 in labels with no true nor predicted samples. Use `zero_division` parameter to control this behavior.\n",
      "  _warn_prf(average, \"true nor predicted\", \"F-score is\", len(true_sum))\n",
      "【dev】 loss：22.798698 accuracy：0.0000 micro_f1：0.0000 macro_f1：0.0000\n"
     ]
    },
    {
     "name": "stdout",
     "output_type": "stream",
     "text": [
      "-----bert model output\n"
     ]
    },
    {
     "name": "stderr",
     "output_type": "stream",
     "text": [
      "【train】 epoch：2 step:139/630 loss：0.095812\n",
      "/opt/conda/lib/python3.7/site-packages/sklearn/metrics/_classification.py:1580: UndefinedMetricWarning: F-score is ill-defined and being set to 0.0 in labels with no true nor predicted samples. Use `zero_division` parameter to control this behavior.\n",
      "  _warn_prf(average, \"true nor predicted\", \"F-score is\", len(true_sum))\n",
      "【dev】 loss：22.607296 accuracy：0.0000 micro_f1：0.0000 macro_f1：0.0000\n"
     ]
    },
    {
     "name": "stdout",
     "output_type": "stream",
     "text": [
      "-----bert model output\n"
     ]
    },
    {
     "name": "stderr",
     "output_type": "stream",
     "text": [
      "【train】 epoch：2 step:140/630 loss：0.097535\n",
      "/opt/conda/lib/python3.7/site-packages/sklearn/metrics/_classification.py:1580: UndefinedMetricWarning: F-score is ill-defined and being set to 0.0 in labels with no true nor predicted samples. Use `zero_division` parameter to control this behavior.\n",
      "  _warn_prf(average, \"true nor predicted\", \"F-score is\", len(true_sum))\n",
      "【dev】 loss：22.414760 accuracy：0.0000 micro_f1：0.0000 macro_f1：0.0000\n"
     ]
    },
    {
     "name": "stdout",
     "output_type": "stream",
     "text": [
      "-----bert model output\n"
     ]
    },
    {
     "name": "stderr",
     "output_type": "stream",
     "text": [
      "【train】 epoch：2 step:141/630 loss：0.095162\n",
      "/opt/conda/lib/python3.7/site-packages/sklearn/metrics/_classification.py:1580: UndefinedMetricWarning: F-score is ill-defined and being set to 0.0 in labels with no true nor predicted samples. Use `zero_division` parameter to control this behavior.\n",
      "  _warn_prf(average, \"true nor predicted\", \"F-score is\", len(true_sum))\n",
      "【dev】 loss：22.225720 accuracy：0.0000 micro_f1：0.0000 macro_f1：0.0000\n"
     ]
    },
    {
     "name": "stdout",
     "output_type": "stream",
     "text": [
      "-----bert model output\n"
     ]
    },
    {
     "name": "stderr",
     "output_type": "stream",
     "text": [
      "【train】 epoch：2 step:142/630 loss：0.092873\n",
      "/opt/conda/lib/python3.7/site-packages/sklearn/metrics/_classification.py:1580: UndefinedMetricWarning: F-score is ill-defined and being set to 0.0 in labels with no true nor predicted samples. Use `zero_division` parameter to control this behavior.\n",
      "  _warn_prf(average, \"true nor predicted\", \"F-score is\", len(true_sum))\n",
      "【dev】 loss：22.050439 accuracy：0.0000 micro_f1：0.0000 macro_f1：0.0000\n"
     ]
    },
    {
     "name": "stdout",
     "output_type": "stream",
     "text": [
      "-----bert model output\n"
     ]
    },
    {
     "name": "stderr",
     "output_type": "stream",
     "text": [
      "【train】 epoch：2 step:143/630 loss：0.094257\n",
      "/opt/conda/lib/python3.7/site-packages/sklearn/metrics/_classification.py:1580: UndefinedMetricWarning: F-score is ill-defined and being set to 0.0 in labels with no true nor predicted samples. Use `zero_division` parameter to control this behavior.\n",
      "  _warn_prf(average, \"true nor predicted\", \"F-score is\", len(true_sum))\n",
      "【dev】 loss：21.887432 accuracy：0.0000 micro_f1：0.0000 macro_f1：0.0000\n"
     ]
    },
    {
     "name": "stdout",
     "output_type": "stream",
     "text": [
      "-----bert model output\n"
     ]
    },
    {
     "name": "stderr",
     "output_type": "stream",
     "text": [
      "【train】 epoch：2 step:144/630 loss：0.093967\n",
      "/opt/conda/lib/python3.7/site-packages/sklearn/metrics/_classification.py:1580: UndefinedMetricWarning: F-score is ill-defined and being set to 0.0 in labels with no true nor predicted samples. Use `zero_division` parameter to control this behavior.\n",
      "  _warn_prf(average, \"true nor predicted\", \"F-score is\", len(true_sum))\n",
      "【dev】 loss：21.733324 accuracy：0.0000 micro_f1：0.0000 macro_f1：0.0000\n"
     ]
    },
    {
     "name": "stdout",
     "output_type": "stream",
     "text": [
      "-----bert model output\n"
     ]
    },
    {
     "name": "stderr",
     "output_type": "stream",
     "text": [
      "【train】 epoch：2 step:145/630 loss：0.097741\n",
      "/opt/conda/lib/python3.7/site-packages/sklearn/metrics/_classification.py:1580: UndefinedMetricWarning: F-score is ill-defined and being set to 0.0 in labels with no true nor predicted samples. Use `zero_division` parameter to control this behavior.\n",
      "  _warn_prf(average, \"true nor predicted\", \"F-score is\", len(true_sum))\n",
      "【dev】 loss：21.570150 accuracy：0.0000 micro_f1：0.0000 macro_f1：0.0000\n"
     ]
    },
    {
     "name": "stdout",
     "output_type": "stream",
     "text": [
      "-----bert model output\n"
     ]
    },
    {
     "name": "stderr",
     "output_type": "stream",
     "text": [
      "【train】 epoch：2 step:146/630 loss：0.094766\n",
      "/opt/conda/lib/python3.7/site-packages/sklearn/metrics/_classification.py:1580: UndefinedMetricWarning: F-score is ill-defined and being set to 0.0 in labels with no true nor predicted samples. Use `zero_division` parameter to control this behavior.\n",
      "  _warn_prf(average, \"true nor predicted\", \"F-score is\", len(true_sum))\n",
      "【dev】 loss：21.392060 accuracy：0.0000 micro_f1：0.0000 macro_f1：0.0000\n"
     ]
    },
    {
     "name": "stdout",
     "output_type": "stream",
     "text": [
      "-----bert model output\n"
     ]
    },
    {
     "name": "stderr",
     "output_type": "stream",
     "text": [
      "【train】 epoch：2 step:147/630 loss：0.092678\n",
      "/opt/conda/lib/python3.7/site-packages/sklearn/metrics/_classification.py:1580: UndefinedMetricWarning: F-score is ill-defined and being set to 0.0 in labels with no true nor predicted samples. Use `zero_division` parameter to control this behavior.\n",
      "  _warn_prf(average, \"true nor predicted\", \"F-score is\", len(true_sum))\n",
      "【dev】 loss：21.203149 accuracy：0.0000 micro_f1：0.0000 macro_f1：0.0000\n"
     ]
    },
    {
     "name": "stdout",
     "output_type": "stream",
     "text": [
      "-----bert model output\n"
     ]
    },
    {
     "name": "stderr",
     "output_type": "stream",
     "text": [
      "【train】 epoch：2 step:148/630 loss：0.092208\n",
      "/opt/conda/lib/python3.7/site-packages/sklearn/metrics/_classification.py:1580: UndefinedMetricWarning: F-score is ill-defined and being set to 0.0 in labels with no true nor predicted samples. Use `zero_division` parameter to control this behavior.\n",
      "  _warn_prf(average, \"true nor predicted\", \"F-score is\", len(true_sum))\n",
      "【dev】 loss：21.022323 accuracy：0.0000 micro_f1：0.0000 macro_f1：0.0000\n"
     ]
    },
    {
     "name": "stdout",
     "output_type": "stream",
     "text": [
      "-----bert model output\n"
     ]
    },
    {
     "name": "stderr",
     "output_type": "stream",
     "text": [
      "【train】 epoch：2 step:149/630 loss：0.089664\n",
      "/opt/conda/lib/python3.7/site-packages/sklearn/metrics/_classification.py:1580: UndefinedMetricWarning: F-score is ill-defined and being set to 0.0 in labels with no true nor predicted samples. Use `zero_division` parameter to control this behavior.\n",
      "  _warn_prf(average, \"true nor predicted\", \"F-score is\", len(true_sum))\n",
      "【dev】 loss：20.848776 accuracy：0.0000 micro_f1：0.0000 macro_f1：0.0000\n"
     ]
    },
    {
     "name": "stdout",
     "output_type": "stream",
     "text": [
      "-----bert model output\n"
     ]
    },
    {
     "name": "stderr",
     "output_type": "stream",
     "text": [
      "【train】 epoch：2 step:150/630 loss：0.087654\n",
      "/opt/conda/lib/python3.7/site-packages/sklearn/metrics/_classification.py:1580: UndefinedMetricWarning: F-score is ill-defined and being set to 0.0 in labels with no true nor predicted samples. Use `zero_division` parameter to control this behavior.\n",
      "  _warn_prf(average, \"true nor predicted\", \"F-score is\", len(true_sum))\n",
      "【dev】 loss：20.687261 accuracy：0.0000 micro_f1：0.0000 macro_f1：0.0000\n"
     ]
    },
    {
     "name": "stdout",
     "output_type": "stream",
     "text": [
      "-----bert model output\n"
     ]
    },
    {
     "name": "stderr",
     "output_type": "stream",
     "text": [
      "【train】 epoch：2 step:151/630 loss：0.087361\n",
      "/opt/conda/lib/python3.7/site-packages/sklearn/metrics/_classification.py:1580: UndefinedMetricWarning: F-score is ill-defined and being set to 0.0 in labels with no true nor predicted samples. Use `zero_division` parameter to control this behavior.\n",
      "  _warn_prf(average, \"true nor predicted\", \"F-score is\", len(true_sum))\n",
      "【dev】 loss：20.535525 accuracy：0.0000 micro_f1：0.0000 macro_f1：0.0000\n"
     ]
    },
    {
     "name": "stdout",
     "output_type": "stream",
     "text": [
      "-----bert model output\n"
     ]
    },
    {
     "name": "stderr",
     "output_type": "stream",
     "text": [
      "【train】 epoch：2 step:152/630 loss：0.089996\n",
      "/opt/conda/lib/python3.7/site-packages/sklearn/metrics/_classification.py:1580: UndefinedMetricWarning: F-score is ill-defined and being set to 0.0 in labels with no true nor predicted samples. Use `zero_division` parameter to control this behavior.\n",
      "  _warn_prf(average, \"true nor predicted\", \"F-score is\", len(true_sum))\n",
      "【dev】 loss：20.383707 accuracy：0.0000 micro_f1：0.0000 macro_f1：0.0000\n"
     ]
    },
    {
     "name": "stdout",
     "output_type": "stream",
     "text": [
      "-----bert model output\n"
     ]
    },
    {
     "name": "stderr",
     "output_type": "stream",
     "text": [
      "【train】 epoch：2 step:153/630 loss：0.092120\n",
      "/opt/conda/lib/python3.7/site-packages/sklearn/metrics/_classification.py:1580: UndefinedMetricWarning: F-score is ill-defined and being set to 0.0 in labels with no true nor predicted samples. Use `zero_division` parameter to control this behavior.\n",
      "  _warn_prf(average, \"true nor predicted\", \"F-score is\", len(true_sum))\n",
      "【dev】 loss：20.230410 accuracy：0.0000 micro_f1：0.0000 macro_f1：0.0000\n"
     ]
    },
    {
     "name": "stdout",
     "output_type": "stream",
     "text": [
      "-----bert model output\n"
     ]
    },
    {
     "name": "stderr",
     "output_type": "stream",
     "text": [
      "【train】 epoch：2 step:154/630 loss：0.085580\n",
      "/opt/conda/lib/python3.7/site-packages/sklearn/metrics/_classification.py:1580: UndefinedMetricWarning: F-score is ill-defined and being set to 0.0 in labels with no true nor predicted samples. Use `zero_division` parameter to control this behavior.\n",
      "  _warn_prf(average, \"true nor predicted\", \"F-score is\", len(true_sum))\n",
      "【dev】 loss：20.079176 accuracy：0.0000 micro_f1：0.0000 macro_f1：0.0000\n"
     ]
    },
    {
     "name": "stdout",
     "output_type": "stream",
     "text": [
      "-----bert model output\n"
     ]
    },
    {
     "name": "stderr",
     "output_type": "stream",
     "text": [
      "【train】 epoch：2 step:155/630 loss：0.086981\n",
      "/opt/conda/lib/python3.7/site-packages/sklearn/metrics/_classification.py:1580: UndefinedMetricWarning: F-score is ill-defined and being set to 0.0 in labels with no true nor predicted samples. Use `zero_division` parameter to control this behavior.\n",
      "  _warn_prf(average, \"true nor predicted\", \"F-score is\", len(true_sum))\n",
      "【dev】 loss：19.929963 accuracy：0.0000 micro_f1：0.0000 macro_f1：0.0000\n"
     ]
    },
    {
     "name": "stdout",
     "output_type": "stream",
     "text": [
      "-----bert model output\n"
     ]
    },
    {
     "name": "stderr",
     "output_type": "stream",
     "text": [
      "【train】 epoch：2 step:156/630 loss：0.089218\n",
      "/opt/conda/lib/python3.7/site-packages/sklearn/metrics/_classification.py:1580: UndefinedMetricWarning: F-score is ill-defined and being set to 0.0 in labels with no true nor predicted samples. Use `zero_division` parameter to control this behavior.\n",
      "  _warn_prf(average, \"true nor predicted\", \"F-score is\", len(true_sum))\n",
      "【dev】 loss：19.786126 accuracy：0.0000 micro_f1：0.0000 macro_f1：0.0000\n"
     ]
    },
    {
     "name": "stdout",
     "output_type": "stream",
     "text": [
      "-----bert model output\n"
     ]
    },
    {
     "name": "stderr",
     "output_type": "stream",
     "text": [
      "【train】 epoch：2 step:157/630 loss：0.084440\n",
      "/opt/conda/lib/python3.7/site-packages/sklearn/metrics/_classification.py:1580: UndefinedMetricWarning: F-score is ill-defined and being set to 0.0 in labels with no true nor predicted samples. Use `zero_division` parameter to control this behavior.\n",
      "  _warn_prf(average, \"true nor predicted\", \"F-score is\", len(true_sum))\n",
      "【dev】 loss：19.648387 accuracy：0.0000 micro_f1：0.0000 macro_f1：0.0000\n"
     ]
    },
    {
     "name": "stdout",
     "output_type": "stream",
     "text": [
      "-----bert model output\n"
     ]
    },
    {
     "name": "stderr",
     "output_type": "stream",
     "text": [
      "【train】 epoch：2 step:158/630 loss：0.086234\n",
      "/opt/conda/lib/python3.7/site-packages/sklearn/metrics/_classification.py:1580: UndefinedMetricWarning: F-score is ill-defined and being set to 0.0 in labels with no true nor predicted samples. Use `zero_division` parameter to control this behavior.\n",
      "  _warn_prf(average, \"true nor predicted\", \"F-score is\", len(true_sum))\n",
      "【dev】 loss：19.515839 accuracy：0.0000 micro_f1：0.0000 macro_f1：0.0000\n"
     ]
    },
    {
     "name": "stdout",
     "output_type": "stream",
     "text": [
      "-----bert model output\n"
     ]
    },
    {
     "name": "stderr",
     "output_type": "stream",
     "text": [
      "【train】 epoch：2 step:159/630 loss：0.083533\n",
      "/opt/conda/lib/python3.7/site-packages/sklearn/metrics/_classification.py:1580: UndefinedMetricWarning: F-score is ill-defined and being set to 0.0 in labels with no true nor predicted samples. Use `zero_division` parameter to control this behavior.\n",
      "  _warn_prf(average, \"true nor predicted\", \"F-score is\", len(true_sum))\n",
      "【dev】 loss：19.383320 accuracy：0.0000 micro_f1：0.0000 macro_f1：0.0000\n"
     ]
    },
    {
     "name": "stdout",
     "output_type": "stream",
     "text": [
      "-----bert model output\n"
     ]
    },
    {
     "name": "stderr",
     "output_type": "stream",
     "text": [
      "【train】 epoch：2 step:160/630 loss：0.084845\n",
      "/opt/conda/lib/python3.7/site-packages/sklearn/metrics/_classification.py:1580: UndefinedMetricWarning: F-score is ill-defined and being set to 0.0 in labels with no true nor predicted samples. Use `zero_division` parameter to control this behavior.\n",
      "  _warn_prf(average, \"true nor predicted\", \"F-score is\", len(true_sum))\n",
      "【dev】 loss：19.252375 accuracy：0.0000 micro_f1：0.0000 macro_f1：0.0000\n"
     ]
    },
    {
     "name": "stdout",
     "output_type": "stream",
     "text": [
      "-----bert model output\n"
     ]
    },
    {
     "name": "stderr",
     "output_type": "stream",
     "text": [
      "【train】 epoch：2 step:161/630 loss：0.082639\n",
      "/opt/conda/lib/python3.7/site-packages/sklearn/metrics/_classification.py:1580: UndefinedMetricWarning: F-score is ill-defined and being set to 0.0 in labels with no true nor predicted samples. Use `zero_division` parameter to control this behavior.\n",
      "  _warn_prf(average, \"true nor predicted\", \"F-score is\", len(true_sum))\n",
      "【dev】 loss：19.119883 accuracy：0.0000 micro_f1：0.0000 macro_f1：0.0000\n"
     ]
    },
    {
     "name": "stdout",
     "output_type": "stream",
     "text": [
      "-----bert model output\n"
     ]
    },
    {
     "name": "stderr",
     "output_type": "stream",
     "text": [
      "【train】 epoch：2 step:162/630 loss：0.085460\n",
      "/opt/conda/lib/python3.7/site-packages/sklearn/metrics/_classification.py:1580: UndefinedMetricWarning: F-score is ill-defined and being set to 0.0 in labels with no true nor predicted samples. Use `zero_division` parameter to control this behavior.\n",
      "  _warn_prf(average, \"true nor predicted\", \"F-score is\", len(true_sum))\n",
      "【dev】 loss：18.987187 accuracy：0.0000 micro_f1：0.0000 macro_f1：0.0000\n"
     ]
    },
    {
     "name": "stdout",
     "output_type": "stream",
     "text": [
      "-----bert model output\n"
     ]
    },
    {
     "name": "stderr",
     "output_type": "stream",
     "text": [
      "【train】 epoch：2 step:163/630 loss：0.080015\n",
      "/opt/conda/lib/python3.7/site-packages/sklearn/metrics/_classification.py:1580: UndefinedMetricWarning: F-score is ill-defined and being set to 0.0 in labels with no true nor predicted samples. Use `zero_division` parameter to control this behavior.\n",
      "  _warn_prf(average, \"true nor predicted\", \"F-score is\", len(true_sum))\n",
      "【dev】 loss：18.853254 accuracy：0.0000 micro_f1：0.0000 macro_f1：0.0000\n"
     ]
    },
    {
     "name": "stdout",
     "output_type": "stream",
     "text": [
      "-----bert model output\n"
     ]
    },
    {
     "name": "stderr",
     "output_type": "stream",
     "text": [
      "【train】 epoch：2 step:164/630 loss：0.079662\n",
      "/opt/conda/lib/python3.7/site-packages/sklearn/metrics/_classification.py:1580: UndefinedMetricWarning: F-score is ill-defined and being set to 0.0 in labels with no true nor predicted samples. Use `zero_division` parameter to control this behavior.\n",
      "  _warn_prf(average, \"true nor predicted\", \"F-score is\", len(true_sum))\n",
      "【dev】 loss：18.721274 accuracy：0.0000 micro_f1：0.0000 macro_f1：0.0000\n"
     ]
    },
    {
     "name": "stdout",
     "output_type": "stream",
     "text": [
      "-----bert model output\n"
     ]
    },
    {
     "name": "stderr",
     "output_type": "stream",
     "text": [
      "【train】 epoch：2 step:165/630 loss：0.081727\n",
      "/opt/conda/lib/python3.7/site-packages/sklearn/metrics/_classification.py:1580: UndefinedMetricWarning: F-score is ill-defined and being set to 0.0 in labels with no true nor predicted samples. Use `zero_division` parameter to control this behavior.\n",
      "  _warn_prf(average, \"true nor predicted\", \"F-score is\", len(true_sum))\n",
      "【dev】 loss：18.594167 accuracy：0.0000 micro_f1：0.0000 macro_f1：0.0000\n"
     ]
    },
    {
     "name": "stdout",
     "output_type": "stream",
     "text": [
      "-----bert model output\n"
     ]
    },
    {
     "name": "stderr",
     "output_type": "stream",
     "text": [
      "【train】 epoch：2 step:166/630 loss：0.079058\n",
      "/opt/conda/lib/python3.7/site-packages/sklearn/metrics/_classification.py:1580: UndefinedMetricWarning: F-score is ill-defined and being set to 0.0 in labels with no true nor predicted samples. Use `zero_division` parameter to control this behavior.\n",
      "  _warn_prf(average, \"true nor predicted\", \"F-score is\", len(true_sum))\n",
      "【dev】 loss：18.470637 accuracy：0.0000 micro_f1：0.0000 macro_f1：0.0000\n"
     ]
    },
    {
     "name": "stdout",
     "output_type": "stream",
     "text": [
      "-----bert model output\n"
     ]
    },
    {
     "name": "stderr",
     "output_type": "stream",
     "text": [
      "【train】 epoch：2 step:167/630 loss：0.081982\n",
      "/opt/conda/lib/python3.7/site-packages/sklearn/metrics/_classification.py:1580: UndefinedMetricWarning: F-score is ill-defined and being set to 0.0 in labels with no true nor predicted samples. Use `zero_division` parameter to control this behavior.\n",
      "  _warn_prf(average, \"true nor predicted\", \"F-score is\", len(true_sum))\n",
      "【dev】 loss：18.348274 accuracy：0.0000 micro_f1：0.0000 macro_f1：0.0000\n"
     ]
    },
    {
     "name": "stdout",
     "output_type": "stream",
     "text": [
      "-----bert model output\n"
     ]
    },
    {
     "name": "stderr",
     "output_type": "stream",
     "text": [
      "【train】 epoch：2 step:168/630 loss：0.078143\n",
      "/opt/conda/lib/python3.7/site-packages/sklearn/metrics/_classification.py:1580: UndefinedMetricWarning: F-score is ill-defined and being set to 0.0 in labels with no true nor predicted samples. Use `zero_division` parameter to control this behavior.\n",
      "  _warn_prf(average, \"true nor predicted\", \"F-score is\", len(true_sum))\n",
      "【dev】 loss：18.228821 accuracy：0.0000 micro_f1：0.0000 macro_f1：0.0000\n"
     ]
    },
    {
     "name": "stdout",
     "output_type": "stream",
     "text": [
      "-----bert model output\n"
     ]
    },
    {
     "name": "stderr",
     "output_type": "stream",
     "text": [
      "【train】 epoch：2 step:169/630 loss：0.079976\n",
      "/opt/conda/lib/python3.7/site-packages/sklearn/metrics/_classification.py:1580: UndefinedMetricWarning: F-score is ill-defined and being set to 0.0 in labels with no true nor predicted samples. Use `zero_division` parameter to control this behavior.\n",
      "  _warn_prf(average, \"true nor predicted\", \"F-score is\", len(true_sum))\n",
      "【dev】 loss：18.111054 accuracy：0.0000 micro_f1：0.0000 macro_f1：0.0000\n"
     ]
    },
    {
     "name": "stdout",
     "output_type": "stream",
     "text": [
      "-----bert model output\n"
     ]
    },
    {
     "name": "stderr",
     "output_type": "stream",
     "text": [
      "【train】 epoch：2 step:170/630 loss：0.079270\n",
      "/opt/conda/lib/python3.7/site-packages/sklearn/metrics/_classification.py:1580: UndefinedMetricWarning: F-score is ill-defined and being set to 0.0 in labels with no true nor predicted samples. Use `zero_division` parameter to control this behavior.\n",
      "  _warn_prf(average, \"true nor predicted\", \"F-score is\", len(true_sum))\n",
      "【dev】 loss：17.995500 accuracy：0.0000 micro_f1：0.0000 macro_f1：0.0000\n"
     ]
    },
    {
     "name": "stdout",
     "output_type": "stream",
     "text": [
      "-----bert model output\n"
     ]
    },
    {
     "name": "stderr",
     "output_type": "stream",
     "text": [
      "【train】 epoch：2 step:171/630 loss：0.077542\n",
      "/opt/conda/lib/python3.7/site-packages/sklearn/metrics/_classification.py:1580: UndefinedMetricWarning: F-score is ill-defined and being set to 0.0 in labels with no true nor predicted samples. Use `zero_division` parameter to control this behavior.\n",
      "  _warn_prf(average, \"true nor predicted\", \"F-score is\", len(true_sum))\n",
      "【dev】 loss：17.882639 accuracy：0.0000 micro_f1：0.0000 macro_f1：0.0000\n"
     ]
    },
    {
     "name": "stdout",
     "output_type": "stream",
     "text": [
      "-----bert model output\n"
     ]
    },
    {
     "name": "stderr",
     "output_type": "stream",
     "text": [
      "【train】 epoch：2 step:172/630 loss：0.077077\n",
      "/opt/conda/lib/python3.7/site-packages/sklearn/metrics/_classification.py:1580: UndefinedMetricWarning: F-score is ill-defined and being set to 0.0 in labels with no true nor predicted samples. Use `zero_division` parameter to control this behavior.\n",
      "  _warn_prf(average, \"true nor predicted\", \"F-score is\", len(true_sum))\n",
      "【dev】 loss：17.774024 accuracy：0.0000 micro_f1：0.0000 macro_f1：0.0000\n"
     ]
    },
    {
     "name": "stdout",
     "output_type": "stream",
     "text": [
      "-----bert model output\n"
     ]
    },
    {
     "name": "stderr",
     "output_type": "stream",
     "text": [
      "【train】 epoch：2 step:173/630 loss：0.075707\n",
      "/opt/conda/lib/python3.7/site-packages/sklearn/metrics/_classification.py:1580: UndefinedMetricWarning: F-score is ill-defined and being set to 0.0 in labels with no true nor predicted samples. Use `zero_division` parameter to control this behavior.\n",
      "  _warn_prf(average, \"true nor predicted\", \"F-score is\", len(true_sum))\n",
      "【dev】 loss：17.664834 accuracy：0.0000 micro_f1：0.0000 macro_f1：0.0000\n"
     ]
    },
    {
     "name": "stdout",
     "output_type": "stream",
     "text": [
      "-----bert model output\n"
     ]
    },
    {
     "name": "stderr",
     "output_type": "stream",
     "text": [
      "【train】 epoch：2 step:174/630 loss：0.076685\n",
      "/opt/conda/lib/python3.7/site-packages/sklearn/metrics/_classification.py:1580: UndefinedMetricWarning: F-score is ill-defined and being set to 0.0 in labels with no true nor predicted samples. Use `zero_division` parameter to control this behavior.\n",
      "  _warn_prf(average, \"true nor predicted\", \"F-score is\", len(true_sum))\n",
      "【dev】 loss：17.557989 accuracy：0.0000 micro_f1：0.0000 macro_f1：0.0000\n"
     ]
    },
    {
     "name": "stdout",
     "output_type": "stream",
     "text": [
      "-----bert model output\n"
     ]
    },
    {
     "name": "stderr",
     "output_type": "stream",
     "text": [
      "【train】 epoch：2 step:175/630 loss：0.077277\n",
      "/opt/conda/lib/python3.7/site-packages/sklearn/metrics/_classification.py:1580: UndefinedMetricWarning: F-score is ill-defined and being set to 0.0 in labels with no true nor predicted samples. Use `zero_division` parameter to control this behavior.\n",
      "  _warn_prf(average, \"true nor predicted\", \"F-score is\", len(true_sum))\n",
      "【dev】 loss：17.451966 accuracy：0.0000 micro_f1：0.0000 macro_f1：0.0000\n"
     ]
    },
    {
     "name": "stdout",
     "output_type": "stream",
     "text": [
      "-----bert model output\n"
     ]
    },
    {
     "name": "stderr",
     "output_type": "stream",
     "text": [
      "【train】 epoch：2 step:176/630 loss：0.077669\n",
      "/opt/conda/lib/python3.7/site-packages/sklearn/metrics/_classification.py:1580: UndefinedMetricWarning: F-score is ill-defined and being set to 0.0 in labels with no true nor predicted samples. Use `zero_division` parameter to control this behavior.\n",
      "  _warn_prf(average, \"true nor predicted\", \"F-score is\", len(true_sum))\n",
      "【dev】 loss：17.345544 accuracy：0.0000 micro_f1：0.0000 macro_f1：0.0000\n"
     ]
    },
    {
     "name": "stdout",
     "output_type": "stream",
     "text": [
      "-----bert model output\n"
     ]
    },
    {
     "name": "stderr",
     "output_type": "stream",
     "text": [
      "【train】 epoch：2 step:177/630 loss：0.073377\n",
      "/opt/conda/lib/python3.7/site-packages/sklearn/metrics/_classification.py:1580: UndefinedMetricWarning: F-score is ill-defined and being set to 0.0 in labels with no true nor predicted samples. Use `zero_division` parameter to control this behavior.\n",
      "  _warn_prf(average, \"true nor predicted\", \"F-score is\", len(true_sum))\n",
      "【dev】 loss：17.240396 accuracy：0.0000 micro_f1：0.0000 macro_f1：0.0000\n"
     ]
    },
    {
     "name": "stdout",
     "output_type": "stream",
     "text": [
      "-----bert model output\n"
     ]
    },
    {
     "name": "stderr",
     "output_type": "stream",
     "text": [
      "【train】 epoch：2 step:178/630 loss：0.071764\n",
      "/opt/conda/lib/python3.7/site-packages/sklearn/metrics/_classification.py:1580: UndefinedMetricWarning: F-score is ill-defined and being set to 0.0 in labels with no true nor predicted samples. Use `zero_division` parameter to control this behavior.\n",
      "  _warn_prf(average, \"true nor predicted\", \"F-score is\", len(true_sum))\n",
      "【dev】 loss：17.136568 accuracy：0.0000 micro_f1：0.0000 macro_f1：0.0000\n"
     ]
    },
    {
     "name": "stdout",
     "output_type": "stream",
     "text": [
      "-----bert model output\n"
     ]
    },
    {
     "name": "stderr",
     "output_type": "stream",
     "text": [
      "【train】 epoch：2 step:179/630 loss：0.075226\n",
      "/opt/conda/lib/python3.7/site-packages/sklearn/metrics/_classification.py:1580: UndefinedMetricWarning: F-score is ill-defined and being set to 0.0 in labels with no true nor predicted samples. Use `zero_division` parameter to control this behavior.\n",
      "  _warn_prf(average, \"true nor predicted\", \"F-score is\", len(true_sum))\n",
      "【dev】 loss：17.034036 accuracy：0.0000 micro_f1：0.0000 macro_f1：0.0000\n"
     ]
    },
    {
     "name": "stdout",
     "output_type": "stream",
     "text": [
      "-----bert model output\n"
     ]
    },
    {
     "name": "stderr",
     "output_type": "stream",
     "text": [
      "【train】 epoch：2 step:180/630 loss：0.073768\n",
      "/opt/conda/lib/python3.7/site-packages/sklearn/metrics/_classification.py:1580: UndefinedMetricWarning: F-score is ill-defined and being set to 0.0 in labels with no true nor predicted samples. Use `zero_division` parameter to control this behavior.\n",
      "  _warn_prf(average, \"true nor predicted\", \"F-score is\", len(true_sum))\n",
      "【dev】 loss：16.934456 accuracy：0.0000 micro_f1：0.0000 macro_f1：0.0000\n"
     ]
    },
    {
     "name": "stdout",
     "output_type": "stream",
     "text": [
      "-----bert model output\n"
     ]
    },
    {
     "name": "stderr",
     "output_type": "stream",
     "text": [
      "【train】 epoch：2 step:181/630 loss：0.077422\n",
      "/opt/conda/lib/python3.7/site-packages/sklearn/metrics/_classification.py:1580: UndefinedMetricWarning: F-score is ill-defined and being set to 0.0 in labels with no true nor predicted samples. Use `zero_division` parameter to control this behavior.\n",
      "  _warn_prf(average, \"true nor predicted\", \"F-score is\", len(true_sum))\n",
      "【dev】 loss：16.837313 accuracy：0.0000 micro_f1：0.0000 macro_f1：0.0000\n"
     ]
    },
    {
     "name": "stdout",
     "output_type": "stream",
     "text": [
      "-----bert model output\n"
     ]
    },
    {
     "name": "stderr",
     "output_type": "stream",
     "text": [
      "【train】 epoch：2 step:182/630 loss：0.070373\n",
      "/opt/conda/lib/python3.7/site-packages/sklearn/metrics/_classification.py:1580: UndefinedMetricWarning: F-score is ill-defined and being set to 0.0 in labels with no true nor predicted samples. Use `zero_division` parameter to control this behavior.\n",
      "  _warn_prf(average, \"true nor predicted\", \"F-score is\", len(true_sum))\n",
      "【dev】 loss：16.740849 accuracy：0.0000 micro_f1：0.0000 macro_f1：0.0000\n"
     ]
    },
    {
     "name": "stdout",
     "output_type": "stream",
     "text": [
      "-----bert model output\n"
     ]
    },
    {
     "name": "stderr",
     "output_type": "stream",
     "text": [
      "【train】 epoch：2 step:183/630 loss：0.073345\n",
      "/opt/conda/lib/python3.7/site-packages/sklearn/metrics/_classification.py:1580: UndefinedMetricWarning: F-score is ill-defined and being set to 0.0 in labels with no true nor predicted samples. Use `zero_division` parameter to control this behavior.\n",
      "  _warn_prf(average, \"true nor predicted\", \"F-score is\", len(true_sum))\n",
      "【dev】 loss：16.646132 accuracy：0.0000 micro_f1：0.0000 macro_f1：0.0000\n"
     ]
    },
    {
     "name": "stdout",
     "output_type": "stream",
     "text": [
      "-----bert model output\n"
     ]
    },
    {
     "name": "stderr",
     "output_type": "stream",
     "text": [
      "【train】 epoch：2 step:184/630 loss：0.073155\n",
      "/opt/conda/lib/python3.7/site-packages/sklearn/metrics/_classification.py:1580: UndefinedMetricWarning: F-score is ill-defined and being set to 0.0 in labels with no true nor predicted samples. Use `zero_division` parameter to control this behavior.\n",
      "  _warn_prf(average, \"true nor predicted\", \"F-score is\", len(true_sum))\n",
      "【dev】 loss：16.553358 accuracy：0.0000 micro_f1：0.0000 macro_f1：0.0000\n"
     ]
    },
    {
     "name": "stdout",
     "output_type": "stream",
     "text": [
      "-----bert model output\n"
     ]
    },
    {
     "name": "stderr",
     "output_type": "stream",
     "text": [
      "【train】 epoch：2 step:185/630 loss：0.072270\n",
      "/opt/conda/lib/python3.7/site-packages/sklearn/metrics/_classification.py:1580: UndefinedMetricWarning: F-score is ill-defined and being set to 0.0 in labels with no true nor predicted samples. Use `zero_division` parameter to control this behavior.\n",
      "  _warn_prf(average, \"true nor predicted\", \"F-score is\", len(true_sum))\n",
      "【dev】 loss：16.463466 accuracy：0.0000 micro_f1：0.0000 macro_f1：0.0000\n"
     ]
    },
    {
     "name": "stdout",
     "output_type": "stream",
     "text": [
      "-----bert model output\n"
     ]
    },
    {
     "name": "stderr",
     "output_type": "stream",
     "text": [
      "【train】 epoch：2 step:186/630 loss：0.072550\n",
      "/opt/conda/lib/python3.7/site-packages/sklearn/metrics/_classification.py:1580: UndefinedMetricWarning: F-score is ill-defined and being set to 0.0 in labels with no true nor predicted samples. Use `zero_division` parameter to control this behavior.\n",
      "  _warn_prf(average, \"true nor predicted\", \"F-score is\", len(true_sum))\n",
      "【dev】 loss：16.374341 accuracy：0.0000 micro_f1：0.0000 macro_f1：0.0000\n"
     ]
    },
    {
     "name": "stdout",
     "output_type": "stream",
     "text": [
      "-----bert model output\n"
     ]
    },
    {
     "name": "stderr",
     "output_type": "stream",
     "text": [
      "【train】 epoch：2 step:187/630 loss：0.069939\n",
      "/opt/conda/lib/python3.7/site-packages/sklearn/metrics/_classification.py:1580: UndefinedMetricWarning: F-score is ill-defined and being set to 0.0 in labels with no true nor predicted samples. Use `zero_division` parameter to control this behavior.\n",
      "  _warn_prf(average, \"true nor predicted\", \"F-score is\", len(true_sum))\n",
      "【dev】 loss：16.285761 accuracy：0.0000 micro_f1：0.0000 macro_f1：0.0000\n",
      "【train】 epoch：2 step:188/630 loss：0.070303\n"
     ]
    },
    {
     "name": "stdout",
     "output_type": "stream",
     "text": [
      "-----bert model output\n"
     ]
    },
    {
     "name": "stderr",
     "output_type": "stream",
     "text": [
      "/opt/conda/lib/python3.7/site-packages/sklearn/metrics/_classification.py:1580: UndefinedMetricWarning: F-score is ill-defined and being set to 0.0 in labels with no true nor predicted samples. Use `zero_division` parameter to control this behavior.\n",
      "  _warn_prf(average, \"true nor predicted\", \"F-score is\", len(true_sum))\n",
      "【dev】 loss：16.196300 accuracy：0.0000 micro_f1：0.0000 macro_f1：0.0000\n"
     ]
    },
    {
     "name": "stdout",
     "output_type": "stream",
     "text": [
      "-----bert model output\n"
     ]
    },
    {
     "name": "stderr",
     "output_type": "stream",
     "text": [
      "【train】 epoch：3 step:189/630 loss：0.070003\n",
      "/opt/conda/lib/python3.7/site-packages/sklearn/metrics/_classification.py:1580: UndefinedMetricWarning: F-score is ill-defined and being set to 0.0 in labels with no true nor predicted samples. Use `zero_division` parameter to control this behavior.\n",
      "  _warn_prf(average, \"true nor predicted\", \"F-score is\", len(true_sum))\n",
      "【dev】 loss：16.105807 accuracy：0.0000 micro_f1：0.0000 macro_f1：0.0000\n"
     ]
    },
    {
     "name": "stdout",
     "output_type": "stream",
     "text": [
      "-----bert model output\n"
     ]
    },
    {
     "name": "stderr",
     "output_type": "stream",
     "text": [
      "【train】 epoch：3 step:190/630 loss：0.067289\n",
      "/opt/conda/lib/python3.7/site-packages/sklearn/metrics/_classification.py:1580: UndefinedMetricWarning: F-score is ill-defined and being set to 0.0 in labels with no true nor predicted samples. Use `zero_division` parameter to control this behavior.\n",
      "  _warn_prf(average, \"true nor predicted\", \"F-score is\", len(true_sum))\n",
      "【dev】 loss：16.018184 accuracy：0.0000 micro_f1：0.0000 macro_f1：0.0000\n"
     ]
    },
    {
     "name": "stdout",
     "output_type": "stream",
     "text": [
      "-----bert model output\n"
     ]
    },
    {
     "name": "stderr",
     "output_type": "stream",
     "text": [
      "【train】 epoch：3 step:191/630 loss：0.069183\n",
      "/opt/conda/lib/python3.7/site-packages/sklearn/metrics/_classification.py:1580: UndefinedMetricWarning: F-score is ill-defined and being set to 0.0 in labels with no true nor predicted samples. Use `zero_division` parameter to control this behavior.\n",
      "  _warn_prf(average, \"true nor predicted\", \"F-score is\", len(true_sum))\n",
      "【dev】 loss：15.932541 accuracy：0.0000 micro_f1：0.0000 macro_f1：0.0000\n"
     ]
    },
    {
     "name": "stdout",
     "output_type": "stream",
     "text": [
      "-----bert model output\n"
     ]
    },
    {
     "name": "stderr",
     "output_type": "stream",
     "text": [
      "【train】 epoch：3 step:192/630 loss：0.066649\n",
      "/opt/conda/lib/python3.7/site-packages/sklearn/metrics/_classification.py:1580: UndefinedMetricWarning: F-score is ill-defined and being set to 0.0 in labels with no true nor predicted samples. Use `zero_division` parameter to control this behavior.\n",
      "  _warn_prf(average, \"true nor predicted\", \"F-score is\", len(true_sum))\n",
      "【dev】 loss：15.848995 accuracy：0.0000 micro_f1：0.0000 macro_f1：0.0000\n"
     ]
    },
    {
     "name": "stdout",
     "output_type": "stream",
     "text": [
      "-----bert model output\n"
     ]
    },
    {
     "name": "stderr",
     "output_type": "stream",
     "text": [
      "【train】 epoch：3 step:193/630 loss：0.074369\n",
      "/opt/conda/lib/python3.7/site-packages/sklearn/metrics/_classification.py:1580: UndefinedMetricWarning: F-score is ill-defined and being set to 0.0 in labels with no true nor predicted samples. Use `zero_division` parameter to control this behavior.\n",
      "  _warn_prf(average, \"true nor predicted\", \"F-score is\", len(true_sum))\n",
      "【dev】 loss：15.767464 accuracy：0.0000 micro_f1：0.0000 macro_f1：0.0000\n"
     ]
    },
    {
     "name": "stdout",
     "output_type": "stream",
     "text": [
      "-----bert model output\n"
     ]
    },
    {
     "name": "stderr",
     "output_type": "stream",
     "text": [
      "【train】 epoch：3 step:194/630 loss：0.071336\n",
      "/opt/conda/lib/python3.7/site-packages/sklearn/metrics/_classification.py:1580: UndefinedMetricWarning: F-score is ill-defined and being set to 0.0 in labels with no true nor predicted samples. Use `zero_division` parameter to control this behavior.\n",
      "  _warn_prf(average, \"true nor predicted\", \"F-score is\", len(true_sum))\n",
      "【dev】 loss：15.687021 accuracy：0.0000 micro_f1：0.0000 macro_f1：0.0000\n"
     ]
    },
    {
     "name": "stdout",
     "output_type": "stream",
     "text": [
      "-----bert model output\n"
     ]
    },
    {
     "name": "stderr",
     "output_type": "stream",
     "text": [
      "【train】 epoch：3 step:195/630 loss：0.066009\n",
      "/opt/conda/lib/python3.7/site-packages/sklearn/metrics/_classification.py:1580: UndefinedMetricWarning: F-score is ill-defined and being set to 0.0 in labels with no true nor predicted samples. Use `zero_division` parameter to control this behavior.\n",
      "  _warn_prf(average, \"true nor predicted\", \"F-score is\", len(true_sum))\n",
      "【dev】 loss：15.607427 accuracy：0.0000 micro_f1：0.0000 macro_f1：0.0000\n"
     ]
    },
    {
     "name": "stdout",
     "output_type": "stream",
     "text": [
      "-----bert model output\n"
     ]
    },
    {
     "name": "stderr",
     "output_type": "stream",
     "text": [
      "【train】 epoch：3 step:196/630 loss：0.066086\n",
      "/opt/conda/lib/python3.7/site-packages/sklearn/metrics/_classification.py:1580: UndefinedMetricWarning: F-score is ill-defined and being set to 0.0 in labels with no true nor predicted samples. Use `zero_division` parameter to control this behavior.\n",
      "  _warn_prf(average, \"true nor predicted\", \"F-score is\", len(true_sum))\n",
      "【dev】 loss：15.528980 accuracy：0.0000 micro_f1：0.0000 macro_f1：0.0000\n"
     ]
    },
    {
     "name": "stdout",
     "output_type": "stream",
     "text": [
      "-----bert model output\n"
     ]
    },
    {
     "name": "stderr",
     "output_type": "stream",
     "text": [
      "【train】 epoch：3 step:197/630 loss：0.068733\n",
      "/opt/conda/lib/python3.7/site-packages/sklearn/metrics/_classification.py:1580: UndefinedMetricWarning: F-score is ill-defined and being set to 0.0 in labels with no true nor predicted samples. Use `zero_division` parameter to control this behavior.\n",
      "  _warn_prf(average, \"true nor predicted\", \"F-score is\", len(true_sum))\n",
      "【dev】 loss：15.452454 accuracy：0.0000 micro_f1：0.0000 macro_f1：0.0000\n"
     ]
    },
    {
     "name": "stdout",
     "output_type": "stream",
     "text": [
      "-----bert model output\n"
     ]
    },
    {
     "name": "stderr",
     "output_type": "stream",
     "text": [
      "【train】 epoch：3 step:198/630 loss：0.066343\n",
      "/opt/conda/lib/python3.7/site-packages/sklearn/metrics/_classification.py:1580: UndefinedMetricWarning: F-score is ill-defined and being set to 0.0 in labels with no true nor predicted samples. Use `zero_division` parameter to control this behavior.\n",
      "  _warn_prf(average, \"true nor predicted\", \"F-score is\", len(true_sum))\n",
      "【dev】 loss：15.376583 accuracy：0.0000 micro_f1：0.0000 macro_f1：0.0000\n"
     ]
    },
    {
     "name": "stdout",
     "output_type": "stream",
     "text": [
      "-----bert model output\n"
     ]
    },
    {
     "name": "stderr",
     "output_type": "stream",
     "text": [
      "【train】 epoch：3 step:199/630 loss：0.072077\n",
      "/opt/conda/lib/python3.7/site-packages/sklearn/metrics/_classification.py:1580: UndefinedMetricWarning: F-score is ill-defined and being set to 0.0 in labels with no true nor predicted samples. Use `zero_division` parameter to control this behavior.\n",
      "  _warn_prf(average, \"true nor predicted\", \"F-score is\", len(true_sum))\n",
      "【dev】 loss：15.301654 accuracy：0.0000 micro_f1：0.0000 macro_f1：0.0000\n"
     ]
    },
    {
     "name": "stdout",
     "output_type": "stream",
     "text": [
      "-----bert model output\n"
     ]
    },
    {
     "name": "stderr",
     "output_type": "stream",
     "text": [
      "【train】 epoch：3 step:200/630 loss：0.066323\n",
      "/opt/conda/lib/python3.7/site-packages/sklearn/metrics/_classification.py:1580: UndefinedMetricWarning: F-score is ill-defined and being set to 0.0 in labels with no true nor predicted samples. Use `zero_division` parameter to control this behavior.\n",
      "  _warn_prf(average, \"true nor predicted\", \"F-score is\", len(true_sum))\n",
      "【dev】 loss：15.227569 accuracy：0.0000 micro_f1：0.0000 macro_f1：0.0000\n"
     ]
    },
    {
     "name": "stdout",
     "output_type": "stream",
     "text": [
      "-----bert model output\n"
     ]
    },
    {
     "name": "stderr",
     "output_type": "stream",
     "text": [
      "【train】 epoch：3 step:201/630 loss：0.069887\n",
      "/opt/conda/lib/python3.7/site-packages/sklearn/metrics/_classification.py:1580: UndefinedMetricWarning: F-score is ill-defined and being set to 0.0 in labels with no true nor predicted samples. Use `zero_division` parameter to control this behavior.\n",
      "  _warn_prf(average, \"true nor predicted\", \"F-score is\", len(true_sum))\n",
      "【dev】 loss：15.153991 accuracy：0.0000 micro_f1：0.0000 macro_f1：0.0000\n"
     ]
    },
    {
     "name": "stdout",
     "output_type": "stream",
     "text": [
      "-----bert model output\n"
     ]
    },
    {
     "name": "stderr",
     "output_type": "stream",
     "text": [
      "【train】 epoch：3 step:202/630 loss：0.065019\n",
      "/opt/conda/lib/python3.7/site-packages/sklearn/metrics/_classification.py:1580: UndefinedMetricWarning: F-score is ill-defined and being set to 0.0 in labels with no true nor predicted samples. Use `zero_division` parameter to control this behavior.\n",
      "  _warn_prf(average, \"true nor predicted\", \"F-score is\", len(true_sum))\n",
      "【dev】 loss：15.081009 accuracy：0.0000 micro_f1：0.0000 macro_f1：0.0000\n"
     ]
    },
    {
     "name": "stdout",
     "output_type": "stream",
     "text": [
      "-----bert model output\n"
     ]
    },
    {
     "name": "stderr",
     "output_type": "stream",
     "text": [
      "【train】 epoch：3 step:203/630 loss：0.065768\n",
      "/opt/conda/lib/python3.7/site-packages/sklearn/metrics/_classification.py:1580: UndefinedMetricWarning: F-score is ill-defined and being set to 0.0 in labels with no true nor predicted samples. Use `zero_division` parameter to control this behavior.\n",
      "  _warn_prf(average, \"true nor predicted\", \"F-score is\", len(true_sum))\n",
      "【dev】 loss：15.008549 accuracy：0.0000 micro_f1：0.0000 macro_f1：0.0000\n"
     ]
    },
    {
     "name": "stdout",
     "output_type": "stream",
     "text": [
      "-----bert model output\n"
     ]
    },
    {
     "name": "stderr",
     "output_type": "stream",
     "text": [
      "【train】 epoch：3 step:204/630 loss：0.062191\n",
      "/opt/conda/lib/python3.7/site-packages/sklearn/metrics/_classification.py:1580: UndefinedMetricWarning: F-score is ill-defined and being set to 0.0 in labels with no true nor predicted samples. Use `zero_division` parameter to control this behavior.\n",
      "  _warn_prf(average, \"true nor predicted\", \"F-score is\", len(true_sum))\n",
      "【dev】 loss：14.938526 accuracy：0.0000 micro_f1：0.0000 macro_f1：0.0000\n"
     ]
    },
    {
     "name": "stdout",
     "output_type": "stream",
     "text": [
      "-----bert model output\n"
     ]
    },
    {
     "name": "stderr",
     "output_type": "stream",
     "text": [
      "【train】 epoch：3 step:205/630 loss：0.063712\n",
      "/opt/conda/lib/python3.7/site-packages/sklearn/metrics/_classification.py:1580: UndefinedMetricWarning: F-score is ill-defined and being set to 0.0 in labels with no true nor predicted samples. Use `zero_division` parameter to control this behavior.\n",
      "  _warn_prf(average, \"true nor predicted\", \"F-score is\", len(true_sum))\n",
      "【dev】 loss：14.869343 accuracy：0.0000 micro_f1：0.0000 macro_f1：0.0000\n"
     ]
    },
    {
     "name": "stdout",
     "output_type": "stream",
     "text": [
      "-----bert model output\n"
     ]
    },
    {
     "name": "stderr",
     "output_type": "stream",
     "text": [
      "【train】 epoch：3 step:206/630 loss：0.064246\n",
      "/opt/conda/lib/python3.7/site-packages/sklearn/metrics/_classification.py:1580: UndefinedMetricWarning: F-score is ill-defined and being set to 0.0 in labels with no true nor predicted samples. Use `zero_division` parameter to control this behavior.\n",
      "  _warn_prf(average, \"true nor predicted\", \"F-score is\", len(true_sum))\n",
      "【dev】 loss：14.799629 accuracy：0.0000 micro_f1：0.0000 macro_f1：0.0000\n"
     ]
    },
    {
     "name": "stdout",
     "output_type": "stream",
     "text": [
      "-----bert model output\n"
     ]
    },
    {
     "name": "stderr",
     "output_type": "stream",
     "text": [
      "【train】 epoch：3 step:207/630 loss：0.064813\n",
      "/opt/conda/lib/python3.7/site-packages/sklearn/metrics/_classification.py:1580: UndefinedMetricWarning: F-score is ill-defined and being set to 0.0 in labels with no true nor predicted samples. Use `zero_division` parameter to control this behavior.\n",
      "  _warn_prf(average, \"true nor predicted\", \"F-score is\", len(true_sum))\n",
      "【dev】 loss：14.730609 accuracy：0.0000 micro_f1：0.0000 macro_f1：0.0000\n"
     ]
    },
    {
     "name": "stdout",
     "output_type": "stream",
     "text": [
      "-----bert model output\n"
     ]
    },
    {
     "name": "stderr",
     "output_type": "stream",
     "text": [
      "【train】 epoch：3 step:208/630 loss：0.067571\n",
      "/opt/conda/lib/python3.7/site-packages/sklearn/metrics/_classification.py:1580: UndefinedMetricWarning: F-score is ill-defined and being set to 0.0 in labels with no true nor predicted samples. Use `zero_division` parameter to control this behavior.\n",
      "  _warn_prf(average, \"true nor predicted\", \"F-score is\", len(true_sum))\n",
      "【dev】 loss：14.663004 accuracy：0.0000 micro_f1：0.0000 macro_f1：0.0000\n"
     ]
    },
    {
     "name": "stdout",
     "output_type": "stream",
     "text": [
      "-----bert model output\n"
     ]
    },
    {
     "name": "stderr",
     "output_type": "stream",
     "text": [
      "【train】 epoch：3 step:209/630 loss：0.063411\n",
      "/opt/conda/lib/python3.7/site-packages/sklearn/metrics/_classification.py:1580: UndefinedMetricWarning: F-score is ill-defined and being set to 0.0 in labels with no true nor predicted samples. Use `zero_division` parameter to control this behavior.\n",
      "  _warn_prf(average, \"true nor predicted\", \"F-score is\", len(true_sum))\n",
      "【dev】 loss：14.596626 accuracy：0.0000 micro_f1：0.0000 macro_f1：0.0000\n"
     ]
    },
    {
     "name": "stdout",
     "output_type": "stream",
     "text": [
      "-----bert model output\n"
     ]
    },
    {
     "name": "stderr",
     "output_type": "stream",
     "text": [
      "【train】 epoch：3 step:210/630 loss：0.062439\n",
      "/opt/conda/lib/python3.7/site-packages/sklearn/metrics/_classification.py:1580: UndefinedMetricWarning: F-score is ill-defined and being set to 0.0 in labels with no true nor predicted samples. Use `zero_division` parameter to control this behavior.\n",
      "  _warn_prf(average, \"true nor predicted\", \"F-score is\", len(true_sum))\n",
      "【dev】 loss：14.531123 accuracy：0.0000 micro_f1：0.0000 macro_f1：0.0000\n"
     ]
    },
    {
     "name": "stdout",
     "output_type": "stream",
     "text": [
      "-----bert model output\n"
     ]
    },
    {
     "name": "stderr",
     "output_type": "stream",
     "text": [
      "【train】 epoch：3 step:211/630 loss：0.064149\n",
      "/opt/conda/lib/python3.7/site-packages/sklearn/metrics/_classification.py:1580: UndefinedMetricWarning: F-score is ill-defined and being set to 0.0 in labels with no true nor predicted samples. Use `zero_division` parameter to control this behavior.\n",
      "  _warn_prf(average, \"true nor predicted\", \"F-score is\", len(true_sum))\n",
      "【dev】 loss：14.466575 accuracy：0.0000 micro_f1：0.0000 macro_f1：0.0000\n"
     ]
    },
    {
     "name": "stdout",
     "output_type": "stream",
     "text": [
      "-----bert model output\n"
     ]
    },
    {
     "name": "stderr",
     "output_type": "stream",
     "text": [
      "【train】 epoch：3 step:212/630 loss：0.062348\n",
      "/opt/conda/lib/python3.7/site-packages/sklearn/metrics/_classification.py:1580: UndefinedMetricWarning: F-score is ill-defined and being set to 0.0 in labels with no true nor predicted samples. Use `zero_division` parameter to control this behavior.\n",
      "  _warn_prf(average, \"true nor predicted\", \"F-score is\", len(true_sum))\n",
      "【dev】 loss：14.403321 accuracy：0.0000 micro_f1：0.0000 macro_f1：0.0000\n"
     ]
    },
    {
     "name": "stdout",
     "output_type": "stream",
     "text": [
      "-----bert model output\n"
     ]
    },
    {
     "name": "stderr",
     "output_type": "stream",
     "text": [
      "【train】 epoch：3 step:213/630 loss：0.059918\n",
      "/opt/conda/lib/python3.7/site-packages/sklearn/metrics/_classification.py:1580: UndefinedMetricWarning: F-score is ill-defined and being set to 0.0 in labels with no true nor predicted samples. Use `zero_division` parameter to control this behavior.\n",
      "  _warn_prf(average, \"true nor predicted\", \"F-score is\", len(true_sum))\n",
      "【dev】 loss：14.340386 accuracy：0.0000 micro_f1：0.0000 macro_f1：0.0000\n"
     ]
    },
    {
     "name": "stdout",
     "output_type": "stream",
     "text": [
      "-----bert model output\n"
     ]
    },
    {
     "name": "stderr",
     "output_type": "stream",
     "text": [
      "【train】 epoch：3 step:214/630 loss：0.062034\n",
      "/opt/conda/lib/python3.7/site-packages/sklearn/metrics/_classification.py:1580: UndefinedMetricWarning: F-score is ill-defined and being set to 0.0 in labels with no true nor predicted samples. Use `zero_division` parameter to control this behavior.\n",
      "  _warn_prf(average, \"true nor predicted\", \"F-score is\", len(true_sum))\n",
      "【dev】 loss：14.277968 accuracy：0.0000 micro_f1：0.0000 macro_f1：0.0000\n"
     ]
    },
    {
     "name": "stdout",
     "output_type": "stream",
     "text": [
      "-----bert model output\n"
     ]
    },
    {
     "name": "stderr",
     "output_type": "stream",
     "text": [
      "【train】 epoch：3 step:215/630 loss：0.062139\n",
      "/opt/conda/lib/python3.7/site-packages/sklearn/metrics/_classification.py:1580: UndefinedMetricWarning: F-score is ill-defined and being set to 0.0 in labels with no true nor predicted samples. Use `zero_division` parameter to control this behavior.\n",
      "  _warn_prf(average, \"true nor predicted\", \"F-score is\", len(true_sum))\n",
      "【dev】 loss：14.216723 accuracy：0.0000 micro_f1：0.0000 macro_f1：0.0000\n"
     ]
    },
    {
     "name": "stdout",
     "output_type": "stream",
     "text": [
      "-----bert model output\n"
     ]
    },
    {
     "name": "stderr",
     "output_type": "stream",
     "text": [
      "【train】 epoch：3 step:216/630 loss：0.062761\n",
      "/opt/conda/lib/python3.7/site-packages/sklearn/metrics/_classification.py:1580: UndefinedMetricWarning: F-score is ill-defined and being set to 0.0 in labels with no true nor predicted samples. Use `zero_division` parameter to control this behavior.\n",
      "  _warn_prf(average, \"true nor predicted\", \"F-score is\", len(true_sum))\n",
      "【dev】 loss：14.156208 accuracy：0.0000 micro_f1：0.0000 macro_f1：0.0000\n"
     ]
    },
    {
     "name": "stdout",
     "output_type": "stream",
     "text": [
      "-----bert model output\n"
     ]
    },
    {
     "name": "stderr",
     "output_type": "stream",
     "text": [
      "【train】 epoch：3 step:217/630 loss：0.061970\n",
      "/opt/conda/lib/python3.7/site-packages/sklearn/metrics/_classification.py:1580: UndefinedMetricWarning: F-score is ill-defined and being set to 0.0 in labels with no true nor predicted samples. Use `zero_division` parameter to control this behavior.\n",
      "  _warn_prf(average, \"true nor predicted\", \"F-score is\", len(true_sum))\n",
      "【dev】 loss：14.097073 accuracy：0.0000 micro_f1：0.0000 macro_f1：0.0000\n"
     ]
    },
    {
     "name": "stdout",
     "output_type": "stream",
     "text": [
      "-----bert model output\n"
     ]
    },
    {
     "name": "stderr",
     "output_type": "stream",
     "text": [
      "【train】 epoch：3 step:218/630 loss：0.061515\n",
      "/opt/conda/lib/python3.7/site-packages/sklearn/metrics/_classification.py:1580: UndefinedMetricWarning: F-score is ill-defined and being set to 0.0 in labels with no true nor predicted samples. Use `zero_division` parameter to control this behavior.\n",
      "  _warn_prf(average, \"true nor predicted\", \"F-score is\", len(true_sum))\n",
      "【dev】 loss：14.038731 accuracy：0.0000 micro_f1：0.0000 macro_f1：0.0000\n"
     ]
    },
    {
     "name": "stdout",
     "output_type": "stream",
     "text": [
      "-----bert model output\n"
     ]
    },
    {
     "name": "stderr",
     "output_type": "stream",
     "text": [
      "【train】 epoch：3 step:219/630 loss：0.062456\n",
      "/opt/conda/lib/python3.7/site-packages/sklearn/metrics/_classification.py:1580: UndefinedMetricWarning: F-score is ill-defined and being set to 0.0 in labels with no true nor predicted samples. Use `zero_division` parameter to control this behavior.\n",
      "  _warn_prf(average, \"true nor predicted\", \"F-score is\", len(true_sum))\n",
      "【dev】 loss：13.981434 accuracy：0.0000 micro_f1：0.0000 macro_f1：0.0000\n"
     ]
    },
    {
     "name": "stdout",
     "output_type": "stream",
     "text": [
      "-----bert model output\n"
     ]
    },
    {
     "name": "stderr",
     "output_type": "stream",
     "text": [
      "【train】 epoch：3 step:220/630 loss：0.059240\n",
      "/opt/conda/lib/python3.7/site-packages/sklearn/metrics/_classification.py:1580: UndefinedMetricWarning: F-score is ill-defined and being set to 0.0 in labels with no true nor predicted samples. Use `zero_division` parameter to control this behavior.\n",
      "  _warn_prf(average, \"true nor predicted\", \"F-score is\", len(true_sum))\n",
      "【dev】 loss：13.925202 accuracy：0.0000 micro_f1：0.0000 macro_f1：0.0000\n"
     ]
    },
    {
     "name": "stdout",
     "output_type": "stream",
     "text": [
      "-----bert model output\n"
     ]
    },
    {
     "name": "stderr",
     "output_type": "stream",
     "text": [
      "【train】 epoch：3 step:221/630 loss：0.060671\n",
      "/opt/conda/lib/python3.7/site-packages/sklearn/metrics/_classification.py:1580: UndefinedMetricWarning: F-score is ill-defined and being set to 0.0 in labels with no true nor predicted samples. Use `zero_division` parameter to control this behavior.\n",
      "  _warn_prf(average, \"true nor predicted\", \"F-score is\", len(true_sum))\n",
      "【dev】 loss：13.869617 accuracy：0.0000 micro_f1：0.0000 macro_f1：0.0000\n"
     ]
    },
    {
     "name": "stdout",
     "output_type": "stream",
     "text": [
      "-----bert model output\n"
     ]
    },
    {
     "name": "stderr",
     "output_type": "stream",
     "text": [
      "【train】 epoch：3 step:222/630 loss：0.060823\n",
      "/opt/conda/lib/python3.7/site-packages/sklearn/metrics/_classification.py:1580: UndefinedMetricWarning: F-score is ill-defined and being set to 0.0 in labels with no true nor predicted samples. Use `zero_division` parameter to control this behavior.\n",
      "  _warn_prf(average, \"true nor predicted\", \"F-score is\", len(true_sum))\n",
      "【dev】 loss：13.814769 accuracy：0.0000 micro_f1：0.0000 macro_f1：0.0000\n"
     ]
    },
    {
     "name": "stdout",
     "output_type": "stream",
     "text": [
      "-----bert model output\n"
     ]
    },
    {
     "name": "stderr",
     "output_type": "stream",
     "text": [
      "【train】 epoch：3 step:223/630 loss：0.061843\n",
      "/opt/conda/lib/python3.7/site-packages/sklearn/metrics/_classification.py:1580: UndefinedMetricWarning: F-score is ill-defined and being set to 0.0 in labels with no true nor predicted samples. Use `zero_division` parameter to control this behavior.\n",
      "  _warn_prf(average, \"true nor predicted\", \"F-score is\", len(true_sum))\n",
      "【dev】 loss：13.761530 accuracy：0.0000 micro_f1：0.0000 macro_f1：0.0000\n"
     ]
    },
    {
     "name": "stdout",
     "output_type": "stream",
     "text": [
      "-----bert model output\n"
     ]
    },
    {
     "name": "stderr",
     "output_type": "stream",
     "text": [
      "【train】 epoch：3 step:224/630 loss：0.059927\n",
      "/opt/conda/lib/python3.7/site-packages/sklearn/metrics/_classification.py:1580: UndefinedMetricWarning: F-score is ill-defined and being set to 0.0 in labels with no true nor predicted samples. Use `zero_division` parameter to control this behavior.\n",
      "  _warn_prf(average, \"true nor predicted\", \"F-score is\", len(true_sum))\n",
      "【dev】 loss：13.708623 accuracy：0.0000 micro_f1：0.0000 macro_f1：0.0000\n"
     ]
    },
    {
     "name": "stdout",
     "output_type": "stream",
     "text": [
      "-----bert model output\n"
     ]
    },
    {
     "name": "stderr",
     "output_type": "stream",
     "text": [
      "【train】 epoch：3 step:225/630 loss：0.061367\n",
      "/opt/conda/lib/python3.7/site-packages/sklearn/metrics/_classification.py:1580: UndefinedMetricWarning: F-score is ill-defined and being set to 0.0 in labels with no true nor predicted samples. Use `zero_division` parameter to control this behavior.\n",
      "  _warn_prf(average, \"true nor predicted\", \"F-score is\", len(true_sum))\n",
      "【dev】 loss：13.656069 accuracy：0.0000 micro_f1：0.0000 macro_f1：0.0000\n"
     ]
    },
    {
     "name": "stdout",
     "output_type": "stream",
     "text": [
      "-----bert model output\n"
     ]
    },
    {
     "name": "stderr",
     "output_type": "stream",
     "text": [
      "【train】 epoch：3 step:226/630 loss：0.057813\n",
      "/opt/conda/lib/python3.7/site-packages/sklearn/metrics/_classification.py:1580: UndefinedMetricWarning: F-score is ill-defined and being set to 0.0 in labels with no true nor predicted samples. Use `zero_division` parameter to control this behavior.\n",
      "  _warn_prf(average, \"true nor predicted\", \"F-score is\", len(true_sum))\n",
      "【dev】 loss：13.602424 accuracy：0.0000 micro_f1：0.0000 macro_f1：0.0000\n"
     ]
    },
    {
     "name": "stdout",
     "output_type": "stream",
     "text": [
      "-----bert model output\n"
     ]
    },
    {
     "name": "stderr",
     "output_type": "stream",
     "text": [
      "【train】 epoch：3 step:227/630 loss：0.058678\n",
      "/opt/conda/lib/python3.7/site-packages/sklearn/metrics/_classification.py:1580: UndefinedMetricWarning: F-score is ill-defined and being set to 0.0 in labels with no true nor predicted samples. Use `zero_division` parameter to control this behavior.\n",
      "  _warn_prf(average, \"true nor predicted\", \"F-score is\", len(true_sum))\n",
      "【dev】 loss：13.548643 accuracy：0.0000 micro_f1：0.0000 macro_f1：0.0000\n"
     ]
    },
    {
     "name": "stdout",
     "output_type": "stream",
     "text": [
      "-----bert model output\n"
     ]
    },
    {
     "name": "stderr",
     "output_type": "stream",
     "text": [
      "【train】 epoch：3 step:228/630 loss：0.060819\n",
      "/opt/conda/lib/python3.7/site-packages/sklearn/metrics/_classification.py:1580: UndefinedMetricWarning: F-score is ill-defined and being set to 0.0 in labels with no true nor predicted samples. Use `zero_division` parameter to control this behavior.\n",
      "  _warn_prf(average, \"true nor predicted\", \"F-score is\", len(true_sum))\n",
      "【dev】 loss：13.496267 accuracy：0.0000 micro_f1：0.0000 macro_f1：0.0000\n"
     ]
    },
    {
     "name": "stdout",
     "output_type": "stream",
     "text": [
      "-----bert model output\n"
     ]
    },
    {
     "name": "stderr",
     "output_type": "stream",
     "text": [
      "【train】 epoch：3 step:229/630 loss：0.057850\n",
      "/opt/conda/lib/python3.7/site-packages/sklearn/metrics/_classification.py:1580: UndefinedMetricWarning: F-score is ill-defined and being set to 0.0 in labels with no true nor predicted samples. Use `zero_division` parameter to control this behavior.\n",
      "  _warn_prf(average, \"true nor predicted\", \"F-score is\", len(true_sum))\n",
      "【dev】 loss：13.444903 accuracy：0.0000 micro_f1：0.0000 macro_f1：0.0000\n"
     ]
    },
    {
     "name": "stdout",
     "output_type": "stream",
     "text": [
      "-----bert model output\n"
     ]
    },
    {
     "name": "stderr",
     "output_type": "stream",
     "text": [
      "【train】 epoch：3 step:230/630 loss：0.059144\n",
      "/opt/conda/lib/python3.7/site-packages/sklearn/metrics/_classification.py:1580: UndefinedMetricWarning: F-score is ill-defined and being set to 0.0 in labels with no true nor predicted samples. Use `zero_division` parameter to control this behavior.\n",
      "  _warn_prf(average, \"true nor predicted\", \"F-score is\", len(true_sum))\n",
      "【dev】 loss：13.393577 accuracy：0.0000 micro_f1：0.0000 macro_f1：0.0000\n"
     ]
    },
    {
     "name": "stdout",
     "output_type": "stream",
     "text": [
      "-----bert model output\n"
     ]
    },
    {
     "name": "stderr",
     "output_type": "stream",
     "text": [
      "【train】 epoch：3 step:231/630 loss：0.059152\n",
      "/opt/conda/lib/python3.7/site-packages/sklearn/metrics/_classification.py:1580: UndefinedMetricWarning: F-score is ill-defined and being set to 0.0 in labels with no true nor predicted samples. Use `zero_division` parameter to control this behavior.\n",
      "  _warn_prf(average, \"true nor predicted\", \"F-score is\", len(true_sum))\n",
      "【dev】 loss：13.342500 accuracy：0.0000 micro_f1：0.0000 macro_f1：0.0000\n"
     ]
    },
    {
     "name": "stdout",
     "output_type": "stream",
     "text": [
      "-----bert model output\n"
     ]
    },
    {
     "name": "stderr",
     "output_type": "stream",
     "text": [
      "【train】 epoch：3 step:232/630 loss：0.056647\n",
      "/opt/conda/lib/python3.7/site-packages/sklearn/metrics/_classification.py:1580: UndefinedMetricWarning: F-score is ill-defined and being set to 0.0 in labels with no true nor predicted samples. Use `zero_division` parameter to control this behavior.\n",
      "  _warn_prf(average, \"true nor predicted\", \"F-score is\", len(true_sum))\n",
      "【dev】 loss：13.291476 accuracy：0.0000 micro_f1：0.0000 macro_f1：0.0000\n"
     ]
    },
    {
     "name": "stdout",
     "output_type": "stream",
     "text": [
      "-----bert model output\n"
     ]
    },
    {
     "name": "stderr",
     "output_type": "stream",
     "text": [
      "【train】 epoch：3 step:233/630 loss：0.058382\n",
      "/opt/conda/lib/python3.7/site-packages/sklearn/metrics/_classification.py:1580: UndefinedMetricWarning: F-score is ill-defined and being set to 0.0 in labels with no true nor predicted samples. Use `zero_division` parameter to control this behavior.\n",
      "  _warn_prf(average, \"true nor predicted\", \"F-score is\", len(true_sum))\n",
      "【dev】 loss：13.241433 accuracy：0.0000 micro_f1：0.0000 macro_f1：0.0000\n"
     ]
    },
    {
     "name": "stdout",
     "output_type": "stream",
     "text": [
      "-----bert model output\n"
     ]
    },
    {
     "name": "stderr",
     "output_type": "stream",
     "text": [
      "【train】 epoch：3 step:234/630 loss：0.054360\n",
      "/opt/conda/lib/python3.7/site-packages/sklearn/metrics/_classification.py:1580: UndefinedMetricWarning: F-score is ill-defined and being set to 0.0 in labels with no true nor predicted samples. Use `zero_division` parameter to control this behavior.\n",
      "  _warn_prf(average, \"true nor predicted\", \"F-score is\", len(true_sum))\n",
      "【dev】 loss：13.191634 accuracy：0.0000 micro_f1：0.0000 macro_f1：0.0000\n"
     ]
    },
    {
     "name": "stdout",
     "output_type": "stream",
     "text": [
      "-----bert model output\n"
     ]
    },
    {
     "name": "stderr",
     "output_type": "stream",
     "text": [
      "【train】 epoch：3 step:235/630 loss：0.055836\n",
      "/opt/conda/lib/python3.7/site-packages/sklearn/metrics/_classification.py:1580: UndefinedMetricWarning: F-score is ill-defined and being set to 0.0 in labels with no true nor predicted samples. Use `zero_division` parameter to control this behavior.\n",
      "  _warn_prf(average, \"true nor predicted\", \"F-score is\", len(true_sum))\n",
      "【dev】 loss：13.142285 accuracy：0.0000 micro_f1：0.0000 macro_f1：0.0000\n"
     ]
    },
    {
     "name": "stdout",
     "output_type": "stream",
     "text": [
      "-----bert model output\n"
     ]
    },
    {
     "name": "stderr",
     "output_type": "stream",
     "text": [
      "【train】 epoch：3 step:236/630 loss：0.056103\n",
      "/opt/conda/lib/python3.7/site-packages/sklearn/metrics/_classification.py:1580: UndefinedMetricWarning: F-score is ill-defined and being set to 0.0 in labels with no true nor predicted samples. Use `zero_division` parameter to control this behavior.\n",
      "  _warn_prf(average, \"true nor predicted\", \"F-score is\", len(true_sum))\n",
      "【dev】 loss：13.093127 accuracy：0.0000 micro_f1：0.0000 macro_f1：0.0000\n"
     ]
    },
    {
     "name": "stdout",
     "output_type": "stream",
     "text": [
      "-----bert model output\n"
     ]
    },
    {
     "name": "stderr",
     "output_type": "stream",
     "text": [
      "【train】 epoch：3 step:237/630 loss：0.056431\n",
      "/opt/conda/lib/python3.7/site-packages/sklearn/metrics/_classification.py:1580: UndefinedMetricWarning: F-score is ill-defined and being set to 0.0 in labels with no true nor predicted samples. Use `zero_division` parameter to control this behavior.\n",
      "  _warn_prf(average, \"true nor predicted\", \"F-score is\", len(true_sum))\n",
      "【dev】 loss：13.044617 accuracy：0.0000 micro_f1：0.0000 macro_f1：0.0000\n"
     ]
    },
    {
     "name": "stdout",
     "output_type": "stream",
     "text": [
      "-----bert model output\n"
     ]
    },
    {
     "name": "stderr",
     "output_type": "stream",
     "text": [
      "【train】 epoch：3 step:238/630 loss：0.057135\n",
      "/opt/conda/lib/python3.7/site-packages/sklearn/metrics/_classification.py:1580: UndefinedMetricWarning: F-score is ill-defined and being set to 0.0 in labels with no true nor predicted samples. Use `zero_division` parameter to control this behavior.\n",
      "  _warn_prf(average, \"true nor predicted\", \"F-score is\", len(true_sum))\n",
      "【dev】 loss：12.996918 accuracy：0.0000 micro_f1：0.0000 macro_f1：0.0000\n"
     ]
    },
    {
     "name": "stdout",
     "output_type": "stream",
     "text": [
      "-----bert model output\n"
     ]
    },
    {
     "name": "stderr",
     "output_type": "stream",
     "text": [
      "【train】 epoch：3 step:239/630 loss：0.057988\n",
      "/opt/conda/lib/python3.7/site-packages/sklearn/metrics/_classification.py:1580: UndefinedMetricWarning: F-score is ill-defined and being set to 0.0 in labels with no true nor predicted samples. Use `zero_division` parameter to control this behavior.\n",
      "  _warn_prf(average, \"true nor predicted\", \"F-score is\", len(true_sum))\n",
      "【dev】 loss：12.950197 accuracy：0.0000 micro_f1：0.0000 macro_f1：0.0000\n"
     ]
    },
    {
     "name": "stdout",
     "output_type": "stream",
     "text": [
      "-----bert model output\n"
     ]
    },
    {
     "name": "stderr",
     "output_type": "stream",
     "text": [
      "【train】 epoch：3 step:240/630 loss：0.053183\n",
      "/opt/conda/lib/python3.7/site-packages/sklearn/metrics/_classification.py:1580: UndefinedMetricWarning: F-score is ill-defined and being set to 0.0 in labels with no true nor predicted samples. Use `zero_division` parameter to control this behavior.\n",
      "  _warn_prf(average, \"true nor predicted\", \"F-score is\", len(true_sum))\n",
      "【dev】 loss：12.904127 accuracy：0.0000 micro_f1：0.0000 macro_f1：0.0000\n"
     ]
    },
    {
     "name": "stdout",
     "output_type": "stream",
     "text": [
      "-----bert model output\n"
     ]
    },
    {
     "name": "stderr",
     "output_type": "stream",
     "text": [
      "【train】 epoch：3 step:241/630 loss：0.055301\n",
      "/opt/conda/lib/python3.7/site-packages/sklearn/metrics/_classification.py:1580: UndefinedMetricWarning: F-score is ill-defined and being set to 0.0 in labels with no true nor predicted samples. Use `zero_division` parameter to control this behavior.\n",
      "  _warn_prf(average, \"true nor predicted\", \"F-score is\", len(true_sum))\n",
      "【dev】 loss：12.858993 accuracy：0.0000 micro_f1：0.0000 macro_f1：0.0000\n"
     ]
    },
    {
     "name": "stdout",
     "output_type": "stream",
     "text": [
      "-----bert model output\n"
     ]
    },
    {
     "name": "stderr",
     "output_type": "stream",
     "text": [
      "【train】 epoch：3 step:242/630 loss：0.054067\n",
      "/opt/conda/lib/python3.7/site-packages/sklearn/metrics/_classification.py:1580: UndefinedMetricWarning: F-score is ill-defined and being set to 0.0 in labels with no true nor predicted samples. Use `zero_division` parameter to control this behavior.\n",
      "  _warn_prf(average, \"true nor predicted\", \"F-score is\", len(true_sum))\n",
      "【dev】 loss：12.814238 accuracy：0.0000 micro_f1：0.0000 macro_f1：0.0000\n"
     ]
    },
    {
     "name": "stdout",
     "output_type": "stream",
     "text": [
      "-----bert model output\n"
     ]
    },
    {
     "name": "stderr",
     "output_type": "stream",
     "text": [
      "【train】 epoch：3 step:243/630 loss：0.056277\n",
      "/opt/conda/lib/python3.7/site-packages/sklearn/metrics/_classification.py:1580: UndefinedMetricWarning: F-score is ill-defined and being set to 0.0 in labels with no true nor predicted samples. Use `zero_division` parameter to control this behavior.\n",
      "  _warn_prf(average, \"true nor predicted\", \"F-score is\", len(true_sum))\n",
      "【dev】 loss：12.769841 accuracy：0.0000 micro_f1：0.0000 macro_f1：0.0000\n"
     ]
    },
    {
     "name": "stdout",
     "output_type": "stream",
     "text": [
      "-----bert model output\n"
     ]
    },
    {
     "name": "stderr",
     "output_type": "stream",
     "text": [
      "【train】 epoch：3 step:244/630 loss：0.060099\n",
      "/opt/conda/lib/python3.7/site-packages/sklearn/metrics/_classification.py:1580: UndefinedMetricWarning: F-score is ill-defined and being set to 0.0 in labels with no true nor predicted samples. Use `zero_division` parameter to control this behavior.\n",
      "  _warn_prf(average, \"true nor predicted\", \"F-score is\", len(true_sum))\n",
      "【dev】 loss：12.726315 accuracy：0.0000 micro_f1：0.0000 macro_f1：0.0000\n"
     ]
    },
    {
     "name": "stdout",
     "output_type": "stream",
     "text": [
      "-----bert model output\n"
     ]
    },
    {
     "name": "stderr",
     "output_type": "stream",
     "text": [
      "【train】 epoch：3 step:245/630 loss：0.052758\n",
      "/opt/conda/lib/python3.7/site-packages/sklearn/metrics/_classification.py:1580: UndefinedMetricWarning: F-score is ill-defined and being set to 0.0 in labels with no true nor predicted samples. Use `zero_division` parameter to control this behavior.\n",
      "  _warn_prf(average, \"true nor predicted\", \"F-score is\", len(true_sum))\n",
      "【dev】 loss：12.683038 accuracy：0.0000 micro_f1：0.0000 macro_f1：0.0000\n"
     ]
    },
    {
     "name": "stdout",
     "output_type": "stream",
     "text": [
      "-----bert model output\n"
     ]
    },
    {
     "name": "stderr",
     "output_type": "stream",
     "text": [
      "【train】 epoch：3 step:246/630 loss：0.055296\n",
      "/opt/conda/lib/python3.7/site-packages/sklearn/metrics/_classification.py:1580: UndefinedMetricWarning: F-score is ill-defined and being set to 0.0 in labels with no true nor predicted samples. Use `zero_division` parameter to control this behavior.\n",
      "  _warn_prf(average, \"true nor predicted\", \"F-score is\", len(true_sum))\n",
      "【dev】 loss：12.639948 accuracy：0.0000 micro_f1：0.0000 macro_f1：0.0000\n"
     ]
    },
    {
     "name": "stdout",
     "output_type": "stream",
     "text": [
      "-----bert model output\n"
     ]
    },
    {
     "name": "stderr",
     "output_type": "stream",
     "text": [
      "【train】 epoch：3 step:247/630 loss：0.054258\n",
      "/opt/conda/lib/python3.7/site-packages/sklearn/metrics/_classification.py:1580: UndefinedMetricWarning: F-score is ill-defined and being set to 0.0 in labels with no true nor predicted samples. Use `zero_division` parameter to control this behavior.\n",
      "  _warn_prf(average, \"true nor predicted\", \"F-score is\", len(true_sum))\n",
      "【dev】 loss：12.597223 accuracy：0.0000 micro_f1：0.0000 macro_f1：0.0000\n"
     ]
    },
    {
     "name": "stdout",
     "output_type": "stream",
     "text": [
      "-----bert model output\n"
     ]
    },
    {
     "name": "stderr",
     "output_type": "stream",
     "text": [
      "【train】 epoch：3 step:248/630 loss：0.055448\n",
      "/opt/conda/lib/python3.7/site-packages/sklearn/metrics/_classification.py:1580: UndefinedMetricWarning: F-score is ill-defined and being set to 0.0 in labels with no true nor predicted samples. Use `zero_division` parameter to control this behavior.\n",
      "  _warn_prf(average, \"true nor predicted\", \"F-score is\", len(true_sum))\n",
      "【dev】 loss：12.555287 accuracy：0.0000 micro_f1：0.0000 macro_f1：0.0000\n"
     ]
    },
    {
     "name": "stdout",
     "output_type": "stream",
     "text": [
      "-----bert model output\n"
     ]
    },
    {
     "name": "stderr",
     "output_type": "stream",
     "text": [
      "【train】 epoch：3 step:249/630 loss：0.054295\n",
      "/opt/conda/lib/python3.7/site-packages/sklearn/metrics/_classification.py:1580: UndefinedMetricWarning: F-score is ill-defined and being set to 0.0 in labels with no true nor predicted samples. Use `zero_division` parameter to control this behavior.\n",
      "  _warn_prf(average, \"true nor predicted\", \"F-score is\", len(true_sum))\n",
      "【dev】 loss：12.514451 accuracy：0.0000 micro_f1：0.0000 macro_f1：0.0000\n"
     ]
    },
    {
     "name": "stdout",
     "output_type": "stream",
     "text": [
      "-----bert model output\n"
     ]
    },
    {
     "name": "stderr",
     "output_type": "stream",
     "text": [
      "【train】 epoch：3 step:250/630 loss：0.054913\n",
      "/opt/conda/lib/python3.7/site-packages/sklearn/metrics/_classification.py:1580: UndefinedMetricWarning: F-score is ill-defined and being set to 0.0 in labels with no true nor predicted samples. Use `zero_division` parameter to control this behavior.\n",
      "  _warn_prf(average, \"true nor predicted\", \"F-score is\", len(true_sum))\n",
      "【dev】 loss：12.473199 accuracy：0.0000 micro_f1：0.0000 macro_f1：0.0000\n",
      "【train】 epoch：3 step:251/630 loss：0.055791\n"
     ]
    },
    {
     "name": "stdout",
     "output_type": "stream",
     "text": [
      "-----bert model output\n"
     ]
    },
    {
     "name": "stderr",
     "output_type": "stream",
     "text": [
      "/opt/conda/lib/python3.7/site-packages/sklearn/metrics/_classification.py:1580: UndefinedMetricWarning: F-score is ill-defined and being set to 0.0 in labels with no true nor predicted samples. Use `zero_division` parameter to control this behavior.\n",
      "  _warn_prf(average, \"true nor predicted\", \"F-score is\", len(true_sum))\n",
      "【dev】 loss：12.432461 accuracy：0.0000 micro_f1：0.0000 macro_f1：0.0000\n"
     ]
    },
    {
     "name": "stdout",
     "output_type": "stream",
     "text": [
      "-----bert model output\n"
     ]
    },
    {
     "name": "stderr",
     "output_type": "stream",
     "text": [
      "【train】 epoch：4 step:252/630 loss：0.052593\n",
      "/opt/conda/lib/python3.7/site-packages/sklearn/metrics/_classification.py:1580: UndefinedMetricWarning: F-score is ill-defined and being set to 0.0 in labels with no true nor predicted samples. Use `zero_division` parameter to control this behavior.\n",
      "  _warn_prf(average, \"true nor predicted\", \"F-score is\", len(true_sum))\n",
      "【dev】 loss：12.392407 accuracy：0.0000 micro_f1：0.0000 macro_f1：0.0000\n"
     ]
    },
    {
     "name": "stdout",
     "output_type": "stream",
     "text": [
      "-----bert model output\n"
     ]
    },
    {
     "name": "stderr",
     "output_type": "stream",
     "text": [
      "【train】 epoch：4 step:253/630 loss：0.052115\n",
      "/opt/conda/lib/python3.7/site-packages/sklearn/metrics/_classification.py:1580: UndefinedMetricWarning: F-score is ill-defined and being set to 0.0 in labels with no true nor predicted samples. Use `zero_division` parameter to control this behavior.\n",
      "  _warn_prf(average, \"true nor predicted\", \"F-score is\", len(true_sum))\n",
      "【dev】 loss：12.353271 accuracy：0.0000 micro_f1：0.0000 macro_f1：0.0000\n"
     ]
    },
    {
     "name": "stdout",
     "output_type": "stream",
     "text": [
      "-----bert model output\n"
     ]
    },
    {
     "name": "stderr",
     "output_type": "stream",
     "text": [
      "【train】 epoch：4 step:254/630 loss：0.054115\n",
      "/opt/conda/lib/python3.7/site-packages/sklearn/metrics/_classification.py:1580: UndefinedMetricWarning: F-score is ill-defined and being set to 0.0 in labels with no true nor predicted samples. Use `zero_division` parameter to control this behavior.\n",
      "  _warn_prf(average, \"true nor predicted\", \"F-score is\", len(true_sum))\n",
      "【dev】 loss：12.315036 accuracy：0.0000 micro_f1：0.0000 macro_f1：0.0000\n"
     ]
    },
    {
     "name": "stdout",
     "output_type": "stream",
     "text": [
      "-----bert model output\n"
     ]
    },
    {
     "name": "stderr",
     "output_type": "stream",
     "text": [
      "【train】 epoch：4 step:255/630 loss：0.050658\n",
      "/opt/conda/lib/python3.7/site-packages/sklearn/metrics/_classification.py:1580: UndefinedMetricWarning: F-score is ill-defined and being set to 0.0 in labels with no true nor predicted samples. Use `zero_division` parameter to control this behavior.\n",
      "  _warn_prf(average, \"true nor predicted\", \"F-score is\", len(true_sum))\n",
      "【dev】 loss：12.277090 accuracy：0.0000 micro_f1：0.0000 macro_f1：0.0000\n"
     ]
    },
    {
     "name": "stdout",
     "output_type": "stream",
     "text": [
      "-----bert model output\n"
     ]
    },
    {
     "name": "stderr",
     "output_type": "stream",
     "text": [
      "【train】 epoch：4 step:256/630 loss：0.059552\n",
      "/opt/conda/lib/python3.7/site-packages/sklearn/metrics/_classification.py:1580: UndefinedMetricWarning: F-score is ill-defined and being set to 0.0 in labels with no true nor predicted samples. Use `zero_division` parameter to control this behavior.\n",
      "  _warn_prf(average, \"true nor predicted\", \"F-score is\", len(true_sum))\n",
      "【dev】 loss：12.239571 accuracy：0.0000 micro_f1：0.0000 macro_f1：0.0000\n"
     ]
    },
    {
     "name": "stdout",
     "output_type": "stream",
     "text": [
      "-----bert model output\n"
     ]
    },
    {
     "name": "stderr",
     "output_type": "stream",
     "text": [
      "【train】 epoch：4 step:257/630 loss：0.057714\n",
      "/opt/conda/lib/python3.7/site-packages/sklearn/metrics/_classification.py:1580: UndefinedMetricWarning: F-score is ill-defined and being set to 0.0 in labels with no true nor predicted samples. Use `zero_division` parameter to control this behavior.\n",
      "  _warn_prf(average, \"true nor predicted\", \"F-score is\", len(true_sum))\n",
      "【dev】 loss：12.201893 accuracy：0.0000 micro_f1：0.0000 macro_f1：0.0000\n"
     ]
    },
    {
     "name": "stdout",
     "output_type": "stream",
     "text": [
      "-----bert model output\n"
     ]
    },
    {
     "name": "stderr",
     "output_type": "stream",
     "text": [
      "【train】 epoch：4 step:258/630 loss：0.052862\n",
      "/opt/conda/lib/python3.7/site-packages/sklearn/metrics/_classification.py:1580: UndefinedMetricWarning: F-score is ill-defined and being set to 0.0 in labels with no true nor predicted samples. Use `zero_division` parameter to control this behavior.\n",
      "  _warn_prf(average, \"true nor predicted\", \"F-score is\", len(true_sum))\n",
      "【dev】 loss：12.164047 accuracy：0.0000 micro_f1：0.0000 macro_f1：0.0000\n"
     ]
    },
    {
     "name": "stdout",
     "output_type": "stream",
     "text": [
      "-----bert model output\n"
     ]
    },
    {
     "name": "stderr",
     "output_type": "stream",
     "text": [
      "【train】 epoch：4 step:259/630 loss：0.050253\n",
      "/opt/conda/lib/python3.7/site-packages/sklearn/metrics/_classification.py:1580: UndefinedMetricWarning: F-score is ill-defined and being set to 0.0 in labels with no true nor predicted samples. Use `zero_division` parameter to control this behavior.\n",
      "  _warn_prf(average, \"true nor predicted\", \"F-score is\", len(true_sum))\n",
      "【dev】 loss：12.126536 accuracy：0.0000 micro_f1：0.0000 macro_f1：0.0000\n"
     ]
    },
    {
     "name": "stdout",
     "output_type": "stream",
     "text": [
      "-----bert model output\n"
     ]
    },
    {
     "name": "stderr",
     "output_type": "stream",
     "text": [
      "【train】 epoch：4 step:260/630 loss：0.055281\n",
      "/opt/conda/lib/python3.7/site-packages/sklearn/metrics/_classification.py:1580: UndefinedMetricWarning: F-score is ill-defined and being set to 0.0 in labels with no true nor predicted samples. Use `zero_division` parameter to control this behavior.\n",
      "  _warn_prf(average, \"true nor predicted\", \"F-score is\", len(true_sum))\n",
      "【dev】 loss：12.089692 accuracy：0.0000 micro_f1：0.0000 macro_f1：0.0000\n"
     ]
    },
    {
     "name": "stdout",
     "output_type": "stream",
     "text": [
      "-----bert model output\n"
     ]
    },
    {
     "name": "stderr",
     "output_type": "stream",
     "text": [
      "【train】 epoch：4 step:261/630 loss：0.049423\n",
      "/opt/conda/lib/python3.7/site-packages/sklearn/metrics/_classification.py:1580: UndefinedMetricWarning: F-score is ill-defined and being set to 0.0 in labels with no true nor predicted samples. Use `zero_division` parameter to control this behavior.\n",
      "  _warn_prf(average, \"true nor predicted\", \"F-score is\", len(true_sum))\n",
      "【dev】 loss：12.052652 accuracy：0.0000 micro_f1：0.0000 macro_f1：0.0000\n"
     ]
    },
    {
     "name": "stdout",
     "output_type": "stream",
     "text": [
      "-----bert model output\n"
     ]
    },
    {
     "name": "stderr",
     "output_type": "stream",
     "text": [
      "【train】 epoch：4 step:262/630 loss：0.055933\n",
      "/opt/conda/lib/python3.7/site-packages/sklearn/metrics/_classification.py:1580: UndefinedMetricWarning: F-score is ill-defined and being set to 0.0 in labels with no true nor predicted samples. Use `zero_division` parameter to control this behavior.\n",
      "  _warn_prf(average, \"true nor predicted\", \"F-score is\", len(true_sum))\n",
      "【dev】 loss：12.016390 accuracy：0.0000 micro_f1：0.0000 macro_f1：0.0000\n"
     ]
    },
    {
     "name": "stdout",
     "output_type": "stream",
     "text": [
      "-----bert model output\n"
     ]
    },
    {
     "name": "stderr",
     "output_type": "stream",
     "text": [
      "【train】 epoch：4 step:263/630 loss：0.051383\n",
      "/opt/conda/lib/python3.7/site-packages/sklearn/metrics/_classification.py:1580: UndefinedMetricWarning: F-score is ill-defined and being set to 0.0 in labels with no true nor predicted samples. Use `zero_division` parameter to control this behavior.\n",
      "  _warn_prf(average, \"true nor predicted\", \"F-score is\", len(true_sum))\n",
      "【dev】 loss：11.980419 accuracy：0.0000 micro_f1：0.0000 macro_f1：0.0000\n"
     ]
    },
    {
     "name": "stdout",
     "output_type": "stream",
     "text": [
      "-----bert model output\n"
     ]
    },
    {
     "name": "stderr",
     "output_type": "stream",
     "text": [
      "【train】 epoch：4 step:264/630 loss：0.057254\n",
      "/opt/conda/lib/python3.7/site-packages/sklearn/metrics/_classification.py:1580: UndefinedMetricWarning: F-score is ill-defined and being set to 0.0 in labels with no true nor predicted samples. Use `zero_division` parameter to control this behavior.\n",
      "  _warn_prf(average, \"true nor predicted\", \"F-score is\", len(true_sum))\n",
      "【dev】 loss：11.944686 accuracy：0.0000 micro_f1：0.0000 macro_f1：0.0000\n"
     ]
    },
    {
     "name": "stdout",
     "output_type": "stream",
     "text": [
      "-----bert model output\n"
     ]
    },
    {
     "name": "stderr",
     "output_type": "stream",
     "text": [
      "【train】 epoch：4 step:265/630 loss：0.049425\n",
      "/opt/conda/lib/python3.7/site-packages/sklearn/metrics/_classification.py:1580: UndefinedMetricWarning: F-score is ill-defined and being set to 0.0 in labels with no true nor predicted samples. Use `zero_division` parameter to control this behavior.\n",
      "  _warn_prf(average, \"true nor predicted\", \"F-score is\", len(true_sum))\n",
      "【dev】 loss：11.909918 accuracy：0.0000 micro_f1：0.0000 macro_f1：0.0000\n"
     ]
    },
    {
     "name": "stdout",
     "output_type": "stream",
     "text": [
      "-----bert model output\n"
     ]
    },
    {
     "name": "stderr",
     "output_type": "stream",
     "text": [
      "【train】 epoch：4 step:266/630 loss：0.052756\n",
      "/opt/conda/lib/python3.7/site-packages/sklearn/metrics/_classification.py:1580: UndefinedMetricWarning: F-score is ill-defined and being set to 0.0 in labels with no true nor predicted samples. Use `zero_division` parameter to control this behavior.\n",
      "  _warn_prf(average, \"true nor predicted\", \"F-score is\", len(true_sum))\n",
      "【dev】 loss：11.875321 accuracy：0.0000 micro_f1：0.0000 macro_f1：0.0000\n"
     ]
    },
    {
     "name": "stdout",
     "output_type": "stream",
     "text": [
      "-----bert model output\n"
     ]
    },
    {
     "name": "stderr",
     "output_type": "stream",
     "text": [
      "【train】 epoch：4 step:267/630 loss：0.048524\n",
      "/opt/conda/lib/python3.7/site-packages/sklearn/metrics/_classification.py:1580: UndefinedMetricWarning: F-score is ill-defined and being set to 0.0 in labels with no true nor predicted samples. Use `zero_division` parameter to control this behavior.\n",
      "  _warn_prf(average, \"true nor predicted\", \"F-score is\", len(true_sum))\n",
      "【dev】 loss：11.841124 accuracy：0.0000 micro_f1：0.0000 macro_f1：0.0000\n"
     ]
    },
    {
     "name": "stdout",
     "output_type": "stream",
     "text": [
      "-----bert model output\n"
     ]
    },
    {
     "name": "stderr",
     "output_type": "stream",
     "text": [
      "【train】 epoch：4 step:268/630 loss：0.050878\n",
      "/opt/conda/lib/python3.7/site-packages/sklearn/metrics/_classification.py:1580: UndefinedMetricWarning: F-score is ill-defined and being set to 0.0 in labels with no true nor predicted samples. Use `zero_division` parameter to control this behavior.\n",
      "  _warn_prf(average, \"true nor predicted\", \"F-score is\", len(true_sum))\n",
      "【dev】 loss：11.807498 accuracy：0.0000 micro_f1：0.0000 macro_f1：0.0000\n"
     ]
    },
    {
     "name": "stdout",
     "output_type": "stream",
     "text": [
      "-----bert model output\n"
     ]
    },
    {
     "name": "stderr",
     "output_type": "stream",
     "text": [
      "【train】 epoch：4 step:269/630 loss：0.050350\n",
      "/opt/conda/lib/python3.7/site-packages/sklearn/metrics/_classification.py:1580: UndefinedMetricWarning: F-score is ill-defined and being set to 0.0 in labels with no true nor predicted samples. Use `zero_division` parameter to control this behavior.\n",
      "  _warn_prf(average, \"true nor predicted\", \"F-score is\", len(true_sum))\n",
      "【dev】 loss：11.774651 accuracy：0.0000 micro_f1：0.0000 macro_f1：0.0000\n"
     ]
    },
    {
     "name": "stdout",
     "output_type": "stream",
     "text": [
      "-----bert model output\n"
     ]
    },
    {
     "name": "stderr",
     "output_type": "stream",
     "text": [
      "【train】 epoch：4 step:270/630 loss：0.051240\n",
      "/opt/conda/lib/python3.7/site-packages/sklearn/metrics/_classification.py:1580: UndefinedMetricWarning: F-score is ill-defined and being set to 0.0 in labels with no true nor predicted samples. Use `zero_division` parameter to control this behavior.\n",
      "  _warn_prf(average, \"true nor predicted\", \"F-score is\", len(true_sum))\n",
      "【dev】 loss：11.741928 accuracy：0.0000 micro_f1：0.0000 macro_f1：0.0000\n"
     ]
    },
    {
     "name": "stdout",
     "output_type": "stream",
     "text": [
      "-----bert model output\n"
     ]
    },
    {
     "name": "stderr",
     "output_type": "stream",
     "text": [
      "【train】 epoch：4 step:271/630 loss：0.053910\n",
      "/opt/conda/lib/python3.7/site-packages/sklearn/metrics/_classification.py:1580: UndefinedMetricWarning: F-score is ill-defined and being set to 0.0 in labels with no true nor predicted samples. Use `zero_division` parameter to control this behavior.\n",
      "  _warn_prf(average, \"true nor predicted\", \"F-score is\", len(true_sum))\n",
      "【dev】 loss：11.709728 accuracy：0.0000 micro_f1：0.0000 macro_f1：0.0000\n"
     ]
    },
    {
     "name": "stdout",
     "output_type": "stream",
     "text": [
      "-----bert model output\n"
     ]
    },
    {
     "name": "stderr",
     "output_type": "stream",
     "text": [
      "【train】 epoch：4 step:272/630 loss：0.051448\n",
      "/opt/conda/lib/python3.7/site-packages/sklearn/metrics/_classification.py:1580: UndefinedMetricWarning: F-score is ill-defined and being set to 0.0 in labels with no true nor predicted samples. Use `zero_division` parameter to control this behavior.\n",
      "  _warn_prf(average, \"true nor predicted\", \"F-score is\", len(true_sum))\n",
      "【dev】 loss：11.677072 accuracy：0.0000 micro_f1：0.0000 macro_f1：0.0000\n"
     ]
    },
    {
     "name": "stdout",
     "output_type": "stream",
     "text": [
      "-----bert model output\n"
     ]
    },
    {
     "name": "stderr",
     "output_type": "stream",
     "text": [
      "【train】 epoch：4 step:273/630 loss：0.051160\n",
      "/opt/conda/lib/python3.7/site-packages/sklearn/metrics/_classification.py:1580: UndefinedMetricWarning: F-score is ill-defined and being set to 0.0 in labels with no true nor predicted samples. Use `zero_division` parameter to control this behavior.\n",
      "  _warn_prf(average, \"true nor predicted\", \"F-score is\", len(true_sum))\n",
      "【dev】 loss：11.644449 accuracy：0.0000 micro_f1：0.0000 macro_f1：0.0000\n"
     ]
    },
    {
     "name": "stdout",
     "output_type": "stream",
     "text": [
      "-----bert model output\n"
     ]
    },
    {
     "name": "stderr",
     "output_type": "stream",
     "text": [
      "【train】 epoch：4 step:274/630 loss：0.051632\n",
      "/opt/conda/lib/python3.7/site-packages/sklearn/metrics/_classification.py:1580: UndefinedMetricWarning: F-score is ill-defined and being set to 0.0 in labels with no true nor predicted samples. Use `zero_division` parameter to control this behavior.\n",
      "  _warn_prf(average, \"true nor predicted\", \"F-score is\", len(true_sum))\n",
      "【dev】 loss：11.612144 accuracy：0.0000 micro_f1：0.0000 macro_f1：0.0000\n"
     ]
    },
    {
     "name": "stdout",
     "output_type": "stream",
     "text": [
      "-----bert model output\n"
     ]
    },
    {
     "name": "stderr",
     "output_type": "stream",
     "text": [
      "【train】 epoch：4 step:275/630 loss：0.050760\n",
      "/opt/conda/lib/python3.7/site-packages/sklearn/metrics/_classification.py:1580: UndefinedMetricWarning: F-score is ill-defined and being set to 0.0 in labels with no true nor predicted samples. Use `zero_division` parameter to control this behavior.\n",
      "  _warn_prf(average, \"true nor predicted\", \"F-score is\", len(true_sum))\n",
      "【dev】 loss：11.580276 accuracy：0.0000 micro_f1：0.0000 macro_f1：0.0000\n"
     ]
    },
    {
     "name": "stdout",
     "output_type": "stream",
     "text": [
      "-----bert model output\n"
     ]
    },
    {
     "name": "stderr",
     "output_type": "stream",
     "text": [
      "【train】 epoch：4 step:276/630 loss：0.048708\n",
      "/opt/conda/lib/python3.7/site-packages/sklearn/metrics/_classification.py:1580: UndefinedMetricWarning: F-score is ill-defined and being set to 0.0 in labels with no true nor predicted samples. Use `zero_division` parameter to control this behavior.\n",
      "  _warn_prf(average, \"true nor predicted\", \"F-score is\", len(true_sum))\n",
      "【dev】 loss：11.548445 accuracy：0.0000 micro_f1：0.0000 macro_f1：0.0000\n"
     ]
    },
    {
     "name": "stdout",
     "output_type": "stream",
     "text": [
      "-----bert model output\n"
     ]
    },
    {
     "name": "stderr",
     "output_type": "stream",
     "text": [
      "【train】 epoch：4 step:277/630 loss：0.051273\n",
      "/opt/conda/lib/python3.7/site-packages/sklearn/metrics/_classification.py:1580: UndefinedMetricWarning: F-score is ill-defined and being set to 0.0 in labels with no true nor predicted samples. Use `zero_division` parameter to control this behavior.\n",
      "  _warn_prf(average, \"true nor predicted\", \"F-score is\", len(true_sum))\n",
      "【dev】 loss：11.516923 accuracy：0.0000 micro_f1：0.0000 macro_f1：0.0000\n"
     ]
    },
    {
     "name": "stdout",
     "output_type": "stream",
     "text": [
      "-----bert model output\n"
     ]
    },
    {
     "name": "stderr",
     "output_type": "stream",
     "text": [
      "【train】 epoch：4 step:278/630 loss：0.048834\n",
      "/opt/conda/lib/python3.7/site-packages/sklearn/metrics/_classification.py:1580: UndefinedMetricWarning: F-score is ill-defined and being set to 0.0 in labels with no true nor predicted samples. Use `zero_division` parameter to control this behavior.\n",
      "  _warn_prf(average, \"true nor predicted\", \"F-score is\", len(true_sum))\n",
      "【dev】 loss：11.486036 accuracy：0.0000 micro_f1：0.0000 macro_f1：0.0000\n"
     ]
    },
    {
     "name": "stdout",
     "output_type": "stream",
     "text": [
      "-----bert model output\n"
     ]
    },
    {
     "name": "stderr",
     "output_type": "stream",
     "text": [
      "【train】 epoch：4 step:279/630 loss：0.049757\n",
      "/opt/conda/lib/python3.7/site-packages/sklearn/metrics/_classification.py:1580: UndefinedMetricWarning: F-score is ill-defined and being set to 0.0 in labels with no true nor predicted samples. Use `zero_division` parameter to control this behavior.\n",
      "  _warn_prf(average, \"true nor predicted\", \"F-score is\", len(true_sum))\n",
      "【dev】 loss：11.455681 accuracy：0.0000 micro_f1：0.0000 macro_f1：0.0000\n"
     ]
    },
    {
     "name": "stdout",
     "output_type": "stream",
     "text": [
      "-----bert model output\n"
     ]
    },
    {
     "name": "stderr",
     "output_type": "stream",
     "text": [
      "【train】 epoch：4 step:280/630 loss：0.049687\n",
      "/opt/conda/lib/python3.7/site-packages/sklearn/metrics/_classification.py:1580: UndefinedMetricWarning: F-score is ill-defined and being set to 0.0 in labels with no true nor predicted samples. Use `zero_division` parameter to control this behavior.\n",
      "  _warn_prf(average, \"true nor predicted\", \"F-score is\", len(true_sum))\n",
      "【dev】 loss：11.426284 accuracy：0.0000 micro_f1：0.0000 macro_f1：0.0000\n"
     ]
    },
    {
     "name": "stdout",
     "output_type": "stream",
     "text": [
      "-----bert model output\n"
     ]
    },
    {
     "name": "stderr",
     "output_type": "stream",
     "text": [
      "【train】 epoch：4 step:281/630 loss：0.048512\n",
      "/opt/conda/lib/python3.7/site-packages/sklearn/metrics/_classification.py:1580: UndefinedMetricWarning: F-score is ill-defined and being set to 0.0 in labels with no true nor predicted samples. Use `zero_division` parameter to control this behavior.\n",
      "  _warn_prf(average, \"true nor predicted\", \"F-score is\", len(true_sum))\n",
      "【dev】 loss：11.397154 accuracy：0.0000 micro_f1：0.0000 macro_f1：0.0000\n"
     ]
    },
    {
     "name": "stdout",
     "output_type": "stream",
     "text": [
      "-----bert model output\n"
     ]
    },
    {
     "name": "stderr",
     "output_type": "stream",
     "text": [
      "【train】 epoch：4 step:282/630 loss：0.050718\n",
      "/opt/conda/lib/python3.7/site-packages/sklearn/metrics/_classification.py:1580: UndefinedMetricWarning: F-score is ill-defined and being set to 0.0 in labels with no true nor predicted samples. Use `zero_division` parameter to control this behavior.\n",
      "  _warn_prf(average, \"true nor predicted\", \"F-score is\", len(true_sum))\n",
      "【dev】 loss：11.368267 accuracy：0.0000 micro_f1：0.0000 macro_f1：0.0000\n"
     ]
    },
    {
     "name": "stdout",
     "output_type": "stream",
     "text": [
      "-----bert model output\n"
     ]
    },
    {
     "name": "stderr",
     "output_type": "stream",
     "text": [
      "【train】 epoch：4 step:283/630 loss：0.046068\n",
      "/opt/conda/lib/python3.7/site-packages/sklearn/metrics/_classification.py:1580: UndefinedMetricWarning: F-score is ill-defined and being set to 0.0 in labels with no true nor predicted samples. Use `zero_division` parameter to control this behavior.\n",
      "  _warn_prf(average, \"true nor predicted\", \"F-score is\", len(true_sum))\n",
      "【dev】 loss：11.339586 accuracy：0.0000 micro_f1：0.0000 macro_f1：0.0000\n"
     ]
    },
    {
     "name": "stdout",
     "output_type": "stream",
     "text": [
      "-----bert model output\n"
     ]
    },
    {
     "name": "stderr",
     "output_type": "stream",
     "text": [
      "【train】 epoch：4 step:284/630 loss：0.047983\n",
      "/opt/conda/lib/python3.7/site-packages/sklearn/metrics/_classification.py:1580: UndefinedMetricWarning: F-score is ill-defined and being set to 0.0 in labels with no true nor predicted samples. Use `zero_division` parameter to control this behavior.\n",
      "  _warn_prf(average, \"true nor predicted\", \"F-score is\", len(true_sum))\n",
      "【dev】 loss：11.311384 accuracy：0.0000 micro_f1：0.0000 macro_f1：0.0000\n"
     ]
    },
    {
     "name": "stdout",
     "output_type": "stream",
     "text": [
      "-----bert model output\n"
     ]
    },
    {
     "name": "stderr",
     "output_type": "stream",
     "text": [
      "【train】 epoch：4 step:285/630 loss：0.049056\n",
      "/opt/conda/lib/python3.7/site-packages/sklearn/metrics/_classification.py:1580: UndefinedMetricWarning: F-score is ill-defined and being set to 0.0 in labels with no true nor predicted samples. Use `zero_division` parameter to control this behavior.\n",
      "  _warn_prf(average, \"true nor predicted\", \"F-score is\", len(true_sum))\n",
      "【dev】 loss：11.283705 accuracy：0.0000 micro_f1：0.0000 macro_f1：0.0000\n"
     ]
    },
    {
     "name": "stdout",
     "output_type": "stream",
     "text": [
      "-----bert model output\n"
     ]
    },
    {
     "name": "stderr",
     "output_type": "stream",
     "text": [
      "【train】 epoch：4 step:286/630 loss：0.052635\n",
      "/opt/conda/lib/python3.7/site-packages/sklearn/metrics/_classification.py:1580: UndefinedMetricWarning: F-score is ill-defined and being set to 0.0 in labels with no true nor predicted samples. Use `zero_division` parameter to control this behavior.\n",
      "  _warn_prf(average, \"true nor predicted\", \"F-score is\", len(true_sum))\n",
      "【dev】 loss：11.256498 accuracy：0.0000 micro_f1：0.0000 macro_f1：0.0000\n"
     ]
    },
    {
     "name": "stdout",
     "output_type": "stream",
     "text": [
      "-----bert model output\n"
     ]
    },
    {
     "name": "stderr",
     "output_type": "stream",
     "text": [
      "【train】 epoch：4 step:287/630 loss：0.047943\n",
      "/opt/conda/lib/python3.7/site-packages/sklearn/metrics/_classification.py:1580: UndefinedMetricWarning: F-score is ill-defined and being set to 0.0 in labels with no true nor predicted samples. Use `zero_division` parameter to control this behavior.\n",
      "  _warn_prf(average, \"true nor predicted\", \"F-score is\", len(true_sum))\n",
      "【dev】 loss：11.228812 accuracy：0.0000 micro_f1：0.0000 macro_f1：0.0000\n"
     ]
    },
    {
     "name": "stdout",
     "output_type": "stream",
     "text": [
      "-----bert model output\n"
     ]
    },
    {
     "name": "stderr",
     "output_type": "stream",
     "text": [
      "【train】 epoch：4 step:288/630 loss：0.052179\n",
      "/opt/conda/lib/python3.7/site-packages/sklearn/metrics/_classification.py:1580: UndefinedMetricWarning: F-score is ill-defined and being set to 0.0 in labels with no true nor predicted samples. Use `zero_division` parameter to control this behavior.\n",
      "  _warn_prf(average, \"true nor predicted\", \"F-score is\", len(true_sum))\n",
      "【dev】 loss：11.201227 accuracy：0.0000 micro_f1：0.0000 macro_f1：0.0000\n"
     ]
    },
    {
     "name": "stdout",
     "output_type": "stream",
     "text": [
      "-----bert model output\n"
     ]
    },
    {
     "name": "stderr",
     "output_type": "stream",
     "text": [
      "【train】 epoch：4 step:289/630 loss：0.045890\n",
      "/opt/conda/lib/python3.7/site-packages/sklearn/metrics/_classification.py:1580: UndefinedMetricWarning: F-score is ill-defined and being set to 0.0 in labels with no true nor predicted samples. Use `zero_division` parameter to control this behavior.\n",
      "  _warn_prf(average, \"true nor predicted\", \"F-score is\", len(true_sum))\n",
      "【dev】 loss：11.173618 accuracy：0.0000 micro_f1：0.0000 macro_f1：0.0000\n"
     ]
    },
    {
     "name": "stdout",
     "output_type": "stream",
     "text": [
      "-----bert model output\n"
     ]
    },
    {
     "name": "stderr",
     "output_type": "stream",
     "text": [
      "【train】 epoch：4 step:290/630 loss：0.046729\n",
      "/opt/conda/lib/python3.7/site-packages/sklearn/metrics/_classification.py:1580: UndefinedMetricWarning: F-score is ill-defined and being set to 0.0 in labels with no true nor predicted samples. Use `zero_division` parameter to control this behavior.\n",
      "  _warn_prf(average, \"true nor predicted\", \"F-score is\", len(true_sum))\n",
      "【dev】 loss：11.146228 accuracy：0.0000 micro_f1：0.0000 macro_f1：0.0000\n"
     ]
    },
    {
     "name": "stdout",
     "output_type": "stream",
     "text": [
      "-----bert model output\n"
     ]
    },
    {
     "name": "stderr",
     "output_type": "stream",
     "text": [
      "【train】 epoch：4 step:291/630 loss：0.050647\n",
      "/opt/conda/lib/python3.7/site-packages/sklearn/metrics/_classification.py:1580: UndefinedMetricWarning: F-score is ill-defined and being set to 0.0 in labels with no true nor predicted samples. Use `zero_division` parameter to control this behavior.\n",
      "  _warn_prf(average, \"true nor predicted\", \"F-score is\", len(true_sum))\n",
      "【dev】 loss：11.119425 accuracy：0.0000 micro_f1：0.0000 macro_f1：0.0000\n"
     ]
    },
    {
     "name": "stdout",
     "output_type": "stream",
     "text": [
      "-----bert model output\n"
     ]
    },
    {
     "name": "stderr",
     "output_type": "stream",
     "text": [
      "【train】 epoch：4 step:292/630 loss：0.046865\n",
      "/opt/conda/lib/python3.7/site-packages/sklearn/metrics/_classification.py:1580: UndefinedMetricWarning: F-score is ill-defined and being set to 0.0 in labels with no true nor predicted samples. Use `zero_division` parameter to control this behavior.\n",
      "  _warn_prf(average, \"true nor predicted\", \"F-score is\", len(true_sum))\n",
      "【dev】 loss：11.092763 accuracy：0.0000 micro_f1：0.0000 macro_f1：0.0000\n"
     ]
    },
    {
     "name": "stdout",
     "output_type": "stream",
     "text": [
      "-----bert model output\n"
     ]
    },
    {
     "name": "stderr",
     "output_type": "stream",
     "text": [
      "【train】 epoch：4 step:293/630 loss：0.048342\n",
      "/opt/conda/lib/python3.7/site-packages/sklearn/metrics/_classification.py:1580: UndefinedMetricWarning: F-score is ill-defined and being set to 0.0 in labels with no true nor predicted samples. Use `zero_division` parameter to control this behavior.\n",
      "  _warn_prf(average, \"true nor predicted\", \"F-score is\", len(true_sum))\n",
      "【dev】 loss：11.066354 accuracy：0.0000 micro_f1：0.0000 macro_f1：0.0000\n"
     ]
    },
    {
     "name": "stdout",
     "output_type": "stream",
     "text": [
      "-----bert model output\n"
     ]
    },
    {
     "name": "stderr",
     "output_type": "stream",
     "text": [
      "【train】 epoch：4 step:294/630 loss：0.047719\n",
      "/opt/conda/lib/python3.7/site-packages/sklearn/metrics/_classification.py:1580: UndefinedMetricWarning: F-score is ill-defined and being set to 0.0 in labels with no true nor predicted samples. Use `zero_division` parameter to control this behavior.\n",
      "  _warn_prf(average, \"true nor predicted\", \"F-score is\", len(true_sum))\n",
      "【dev】 loss：11.040232 accuracy：0.0000 micro_f1：0.0000 macro_f1：0.0000\n"
     ]
    },
    {
     "name": "stdout",
     "output_type": "stream",
     "text": [
      "-----bert model output\n"
     ]
    },
    {
     "name": "stderr",
     "output_type": "stream",
     "text": [
      "【train】 epoch：4 step:295/630 loss：0.047485\n",
      "/opt/conda/lib/python3.7/site-packages/sklearn/metrics/_classification.py:1580: UndefinedMetricWarning: F-score is ill-defined and being set to 0.0 in labels with no true nor predicted samples. Use `zero_division` parameter to control this behavior.\n",
      "  _warn_prf(average, \"true nor predicted\", \"F-score is\", len(true_sum))\n",
      "【dev】 loss：11.014182 accuracy：0.0000 micro_f1：0.0000 macro_f1：0.0000\n"
     ]
    },
    {
     "name": "stdout",
     "output_type": "stream",
     "text": [
      "-----bert model output\n"
     ]
    },
    {
     "name": "stderr",
     "output_type": "stream",
     "text": [
      "【train】 epoch：4 step:296/630 loss：0.047132\n",
      "/opt/conda/lib/python3.7/site-packages/sklearn/metrics/_classification.py:1580: UndefinedMetricWarning: F-score is ill-defined and being set to 0.0 in labels with no true nor predicted samples. Use `zero_division` parameter to control this behavior.\n",
      "  _warn_prf(average, \"true nor predicted\", \"F-score is\", len(true_sum))\n",
      "【dev】 loss：10.988420 accuracy：0.0000 micro_f1：0.0000 macro_f1：0.0000\n"
     ]
    },
    {
     "name": "stdout",
     "output_type": "stream",
     "text": [
      "-----bert model output\n"
     ]
    },
    {
     "name": "stderr",
     "output_type": "stream",
     "text": [
      "【train】 epoch：4 step:297/630 loss：0.044721\n",
      "/opt/conda/lib/python3.7/site-packages/sklearn/metrics/_classification.py:1580: UndefinedMetricWarning: F-score is ill-defined and being set to 0.0 in labels with no true nor predicted samples. Use `zero_division` parameter to control this behavior.\n",
      "  _warn_prf(average, \"true nor predicted\", \"F-score is\", len(true_sum))\n",
      "【dev】 loss：10.962430 accuracy：0.0000 micro_f1：0.0000 macro_f1：0.0000\n"
     ]
    },
    {
     "name": "stdout",
     "output_type": "stream",
     "text": [
      "-----bert model output\n"
     ]
    },
    {
     "name": "stderr",
     "output_type": "stream",
     "text": [
      "【train】 epoch：4 step:298/630 loss：0.046071\n",
      "/opt/conda/lib/python3.7/site-packages/sklearn/metrics/_classification.py:1580: UndefinedMetricWarning: F-score is ill-defined and being set to 0.0 in labels with no true nor predicted samples. Use `zero_division` parameter to control this behavior.\n",
      "  _warn_prf(average, \"true nor predicted\", \"F-score is\", len(true_sum))\n",
      "【dev】 loss：10.936824 accuracy：0.0000 micro_f1：0.0000 macro_f1：0.0000\n"
     ]
    },
    {
     "name": "stdout",
     "output_type": "stream",
     "text": [
      "-----bert model output\n"
     ]
    },
    {
     "name": "stderr",
     "output_type": "stream",
     "text": [
      "【train】 epoch：4 step:299/630 loss：0.045739\n",
      "/opt/conda/lib/python3.7/site-packages/sklearn/metrics/_classification.py:1580: UndefinedMetricWarning: F-score is ill-defined and being set to 0.0 in labels with no true nor predicted samples. Use `zero_division` parameter to control this behavior.\n",
      "  _warn_prf(average, \"true nor predicted\", \"F-score is\", len(true_sum))\n",
      "【dev】 loss：10.910961 accuracy：0.0000 micro_f1：0.0000 macro_f1：0.0000\n"
     ]
    },
    {
     "name": "stdout",
     "output_type": "stream",
     "text": [
      "-----bert model output\n"
     ]
    },
    {
     "name": "stderr",
     "output_type": "stream",
     "text": [
      "【train】 epoch：4 step:300/630 loss：0.047641\n",
      "/opt/conda/lib/python3.7/site-packages/sklearn/metrics/_classification.py:1580: UndefinedMetricWarning: F-score is ill-defined and being set to 0.0 in labels with no true nor predicted samples. Use `zero_division` parameter to control this behavior.\n",
      "  _warn_prf(average, \"true nor predicted\", \"F-score is\", len(true_sum))\n",
      "【dev】 loss：10.885427 accuracy：0.0000 micro_f1：0.0000 macro_f1：0.0000\n"
     ]
    },
    {
     "name": "stdout",
     "output_type": "stream",
     "text": [
      "-----bert model output\n"
     ]
    },
    {
     "name": "stderr",
     "output_type": "stream",
     "text": [
      "【train】 epoch：4 step:301/630 loss：0.048063\n",
      "/opt/conda/lib/python3.7/site-packages/sklearn/metrics/_classification.py:1580: UndefinedMetricWarning: F-score is ill-defined and being set to 0.0 in labels with no true nor predicted samples. Use `zero_division` parameter to control this behavior.\n",
      "  _warn_prf(average, \"true nor predicted\", \"F-score is\", len(true_sum))\n",
      "【dev】 loss：10.860176 accuracy：0.0000 micro_f1：0.0000 macro_f1：0.0000\n"
     ]
    },
    {
     "name": "stdout",
     "output_type": "stream",
     "text": [
      "-----bert model output\n"
     ]
    },
    {
     "name": "stderr",
     "output_type": "stream",
     "text": [
      "【train】 epoch：4 step:302/630 loss：0.047767\n",
      "/opt/conda/lib/python3.7/site-packages/sklearn/metrics/_classification.py:1580: UndefinedMetricWarning: F-score is ill-defined and being set to 0.0 in labels with no true nor predicted samples. Use `zero_division` parameter to control this behavior.\n",
      "  _warn_prf(average, \"true nor predicted\", \"F-score is\", len(true_sum))\n",
      "【dev】 loss：10.835432 accuracy：0.0000 micro_f1：0.0000 macro_f1：0.0000\n"
     ]
    },
    {
     "name": "stdout",
     "output_type": "stream",
     "text": [
      "-----bert model output\n"
     ]
    },
    {
     "name": "stderr",
     "output_type": "stream",
     "text": [
      "【train】 epoch：4 step:303/630 loss：0.045171\n",
      "/opt/conda/lib/python3.7/site-packages/sklearn/metrics/_classification.py:1580: UndefinedMetricWarning: F-score is ill-defined and being set to 0.0 in labels with no true nor predicted samples. Use `zero_division` parameter to control this behavior.\n",
      "  _warn_prf(average, \"true nor predicted\", \"F-score is\", len(true_sum))\n",
      "【dev】 loss：10.811041 accuracy：0.0000 micro_f1：0.0000 macro_f1：0.0000\n"
     ]
    },
    {
     "name": "stdout",
     "output_type": "stream",
     "text": [
      "-----bert model output\n"
     ]
    },
    {
     "name": "stderr",
     "output_type": "stream",
     "text": [
      "【train】 epoch：4 step:304/630 loss：0.047150\n",
      "/opt/conda/lib/python3.7/site-packages/sklearn/metrics/_classification.py:1580: UndefinedMetricWarning: F-score is ill-defined and being set to 0.0 in labels with no true nor predicted samples. Use `zero_division` parameter to control this behavior.\n",
      "  _warn_prf(average, \"true nor predicted\", \"F-score is\", len(true_sum))\n",
      "【dev】 loss：10.786808 accuracy：0.0000 micro_f1：0.0000 macro_f1：0.0000\n"
     ]
    },
    {
     "name": "stdout",
     "output_type": "stream",
     "text": [
      "-----bert model output\n"
     ]
    },
    {
     "name": "stderr",
     "output_type": "stream",
     "text": [
      "【train】 epoch：4 step:305/630 loss：0.044208\n",
      "/opt/conda/lib/python3.7/site-packages/sklearn/metrics/_classification.py:1580: UndefinedMetricWarning: F-score is ill-defined and being set to 0.0 in labels with no true nor predicted samples. Use `zero_division` parameter to control this behavior.\n",
      "  _warn_prf(average, \"true nor predicted\", \"F-score is\", len(true_sum))\n",
      "【dev】 loss：10.762525 accuracy：0.0000 micro_f1：0.0000 macro_f1：0.0000\n"
     ]
    },
    {
     "name": "stdout",
     "output_type": "stream",
     "text": [
      "-----bert model output\n"
     ]
    },
    {
     "name": "stderr",
     "output_type": "stream",
     "text": [
      "【train】 epoch：4 step:306/630 loss：0.047438\n",
      "/opt/conda/lib/python3.7/site-packages/sklearn/metrics/_classification.py:1580: UndefinedMetricWarning: F-score is ill-defined and being set to 0.0 in labels with no true nor predicted samples. Use `zero_division` parameter to control this behavior.\n",
      "  _warn_prf(average, \"true nor predicted\", \"F-score is\", len(true_sum))\n",
      "【dev】 loss：10.738452 accuracy：0.0000 micro_f1：0.0000 macro_f1：0.0000\n"
     ]
    },
    {
     "name": "stdout",
     "output_type": "stream",
     "text": [
      "-----bert model output\n"
     ]
    },
    {
     "name": "stderr",
     "output_type": "stream",
     "text": [
      "【train】 epoch：4 step:307/630 loss：0.050071\n",
      "/opt/conda/lib/python3.7/site-packages/sklearn/metrics/_classification.py:1580: UndefinedMetricWarning: F-score is ill-defined and being set to 0.0 in labels with no true nor predicted samples. Use `zero_division` parameter to control this behavior.\n",
      "  _warn_prf(average, \"true nor predicted\", \"F-score is\", len(true_sum))\n",
      "【dev】 loss：10.715008 accuracy：0.0000 micro_f1：0.0000 macro_f1：0.0000\n"
     ]
    },
    {
     "name": "stdout",
     "output_type": "stream",
     "text": [
      "-----bert model output\n"
     ]
    },
    {
     "name": "stderr",
     "output_type": "stream",
     "text": [
      "【train】 epoch：4 step:308/630 loss：0.041585\n",
      "/opt/conda/lib/python3.7/site-packages/sklearn/metrics/_classification.py:1580: UndefinedMetricWarning: F-score is ill-defined and being set to 0.0 in labels with no true nor predicted samples. Use `zero_division` parameter to control this behavior.\n",
      "  _warn_prf(average, \"true nor predicted\", \"F-score is\", len(true_sum))\n",
      "【dev】 loss：10.691712 accuracy：0.0000 micro_f1：0.0000 macro_f1：0.0000\n"
     ]
    },
    {
     "name": "stdout",
     "output_type": "stream",
     "text": [
      "-----bert model output\n"
     ]
    },
    {
     "name": "stderr",
     "output_type": "stream",
     "text": [
      "【train】 epoch：4 step:309/630 loss：0.046496\n",
      "/opt/conda/lib/python3.7/site-packages/sklearn/metrics/_classification.py:1580: UndefinedMetricWarning: F-score is ill-defined and being set to 0.0 in labels with no true nor predicted samples. Use `zero_division` parameter to control this behavior.\n",
      "  _warn_prf(average, \"true nor predicted\", \"F-score is\", len(true_sum))\n",
      "【dev】 loss：10.668479 accuracy：0.0000 micro_f1：0.0000 macro_f1：0.0000\n"
     ]
    },
    {
     "name": "stdout",
     "output_type": "stream",
     "text": [
      "-----bert model output\n"
     ]
    },
    {
     "name": "stderr",
     "output_type": "stream",
     "text": [
      "【train】 epoch：4 step:310/630 loss：0.045838\n",
      "/opt/conda/lib/python3.7/site-packages/sklearn/metrics/_classification.py:1580: UndefinedMetricWarning: F-score is ill-defined and being set to 0.0 in labels with no true nor predicted samples. Use `zero_division` parameter to control this behavior.\n",
      "  _warn_prf(average, \"true nor predicted\", \"F-score is\", len(true_sum))\n",
      "【dev】 loss：10.645313 accuracy：0.0000 micro_f1：0.0000 macro_f1：0.0000\n"
     ]
    },
    {
     "name": "stdout",
     "output_type": "stream",
     "text": [
      "-----bert model output\n"
     ]
    },
    {
     "name": "stderr",
     "output_type": "stream",
     "text": [
      "【train】 epoch：4 step:311/630 loss：0.047184\n",
      "/opt/conda/lib/python3.7/site-packages/sklearn/metrics/_classification.py:1580: UndefinedMetricWarning: F-score is ill-defined and being set to 0.0 in labels with no true nor predicted samples. Use `zero_division` parameter to control this behavior.\n",
      "  _warn_prf(average, \"true nor predicted\", \"F-score is\", len(true_sum))\n",
      "【dev】 loss：10.622531 accuracy：0.0000 micro_f1：0.0000 macro_f1：0.0000\n"
     ]
    },
    {
     "name": "stdout",
     "output_type": "stream",
     "text": [
      "-----bert model output\n"
     ]
    },
    {
     "name": "stderr",
     "output_type": "stream",
     "text": [
      "【train】 epoch：4 step:312/630 loss：0.046076\n",
      "/opt/conda/lib/python3.7/site-packages/sklearn/metrics/_classification.py:1580: UndefinedMetricWarning: F-score is ill-defined and being set to 0.0 in labels with no true nor predicted samples. Use `zero_division` parameter to control this behavior.\n",
      "  _warn_prf(average, \"true nor predicted\", \"F-score is\", len(true_sum))\n",
      "【dev】 loss：10.600277 accuracy：0.0000 micro_f1：0.0000 macro_f1：0.0000\n"
     ]
    },
    {
     "name": "stdout",
     "output_type": "stream",
     "text": [
      "-----bert model output\n"
     ]
    },
    {
     "name": "stderr",
     "output_type": "stream",
     "text": [
      "【train】 epoch：4 step:313/630 loss：0.045122\n",
      "/opt/conda/lib/python3.7/site-packages/sklearn/metrics/_classification.py:1580: UndefinedMetricWarning: F-score is ill-defined and being set to 0.0 in labels with no true nor predicted samples. Use `zero_division` parameter to control this behavior.\n",
      "  _warn_prf(average, \"true nor predicted\", \"F-score is\", len(true_sum))\n",
      "【dev】 loss：10.577977 accuracy：0.0000 micro_f1：0.0000 macro_f1：0.0000\n",
      "【train】 epoch：4 step:314/630 loss：0.047053\n"
     ]
    },
    {
     "name": "stdout",
     "output_type": "stream",
     "text": [
      "-----bert model output\n"
     ]
    },
    {
     "name": "stderr",
     "output_type": "stream",
     "text": [
      "/opt/conda/lib/python3.7/site-packages/sklearn/metrics/_classification.py:1580: UndefinedMetricWarning: F-score is ill-defined and being set to 0.0 in labels with no true nor predicted samples. Use `zero_division` parameter to control this behavior.\n",
      "  _warn_prf(average, \"true nor predicted\", \"F-score is\", len(true_sum))\n",
      "【dev】 loss：10.555924 accuracy：0.0000 micro_f1：0.0000 macro_f1：0.0000\n"
     ]
    },
    {
     "name": "stdout",
     "output_type": "stream",
     "text": [
      "-----bert model output\n"
     ]
    },
    {
     "name": "stderr",
     "output_type": "stream",
     "text": [
      "【train】 epoch：5 step:315/630 loss：0.044426\n",
      "/opt/conda/lib/python3.7/site-packages/sklearn/metrics/_classification.py:1580: UndefinedMetricWarning: F-score is ill-defined and being set to 0.0 in labels with no true nor predicted samples. Use `zero_division` parameter to control this behavior.\n",
      "  _warn_prf(average, \"true nor predicted\", \"F-score is\", len(true_sum))\n",
      "【dev】 loss：10.534039 accuracy：0.0000 micro_f1：0.0000 macro_f1：0.0000\n"
     ]
    },
    {
     "name": "stdout",
     "output_type": "stream",
     "text": [
      "-----bert model output\n"
     ]
    },
    {
     "name": "stderr",
     "output_type": "stream",
     "text": [
      "【train】 epoch：5 step:316/630 loss：0.043553\n",
      "/opt/conda/lib/python3.7/site-packages/sklearn/metrics/_classification.py:1580: UndefinedMetricWarning: F-score is ill-defined and being set to 0.0 in labels with no true nor predicted samples. Use `zero_division` parameter to control this behavior.\n",
      "  _warn_prf(average, \"true nor predicted\", \"F-score is\", len(true_sum))\n",
      "【dev】 loss：10.512471 accuracy：0.0000 micro_f1：0.0000 macro_f1：0.0000\n"
     ]
    },
    {
     "name": "stdout",
     "output_type": "stream",
     "text": [
      "-----bert model output\n"
     ]
    },
    {
     "name": "stderr",
     "output_type": "stream",
     "text": [
      "【train】 epoch：5 step:317/630 loss：0.046529\n",
      "/opt/conda/lib/python3.7/site-packages/sklearn/metrics/_classification.py:1580: UndefinedMetricWarning: F-score is ill-defined and being set to 0.0 in labels with no true nor predicted samples. Use `zero_division` parameter to control this behavior.\n",
      "  _warn_prf(average, \"true nor predicted\", \"F-score is\", len(true_sum))\n",
      "【dev】 loss：10.491313 accuracy：0.0000 micro_f1：0.0000 macro_f1：0.0000\n"
     ]
    },
    {
     "name": "stdout",
     "output_type": "stream",
     "text": [
      "-----bert model output\n"
     ]
    },
    {
     "name": "stderr",
     "output_type": "stream",
     "text": [
      "【train】 epoch：5 step:318/630 loss：0.041877\n",
      "/opt/conda/lib/python3.7/site-packages/sklearn/metrics/_classification.py:1580: UndefinedMetricWarning: F-score is ill-defined and being set to 0.0 in labels with no true nor predicted samples. Use `zero_division` parameter to control this behavior.\n",
      "  _warn_prf(average, \"true nor predicted\", \"F-score is\", len(true_sum))\n",
      "【dev】 loss：10.470412 accuracy：0.0000 micro_f1：0.0000 macro_f1：0.0000\n"
     ]
    },
    {
     "name": "stdout",
     "output_type": "stream",
     "text": [
      "-----bert model output\n"
     ]
    },
    {
     "name": "stderr",
     "output_type": "stream",
     "text": [
      "【train】 epoch：5 step:319/630 loss：0.051476\n",
      "/opt/conda/lib/python3.7/site-packages/sklearn/metrics/_classification.py:1580: UndefinedMetricWarning: F-score is ill-defined and being set to 0.0 in labels with no true nor predicted samples. Use `zero_division` parameter to control this behavior.\n",
      "  _warn_prf(average, \"true nor predicted\", \"F-score is\", len(true_sum))\n",
      "【dev】 loss：10.450285 accuracy：0.0000 micro_f1：0.0000 macro_f1：0.0000\n"
     ]
    },
    {
     "name": "stdout",
     "output_type": "stream",
     "text": [
      "-----bert model output\n"
     ]
    },
    {
     "name": "stderr",
     "output_type": "stream",
     "text": [
      "【train】 epoch：5 step:320/630 loss：0.050740\n",
      "/opt/conda/lib/python3.7/site-packages/sklearn/metrics/_classification.py:1580: UndefinedMetricWarning: F-score is ill-defined and being set to 0.0 in labels with no true nor predicted samples. Use `zero_division` parameter to control this behavior.\n",
      "  _warn_prf(average, \"true nor predicted\", \"F-score is\", len(true_sum))\n",
      "【dev】 loss：10.430184 accuracy：0.0000 micro_f1：0.0000 macro_f1：0.0000\n"
     ]
    },
    {
     "name": "stdout",
     "output_type": "stream",
     "text": [
      "-----bert model output\n"
     ]
    },
    {
     "name": "stderr",
     "output_type": "stream",
     "text": [
      "【train】 epoch：5 step:321/630 loss：0.045087\n",
      "/opt/conda/lib/python3.7/site-packages/sklearn/metrics/_classification.py:1580: UndefinedMetricWarning: F-score is ill-defined and being set to 0.0 in labels with no true nor predicted samples. Use `zero_division` parameter to control this behavior.\n",
      "  _warn_prf(average, \"true nor predicted\", \"F-score is\", len(true_sum))\n",
      "【dev】 loss：10.410165 accuracy：0.0000 micro_f1：0.0000 macro_f1：0.0000\n"
     ]
    },
    {
     "name": "stdout",
     "output_type": "stream",
     "text": [
      "-----bert model output\n"
     ]
    },
    {
     "name": "stderr",
     "output_type": "stream",
     "text": [
      "【train】 epoch：5 step:322/630 loss：0.042926\n",
      "/opt/conda/lib/python3.7/site-packages/sklearn/metrics/_classification.py:1580: UndefinedMetricWarning: F-score is ill-defined and being set to 0.0 in labels with no true nor predicted samples. Use `zero_division` parameter to control this behavior.\n",
      "  _warn_prf(average, \"true nor predicted\", \"F-score is\", len(true_sum))\n",
      "【dev】 loss：10.390161 accuracy：0.0000 micro_f1：0.0000 macro_f1：0.0000\n"
     ]
    },
    {
     "name": "stdout",
     "output_type": "stream",
     "text": [
      "-----bert model output\n"
     ]
    },
    {
     "name": "stderr",
     "output_type": "stream",
     "text": [
      "【train】 epoch：5 step:323/630 loss：0.048095\n",
      "/opt/conda/lib/python3.7/site-packages/sklearn/metrics/_classification.py:1580: UndefinedMetricWarning: F-score is ill-defined and being set to 0.0 in labels with no true nor predicted samples. Use `zero_division` parameter to control this behavior.\n",
      "  _warn_prf(average, \"true nor predicted\", \"F-score is\", len(true_sum))\n",
      "【dev】 loss：10.370159 accuracy：0.0000 micro_f1：0.0000 macro_f1：0.0000\n"
     ]
    },
    {
     "name": "stdout",
     "output_type": "stream",
     "text": [
      "-----bert model output\n"
     ]
    },
    {
     "name": "stderr",
     "output_type": "stream",
     "text": [
      "【train】 epoch：5 step:324/630 loss：0.041992\n",
      "/opt/conda/lib/python3.7/site-packages/sklearn/metrics/_classification.py:1580: UndefinedMetricWarning: F-score is ill-defined and being set to 0.0 in labels with no true nor predicted samples. Use `zero_division` parameter to control this behavior.\n",
      "  _warn_prf(average, \"true nor predicted\", \"F-score is\", len(true_sum))\n",
      "【dev】 loss：10.349702 accuracy：0.0000 micro_f1：0.0000 macro_f1：0.0000\n"
     ]
    },
    {
     "name": "stdout",
     "output_type": "stream",
     "text": [
      "-----bert model output\n"
     ]
    },
    {
     "name": "stderr",
     "output_type": "stream",
     "text": [
      "【train】 epoch：5 step:325/630 loss：0.049723\n",
      "/opt/conda/lib/python3.7/site-packages/sklearn/metrics/_classification.py:1580: UndefinedMetricWarning: F-score is ill-defined and being set to 0.0 in labels with no true nor predicted samples. Use `zero_division` parameter to control this behavior.\n",
      "  _warn_prf(average, \"true nor predicted\", \"F-score is\", len(true_sum))\n",
      "【dev】 loss：10.329317 accuracy：0.0000 micro_f1：0.0000 macro_f1：0.0000\n"
     ]
    },
    {
     "name": "stdout",
     "output_type": "stream",
     "text": [
      "-----bert model output\n"
     ]
    },
    {
     "name": "stderr",
     "output_type": "stream",
     "text": [
      "【train】 epoch：5 step:326/630 loss：0.044969\n",
      "/opt/conda/lib/python3.7/site-packages/sklearn/metrics/_classification.py:1580: UndefinedMetricWarning: F-score is ill-defined and being set to 0.0 in labels with no true nor predicted samples. Use `zero_division` parameter to control this behavior.\n",
      "  _warn_prf(average, \"true nor predicted\", \"F-score is\", len(true_sum))\n",
      "【dev】 loss：10.308815 accuracy：0.0000 micro_f1：0.0000 macro_f1：0.0000\n"
     ]
    },
    {
     "name": "stdout",
     "output_type": "stream",
     "text": [
      "-----bert model output\n"
     ]
    },
    {
     "name": "stderr",
     "output_type": "stream",
     "text": [
      "【train】 epoch：5 step:327/630 loss：0.048748\n",
      "/opt/conda/lib/python3.7/site-packages/sklearn/metrics/_classification.py:1580: UndefinedMetricWarning: F-score is ill-defined and being set to 0.0 in labels with no true nor predicted samples. Use `zero_division` parameter to control this behavior.\n",
      "  _warn_prf(average, \"true nor predicted\", \"F-score is\", len(true_sum))\n",
      "【dev】 loss：10.288857 accuracy：0.0000 micro_f1：0.0000 macro_f1：0.0000\n"
     ]
    },
    {
     "name": "stdout",
     "output_type": "stream",
     "text": [
      "-----bert model output\n"
     ]
    },
    {
     "name": "stderr",
     "output_type": "stream",
     "text": [
      "【train】 epoch：5 step:328/630 loss：0.043401\n",
      "/opt/conda/lib/python3.7/site-packages/sklearn/metrics/_classification.py:1580: UndefinedMetricWarning: F-score is ill-defined and being set to 0.0 in labels with no true nor predicted samples. Use `zero_division` parameter to control this behavior.\n",
      "  _warn_prf(average, \"true nor predicted\", \"F-score is\", len(true_sum))\n",
      "【dev】 loss：10.269176 accuracy：0.0000 micro_f1：0.0000 macro_f1：0.0000\n"
     ]
    },
    {
     "name": "stdout",
     "output_type": "stream",
     "text": [
      "-----bert model output\n"
     ]
    },
    {
     "name": "stderr",
     "output_type": "stream",
     "text": [
      "【train】 epoch：5 step:329/630 loss：0.044544\n",
      "/opt/conda/lib/python3.7/site-packages/sklearn/metrics/_classification.py:1580: UndefinedMetricWarning: F-score is ill-defined and being set to 0.0 in labels with no true nor predicted samples. Use `zero_division` parameter to control this behavior.\n",
      "  _warn_prf(average, \"true nor predicted\", \"F-score is\", len(true_sum))\n",
      "【dev】 loss：10.249725 accuracy：0.0000 micro_f1：0.0000 macro_f1：0.0000\n"
     ]
    },
    {
     "name": "stdout",
     "output_type": "stream",
     "text": [
      "-----bert model output\n"
     ]
    },
    {
     "name": "stderr",
     "output_type": "stream",
     "text": [
      "【train】 epoch：5 step:330/630 loss：0.042341\n",
      "/opt/conda/lib/python3.7/site-packages/sklearn/metrics/_classification.py:1580: UndefinedMetricWarning: F-score is ill-defined and being set to 0.0 in labels with no true nor predicted samples. Use `zero_division` parameter to control this behavior.\n",
      "  _warn_prf(average, \"true nor predicted\", \"F-score is\", len(true_sum))\n",
      "【dev】 loss：10.230484 accuracy：0.0000 micro_f1：0.0000 macro_f1：0.0000\n"
     ]
    },
    {
     "name": "stdout",
     "output_type": "stream",
     "text": [
      "-----bert model output\n"
     ]
    },
    {
     "name": "stderr",
     "output_type": "stream",
     "text": [
      "【train】 epoch：5 step:331/630 loss：0.044110\n",
      "/opt/conda/lib/python3.7/site-packages/sklearn/metrics/_classification.py:1580: UndefinedMetricWarning: F-score is ill-defined and being set to 0.0 in labels with no true nor predicted samples. Use `zero_division` parameter to control this behavior.\n",
      "  _warn_prf(average, \"true nor predicted\", \"F-score is\", len(true_sum))\n",
      "【dev】 loss：10.211528 accuracy：0.0000 micro_f1：0.0000 macro_f1：0.0000\n"
     ]
    },
    {
     "name": "stdout",
     "output_type": "stream",
     "text": [
      "-----bert model output\n"
     ]
    },
    {
     "name": "stderr",
     "output_type": "stream",
     "text": [
      "【train】 epoch：5 step:332/630 loss：0.042831\n",
      "/opt/conda/lib/python3.7/site-packages/sklearn/metrics/_classification.py:1580: UndefinedMetricWarning: F-score is ill-defined and being set to 0.0 in labels with no true nor predicted samples. Use `zero_division` parameter to control this behavior.\n",
      "  _warn_prf(average, \"true nor predicted\", \"F-score is\", len(true_sum))\n",
      "【dev】 loss：10.192611 accuracy：0.0000 micro_f1：0.0000 macro_f1：0.0000\n"
     ]
    },
    {
     "name": "stdout",
     "output_type": "stream",
     "text": [
      "-----bert model output\n"
     ]
    },
    {
     "name": "stderr",
     "output_type": "stream",
     "text": [
      "【train】 epoch：5 step:333/630 loss：0.044641\n",
      "/opt/conda/lib/python3.7/site-packages/sklearn/metrics/_classification.py:1580: UndefinedMetricWarning: F-score is ill-defined and being set to 0.0 in labels with no true nor predicted samples. Use `zero_division` parameter to control this behavior.\n",
      "  _warn_prf(average, \"true nor predicted\", \"F-score is\", len(true_sum))\n",
      "【dev】 loss：10.174027 accuracy：0.0000 micro_f1：0.0000 macro_f1：0.0000\n"
     ]
    },
    {
     "name": "stdout",
     "output_type": "stream",
     "text": [
      "-----bert model output\n"
     ]
    },
    {
     "name": "stderr",
     "output_type": "stream",
     "text": [
      "【train】 epoch：5 step:334/630 loss：0.047075\n",
      "/opt/conda/lib/python3.7/site-packages/sklearn/metrics/_classification.py:1580: UndefinedMetricWarning: F-score is ill-defined and being set to 0.0 in labels with no true nor predicted samples. Use `zero_division` parameter to control this behavior.\n",
      "  _warn_prf(average, \"true nor predicted\", \"F-score is\", len(true_sum))\n",
      "【dev】 loss：10.155649 accuracy：0.0000 micro_f1：0.0000 macro_f1：0.0000\n"
     ]
    },
    {
     "name": "stdout",
     "output_type": "stream",
     "text": [
      "-----bert model output\n"
     ]
    },
    {
     "name": "stderr",
     "output_type": "stream",
     "text": [
      "【train】 epoch：5 step:335/630 loss：0.043495\n",
      "/opt/conda/lib/python3.7/site-packages/sklearn/metrics/_classification.py:1580: UndefinedMetricWarning: F-score is ill-defined and being set to 0.0 in labels with no true nor predicted samples. Use `zero_division` parameter to control this behavior.\n",
      "  _warn_prf(average, \"true nor predicted\", \"F-score is\", len(true_sum))\n",
      "【dev】 loss：10.137539 accuracy：0.0000 micro_f1：0.0000 macro_f1：0.0000\n"
     ]
    },
    {
     "name": "stdout",
     "output_type": "stream",
     "text": [
      "-----bert model output\n"
     ]
    },
    {
     "name": "stderr",
     "output_type": "stream",
     "text": [
      "【train】 epoch：5 step:336/630 loss：0.043683\n",
      "/opt/conda/lib/python3.7/site-packages/sklearn/metrics/_classification.py:1580: UndefinedMetricWarning: F-score is ill-defined and being set to 0.0 in labels with no true nor predicted samples. Use `zero_division` parameter to control this behavior.\n",
      "  _warn_prf(average, \"true nor predicted\", \"F-score is\", len(true_sum))\n",
      "【dev】 loss：10.119503 accuracy：0.0000 micro_f1：0.0000 macro_f1：0.0000\n"
     ]
    },
    {
     "name": "stdout",
     "output_type": "stream",
     "text": [
      "-----bert model output\n"
     ]
    },
    {
     "name": "stderr",
     "output_type": "stream",
     "text": [
      "【train】 epoch：5 step:337/630 loss：0.044266\n",
      "/opt/conda/lib/python3.7/site-packages/sklearn/metrics/_classification.py:1580: UndefinedMetricWarning: F-score is ill-defined and being set to 0.0 in labels with no true nor predicted samples. Use `zero_division` parameter to control this behavior.\n",
      "  _warn_prf(average, \"true nor predicted\", \"F-score is\", len(true_sum))\n",
      "【dev】 loss：10.101561 accuracy：0.0000 micro_f1：0.0000 macro_f1：0.0000\n"
     ]
    },
    {
     "name": "stdout",
     "output_type": "stream",
     "text": [
      "-----bert model output\n"
     ]
    },
    {
     "name": "stderr",
     "output_type": "stream",
     "text": [
      "【train】 epoch：5 step:338/630 loss：0.044068\n",
      "/opt/conda/lib/python3.7/site-packages/sklearn/metrics/_classification.py:1580: UndefinedMetricWarning: F-score is ill-defined and being set to 0.0 in labels with no true nor predicted samples. Use `zero_division` parameter to control this behavior.\n",
      "  _warn_prf(average, \"true nor predicted\", \"F-score is\", len(true_sum))\n",
      "【dev】 loss：10.083983 accuracy：0.0000 micro_f1：0.0000 macro_f1：0.0000\n"
     ]
    },
    {
     "name": "stdout",
     "output_type": "stream",
     "text": [
      "-----bert model output\n"
     ]
    },
    {
     "name": "stderr",
     "output_type": "stream",
     "text": [
      "【train】 epoch：5 step:339/630 loss：0.041117\n",
      "/opt/conda/lib/python3.7/site-packages/sklearn/metrics/_classification.py:1580: UndefinedMetricWarning: F-score is ill-defined and being set to 0.0 in labels with no true nor predicted samples. Use `zero_division` parameter to control this behavior.\n",
      "  _warn_prf(average, \"true nor predicted\", \"F-score is\", len(true_sum))\n",
      "【dev】 loss：10.066167 accuracy：0.0000 micro_f1：0.0000 macro_f1：0.0000\n"
     ]
    },
    {
     "name": "stdout",
     "output_type": "stream",
     "text": [
      "-----bert model output\n"
     ]
    },
    {
     "name": "stderr",
     "output_type": "stream",
     "text": [
      "【train】 epoch：5 step:340/630 loss：0.043320\n",
      "/opt/conda/lib/python3.7/site-packages/sklearn/metrics/_classification.py:1580: UndefinedMetricWarning: F-score is ill-defined and being set to 0.0 in labels with no true nor predicted samples. Use `zero_division` parameter to control this behavior.\n",
      "  _warn_prf(average, \"true nor predicted\", \"F-score is\", len(true_sum))\n",
      "【dev】 loss：10.048369 accuracy：0.0000 micro_f1：0.0000 macro_f1：0.0000\n"
     ]
    },
    {
     "name": "stdout",
     "output_type": "stream",
     "text": [
      "-----bert model output\n"
     ]
    },
    {
     "name": "stderr",
     "output_type": "stream",
     "text": [
      "【train】 epoch：5 step:341/630 loss：0.041508\n",
      "/opt/conda/lib/python3.7/site-packages/sklearn/metrics/_classification.py:1580: UndefinedMetricWarning: F-score is ill-defined and being set to 0.0 in labels with no true nor predicted samples. Use `zero_division` parameter to control this behavior.\n",
      "  _warn_prf(average, \"true nor predicted\", \"F-score is\", len(true_sum))\n",
      "【dev】 loss：10.030878 accuracy：0.0000 micro_f1：0.0000 macro_f1：0.0000\n"
     ]
    },
    {
     "name": "stdout",
     "output_type": "stream",
     "text": [
      "-----bert model output\n"
     ]
    },
    {
     "name": "stderr",
     "output_type": "stream",
     "text": [
      "【train】 epoch：5 step:342/630 loss：0.046164\n",
      "/opt/conda/lib/python3.7/site-packages/sklearn/metrics/_classification.py:1580: UndefinedMetricWarning: F-score is ill-defined and being set to 0.0 in labels with no true nor predicted samples. Use `zero_division` parameter to control this behavior.\n",
      "  _warn_prf(average, \"true nor predicted\", \"F-score is\", len(true_sum))\n",
      "【dev】 loss：10.013755 accuracy：0.0000 micro_f1：0.0000 macro_f1：0.0000\n"
     ]
    },
    {
     "name": "stdout",
     "output_type": "stream",
     "text": [
      "-----bert model output\n"
     ]
    },
    {
     "name": "stderr",
     "output_type": "stream",
     "text": [
      "【train】 epoch：5 step:343/630 loss：0.044524\n",
      "/opt/conda/lib/python3.7/site-packages/sklearn/metrics/_classification.py:1580: UndefinedMetricWarning: F-score is ill-defined and being set to 0.0 in labels with no true nor predicted samples. Use `zero_division` parameter to control this behavior.\n",
      "  _warn_prf(average, \"true nor predicted\", \"F-score is\", len(true_sum))\n",
      "【dev】 loss：9.997155 accuracy：0.0000 micro_f1：0.0000 macro_f1：0.0000\n"
     ]
    },
    {
     "name": "stdout",
     "output_type": "stream",
     "text": [
      "-----bert model output\n"
     ]
    },
    {
     "name": "stderr",
     "output_type": "stream",
     "text": [
      "【train】 epoch：5 step:344/630 loss：0.043689\n",
      "/opt/conda/lib/python3.7/site-packages/sklearn/metrics/_classification.py:1580: UndefinedMetricWarning: F-score is ill-defined and being set to 0.0 in labels with no true nor predicted samples. Use `zero_division` parameter to control this behavior.\n",
      "  _warn_prf(average, \"true nor predicted\", \"F-score is\", len(true_sum))\n",
      "【dev】 loss：9.980738 accuracy：0.0000 micro_f1：0.0000 macro_f1：0.0000\n"
     ]
    },
    {
     "name": "stdout",
     "output_type": "stream",
     "text": [
      "-----bert model output\n"
     ]
    },
    {
     "name": "stderr",
     "output_type": "stream",
     "text": [
      "【train】 epoch：5 step:345/630 loss：0.044761\n",
      "/opt/conda/lib/python3.7/site-packages/sklearn/metrics/_classification.py:1580: UndefinedMetricWarning: F-score is ill-defined and being set to 0.0 in labels with no true nor predicted samples. Use `zero_division` parameter to control this behavior.\n",
      "  _warn_prf(average, \"true nor predicted\", \"F-score is\", len(true_sum))\n",
      "【dev】 loss：9.964651 accuracy：0.0000 micro_f1：0.0000 macro_f1：0.0000\n"
     ]
    },
    {
     "name": "stdout",
     "output_type": "stream",
     "text": [
      "-----bert model output\n"
     ]
    },
    {
     "name": "stderr",
     "output_type": "stream",
     "text": [
      "【train】 epoch：5 step:346/630 loss：0.040746\n",
      "/opt/conda/lib/python3.7/site-packages/sklearn/metrics/_classification.py:1580: UndefinedMetricWarning: F-score is ill-defined and being set to 0.0 in labels with no true nor predicted samples. Use `zero_division` parameter to control this behavior.\n",
      "  _warn_prf(average, \"true nor predicted\", \"F-score is\", len(true_sum))\n",
      "【dev】 loss：9.948421 accuracy：0.0000 micro_f1：0.0000 macro_f1：0.0000\n"
     ]
    },
    {
     "name": "stdout",
     "output_type": "stream",
     "text": [
      "-----bert model output\n"
     ]
    },
    {
     "name": "stderr",
     "output_type": "stream",
     "text": [
      "【train】 epoch：5 step:347/630 loss：0.043606\n",
      "/opt/conda/lib/python3.7/site-packages/sklearn/metrics/_classification.py:1580: UndefinedMetricWarning: F-score is ill-defined and being set to 0.0 in labels with no true nor predicted samples. Use `zero_division` parameter to control this behavior.\n",
      "  _warn_prf(average, \"true nor predicted\", \"F-score is\", len(true_sum))\n",
      "【dev】 loss：9.932530 accuracy：0.0000 micro_f1：0.0000 macro_f1：0.0000\n"
     ]
    },
    {
     "name": "stdout",
     "output_type": "stream",
     "text": [
      "-----bert model output\n"
     ]
    },
    {
     "name": "stderr",
     "output_type": "stream",
     "text": [
      "【train】 epoch：5 step:348/630 loss：0.043044\n",
      "/opt/conda/lib/python3.7/site-packages/sklearn/metrics/_classification.py:1580: UndefinedMetricWarning: F-score is ill-defined and being set to 0.0 in labels with no true nor predicted samples. Use `zero_division` parameter to control this behavior.\n",
      "  _warn_prf(average, \"true nor predicted\", \"F-score is\", len(true_sum))\n",
      "【dev】 loss：9.917144 accuracy：0.0000 micro_f1：0.0000 macro_f1：0.0000\n"
     ]
    },
    {
     "name": "stdout",
     "output_type": "stream",
     "text": [
      "-----bert model output\n"
     ]
    },
    {
     "name": "stderr",
     "output_type": "stream",
     "text": [
      "【train】 epoch：5 step:349/630 loss：0.045758\n",
      "/opt/conda/lib/python3.7/site-packages/sklearn/metrics/_classification.py:1580: UndefinedMetricWarning: F-score is ill-defined and being set to 0.0 in labels with no true nor predicted samples. Use `zero_division` parameter to control this behavior.\n",
      "  _warn_prf(average, \"true nor predicted\", \"F-score is\", len(true_sum))\n",
      "【dev】 loss：9.902387 accuracy：0.0000 micro_f1：0.0000 macro_f1：0.0000\n"
     ]
    },
    {
     "name": "stdout",
     "output_type": "stream",
     "text": [
      "-----bert model output\n"
     ]
    },
    {
     "name": "stderr",
     "output_type": "stream",
     "text": [
      "【train】 epoch：5 step:350/630 loss：0.041621\n",
      "/opt/conda/lib/python3.7/site-packages/sklearn/metrics/_classification.py:1580: UndefinedMetricWarning: F-score is ill-defined and being set to 0.0 in labels with no true nor predicted samples. Use `zero_division` parameter to control this behavior.\n",
      "  _warn_prf(average, \"true nor predicted\", \"F-score is\", len(true_sum))\n",
      "【dev】 loss：9.887307 accuracy：0.0000 micro_f1：0.0000 macro_f1：0.0000\n"
     ]
    },
    {
     "name": "stdout",
     "output_type": "stream",
     "text": [
      "-----bert model output\n"
     ]
    },
    {
     "name": "stderr",
     "output_type": "stream",
     "text": [
      "【train】 epoch：5 step:351/630 loss：0.047095\n",
      "/opt/conda/lib/python3.7/site-packages/sklearn/metrics/_classification.py:1580: UndefinedMetricWarning: F-score is ill-defined and being set to 0.0 in labels with no true nor predicted samples. Use `zero_division` parameter to control this behavior.\n",
      "  _warn_prf(average, \"true nor predicted\", \"F-score is\", len(true_sum))\n",
      "【dev】 loss：9.872265 accuracy：0.0000 micro_f1：0.0000 macro_f1：0.0000\n"
     ]
    },
    {
     "name": "stdout",
     "output_type": "stream",
     "text": [
      "-----bert model output\n"
     ]
    },
    {
     "name": "stderr",
     "output_type": "stream",
     "text": [
      "【train】 epoch：5 step:352/630 loss：0.039866\n",
      "/opt/conda/lib/python3.7/site-packages/sklearn/metrics/_classification.py:1580: UndefinedMetricWarning: F-score is ill-defined and being set to 0.0 in labels with no true nor predicted samples. Use `zero_division` parameter to control this behavior.\n",
      "  _warn_prf(average, \"true nor predicted\", \"F-score is\", len(true_sum))\n",
      "【dev】 loss：9.856562 accuracy：0.0000 micro_f1：0.0000 macro_f1：0.0000\n"
     ]
    },
    {
     "name": "stdout",
     "output_type": "stream",
     "text": [
      "-----bert model output\n"
     ]
    },
    {
     "name": "stderr",
     "output_type": "stream",
     "text": [
      "【train】 epoch：5 step:353/630 loss：0.040853\n",
      "/opt/conda/lib/python3.7/site-packages/sklearn/metrics/_classification.py:1580: UndefinedMetricWarning: F-score is ill-defined and being set to 0.0 in labels with no true nor predicted samples. Use `zero_division` parameter to control this behavior.\n",
      "  _warn_prf(average, \"true nor predicted\", \"F-score is\", len(true_sum))\n",
      "【dev】 loss：9.840833 accuracy：0.0000 micro_f1：0.0000 macro_f1：0.0000\n"
     ]
    },
    {
     "name": "stdout",
     "output_type": "stream",
     "text": [
      "-----bert model output\n"
     ]
    },
    {
     "name": "stderr",
     "output_type": "stream",
     "text": [
      "【train】 epoch：5 step:354/630 loss：0.044073\n",
      "/opt/conda/lib/python3.7/site-packages/sklearn/metrics/_classification.py:1580: UndefinedMetricWarning: F-score is ill-defined and being set to 0.0 in labels with no true nor predicted samples. Use `zero_division` parameter to control this behavior.\n",
      "  _warn_prf(average, \"true nor predicted\", \"F-score is\", len(true_sum))\n",
      "【dev】 loss：9.825411 accuracy：0.0000 micro_f1：0.0000 macro_f1：0.0000\n"
     ]
    },
    {
     "name": "stdout",
     "output_type": "stream",
     "text": [
      "-----bert model output\n"
     ]
    },
    {
     "name": "stderr",
     "output_type": "stream",
     "text": [
      "【train】 epoch：5 step:355/630 loss：0.040630\n",
      "/opt/conda/lib/python3.7/site-packages/sklearn/metrics/_classification.py:1580: UndefinedMetricWarning: F-score is ill-defined and being set to 0.0 in labels with no true nor predicted samples. Use `zero_division` parameter to control this behavior.\n",
      "  _warn_prf(average, \"true nor predicted\", \"F-score is\", len(true_sum))\n",
      "【dev】 loss：9.809906 accuracy：0.0000 micro_f1：0.0000 macro_f1：0.0000\n"
     ]
    },
    {
     "name": "stdout",
     "output_type": "stream",
     "text": [
      "-----bert model output\n"
     ]
    },
    {
     "name": "stderr",
     "output_type": "stream",
     "text": [
      "【train】 epoch：5 step:356/630 loss：0.043137\n",
      "/opt/conda/lib/python3.7/site-packages/sklearn/metrics/_classification.py:1580: UndefinedMetricWarning: F-score is ill-defined and being set to 0.0 in labels with no true nor predicted samples. Use `zero_division` parameter to control this behavior.\n",
      "  _warn_prf(average, \"true nor predicted\", \"F-score is\", len(true_sum))\n",
      "【dev】 loss：9.794089 accuracy：0.0000 micro_f1：0.0000 macro_f1：0.0000\n"
     ]
    },
    {
     "name": "stdout",
     "output_type": "stream",
     "text": [
      "-----bert model output\n"
     ]
    },
    {
     "name": "stderr",
     "output_type": "stream",
     "text": [
      "【train】 epoch：5 step:357/630 loss：0.041287\n",
      "/opt/conda/lib/python3.7/site-packages/sklearn/metrics/_classification.py:1580: UndefinedMetricWarning: F-score is ill-defined and being set to 0.0 in labels with no true nor predicted samples. Use `zero_division` parameter to control this behavior.\n",
      "  _warn_prf(average, \"true nor predicted\", \"F-score is\", len(true_sum))\n",
      "【dev】 loss：9.778194 accuracy：0.0000 micro_f1：0.0000 macro_f1：0.0000\n"
     ]
    },
    {
     "name": "stdout",
     "output_type": "stream",
     "text": [
      "-----bert model output\n"
     ]
    },
    {
     "name": "stderr",
     "output_type": "stream",
     "text": [
      "【train】 epoch：5 step:358/630 loss：0.042474\n",
      "/opt/conda/lib/python3.7/site-packages/sklearn/metrics/_classification.py:1580: UndefinedMetricWarning: F-score is ill-defined and being set to 0.0 in labels with no true nor predicted samples. Use `zero_division` parameter to control this behavior.\n",
      "  _warn_prf(average, \"true nor predicted\", \"F-score is\", len(true_sum))\n",
      "【dev】 loss：9.762306 accuracy：0.0000 micro_f1：0.0000 macro_f1：0.0000\n"
     ]
    },
    {
     "name": "stdout",
     "output_type": "stream",
     "text": [
      "-----bert model output\n"
     ]
    },
    {
     "name": "stderr",
     "output_type": "stream",
     "text": [
      "【train】 epoch：5 step:359/630 loss：0.044361\n",
      "/opt/conda/lib/python3.7/site-packages/sklearn/metrics/_classification.py:1580: UndefinedMetricWarning: F-score is ill-defined and being set to 0.0 in labels with no true nor predicted samples. Use `zero_division` parameter to control this behavior.\n",
      "  _warn_prf(average, \"true nor predicted\", \"F-score is\", len(true_sum))\n",
      "【dev】 loss：9.746463 accuracy：0.0000 micro_f1：0.0000 macro_f1：0.0000\n"
     ]
    },
    {
     "name": "stdout",
     "output_type": "stream",
     "text": [
      "-----bert model output\n"
     ]
    },
    {
     "name": "stderr",
     "output_type": "stream",
     "text": [
      "【train】 epoch：5 step:360/630 loss：0.039080\n",
      "/opt/conda/lib/python3.7/site-packages/sklearn/metrics/_classification.py:1580: UndefinedMetricWarning: F-score is ill-defined and being set to 0.0 in labels with no true nor predicted samples. Use `zero_division` parameter to control this behavior.\n",
      "  _warn_prf(average, \"true nor predicted\", \"F-score is\", len(true_sum))\n",
      "【dev】 loss：9.730688 accuracy：0.0000 micro_f1：0.0000 macro_f1：0.0000\n"
     ]
    },
    {
     "name": "stdout",
     "output_type": "stream",
     "text": [
      "-----bert model output\n"
     ]
    },
    {
     "name": "stderr",
     "output_type": "stream",
     "text": [
      "【train】 epoch：5 step:361/630 loss：0.041025\n",
      "/opt/conda/lib/python3.7/site-packages/sklearn/metrics/_classification.py:1580: UndefinedMetricWarning: F-score is ill-defined and being set to 0.0 in labels with no true nor predicted samples. Use `zero_division` parameter to control this behavior.\n",
      "  _warn_prf(average, \"true nor predicted\", \"F-score is\", len(true_sum))\n",
      "【dev】 loss：9.715495 accuracy：0.0000 micro_f1：0.0000 macro_f1：0.0000\n"
     ]
    },
    {
     "name": "stdout",
     "output_type": "stream",
     "text": [
      "-----bert model output\n"
     ]
    },
    {
     "name": "stderr",
     "output_type": "stream",
     "text": [
      "【train】 epoch：5 step:362/630 loss：0.041237\n",
      "/opt/conda/lib/python3.7/site-packages/sklearn/metrics/_classification.py:1580: UndefinedMetricWarning: F-score is ill-defined and being set to 0.0 in labels with no true nor predicted samples. Use `zero_division` parameter to control this behavior.\n",
      "  _warn_prf(average, \"true nor predicted\", \"F-score is\", len(true_sum))\n",
      "【dev】 loss：9.700088 accuracy：0.0000 micro_f1：0.0000 macro_f1：0.0000\n"
     ]
    },
    {
     "name": "stdout",
     "output_type": "stream",
     "text": [
      "-----bert model output\n"
     ]
    },
    {
     "name": "stderr",
     "output_type": "stream",
     "text": [
      "【train】 epoch：5 step:363/630 loss：0.043146\n",
      "/opt/conda/lib/python3.7/site-packages/sklearn/metrics/_classification.py:1580: UndefinedMetricWarning: F-score is ill-defined and being set to 0.0 in labels with no true nor predicted samples. Use `zero_division` parameter to control this behavior.\n",
      "  _warn_prf(average, \"true nor predicted\", \"F-score is\", len(true_sum))\n",
      "【dev】 loss：9.684899 accuracy：0.0000 micro_f1：0.0000 macro_f1：0.0000\n"
     ]
    },
    {
     "name": "stdout",
     "output_type": "stream",
     "text": [
      "-----bert model output\n"
     ]
    },
    {
     "name": "stderr",
     "output_type": "stream",
     "text": [
      "【train】 epoch：5 step:364/630 loss：0.042410\n",
      "/opt/conda/lib/python3.7/site-packages/sklearn/metrics/_classification.py:1580: UndefinedMetricWarning: F-score is ill-defined and being set to 0.0 in labels with no true nor predicted samples. Use `zero_division` parameter to control this behavior.\n",
      "  _warn_prf(average, \"true nor predicted\", \"F-score is\", len(true_sum))\n",
      "【dev】 loss：9.669945 accuracy：0.0000 micro_f1：0.0000 macro_f1：0.0000\n"
     ]
    },
    {
     "name": "stdout",
     "output_type": "stream",
     "text": [
      "-----bert model output\n"
     ]
    },
    {
     "name": "stderr",
     "output_type": "stream",
     "text": [
      "【train】 epoch：5 step:365/630 loss：0.043987\n",
      "/opt/conda/lib/python3.7/site-packages/sklearn/metrics/_classification.py:1580: UndefinedMetricWarning: F-score is ill-defined and being set to 0.0 in labels with no true nor predicted samples. Use `zero_division` parameter to control this behavior.\n",
      "  _warn_prf(average, \"true nor predicted\", \"F-score is\", len(true_sum))\n",
      "【dev】 loss：9.655338 accuracy：0.0000 micro_f1：0.0000 macro_f1：0.0000\n"
     ]
    },
    {
     "name": "stdout",
     "output_type": "stream",
     "text": [
      "-----bert model output\n"
     ]
    },
    {
     "name": "stderr",
     "output_type": "stream",
     "text": [
      "【train】 epoch：5 step:366/630 loss：0.040593\n",
      "/opt/conda/lib/python3.7/site-packages/sklearn/metrics/_classification.py:1580: UndefinedMetricWarning: F-score is ill-defined and being set to 0.0 in labels with no true nor predicted samples. Use `zero_division` parameter to control this behavior.\n",
      "  _warn_prf(average, \"true nor predicted\", \"F-score is\", len(true_sum))\n",
      "【dev】 loss：9.640859 accuracy：0.0000 micro_f1：0.0000 macro_f1：0.0000\n"
     ]
    },
    {
     "name": "stdout",
     "output_type": "stream",
     "text": [
      "-----bert model output\n"
     ]
    },
    {
     "name": "stderr",
     "output_type": "stream",
     "text": [
      "【train】 epoch：5 step:367/630 loss：0.042760\n",
      "/opt/conda/lib/python3.7/site-packages/sklearn/metrics/_classification.py:1580: UndefinedMetricWarning: F-score is ill-defined and being set to 0.0 in labels with no true nor predicted samples. Use `zero_division` parameter to control this behavior.\n",
      "  _warn_prf(average, \"true nor predicted\", \"F-score is\", len(true_sum))\n",
      "【dev】 loss：9.626578 accuracy：0.0000 micro_f1：0.0000 macro_f1：0.0000\n"
     ]
    },
    {
     "name": "stdout",
     "output_type": "stream",
     "text": [
      "-----bert model output\n"
     ]
    },
    {
     "name": "stderr",
     "output_type": "stream",
     "text": [
      "【train】 epoch：5 step:368/630 loss：0.039967\n",
      "/opt/conda/lib/python3.7/site-packages/sklearn/metrics/_classification.py:1580: UndefinedMetricWarning: F-score is ill-defined and being set to 0.0 in labels with no true nor predicted samples. Use `zero_division` parameter to control this behavior.\n",
      "  _warn_prf(average, \"true nor predicted\", \"F-score is\", len(true_sum))\n",
      "【dev】 loss：9.612184 accuracy：0.0000 micro_f1：0.0000 macro_f1：0.0000\n"
     ]
    },
    {
     "name": "stdout",
     "output_type": "stream",
     "text": [
      "-----bert model output\n"
     ]
    },
    {
     "name": "stderr",
     "output_type": "stream",
     "text": [
      "【train】 epoch：5 step:369/630 loss：0.043647\n",
      "/opt/conda/lib/python3.7/site-packages/sklearn/metrics/_classification.py:1580: UndefinedMetricWarning: F-score is ill-defined and being set to 0.0 in labels with no true nor predicted samples. Use `zero_division` parameter to control this behavior.\n",
      "  _warn_prf(average, \"true nor predicted\", \"F-score is\", len(true_sum))\n",
      "【dev】 loss：9.597930 accuracy：0.0000 micro_f1：0.0000 macro_f1：0.0000\n"
     ]
    },
    {
     "name": "stdout",
     "output_type": "stream",
     "text": [
      "-----bert model output\n"
     ]
    },
    {
     "name": "stderr",
     "output_type": "stream",
     "text": [
      "【train】 epoch：5 step:370/630 loss：0.047393\n",
      "/opt/conda/lib/python3.7/site-packages/sklearn/metrics/_classification.py:1580: UndefinedMetricWarning: F-score is ill-defined and being set to 0.0 in labels with no true nor predicted samples. Use `zero_division` parameter to control this behavior.\n",
      "  _warn_prf(average, \"true nor predicted\", \"F-score is\", len(true_sum))\n",
      "【dev】 loss：9.584153 accuracy：0.0000 micro_f1：0.0000 macro_f1：0.0000\n"
     ]
    },
    {
     "name": "stdout",
     "output_type": "stream",
     "text": [
      "-----bert model output\n"
     ]
    },
    {
     "name": "stderr",
     "output_type": "stream",
     "text": [
      "【train】 epoch：5 step:371/630 loss：0.037454\n",
      "/opt/conda/lib/python3.7/site-packages/sklearn/metrics/_classification.py:1580: UndefinedMetricWarning: F-score is ill-defined and being set to 0.0 in labels with no true nor predicted samples. Use `zero_division` parameter to control this behavior.\n",
      "  _warn_prf(average, \"true nor predicted\", \"F-score is\", len(true_sum))\n",
      "【dev】 loss：9.570263 accuracy：0.0000 micro_f1：0.0000 macro_f1：0.0000\n"
     ]
    },
    {
     "name": "stdout",
     "output_type": "stream",
     "text": [
      "-----bert model output\n"
     ]
    },
    {
     "name": "stderr",
     "output_type": "stream",
     "text": [
      "【train】 epoch：5 step:372/630 loss：0.041329\n",
      "/opt/conda/lib/python3.7/site-packages/sklearn/metrics/_classification.py:1580: UndefinedMetricWarning: F-score is ill-defined and being set to 0.0 in labels with no true nor predicted samples. Use `zero_division` parameter to control this behavior.\n",
      "  _warn_prf(average, \"true nor predicted\", \"F-score is\", len(true_sum))\n",
      "【dev】 loss：9.556363 accuracy：0.0000 micro_f1：0.0000 macro_f1：0.0000\n"
     ]
    },
    {
     "name": "stdout",
     "output_type": "stream",
     "text": [
      "-----bert model output\n"
     ]
    },
    {
     "name": "stderr",
     "output_type": "stream",
     "text": [
      "【train】 epoch：5 step:373/630 loss：0.041197\n",
      "/opt/conda/lib/python3.7/site-packages/sklearn/metrics/_classification.py:1580: UndefinedMetricWarning: F-score is ill-defined and being set to 0.0 in labels with no true nor predicted samples. Use `zero_division` parameter to control this behavior.\n",
      "  _warn_prf(average, \"true nor predicted\", \"F-score is\", len(true_sum))\n",
      "【dev】 loss：9.542384 accuracy：0.0000 micro_f1：0.0000 macro_f1：0.0000\n"
     ]
    },
    {
     "name": "stdout",
     "output_type": "stream",
     "text": [
      "-----bert model output\n"
     ]
    },
    {
     "name": "stderr",
     "output_type": "stream",
     "text": [
      "【train】 epoch：5 step:374/630 loss：0.041102\n",
      "/opt/conda/lib/python3.7/site-packages/sklearn/metrics/_classification.py:1580: UndefinedMetricWarning: F-score is ill-defined and being set to 0.0 in labels with no true nor predicted samples. Use `zero_division` parameter to control this behavior.\n",
      "  _warn_prf(average, \"true nor predicted\", \"F-score is\", len(true_sum))\n",
      "【dev】 loss：9.528710 accuracy：0.0000 micro_f1：0.0000 macro_f1：0.0000\n"
     ]
    },
    {
     "name": "stdout",
     "output_type": "stream",
     "text": [
      "-----bert model output\n"
     ]
    },
    {
     "name": "stderr",
     "output_type": "stream",
     "text": [
      "【train】 epoch：5 step:375/630 loss：0.042086\n",
      "/opt/conda/lib/python3.7/site-packages/sklearn/metrics/_classification.py:1580: UndefinedMetricWarning: F-score is ill-defined and being set to 0.0 in labels with no true nor predicted samples. Use `zero_division` parameter to control this behavior.\n",
      "  _warn_prf(average, \"true nor predicted\", \"F-score is\", len(true_sum))\n",
      "【dev】 loss：9.515500 accuracy：0.0000 micro_f1：0.0000 macro_f1：0.0000\n"
     ]
    },
    {
     "name": "stdout",
     "output_type": "stream",
     "text": [
      "-----bert model output\n"
     ]
    },
    {
     "name": "stderr",
     "output_type": "stream",
     "text": [
      "【train】 epoch：5 step:376/630 loss：0.040534\n",
      "/opt/conda/lib/python3.7/site-packages/sklearn/metrics/_classification.py:1580: UndefinedMetricWarning: F-score is ill-defined and being set to 0.0 in labels with no true nor predicted samples. Use `zero_division` parameter to control this behavior.\n",
      "  _warn_prf(average, \"true nor predicted\", \"F-score is\", len(true_sum))\n",
      "【dev】 loss：9.502015 accuracy：0.0000 micro_f1：0.0000 macro_f1：0.0000\n"
     ]
    },
    {
     "name": "stdout",
     "output_type": "stream",
     "text": [
      "-----bert model output\n"
     ]
    },
    {
     "name": "stderr",
     "output_type": "stream",
     "text": [
      "【train】 epoch：5 step:377/630 loss：0.043376\n",
      "/opt/conda/lib/python3.7/site-packages/sklearn/metrics/_classification.py:1580: UndefinedMetricWarning: F-score is ill-defined and being set to 0.0 in labels with no true nor predicted samples. Use `zero_division` parameter to control this behavior.\n",
      "  _warn_prf(average, \"true nor predicted\", \"F-score is\", len(true_sum))\n",
      "【dev】 loss：9.488760 accuracy：0.0000 micro_f1：0.0000 macro_f1：0.0000\n"
     ]
    },
    {
     "name": "stdout",
     "output_type": "stream",
     "text": [
      "-----bert model output\n"
     ]
    },
    {
     "name": "stderr",
     "output_type": "stream",
     "text": [
      "【train】 epoch：6 step:378/630 loss：0.038993\n",
      "/opt/conda/lib/python3.7/site-packages/sklearn/metrics/_classification.py:1580: UndefinedMetricWarning: F-score is ill-defined and being set to 0.0 in labels with no true nor predicted samples. Use `zero_division` parameter to control this behavior.\n",
      "  _warn_prf(average, \"true nor predicted\", \"F-score is\", len(true_sum))\n",
      "【dev】 loss：9.475524 accuracy：0.0000 micro_f1：0.0000 macro_f1：0.0000\n"
     ]
    },
    {
     "name": "stdout",
     "output_type": "stream",
     "text": [
      "-----bert model output\n"
     ]
    },
    {
     "name": "stderr",
     "output_type": "stream",
     "text": [
      "【train】 epoch：6 step:379/630 loss：0.039524\n",
      "/opt/conda/lib/python3.7/site-packages/sklearn/metrics/_classification.py:1580: UndefinedMetricWarning: F-score is ill-defined and being set to 0.0 in labels with no true nor predicted samples. Use `zero_division` parameter to control this behavior.\n",
      "  _warn_prf(average, \"true nor predicted\", \"F-score is\", len(true_sum))\n",
      "【dev】 loss：9.462476 accuracy：0.0000 micro_f1：0.0000 macro_f1：0.0000\n"
     ]
    },
    {
     "name": "stdout",
     "output_type": "stream",
     "text": [
      "-----bert model output\n"
     ]
    },
    {
     "name": "stderr",
     "output_type": "stream",
     "text": [
      "【train】 epoch：6 step:380/630 loss：0.042238\n",
      "/opt/conda/lib/python3.7/site-packages/sklearn/metrics/_classification.py:1580: UndefinedMetricWarning: F-score is ill-defined and being set to 0.0 in labels with no true nor predicted samples. Use `zero_division` parameter to control this behavior.\n",
      "  _warn_prf(average, \"true nor predicted\", \"F-score is\", len(true_sum))\n",
      "【dev】 loss：9.449614 accuracy：0.0000 micro_f1：0.0000 macro_f1：0.0000\n"
     ]
    },
    {
     "name": "stdout",
     "output_type": "stream",
     "text": [
      "-----bert model output\n"
     ]
    },
    {
     "name": "stderr",
     "output_type": "stream",
     "text": [
      "【train】 epoch：6 step:381/630 loss：0.037278\n",
      "/opt/conda/lib/python3.7/site-packages/sklearn/metrics/_classification.py:1580: UndefinedMetricWarning: F-score is ill-defined and being set to 0.0 in labels with no true nor predicted samples. Use `zero_division` parameter to control this behavior.\n",
      "  _warn_prf(average, \"true nor predicted\", \"F-score is\", len(true_sum))\n",
      "【dev】 loss：9.436676 accuracy：0.0000 micro_f1：0.0000 macro_f1：0.0000\n"
     ]
    },
    {
     "name": "stdout",
     "output_type": "stream",
     "text": [
      "-----bert model output\n"
     ]
    },
    {
     "name": "stderr",
     "output_type": "stream",
     "text": [
      "【train】 epoch：6 step:382/630 loss：0.048390\n",
      "/opt/conda/lib/python3.7/site-packages/sklearn/metrics/_classification.py:1580: UndefinedMetricWarning: F-score is ill-defined and being set to 0.0 in labels with no true nor predicted samples. Use `zero_division` parameter to control this behavior.\n",
      "  _warn_prf(average, \"true nor predicted\", \"F-score is\", len(true_sum))\n",
      "【dev】 loss：9.424002 accuracy：0.0000 micro_f1：0.0000 macro_f1：0.0000\n"
     ]
    },
    {
     "name": "stdout",
     "output_type": "stream",
     "text": [
      "-----bert model output\n"
     ]
    },
    {
     "name": "stderr",
     "output_type": "stream",
     "text": [
      "【train】 epoch：6 step:383/630 loss：0.045759\n",
      "/opt/conda/lib/python3.7/site-packages/sklearn/metrics/_classification.py:1580: UndefinedMetricWarning: F-score is ill-defined and being set to 0.0 in labels with no true nor predicted samples. Use `zero_division` parameter to control this behavior.\n",
      "  _warn_prf(average, \"true nor predicted\", \"F-score is\", len(true_sum))\n",
      "【dev】 loss：9.411279 accuracy：0.0000 micro_f1：0.0000 macro_f1：0.0000\n"
     ]
    },
    {
     "name": "stdout",
     "output_type": "stream",
     "text": [
      "-----bert model output\n"
     ]
    },
    {
     "name": "stderr",
     "output_type": "stream",
     "text": [
      "【train】 epoch：6 step:384/630 loss：0.039759\n",
      "/opt/conda/lib/python3.7/site-packages/sklearn/metrics/_classification.py:1580: UndefinedMetricWarning: F-score is ill-defined and being set to 0.0 in labels with no true nor predicted samples. Use `zero_division` parameter to control this behavior.\n",
      "  _warn_prf(average, \"true nor predicted\", \"F-score is\", len(true_sum))\n",
      "【dev】 loss：9.398515 accuracy：0.0000 micro_f1：0.0000 macro_f1：0.0000\n"
     ]
    },
    {
     "name": "stdout",
     "output_type": "stream",
     "text": [
      "-----bert model output\n"
     ]
    },
    {
     "name": "stderr",
     "output_type": "stream",
     "text": [
      "【train】 epoch：6 step:385/630 loss：0.038084\n",
      "/opt/conda/lib/python3.7/site-packages/sklearn/metrics/_classification.py:1580: UndefinedMetricWarning: F-score is ill-defined and being set to 0.0 in labels with no true nor predicted samples. Use `zero_division` parameter to control this behavior.\n",
      "  _warn_prf(average, \"true nor predicted\", \"F-score is\", len(true_sum))\n",
      "【dev】 loss：9.385857 accuracy：0.0000 micro_f1：0.0000 macro_f1：0.0000\n"
     ]
    },
    {
     "name": "stdout",
     "output_type": "stream",
     "text": [
      "-----bert model output\n"
     ]
    },
    {
     "name": "stderr",
     "output_type": "stream",
     "text": [
      "【train】 epoch：6 step:386/630 loss：0.043943\n",
      "/opt/conda/lib/python3.7/site-packages/sklearn/metrics/_classification.py:1580: UndefinedMetricWarning: F-score is ill-defined and being set to 0.0 in labels with no true nor predicted samples. Use `zero_division` parameter to control this behavior.\n",
      "  _warn_prf(average, \"true nor predicted\", \"F-score is\", len(true_sum))\n",
      "【dev】 loss：9.373401 accuracy：0.0000 micro_f1：0.0000 macro_f1：0.0000\n"
     ]
    },
    {
     "name": "stdout",
     "output_type": "stream",
     "text": [
      "-----bert model output\n"
     ]
    },
    {
     "name": "stderr",
     "output_type": "stream",
     "text": [
      "【train】 epoch：6 step:387/630 loss：0.037359\n",
      "/opt/conda/lib/python3.7/site-packages/sklearn/metrics/_classification.py:1580: UndefinedMetricWarning: F-score is ill-defined and being set to 0.0 in labels with no true nor predicted samples. Use `zero_division` parameter to control this behavior.\n",
      "  _warn_prf(average, \"true nor predicted\", \"F-score is\", len(true_sum))\n",
      "【dev】 loss：9.360739 accuracy：0.0000 micro_f1：0.0000 macro_f1：0.0000\n"
     ]
    },
    {
     "name": "stdout",
     "output_type": "stream",
     "text": [
      "-----bert model output\n"
     ]
    },
    {
     "name": "stderr",
     "output_type": "stream",
     "text": [
      "【train】 epoch：6 step:388/630 loss：0.046032\n",
      "/opt/conda/lib/python3.7/site-packages/sklearn/metrics/_classification.py:1580: UndefinedMetricWarning: F-score is ill-defined and being set to 0.0 in labels with no true nor predicted samples. Use `zero_division` parameter to control this behavior.\n",
      "  _warn_prf(average, \"true nor predicted\", \"F-score is\", len(true_sum))\n",
      "【dev】 loss：9.348251 accuracy：0.0000 micro_f1：0.0000 macro_f1：0.0000\n"
     ]
    },
    {
     "name": "stdout",
     "output_type": "stream",
     "text": [
      "-----bert model output\n"
     ]
    },
    {
     "name": "stderr",
     "output_type": "stream",
     "text": [
      "【train】 epoch：6 step:389/630 loss：0.039573\n",
      "/opt/conda/lib/python3.7/site-packages/sklearn/metrics/_classification.py:1580: UndefinedMetricWarning: F-score is ill-defined and being set to 0.0 in labels with no true nor predicted samples. Use `zero_division` parameter to control this behavior.\n",
      "  _warn_prf(average, \"true nor predicted\", \"F-score is\", len(true_sum))\n",
      "【dev】 loss：9.335631 accuracy：0.0000 micro_f1：0.0000 macro_f1：0.0000\n"
     ]
    },
    {
     "name": "stdout",
     "output_type": "stream",
     "text": [
      "-----bert model output\n"
     ]
    },
    {
     "name": "stderr",
     "output_type": "stream",
     "text": [
      "【train】 epoch：6 step:390/630 loss：0.045320\n",
      "/opt/conda/lib/python3.7/site-packages/sklearn/metrics/_classification.py:1580: UndefinedMetricWarning: F-score is ill-defined and being set to 0.0 in labels with no true nor predicted samples. Use `zero_division` parameter to control this behavior.\n",
      "  _warn_prf(average, \"true nor predicted\", \"F-score is\", len(true_sum))\n",
      "【dev】 loss：9.322964 accuracy：0.0000 micro_f1：0.0000 macro_f1：0.0000\n"
     ]
    },
    {
     "name": "stdout",
     "output_type": "stream",
     "text": [
      "-----bert model output\n"
     ]
    },
    {
     "name": "stderr",
     "output_type": "stream",
     "text": [
      "【train】 epoch：6 step:391/630 loss：0.039446\n",
      "/opt/conda/lib/python3.7/site-packages/sklearn/metrics/_classification.py:1580: UndefinedMetricWarning: F-score is ill-defined and being set to 0.0 in labels with no true nor predicted samples. Use `zero_division` parameter to control this behavior.\n",
      "  _warn_prf(average, \"true nor predicted\", \"F-score is\", len(true_sum))\n",
      "【dev】 loss：9.310783 accuracy：0.0000 micro_f1：0.0000 macro_f1：0.0000\n"
     ]
    },
    {
     "name": "stdout",
     "output_type": "stream",
     "text": [
      "-----bert model output\n"
     ]
    },
    {
     "name": "stderr",
     "output_type": "stream",
     "text": [
      "【train】 epoch：6 step:392/630 loss：0.041851\n",
      "/opt/conda/lib/python3.7/site-packages/sklearn/metrics/_classification.py:1580: UndefinedMetricWarning: F-score is ill-defined and being set to 0.0 in labels with no true nor predicted samples. Use `zero_division` parameter to control this behavior.\n",
      "  _warn_prf(average, \"true nor predicted\", \"F-score is\", len(true_sum))\n",
      "【dev】 loss：9.298617 accuracy：0.0000 micro_f1：0.0000 macro_f1：0.0000\n"
     ]
    },
    {
     "name": "stdout",
     "output_type": "stream",
     "text": [
      "-----bert model output\n"
     ]
    },
    {
     "name": "stderr",
     "output_type": "stream",
     "text": [
      "【train】 epoch：6 step:393/630 loss：0.037680\n",
      "/opt/conda/lib/python3.7/site-packages/sklearn/metrics/_classification.py:1580: UndefinedMetricWarning: F-score is ill-defined and being set to 0.0 in labels with no true nor predicted samples. Use `zero_division` parameter to control this behavior.\n",
      "  _warn_prf(average, \"true nor predicted\", \"F-score is\", len(true_sum))\n",
      "【dev】 loss：9.286398 accuracy：0.0000 micro_f1：0.0000 macro_f1：0.0000\n"
     ]
    },
    {
     "name": "stdout",
     "output_type": "stream",
     "text": [
      "-----bert model output\n"
     ]
    },
    {
     "name": "stderr",
     "output_type": "stream",
     "text": [
      "【train】 epoch：6 step:394/630 loss：0.039330\n",
      "/opt/conda/lib/python3.7/site-packages/sklearn/metrics/_classification.py:1580: UndefinedMetricWarning: F-score is ill-defined and being set to 0.0 in labels with no true nor predicted samples. Use `zero_division` parameter to control this behavior.\n",
      "  _warn_prf(average, \"true nor predicted\", \"F-score is\", len(true_sum))\n",
      "【dev】 loss：9.274549 accuracy：0.0000 micro_f1：0.0000 macro_f1：0.0000\n"
     ]
    },
    {
     "name": "stdout",
     "output_type": "stream",
     "text": [
      "-----bert model output\n"
     ]
    },
    {
     "name": "stderr",
     "output_type": "stream",
     "text": [
      "【train】 epoch：6 step:395/630 loss：0.037969\n",
      "/opt/conda/lib/python3.7/site-packages/sklearn/metrics/_classification.py:1580: UndefinedMetricWarning: F-score is ill-defined and being set to 0.0 in labels with no true nor predicted samples. Use `zero_division` parameter to control this behavior.\n",
      "  _warn_prf(average, \"true nor predicted\", \"F-score is\", len(true_sum))\n",
      "【dev】 loss：9.262713 accuracy：0.0000 micro_f1：0.0000 macro_f1：0.0000\n"
     ]
    },
    {
     "name": "stdout",
     "output_type": "stream",
     "text": [
      "-----bert model output\n"
     ]
    },
    {
     "name": "stderr",
     "output_type": "stream",
     "text": [
      "【train】 epoch：6 step:396/630 loss：0.040594\n",
      "/opt/conda/lib/python3.7/site-packages/sklearn/metrics/_classification.py:1580: UndefinedMetricWarning: F-score is ill-defined and being set to 0.0 in labels with no true nor predicted samples. Use `zero_division` parameter to control this behavior.\n",
      "  _warn_prf(average, \"true nor predicted\", \"F-score is\", len(true_sum))\n",
      "【dev】 loss：9.250967 accuracy：0.0000 micro_f1：0.0000 macro_f1：0.0000\n"
     ]
    },
    {
     "name": "stdout",
     "output_type": "stream",
     "text": [
      "-----bert model output\n"
     ]
    },
    {
     "name": "stderr",
     "output_type": "stream",
     "text": [
      "【train】 epoch：6 step:397/630 loss：0.046617\n",
      "/opt/conda/lib/python3.7/site-packages/sklearn/metrics/_classification.py:1580: UndefinedMetricWarning: F-score is ill-defined and being set to 0.0 in labels with no true nor predicted samples. Use `zero_division` parameter to control this behavior.\n",
      "  _warn_prf(average, \"true nor predicted\", \"F-score is\", len(true_sum))\n",
      "【dev】 loss：9.239309 accuracy：0.0000 micro_f1：0.0000 macro_f1：0.0000\n"
     ]
    },
    {
     "name": "stdout",
     "output_type": "stream",
     "text": [
      "-----bert model output\n"
     ]
    },
    {
     "name": "stderr",
     "output_type": "stream",
     "text": [
      "【train】 epoch：6 step:398/630 loss：0.039695\n",
      "/opt/conda/lib/python3.7/site-packages/sklearn/metrics/_classification.py:1580: UndefinedMetricWarning: F-score is ill-defined and being set to 0.0 in labels with no true nor predicted samples. Use `zero_division` parameter to control this behavior.\n",
      "  _warn_prf(average, \"true nor predicted\", \"F-score is\", len(true_sum))\n",
      "【dev】 loss：9.227924 accuracy：0.0000 micro_f1：0.0000 macro_f1：0.0000\n"
     ]
    },
    {
     "name": "stdout",
     "output_type": "stream",
     "text": [
      "-----bert model output\n"
     ]
    },
    {
     "name": "stderr",
     "output_type": "stream",
     "text": [
      "【train】 epoch：6 step:399/630 loss：0.040636\n",
      "/opt/conda/lib/python3.7/site-packages/sklearn/metrics/_classification.py:1580: UndefinedMetricWarning: F-score is ill-defined and being set to 0.0 in labels with no true nor predicted samples. Use `zero_division` parameter to control this behavior.\n",
      "  _warn_prf(average, \"true nor predicted\", \"F-score is\", len(true_sum))\n",
      "【dev】 loss：9.216560 accuracy：0.0000 micro_f1：0.0000 macro_f1：0.0000\n"
     ]
    },
    {
     "name": "stdout",
     "output_type": "stream",
     "text": [
      "-----bert model output\n"
     ]
    },
    {
     "name": "stderr",
     "output_type": "stream",
     "text": [
      "【train】 epoch：6 step:400/630 loss：0.041287\n",
      "/opt/conda/lib/python3.7/site-packages/sklearn/metrics/_classification.py:1580: UndefinedMetricWarning: F-score is ill-defined and being set to 0.0 in labels with no true nor predicted samples. Use `zero_division` parameter to control this behavior.\n",
      "  _warn_prf(average, \"true nor predicted\", \"F-score is\", len(true_sum))\n",
      "【dev】 loss：9.205334 accuracy：0.0000 micro_f1：0.0000 macro_f1：0.0000\n"
     ]
    },
    {
     "name": "stdout",
     "output_type": "stream",
     "text": [
      "-----bert model output\n"
     ]
    },
    {
     "name": "stderr",
     "output_type": "stream",
     "text": [
      "【train】 epoch：6 step:401/630 loss：0.041496\n",
      "/opt/conda/lib/python3.7/site-packages/sklearn/metrics/_classification.py:1580: UndefinedMetricWarning: F-score is ill-defined and being set to 0.0 in labels with no true nor predicted samples. Use `zero_division` parameter to control this behavior.\n",
      "  _warn_prf(average, \"true nor predicted\", \"F-score is\", len(true_sum))\n",
      "【dev】 loss：9.194354 accuracy：0.0000 micro_f1：0.0000 macro_f1：0.0000\n"
     ]
    },
    {
     "name": "stdout",
     "output_type": "stream",
     "text": [
      "-----bert model output\n"
     ]
    },
    {
     "name": "stderr",
     "output_type": "stream",
     "text": [
      "【train】 epoch：6 step:402/630 loss：0.036524\n",
      "/opt/conda/lib/python3.7/site-packages/sklearn/metrics/_classification.py:1580: UndefinedMetricWarning: F-score is ill-defined and being set to 0.0 in labels with no true nor predicted samples. Use `zero_division` parameter to control this behavior.\n",
      "  _warn_prf(average, \"true nor predicted\", \"F-score is\", len(true_sum))\n",
      "【dev】 loss：9.183022 accuracy：0.0000 micro_f1：0.0000 macro_f1：0.0000\n"
     ]
    },
    {
     "name": "stdout",
     "output_type": "stream",
     "text": [
      "-----bert model output\n"
     ]
    },
    {
     "name": "stderr",
     "output_type": "stream",
     "text": [
      "【train】 epoch：6 step:403/630 loss：0.038824\n",
      "/opt/conda/lib/python3.7/site-packages/sklearn/metrics/_classification.py:1580: UndefinedMetricWarning: F-score is ill-defined and being set to 0.0 in labels with no true nor predicted samples. Use `zero_division` parameter to control this behavior.\n",
      "  _warn_prf(average, \"true nor predicted\", \"F-score is\", len(true_sum))\n",
      "【dev】 loss：9.171822 accuracy：0.0000 micro_f1：0.0000 macro_f1：0.0000\n"
     ]
    },
    {
     "name": "stdout",
     "output_type": "stream",
     "text": [
      "-----bert model output\n"
     ]
    },
    {
     "name": "stderr",
     "output_type": "stream",
     "text": [
      "【train】 epoch：6 step:404/630 loss：0.039118\n",
      "/opt/conda/lib/python3.7/site-packages/sklearn/metrics/_classification.py:1580: UndefinedMetricWarning: F-score is ill-defined and being set to 0.0 in labels with no true nor predicted samples. Use `zero_division` parameter to control this behavior.\n",
      "  _warn_prf(average, \"true nor predicted\", \"F-score is\", len(true_sum))\n",
      "【dev】 loss：9.160775 accuracy：0.0000 micro_f1：0.0000 macro_f1：0.0000\n"
     ]
    },
    {
     "name": "stdout",
     "output_type": "stream",
     "text": [
      "-----bert model output\n"
     ]
    },
    {
     "name": "stderr",
     "output_type": "stream",
     "text": [
      "【train】 epoch：6 step:405/630 loss：0.041447\n",
      "/opt/conda/lib/python3.7/site-packages/sklearn/metrics/_classification.py:1580: UndefinedMetricWarning: F-score is ill-defined and being set to 0.0 in labels with no true nor predicted samples. Use `zero_division` parameter to control this behavior.\n",
      "  _warn_prf(average, \"true nor predicted\", \"F-score is\", len(true_sum))\n",
      "【dev】 loss：9.150040 accuracy：0.0000 micro_f1：0.0000 macro_f1：0.0000\n"
     ]
    },
    {
     "name": "stdout",
     "output_type": "stream",
     "text": [
      "-----bert model output\n"
     ]
    },
    {
     "name": "stderr",
     "output_type": "stream",
     "text": [
      "【train】 epoch：6 step:406/630 loss：0.042560\n",
      "/opt/conda/lib/python3.7/site-packages/sklearn/metrics/_classification.py:1580: UndefinedMetricWarning: F-score is ill-defined and being set to 0.0 in labels with no true nor predicted samples. Use `zero_division` parameter to control this behavior.\n",
      "  _warn_prf(average, \"true nor predicted\", \"F-score is\", len(true_sum))\n",
      "【dev】 loss：9.139818 accuracy：0.0000 micro_f1：0.0000 macro_f1：0.0000\n"
     ]
    },
    {
     "name": "stdout",
     "output_type": "stream",
     "text": [
      "-----bert model output\n"
     ]
    },
    {
     "name": "stderr",
     "output_type": "stream",
     "text": [
      "【train】 epoch：6 step:407/630 loss：0.037510\n",
      "/opt/conda/lib/python3.7/site-packages/sklearn/metrics/_classification.py:1580: UndefinedMetricWarning: F-score is ill-defined and being set to 0.0 in labels with no true nor predicted samples. Use `zero_division` parameter to control this behavior.\n",
      "  _warn_prf(average, \"true nor predicted\", \"F-score is\", len(true_sum))\n",
      "【dev】 loss：9.129770 accuracy：0.0000 micro_f1：0.0000 macro_f1：0.0000\n"
     ]
    },
    {
     "name": "stdout",
     "output_type": "stream",
     "text": [
      "-----bert model output\n"
     ]
    },
    {
     "name": "stderr",
     "output_type": "stream",
     "text": [
      "【train】 epoch：6 step:408/630 loss：0.040185\n",
      "/opt/conda/lib/python3.7/site-packages/sklearn/metrics/_classification.py:1580: UndefinedMetricWarning: F-score is ill-defined and being set to 0.0 in labels with no true nor predicted samples. Use `zero_division` parameter to control this behavior.\n",
      "  _warn_prf(average, \"true nor predicted\", \"F-score is\", len(true_sum))\n",
      "【dev】 loss：9.119850 accuracy：0.0000 micro_f1：0.0000 macro_f1：0.0000\n"
     ]
    },
    {
     "name": "stdout",
     "output_type": "stream",
     "text": [
      "-----bert model output\n"
     ]
    },
    {
     "name": "stderr",
     "output_type": "stream",
     "text": [
      "【train】 epoch：6 step:409/630 loss：0.038163\n",
      "/opt/conda/lib/python3.7/site-packages/sklearn/metrics/_classification.py:1580: UndefinedMetricWarning: F-score is ill-defined and being set to 0.0 in labels with no true nor predicted samples. Use `zero_division` parameter to control this behavior.\n",
      "  _warn_prf(average, \"true nor predicted\", \"F-score is\", len(true_sum))\n",
      "【dev】 loss：9.109682 accuracy：0.0000 micro_f1：0.0000 macro_f1：0.0000\n"
     ]
    },
    {
     "name": "stdout",
     "output_type": "stream",
     "text": [
      "-----bert model output\n"
     ]
    },
    {
     "name": "stderr",
     "output_type": "stream",
     "text": [
      "【train】 epoch：6 step:410/630 loss：0.039406\n",
      "/opt/conda/lib/python3.7/site-packages/sklearn/metrics/_classification.py:1580: UndefinedMetricWarning: F-score is ill-defined and being set to 0.0 in labels with no true nor predicted samples. Use `zero_division` parameter to control this behavior.\n",
      "  _warn_prf(average, \"true nor predicted\", \"F-score is\", len(true_sum))\n",
      "【dev】 loss：9.099546 accuracy：0.0000 micro_f1：0.0000 macro_f1：0.0000\n"
     ]
    },
    {
     "name": "stdout",
     "output_type": "stream",
     "text": [
      "-----bert model output\n"
     ]
    },
    {
     "name": "stderr",
     "output_type": "stream",
     "text": [
      "【train】 epoch：6 step:411/630 loss：0.038974\n",
      "/opt/conda/lib/python3.7/site-packages/sklearn/metrics/_classification.py:1580: UndefinedMetricWarning: F-score is ill-defined and being set to 0.0 in labels with no true nor predicted samples. Use `zero_division` parameter to control this behavior.\n",
      "  _warn_prf(average, \"true nor predicted\", \"F-score is\", len(true_sum))\n",
      "【dev】 loss：9.089724 accuracy：0.0000 micro_f1：0.0000 macro_f1：0.0000\n"
     ]
    },
    {
     "name": "stdout",
     "output_type": "stream",
     "text": [
      "-----bert model output\n"
     ]
    },
    {
     "name": "stderr",
     "output_type": "stream",
     "text": [
      "【train】 epoch：6 step:412/630 loss：0.042408\n",
      "/opt/conda/lib/python3.7/site-packages/sklearn/metrics/_classification.py:1580: UndefinedMetricWarning: F-score is ill-defined and being set to 0.0 in labels with no true nor predicted samples. Use `zero_division` parameter to control this behavior.\n",
      "  _warn_prf(average, \"true nor predicted\", \"F-score is\", len(true_sum))\n",
      "【dev】 loss：9.080390 accuracy：0.0000 micro_f1：0.0000 macro_f1：0.0000\n"
     ]
    },
    {
     "name": "stdout",
     "output_type": "stream",
     "text": [
      "-----bert model output\n"
     ]
    },
    {
     "name": "stderr",
     "output_type": "stream",
     "text": [
      "【train】 epoch：6 step:413/630 loss：0.039283\n",
      "/opt/conda/lib/python3.7/site-packages/sklearn/metrics/_classification.py:1580: UndefinedMetricWarning: F-score is ill-defined and being set to 0.0 in labels with no true nor predicted samples. Use `zero_division` parameter to control this behavior.\n",
      "  _warn_prf(average, \"true nor predicted\", \"F-score is\", len(true_sum))\n",
      "【dev】 loss：9.070503 accuracy：0.0000 micro_f1：0.0000 macro_f1：0.0000\n"
     ]
    },
    {
     "name": "stdout",
     "output_type": "stream",
     "text": [
      "-----bert model output\n"
     ]
    },
    {
     "name": "stderr",
     "output_type": "stream",
     "text": [
      "【train】 epoch：6 step:414/630 loss：0.042106\n",
      "/opt/conda/lib/python3.7/site-packages/sklearn/metrics/_classification.py:1580: UndefinedMetricWarning: F-score is ill-defined and being set to 0.0 in labels with no true nor predicted samples. Use `zero_division` parameter to control this behavior.\n",
      "  _warn_prf(average, \"true nor predicted\", \"F-score is\", len(true_sum))\n",
      "【dev】 loss：9.060488 accuracy：0.0000 micro_f1：0.0000 macro_f1：0.0000\n"
     ]
    },
    {
     "name": "stdout",
     "output_type": "stream",
     "text": [
      "-----bert model output\n"
     ]
    },
    {
     "name": "stderr",
     "output_type": "stream",
     "text": [
      "【train】 epoch：6 step:415/630 loss：0.037398\n",
      "/opt/conda/lib/python3.7/site-packages/sklearn/metrics/_classification.py:1580: UndefinedMetricWarning: F-score is ill-defined and being set to 0.0 in labels with no true nor predicted samples. Use `zero_division` parameter to control this behavior.\n",
      "  _warn_prf(average, \"true nor predicted\", \"F-score is\", len(true_sum))\n",
      "【dev】 loss：9.050160 accuracy：0.0000 micro_f1：0.0000 macro_f1：0.0000\n"
     ]
    },
    {
     "name": "stdout",
     "output_type": "stream",
     "text": [
      "-----bert model output\n"
     ]
    },
    {
     "name": "stderr",
     "output_type": "stream",
     "text": [
      "【train】 epoch：6 step:416/630 loss：0.036772\n",
      "/opt/conda/lib/python3.7/site-packages/sklearn/metrics/_classification.py:1580: UndefinedMetricWarning: F-score is ill-defined and being set to 0.0 in labels with no true nor predicted samples. Use `zero_division` parameter to control this behavior.\n",
      "  _warn_prf(average, \"true nor predicted\", \"F-score is\", len(true_sum))\n",
      "【dev】 loss：9.039987 accuracy：0.0000 micro_f1：0.0000 macro_f1：0.0000\n"
     ]
    },
    {
     "name": "stdout",
     "output_type": "stream",
     "text": [
      "-----bert model output\n"
     ]
    },
    {
     "name": "stderr",
     "output_type": "stream",
     "text": [
      "【train】 epoch：6 step:417/630 loss：0.041652\n",
      "/opt/conda/lib/python3.7/site-packages/sklearn/metrics/_classification.py:1580: UndefinedMetricWarning: F-score is ill-defined and being set to 0.0 in labels with no true nor predicted samples. Use `zero_division` parameter to control this behavior.\n",
      "  _warn_prf(average, \"true nor predicted\", \"F-score is\", len(true_sum))\n",
      "【dev】 loss：9.030052 accuracy：0.0000 micro_f1：0.0000 macro_f1：0.0000\n"
     ]
    },
    {
     "name": "stdout",
     "output_type": "stream",
     "text": [
      "-----bert model output\n"
     ]
    },
    {
     "name": "stderr",
     "output_type": "stream",
     "text": [
      "【train】 epoch：6 step:418/630 loss：0.037571\n",
      "/opt/conda/lib/python3.7/site-packages/sklearn/metrics/_classification.py:1580: UndefinedMetricWarning: F-score is ill-defined and being set to 0.0 in labels with no true nor predicted samples. Use `zero_division` parameter to control this behavior.\n",
      "  _warn_prf(average, \"true nor predicted\", \"F-score is\", len(true_sum))\n",
      "【dev】 loss：9.020194 accuracy：0.0000 micro_f1：0.0000 macro_f1：0.0000\n"
     ]
    },
    {
     "name": "stdout",
     "output_type": "stream",
     "text": [
      "-----bert model output\n"
     ]
    },
    {
     "name": "stderr",
     "output_type": "stream",
     "text": [
      "【train】 epoch：6 step:419/630 loss：0.038951\n",
      "/opt/conda/lib/python3.7/site-packages/sklearn/metrics/_classification.py:1580: UndefinedMetricWarning: F-score is ill-defined and being set to 0.0 in labels with no true nor predicted samples. Use `zero_division` parameter to control this behavior.\n",
      "  _warn_prf(average, \"true nor predicted\", \"F-score is\", len(true_sum))\n",
      "【dev】 loss：9.010169 accuracy：0.0000 micro_f1：0.0000 macro_f1：0.0000\n"
     ]
    },
    {
     "name": "stdout",
     "output_type": "stream",
     "text": [
      "-----bert model output\n"
     ]
    },
    {
     "name": "stderr",
     "output_type": "stream",
     "text": [
      "【train】 epoch：6 step:420/630 loss：0.038917\n",
      "/opt/conda/lib/python3.7/site-packages/sklearn/metrics/_classification.py:1580: UndefinedMetricWarning: F-score is ill-defined and being set to 0.0 in labels with no true nor predicted samples. Use `zero_division` parameter to control this behavior.\n",
      "  _warn_prf(average, \"true nor predicted\", \"F-score is\", len(true_sum))\n",
      "【dev】 loss：9.000190 accuracy：0.0000 micro_f1：0.0000 macro_f1：0.0000\n"
     ]
    },
    {
     "name": "stdout",
     "output_type": "stream",
     "text": [
      "-----bert model output\n"
     ]
    },
    {
     "name": "stderr",
     "output_type": "stream",
     "text": [
      "【train】 epoch：6 step:421/630 loss：0.037686\n",
      "/opt/conda/lib/python3.7/site-packages/sklearn/metrics/_classification.py:1580: UndefinedMetricWarning: F-score is ill-defined and being set to 0.0 in labels with no true nor predicted samples. Use `zero_division` parameter to control this behavior.\n",
      "  _warn_prf(average, \"true nor predicted\", \"F-score is\", len(true_sum))\n",
      "【dev】 loss：8.990077 accuracy：0.0000 micro_f1：0.0000 macro_f1：0.0000\n"
     ]
    },
    {
     "name": "stdout",
     "output_type": "stream",
     "text": [
      "-----bert model output\n"
     ]
    },
    {
     "name": "stderr",
     "output_type": "stream",
     "text": [
      "【train】 epoch：6 step:422/630 loss：0.039252\n",
      "/opt/conda/lib/python3.7/site-packages/sklearn/metrics/_classification.py:1580: UndefinedMetricWarning: F-score is ill-defined and being set to 0.0 in labels with no true nor predicted samples. Use `zero_division` parameter to control this behavior.\n",
      "  _warn_prf(average, \"true nor predicted\", \"F-score is\", len(true_sum))\n",
      "【dev】 loss：8.979962 accuracy：0.0000 micro_f1：0.0000 macro_f1：0.0000\n"
     ]
    },
    {
     "name": "stdout",
     "output_type": "stream",
     "text": [
      "-----bert model output\n"
     ]
    },
    {
     "name": "stderr",
     "output_type": "stream",
     "text": [
      "【train】 epoch：6 step:423/630 loss：0.037097\n",
      "/opt/conda/lib/python3.7/site-packages/sklearn/metrics/_classification.py:1580: UndefinedMetricWarning: F-score is ill-defined and being set to 0.0 in labels with no true nor predicted samples. Use `zero_division` parameter to control this behavior.\n",
      "  _warn_prf(average, \"true nor predicted\", \"F-score is\", len(true_sum))\n",
      "【dev】 loss：8.969856 accuracy：0.0000 micro_f1：0.0000 macro_f1：0.0000\n"
     ]
    },
    {
     "name": "stdout",
     "output_type": "stream",
     "text": [
      "-----bert model output\n"
     ]
    },
    {
     "name": "stderr",
     "output_type": "stream",
     "text": [
      "【train】 epoch：6 step:424/630 loss：0.036681\n",
      "/opt/conda/lib/python3.7/site-packages/sklearn/metrics/_classification.py:1580: UndefinedMetricWarning: F-score is ill-defined and being set to 0.0 in labels with no true nor predicted samples. Use `zero_division` parameter to control this behavior.\n",
      "  _warn_prf(average, \"true nor predicted\", \"F-score is\", len(true_sum))\n",
      "【dev】 loss：8.960216 accuracy：0.0000 micro_f1：0.0000 macro_f1：0.0000\n"
     ]
    },
    {
     "name": "stdout",
     "output_type": "stream",
     "text": [
      "-----bert model output\n"
     ]
    },
    {
     "name": "stderr",
     "output_type": "stream",
     "text": [
      "【train】 epoch：6 step:425/630 loss：0.038434\n",
      "/opt/conda/lib/python3.7/site-packages/sklearn/metrics/_classification.py:1580: UndefinedMetricWarning: F-score is ill-defined and being set to 0.0 in labels with no true nor predicted samples. Use `zero_division` parameter to control this behavior.\n",
      "  _warn_prf(average, \"true nor predicted\", \"F-score is\", len(true_sum))\n",
      "【dev】 loss：8.950323 accuracy：0.0000 micro_f1：0.0000 macro_f1：0.0000\n"
     ]
    },
    {
     "name": "stdout",
     "output_type": "stream",
     "text": [
      "-----bert model output\n"
     ]
    },
    {
     "name": "stderr",
     "output_type": "stream",
     "text": [
      "【train】 epoch：6 step:426/630 loss：0.039234\n",
      "/opt/conda/lib/python3.7/site-packages/sklearn/metrics/_classification.py:1580: UndefinedMetricWarning: F-score is ill-defined and being set to 0.0 in labels with no true nor predicted samples. Use `zero_division` parameter to control this behavior.\n",
      "  _warn_prf(average, \"true nor predicted\", \"F-score is\", len(true_sum))\n",
      "【dev】 loss：8.940554 accuracy：0.0000 micro_f1：0.0000 macro_f1：0.0000\n"
     ]
    },
    {
     "name": "stdout",
     "output_type": "stream",
     "text": [
      "-----bert model output\n"
     ]
    },
    {
     "name": "stderr",
     "output_type": "stream",
     "text": [
      "【train】 epoch：6 step:427/630 loss：0.039408\n",
      "/opt/conda/lib/python3.7/site-packages/sklearn/metrics/_classification.py:1580: UndefinedMetricWarning: F-score is ill-defined and being set to 0.0 in labels with no true nor predicted samples. Use `zero_division` parameter to control this behavior.\n",
      "  _warn_prf(average, \"true nor predicted\", \"F-score is\", len(true_sum))\n",
      "【dev】 loss：8.930910 accuracy：0.0000 micro_f1：0.0000 macro_f1：0.0000\n"
     ]
    },
    {
     "name": "stdout",
     "output_type": "stream",
     "text": [
      "-----bert model output\n"
     ]
    },
    {
     "name": "stderr",
     "output_type": "stream",
     "text": [
      "【train】 epoch：6 step:428/630 loss：0.041059\n",
      "/opt/conda/lib/python3.7/site-packages/sklearn/metrics/_classification.py:1580: UndefinedMetricWarning: F-score is ill-defined and being set to 0.0 in labels with no true nor predicted samples. Use `zero_division` parameter to control this behavior.\n",
      "  _warn_prf(average, \"true nor predicted\", \"F-score is\", len(true_sum))\n",
      "【dev】 loss：8.921538 accuracy：0.0000 micro_f1：0.0000 macro_f1：0.0000\n"
     ]
    },
    {
     "name": "stdout",
     "output_type": "stream",
     "text": [
      "-----bert model output\n"
     ]
    },
    {
     "name": "stderr",
     "output_type": "stream",
     "text": [
      "【train】 epoch：6 step:429/630 loss：0.036894\n",
      "/opt/conda/lib/python3.7/site-packages/sklearn/metrics/_classification.py:1580: UndefinedMetricWarning: F-score is ill-defined and being set to 0.0 in labels with no true nor predicted samples. Use `zero_division` parameter to control this behavior.\n",
      "  _warn_prf(average, \"true nor predicted\", \"F-score is\", len(true_sum))\n",
      "【dev】 loss：8.912276 accuracy：0.0000 micro_f1：0.0000 macro_f1：0.0000\n"
     ]
    },
    {
     "name": "stdout",
     "output_type": "stream",
     "text": [
      "-----bert model output\n"
     ]
    },
    {
     "name": "stderr",
     "output_type": "stream",
     "text": [
      "【train】 epoch：6 step:430/630 loss：0.038701\n",
      "/opt/conda/lib/python3.7/site-packages/sklearn/metrics/_classification.py:1580: UndefinedMetricWarning: F-score is ill-defined and being set to 0.0 in labels with no true nor predicted samples. Use `zero_division` parameter to control this behavior.\n",
      "  _warn_prf(average, \"true nor predicted\", \"F-score is\", len(true_sum))\n",
      "【dev】 loss：8.903176 accuracy：0.0000 micro_f1：0.0000 macro_f1：0.0000\n"
     ]
    },
    {
     "name": "stdout",
     "output_type": "stream",
     "text": [
      "-----bert model output\n"
     ]
    },
    {
     "name": "stderr",
     "output_type": "stream",
     "text": [
      "【train】 epoch：6 step:431/630 loss：0.035167\n",
      "/opt/conda/lib/python3.7/site-packages/sklearn/metrics/_classification.py:1580: UndefinedMetricWarning: F-score is ill-defined and being set to 0.0 in labels with no true nor predicted samples. Use `zero_division` parameter to control this behavior.\n",
      "  _warn_prf(average, \"true nor predicted\", \"F-score is\", len(true_sum))\n",
      "【dev】 loss：8.893784 accuracy：0.0000 micro_f1：0.0000 macro_f1：0.0000\n"
     ]
    },
    {
     "name": "stdout",
     "output_type": "stream",
     "text": [
      "-----bert model output\n"
     ]
    },
    {
     "name": "stderr",
     "output_type": "stream",
     "text": [
      "【train】 epoch：6 step:432/630 loss：0.039995\n",
      "/opt/conda/lib/python3.7/site-packages/sklearn/metrics/_classification.py:1580: UndefinedMetricWarning: F-score is ill-defined and being set to 0.0 in labels with no true nor predicted samples. Use `zero_division` parameter to control this behavior.\n",
      "  _warn_prf(average, \"true nor predicted\", \"F-score is\", len(true_sum))\n",
      "【dev】 loss：8.884303 accuracy：0.0000 micro_f1：0.0000 macro_f1：0.0000\n"
     ]
    },
    {
     "name": "stdout",
     "output_type": "stream",
     "text": [
      "-----bert model output\n"
     ]
    },
    {
     "name": "stderr",
     "output_type": "stream",
     "text": [
      "【train】 epoch：6 step:433/630 loss：0.042841\n",
      "/opt/conda/lib/python3.7/site-packages/sklearn/metrics/_classification.py:1580: UndefinedMetricWarning: F-score is ill-defined and being set to 0.0 in labels with no true nor predicted samples. Use `zero_division` parameter to control this behavior.\n",
      "  _warn_prf(average, \"true nor predicted\", \"F-score is\", len(true_sum))\n",
      "【dev】 loss：8.875305 accuracy：0.0000 micro_f1：0.0000 macro_f1：0.0000\n"
     ]
    },
    {
     "name": "stdout",
     "output_type": "stream",
     "text": [
      "-----bert model output\n"
     ]
    },
    {
     "name": "stderr",
     "output_type": "stream",
     "text": [
      "【train】 epoch：6 step:434/630 loss：0.034826\n",
      "/opt/conda/lib/python3.7/site-packages/sklearn/metrics/_classification.py:1580: UndefinedMetricWarning: F-score is ill-defined and being set to 0.0 in labels with no true nor predicted samples. Use `zero_division` parameter to control this behavior.\n",
      "  _warn_prf(average, \"true nor predicted\", \"F-score is\", len(true_sum))\n",
      "【dev】 loss：8.866155 accuracy：0.0000 micro_f1：0.0000 macro_f1：0.0000\n"
     ]
    },
    {
     "name": "stdout",
     "output_type": "stream",
     "text": [
      "-----bert model output\n"
     ]
    },
    {
     "name": "stderr",
     "output_type": "stream",
     "text": [
      "【train】 epoch：6 step:435/630 loss：0.038731\n",
      "/opt/conda/lib/python3.7/site-packages/sklearn/metrics/_classification.py:1580: UndefinedMetricWarning: F-score is ill-defined and being set to 0.0 in labels with no true nor predicted samples. Use `zero_division` parameter to control this behavior.\n",
      "  _warn_prf(average, \"true nor predicted\", \"F-score is\", len(true_sum))\n",
      "【dev】 loss：8.856867 accuracy：0.0000 micro_f1：0.0000 macro_f1：0.0000\n"
     ]
    },
    {
     "name": "stdout",
     "output_type": "stream",
     "text": [
      "-----bert model output\n"
     ]
    },
    {
     "name": "stderr",
     "output_type": "stream",
     "text": [
      "【train】 epoch：6 step:436/630 loss：0.037305\n",
      "/opt/conda/lib/python3.7/site-packages/sklearn/metrics/_classification.py:1580: UndefinedMetricWarning: F-score is ill-defined and being set to 0.0 in labels with no true nor predicted samples. Use `zero_division` parameter to control this behavior.\n",
      "  _warn_prf(average, \"true nor predicted\", \"F-score is\", len(true_sum))\n",
      "【dev】 loss：8.847618 accuracy：0.0000 micro_f1：0.0000 macro_f1：0.0000\n"
     ]
    },
    {
     "name": "stdout",
     "output_type": "stream",
     "text": [
      "-----bert model output\n"
     ]
    },
    {
     "name": "stderr",
     "output_type": "stream",
     "text": [
      "【train】 epoch：6 step:437/630 loss：0.038963\n",
      "/opt/conda/lib/python3.7/site-packages/sklearn/metrics/_classification.py:1580: UndefinedMetricWarning: F-score is ill-defined and being set to 0.0 in labels with no true nor predicted samples. Use `zero_division` parameter to control this behavior.\n",
      "  _warn_prf(average, \"true nor predicted\", \"F-score is\", len(true_sum))\n",
      "【dev】 loss：8.838648 accuracy：0.0000 micro_f1：0.0000 macro_f1：0.0000\n"
     ]
    },
    {
     "name": "stdout",
     "output_type": "stream",
     "text": [
      "-----bert model output\n"
     ]
    },
    {
     "name": "stderr",
     "output_type": "stream",
     "text": [
      "【train】 epoch：6 step:438/630 loss：0.037344\n",
      "/opt/conda/lib/python3.7/site-packages/sklearn/metrics/_classification.py:1580: UndefinedMetricWarning: F-score is ill-defined and being set to 0.0 in labels with no true nor predicted samples. Use `zero_division` parameter to control this behavior.\n",
      "  _warn_prf(average, \"true nor predicted\", \"F-score is\", len(true_sum))\n",
      "【dev】 loss：8.830082 accuracy：0.0000 micro_f1：0.0000 macro_f1：0.0000\n"
     ]
    },
    {
     "name": "stdout",
     "output_type": "stream",
     "text": [
      "-----bert model output\n"
     ]
    },
    {
     "name": "stderr",
     "output_type": "stream",
     "text": [
      "【train】 epoch：6 step:439/630 loss：0.037687\n",
      "/opt/conda/lib/python3.7/site-packages/sklearn/metrics/_classification.py:1580: UndefinedMetricWarning: F-score is ill-defined and being set to 0.0 in labels with no true nor predicted samples. Use `zero_division` parameter to control this behavior.\n",
      "  _warn_prf(average, \"true nor predicted\", \"F-score is\", len(true_sum))\n",
      "【dev】 loss：8.821228 accuracy：0.0000 micro_f1：0.0000 macro_f1：0.0000\n",
      "【train】 epoch：6 step:440/630 loss：0.041295\n"
     ]
    },
    {
     "name": "stdout",
     "output_type": "stream",
     "text": [
      "-----bert model output\n"
     ]
    },
    {
     "name": "stderr",
     "output_type": "stream",
     "text": [
      "/opt/conda/lib/python3.7/site-packages/sklearn/metrics/_classification.py:1580: UndefinedMetricWarning: F-score is ill-defined and being set to 0.0 in labels with no true nor predicted samples. Use `zero_division` parameter to control this behavior.\n",
      "  _warn_prf(average, \"true nor predicted\", \"F-score is\", len(true_sum))\n",
      "【dev】 loss：8.812443 accuracy：0.0000 micro_f1：0.0000 macro_f1：0.0000\n"
     ]
    },
    {
     "name": "stdout",
     "output_type": "stream",
     "text": [
      "-----bert model output\n"
     ]
    },
    {
     "name": "stderr",
     "output_type": "stream",
     "text": [
      "【train】 epoch：7 step:441/630 loss：0.036552\n",
      "/opt/conda/lib/python3.7/site-packages/sklearn/metrics/_classification.py:1580: UndefinedMetricWarning: F-score is ill-defined and being set to 0.0 in labels with no true nor predicted samples. Use `zero_division` parameter to control this behavior.\n",
      "  _warn_prf(average, \"true nor predicted\", \"F-score is\", len(true_sum))\n",
      "【dev】 loss：8.803772 accuracy：0.0000 micro_f1：0.0000 macro_f1：0.0000\n"
     ]
    },
    {
     "name": "stdout",
     "output_type": "stream",
     "text": [
      "-----bert model output\n"
     ]
    },
    {
     "name": "stderr",
     "output_type": "stream",
     "text": [
      "【train】 epoch：7 step:442/630 loss：0.035296\n",
      "/opt/conda/lib/python3.7/site-packages/sklearn/metrics/_classification.py:1580: UndefinedMetricWarning: F-score is ill-defined and being set to 0.0 in labels with no true nor predicted samples. Use `zero_division` parameter to control this behavior.\n",
      "  _warn_prf(average, \"true nor predicted\", \"F-score is\", len(true_sum))\n",
      "【dev】 loss：8.795351 accuracy：0.0000 micro_f1：0.0000 macro_f1：0.0000\n"
     ]
    },
    {
     "name": "stdout",
     "output_type": "stream",
     "text": [
      "-----bert model output\n"
     ]
    },
    {
     "name": "stderr",
     "output_type": "stream",
     "text": [
      "【train】 epoch：7 step:443/630 loss：0.039385\n",
      "/opt/conda/lib/python3.7/site-packages/sklearn/metrics/_classification.py:1580: UndefinedMetricWarning: F-score is ill-defined and being set to 0.0 in labels with no true nor predicted samples. Use `zero_division` parameter to control this behavior.\n",
      "  _warn_prf(average, \"true nor predicted\", \"F-score is\", len(true_sum))\n",
      "【dev】 loss：8.787146 accuracy：0.0000 micro_f1：0.0000 macro_f1：0.0000\n"
     ]
    },
    {
     "name": "stdout",
     "output_type": "stream",
     "text": [
      "-----bert model output\n"
     ]
    },
    {
     "name": "stderr",
     "output_type": "stream",
     "text": [
      "【train】 epoch：7 step:444/630 loss：0.035006\n",
      "/opt/conda/lib/python3.7/site-packages/sklearn/metrics/_classification.py:1580: UndefinedMetricWarning: F-score is ill-defined and being set to 0.0 in labels with no true nor predicted samples. Use `zero_division` parameter to control this behavior.\n",
      "  _warn_prf(average, \"true nor predicted\", \"F-score is\", len(true_sum))\n",
      "【dev】 loss：8.778888 accuracy：0.0000 micro_f1：0.0000 macro_f1：0.0000\n"
     ]
    },
    {
     "name": "stdout",
     "output_type": "stream",
     "text": [
      "-----bert model output\n"
     ]
    },
    {
     "name": "stderr",
     "output_type": "stream",
     "text": [
      "【train】 epoch：7 step:445/630 loss：0.044512\n",
      "/opt/conda/lib/python3.7/site-packages/sklearn/metrics/_classification.py:1580: UndefinedMetricWarning: F-score is ill-defined and being set to 0.0 in labels with no true nor predicted samples. Use `zero_division` parameter to control this behavior.\n",
      "  _warn_prf(average, \"true nor predicted\", \"F-score is\", len(true_sum))\n",
      "【dev】 loss：8.770990 accuracy：0.0000 micro_f1：0.0000 macro_f1：0.0000\n"
     ]
    },
    {
     "name": "stdout",
     "output_type": "stream",
     "text": [
      "-----bert model output\n"
     ]
    },
    {
     "name": "stderr",
     "output_type": "stream",
     "text": [
      "【train】 epoch：7 step:446/630 loss：0.043380\n",
      "/opt/conda/lib/python3.7/site-packages/sklearn/metrics/_classification.py:1580: UndefinedMetricWarning: F-score is ill-defined and being set to 0.0 in labels with no true nor predicted samples. Use `zero_division` parameter to control this behavior.\n",
      "  _warn_prf(average, \"true nor predicted\", \"F-score is\", len(true_sum))\n",
      "【dev】 loss：8.762900 accuracy：0.0000 micro_f1：0.0000 macro_f1：0.0000\n"
     ]
    },
    {
     "name": "stdout",
     "output_type": "stream",
     "text": [
      "-----bert model output\n"
     ]
    },
    {
     "name": "stderr",
     "output_type": "stream",
     "text": [
      "【train】 epoch：7 step:447/630 loss：0.035624\n",
      "/opt/conda/lib/python3.7/site-packages/sklearn/metrics/_classification.py:1580: UndefinedMetricWarning: F-score is ill-defined and being set to 0.0 in labels with no true nor predicted samples. Use `zero_division` parameter to control this behavior.\n",
      "  _warn_prf(average, \"true nor predicted\", \"F-score is\", len(true_sum))\n",
      "【dev】 loss：8.754788 accuracy：0.0000 micro_f1：0.0000 macro_f1：0.0000\n"
     ]
    },
    {
     "name": "stdout",
     "output_type": "stream",
     "text": [
      "-----bert model output\n"
     ]
    },
    {
     "name": "stderr",
     "output_type": "stream",
     "text": [
      "【train】 epoch：7 step:448/630 loss：0.035145\n",
      "/opt/conda/lib/python3.7/site-packages/sklearn/metrics/_classification.py:1580: UndefinedMetricWarning: F-score is ill-defined and being set to 0.0 in labels with no true nor predicted samples. Use `zero_division` parameter to control this behavior.\n",
      "  _warn_prf(average, \"true nor predicted\", \"F-score is\", len(true_sum))\n",
      "【dev】 loss：8.746689 accuracy：0.0000 micro_f1：0.0000 macro_f1：0.0000\n"
     ]
    },
    {
     "name": "stdout",
     "output_type": "stream",
     "text": [
      "-----bert model output\n"
     ]
    },
    {
     "name": "stderr",
     "output_type": "stream",
     "text": [
      "【train】 epoch：7 step:449/630 loss：0.043512\n",
      "/opt/conda/lib/python3.7/site-packages/sklearn/metrics/_classification.py:1580: UndefinedMetricWarning: F-score is ill-defined and being set to 0.0 in labels with no true nor predicted samples. Use `zero_division` parameter to control this behavior.\n",
      "  _warn_prf(average, \"true nor predicted\", \"F-score is\", len(true_sum))\n",
      "【dev】 loss：8.738773 accuracy：0.0000 micro_f1：0.0000 macro_f1：0.0000\n"
     ]
    },
    {
     "name": "stdout",
     "output_type": "stream",
     "text": [
      "-----bert model output\n"
     ]
    },
    {
     "name": "stderr",
     "output_type": "stream",
     "text": [
      "【train】 epoch：7 step:450/630 loss：0.035066\n",
      "/opt/conda/lib/python3.7/site-packages/sklearn/metrics/_classification.py:1580: UndefinedMetricWarning: F-score is ill-defined and being set to 0.0 in labels with no true nor predicted samples. Use `zero_division` parameter to control this behavior.\n",
      "  _warn_prf(average, \"true nor predicted\", \"F-score is\", len(true_sum))\n",
      "【dev】 loss：8.730528 accuracy：0.0000 micro_f1：0.0000 macro_f1：0.0000\n"
     ]
    },
    {
     "name": "stdout",
     "output_type": "stream",
     "text": [
      "-----bert model output\n"
     ]
    },
    {
     "name": "stderr",
     "output_type": "stream",
     "text": [
      "【train】 epoch：7 step:451/630 loss：0.043235\n",
      "/opt/conda/lib/python3.7/site-packages/sklearn/metrics/_classification.py:1580: UndefinedMetricWarning: F-score is ill-defined and being set to 0.0 in labels with no true nor predicted samples. Use `zero_division` parameter to control this behavior.\n",
      "  _warn_prf(average, \"true nor predicted\", \"F-score is\", len(true_sum))\n",
      "【dev】 loss：8.722365 accuracy：0.0000 micro_f1：0.0000 macro_f1：0.0000\n"
     ]
    },
    {
     "name": "stdout",
     "output_type": "stream",
     "text": [
      "-----bert model output\n"
     ]
    },
    {
     "name": "stderr",
     "output_type": "stream",
     "text": [
      "【train】 epoch：7 step:452/630 loss：0.037505\n",
      "/opt/conda/lib/python3.7/site-packages/sklearn/metrics/_classification.py:1580: UndefinedMetricWarning: F-score is ill-defined and being set to 0.0 in labels with no true nor predicted samples. Use `zero_division` parameter to control this behavior.\n",
      "  _warn_prf(average, \"true nor predicted\", \"F-score is\", len(true_sum))\n",
      "【dev】 loss：8.714068 accuracy：0.0000 micro_f1：0.0000 macro_f1：0.0000\n"
     ]
    },
    {
     "name": "stdout",
     "output_type": "stream",
     "text": [
      "-----bert model output\n"
     ]
    },
    {
     "name": "stderr",
     "output_type": "stream",
     "text": [
      "【train】 epoch：7 step:453/630 loss：0.042605\n",
      "/opt/conda/lib/python3.7/site-packages/sklearn/metrics/_classification.py:1580: UndefinedMetricWarning: F-score is ill-defined and being set to 0.0 in labels with no true nor predicted samples. Use `zero_division` parameter to control this behavior.\n",
      "  _warn_prf(average, \"true nor predicted\", \"F-score is\", len(true_sum))\n",
      "【dev】 loss：8.705750 accuracy：0.0000 micro_f1：0.0000 macro_f1：0.0000\n"
     ]
    },
    {
     "name": "stdout",
     "output_type": "stream",
     "text": [
      "-----bert model output\n"
     ]
    },
    {
     "name": "stderr",
     "output_type": "stream",
     "text": [
      "【train】 epoch：7 step:454/630 loss：0.038493\n",
      "/opt/conda/lib/python3.7/site-packages/sklearn/metrics/_classification.py:1580: UndefinedMetricWarning: F-score is ill-defined and being set to 0.0 in labels with no true nor predicted samples. Use `zero_division` parameter to control this behavior.\n",
      "  _warn_prf(average, \"true nor predicted\", \"F-score is\", len(true_sum))\n",
      "【dev】 loss：8.697831 accuracy：0.0000 micro_f1：0.0000 macro_f1：0.0000\n"
     ]
    },
    {
     "name": "stdout",
     "output_type": "stream",
     "text": [
      "-----bert model output\n"
     ]
    },
    {
     "name": "stderr",
     "output_type": "stream",
     "text": [
      "【train】 epoch：7 step:455/630 loss：0.038114\n",
      "/opt/conda/lib/python3.7/site-packages/sklearn/metrics/_classification.py:1580: UndefinedMetricWarning: F-score is ill-defined and being set to 0.0 in labels with no true nor predicted samples. Use `zero_division` parameter to control this behavior.\n",
      "  _warn_prf(average, \"true nor predicted\", \"F-score is\", len(true_sum))\n",
      "【dev】 loss：8.689904 accuracy：0.0000 micro_f1：0.0000 macro_f1：0.0000\n"
     ]
    },
    {
     "name": "stdout",
     "output_type": "stream",
     "text": [
      "-----bert model output\n"
     ]
    },
    {
     "name": "stderr",
     "output_type": "stream",
     "text": [
      "【train】 epoch：7 step:456/630 loss：0.034405\n",
      "/opt/conda/lib/python3.7/site-packages/sklearn/metrics/_classification.py:1580: UndefinedMetricWarning: F-score is ill-defined and being set to 0.0 in labels with no true nor predicted samples. Use `zero_division` parameter to control this behavior.\n",
      "  _warn_prf(average, \"true nor predicted\", \"F-score is\", len(true_sum))\n",
      "【dev】 loss：8.681957 accuracy：0.0000 micro_f1：0.0000 macro_f1：0.0000\n"
     ]
    },
    {
     "name": "stdout",
     "output_type": "stream",
     "text": [
      "-----bert model output\n"
     ]
    },
    {
     "name": "stderr",
     "output_type": "stream",
     "text": [
      "【train】 epoch：7 step:457/630 loss：0.036755\n",
      "/opt/conda/lib/python3.7/site-packages/sklearn/metrics/_classification.py:1580: UndefinedMetricWarning: F-score is ill-defined and being set to 0.0 in labels with no true nor predicted samples. Use `zero_division` parameter to control this behavior.\n",
      "  _warn_prf(average, \"true nor predicted\", \"F-score is\", len(true_sum))\n",
      "【dev】 loss：8.674167 accuracy：0.0000 micro_f1：0.0000 macro_f1：0.0000\n"
     ]
    },
    {
     "name": "stdout",
     "output_type": "stream",
     "text": [
      "-----bert model output\n"
     ]
    },
    {
     "name": "stderr",
     "output_type": "stream",
     "text": [
      "【train】 epoch：7 step:458/630 loss：0.036658\n",
      "/opt/conda/lib/python3.7/site-packages/sklearn/metrics/_classification.py:1580: UndefinedMetricWarning: F-score is ill-defined and being set to 0.0 in labels with no true nor predicted samples. Use `zero_division` parameter to control this behavior.\n",
      "  _warn_prf(average, \"true nor predicted\", \"F-score is\", len(true_sum))\n",
      "【dev】 loss：8.666372 accuracy：0.0000 micro_f1：0.0000 macro_f1：0.0000\n"
     ]
    },
    {
     "name": "stdout",
     "output_type": "stream",
     "text": [
      "-----bert model output\n"
     ]
    },
    {
     "name": "stderr",
     "output_type": "stream",
     "text": [
      "【train】 epoch：7 step:459/630 loss：0.038432\n",
      "/opt/conda/lib/python3.7/site-packages/sklearn/metrics/_classification.py:1580: UndefinedMetricWarning: F-score is ill-defined and being set to 0.0 in labels with no true nor predicted samples. Use `zero_division` parameter to control this behavior.\n",
      "  _warn_prf(average, \"true nor predicted\", \"F-score is\", len(true_sum))\n",
      "【dev】 loss：8.658637 accuracy：0.0000 micro_f1：0.0000 macro_f1：0.0000\n"
     ]
    },
    {
     "name": "stdout",
     "output_type": "stream",
     "text": [
      "-----bert model output\n"
     ]
    },
    {
     "name": "stderr",
     "output_type": "stream",
     "text": [
      "【train】 epoch：7 step:460/630 loss：0.043507\n",
      "/opt/conda/lib/python3.7/site-packages/sklearn/metrics/_classification.py:1580: UndefinedMetricWarning: F-score is ill-defined and being set to 0.0 in labels with no true nor predicted samples. Use `zero_division` parameter to control this behavior.\n",
      "  _warn_prf(average, \"true nor predicted\", \"F-score is\", len(true_sum))\n",
      "【dev】 loss：8.651057 accuracy：0.0000 micro_f1：0.0000 macro_f1：0.0000\n"
     ]
    },
    {
     "name": "stdout",
     "output_type": "stream",
     "text": [
      "-----bert model output\n"
     ]
    },
    {
     "name": "stderr",
     "output_type": "stream",
     "text": [
      "【train】 epoch：7 step:461/630 loss：0.037977\n",
      "/opt/conda/lib/python3.7/site-packages/sklearn/metrics/_classification.py:1580: UndefinedMetricWarning: F-score is ill-defined and being set to 0.0 in labels with no true nor predicted samples. Use `zero_division` parameter to control this behavior.\n",
      "  _warn_prf(average, \"true nor predicted\", \"F-score is\", len(true_sum))\n",
      "【dev】 loss：8.643586 accuracy：0.0000 micro_f1：0.0000 macro_f1：0.0000\n"
     ]
    },
    {
     "name": "stdout",
     "output_type": "stream",
     "text": [
      "-----bert model output\n"
     ]
    },
    {
     "name": "stderr",
     "output_type": "stream",
     "text": [
      "【train】 epoch：7 step:462/630 loss：0.038720\n",
      "/opt/conda/lib/python3.7/site-packages/sklearn/metrics/_classification.py:1580: UndefinedMetricWarning: F-score is ill-defined and being set to 0.0 in labels with no true nor predicted samples. Use `zero_division` parameter to control this behavior.\n",
      "  _warn_prf(average, \"true nor predicted\", \"F-score is\", len(true_sum))\n",
      "【dev】 loss：8.636071 accuracy：0.0000 micro_f1：0.0000 macro_f1：0.0000\n"
     ]
    },
    {
     "name": "stdout",
     "output_type": "stream",
     "text": [
      "-----bert model output\n"
     ]
    },
    {
     "name": "stderr",
     "output_type": "stream",
     "text": [
      "【train】 epoch：7 step:463/630 loss：0.038886\n",
      "/opt/conda/lib/python3.7/site-packages/sklearn/metrics/_classification.py:1580: UndefinedMetricWarning: F-score is ill-defined and being set to 0.0 in labels with no true nor predicted samples. Use `zero_division` parameter to control this behavior.\n",
      "  _warn_prf(average, \"true nor predicted\", \"F-score is\", len(true_sum))\n",
      "【dev】 loss：8.628525 accuracy：0.0000 micro_f1：0.0000 macro_f1：0.0000\n"
     ]
    },
    {
     "name": "stdout",
     "output_type": "stream",
     "text": [
      "-----bert model output\n"
     ]
    },
    {
     "name": "stderr",
     "output_type": "stream",
     "text": [
      "【train】 epoch：7 step:464/630 loss：0.037043\n",
      "/opt/conda/lib/python3.7/site-packages/sklearn/metrics/_classification.py:1580: UndefinedMetricWarning: F-score is ill-defined and being set to 0.0 in labels with no true nor predicted samples. Use `zero_division` parameter to control this behavior.\n",
      "  _warn_prf(average, \"true nor predicted\", \"F-score is\", len(true_sum))\n",
      "【dev】 loss：8.621150 accuracy：0.0000 micro_f1：0.0000 macro_f1：0.0000\n"
     ]
    },
    {
     "name": "stdout",
     "output_type": "stream",
     "text": [
      "-----bert model output\n"
     ]
    },
    {
     "name": "stderr",
     "output_type": "stream",
     "text": [
      "【train】 epoch：7 step:465/630 loss：0.034444\n",
      "/opt/conda/lib/python3.7/site-packages/sklearn/metrics/_classification.py:1580: UndefinedMetricWarning: F-score is ill-defined and being set to 0.0 in labels with no true nor predicted samples. Use `zero_division` parameter to control this behavior.\n",
      "  _warn_prf(average, \"true nor predicted\", \"F-score is\", len(true_sum))\n",
      "【dev】 loss：8.613419 accuracy：0.0000 micro_f1：0.0000 macro_f1：0.0000\n"
     ]
    },
    {
     "name": "stdout",
     "output_type": "stream",
     "text": [
      "-----bert model output\n"
     ]
    },
    {
     "name": "stderr",
     "output_type": "stream",
     "text": [
      "【train】 epoch：7 step:466/630 loss：0.036219\n",
      "/opt/conda/lib/python3.7/site-packages/sklearn/metrics/_classification.py:1580: UndefinedMetricWarning: F-score is ill-defined and being set to 0.0 in labels with no true nor predicted samples. Use `zero_division` parameter to control this behavior.\n",
      "  _warn_prf(average, \"true nor predicted\", \"F-score is\", len(true_sum))\n",
      "【dev】 loss：8.605611 accuracy：0.0000 micro_f1：0.0000 macro_f1：0.0000\n"
     ]
    },
    {
     "name": "stdout",
     "output_type": "stream",
     "text": [
      "-----bert model output\n"
     ]
    },
    {
     "name": "stderr",
     "output_type": "stream",
     "text": [
      "【train】 epoch：7 step:467/630 loss：0.037589\n",
      "/opt/conda/lib/python3.7/site-packages/sklearn/metrics/_classification.py:1580: UndefinedMetricWarning: F-score is ill-defined and being set to 0.0 in labels with no true nor predicted samples. Use `zero_division` parameter to control this behavior.\n",
      "  _warn_prf(average, \"true nor predicted\", \"F-score is\", len(true_sum))\n",
      "【dev】 loss：8.597997 accuracy：0.0000 micro_f1：0.0000 macro_f1：0.0000\n"
     ]
    },
    {
     "name": "stdout",
     "output_type": "stream",
     "text": [
      "-----bert model output\n"
     ]
    },
    {
     "name": "stderr",
     "output_type": "stream",
     "text": [
      "【train】 epoch：7 step:468/630 loss：0.038482\n",
      "/opt/conda/lib/python3.7/site-packages/sklearn/metrics/_classification.py:1580: UndefinedMetricWarning: F-score is ill-defined and being set to 0.0 in labels with no true nor predicted samples. Use `zero_division` parameter to control this behavior.\n",
      "  _warn_prf(average, \"true nor predicted\", \"F-score is\", len(true_sum))\n",
      "【dev】 loss：8.590575 accuracy：0.0000 micro_f1：0.0000 macro_f1：0.0000\n"
     ]
    },
    {
     "name": "stdout",
     "output_type": "stream",
     "text": [
      "-----bert model output\n"
     ]
    },
    {
     "name": "stderr",
     "output_type": "stream",
     "text": [
      "【train】 epoch：7 step:469/630 loss：0.040348\n",
      "/opt/conda/lib/python3.7/site-packages/sklearn/metrics/_classification.py:1580: UndefinedMetricWarning: F-score is ill-defined and being set to 0.0 in labels with no true nor predicted samples. Use `zero_division` parameter to control this behavior.\n",
      "  _warn_prf(average, \"true nor predicted\", \"F-score is\", len(true_sum))\n",
      "【dev】 loss：8.583586 accuracy：0.0000 micro_f1：0.0000 macro_f1：0.0000\n"
     ]
    },
    {
     "name": "stdout",
     "output_type": "stream",
     "text": [
      "-----bert model output\n"
     ]
    },
    {
     "name": "stderr",
     "output_type": "stream",
     "text": [
      "【train】 epoch：7 step:470/630 loss：0.035617\n",
      "/opt/conda/lib/python3.7/site-packages/sklearn/metrics/_classification.py:1580: UndefinedMetricWarning: F-score is ill-defined and being set to 0.0 in labels with no true nor predicted samples. Use `zero_division` parameter to control this behavior.\n",
      "  _warn_prf(average, \"true nor predicted\", \"F-score is\", len(true_sum))\n",
      "【dev】 loss：8.576741 accuracy：0.0000 micro_f1：0.0000 macro_f1：0.0000\n"
     ]
    },
    {
     "name": "stdout",
     "output_type": "stream",
     "text": [
      "-----bert model output\n"
     ]
    },
    {
     "name": "stderr",
     "output_type": "stream",
     "text": [
      "【train】 epoch：7 step:471/630 loss：0.038966\n",
      "/opt/conda/lib/python3.7/site-packages/sklearn/metrics/_classification.py:1580: UndefinedMetricWarning: F-score is ill-defined and being set to 0.0 in labels with no true nor predicted samples. Use `zero_division` parameter to control this behavior.\n",
      "  _warn_prf(average, \"true nor predicted\", \"F-score is\", len(true_sum))\n",
      "【dev】 loss：8.570151 accuracy：0.0000 micro_f1：0.0000 macro_f1：0.0000\n"
     ]
    },
    {
     "name": "stdout",
     "output_type": "stream",
     "text": [
      "-----bert model output\n"
     ]
    },
    {
     "name": "stderr",
     "output_type": "stream",
     "text": [
      "【train】 epoch：7 step:472/630 loss：0.035542\n",
      "/opt/conda/lib/python3.7/site-packages/sklearn/metrics/_classification.py:1580: UndefinedMetricWarning: F-score is ill-defined and being set to 0.0 in labels with no true nor predicted samples. Use `zero_division` parameter to control this behavior.\n",
      "  _warn_prf(average, \"true nor predicted\", \"F-score is\", len(true_sum))\n",
      "【dev】 loss：8.563333 accuracy：0.0000 micro_f1：0.0000 macro_f1：0.0000\n"
     ]
    },
    {
     "name": "stdout",
     "output_type": "stream",
     "text": [
      "-----bert model output\n"
     ]
    },
    {
     "name": "stderr",
     "output_type": "stream",
     "text": [
      "【train】 epoch：7 step:473/630 loss：0.036671\n",
      "/opt/conda/lib/python3.7/site-packages/sklearn/metrics/_classification.py:1580: UndefinedMetricWarning: F-score is ill-defined and being set to 0.0 in labels with no true nor predicted samples. Use `zero_division` parameter to control this behavior.\n",
      "  _warn_prf(average, \"true nor predicted\", \"F-score is\", len(true_sum))\n",
      "【dev】 loss：8.556691 accuracy：0.0000 micro_f1：0.0000 macro_f1：0.0000\n"
     ]
    },
    {
     "name": "stdout",
     "output_type": "stream",
     "text": [
      "-----bert model output\n"
     ]
    },
    {
     "name": "stderr",
     "output_type": "stream",
     "text": [
      "【train】 epoch：7 step:474/630 loss：0.038407\n",
      "/opt/conda/lib/python3.7/site-packages/sklearn/metrics/_classification.py:1580: UndefinedMetricWarning: F-score is ill-defined and being set to 0.0 in labels with no true nor predicted samples. Use `zero_division` parameter to control this behavior.\n",
      "  _warn_prf(average, \"true nor predicted\", \"F-score is\", len(true_sum))\n",
      "【dev】 loss：8.550245 accuracy：0.0000 micro_f1：0.0000 macro_f1：0.0000\n"
     ]
    },
    {
     "name": "stdout",
     "output_type": "stream",
     "text": [
      "-----bert model output\n"
     ]
    },
    {
     "name": "stderr",
     "output_type": "stream",
     "text": [
      "【train】 epoch：7 step:475/630 loss：0.039844\n",
      "/opt/conda/lib/python3.7/site-packages/sklearn/metrics/_classification.py:1580: UndefinedMetricWarning: F-score is ill-defined and being set to 0.0 in labels with no true nor predicted samples. Use `zero_division` parameter to control this behavior.\n",
      "  _warn_prf(average, \"true nor predicted\", \"F-score is\", len(true_sum))\n",
      "【dev】 loss：8.544266 accuracy：0.0000 micro_f1：0.0000 macro_f1：0.0000\n"
     ]
    },
    {
     "name": "stdout",
     "output_type": "stream",
     "text": [
      "-----bert model output\n"
     ]
    },
    {
     "name": "stderr",
     "output_type": "stream",
     "text": [
      "【train】 epoch：7 step:476/630 loss：0.035962\n",
      "/opt/conda/lib/python3.7/site-packages/sklearn/metrics/_classification.py:1580: UndefinedMetricWarning: F-score is ill-defined and being set to 0.0 in labels with no true nor predicted samples. Use `zero_division` parameter to control this behavior.\n",
      "  _warn_prf(average, \"true nor predicted\", \"F-score is\", len(true_sum))\n",
      "【dev】 loss：8.537816 accuracy：0.0000 micro_f1：0.0000 macro_f1：0.0000\n"
     ]
    },
    {
     "name": "stdout",
     "output_type": "stream",
     "text": [
      "-----bert model output\n"
     ]
    },
    {
     "name": "stderr",
     "output_type": "stream",
     "text": [
      "【train】 epoch：7 step:477/630 loss：0.040050\n",
      "/opt/conda/lib/python3.7/site-packages/sklearn/metrics/_classification.py:1580: UndefinedMetricWarning: F-score is ill-defined and being set to 0.0 in labels with no true nor predicted samples. Use `zero_division` parameter to control this behavior.\n",
      "  _warn_prf(average, \"true nor predicted\", \"F-score is\", len(true_sum))\n",
      "【dev】 loss：8.531416 accuracy：0.0000 micro_f1：0.0000 macro_f1：0.0000\n"
     ]
    },
    {
     "name": "stdout",
     "output_type": "stream",
     "text": [
      "-----bert model output\n"
     ]
    },
    {
     "name": "stderr",
     "output_type": "stream",
     "text": [
      "【train】 epoch：7 step:478/630 loss：0.035249\n",
      "/opt/conda/lib/python3.7/site-packages/sklearn/metrics/_classification.py:1580: UndefinedMetricWarning: F-score is ill-defined and being set to 0.0 in labels with no true nor predicted samples. Use `zero_division` parameter to control this behavior.\n",
      "  _warn_prf(average, \"true nor predicted\", \"F-score is\", len(true_sum))\n",
      "【dev】 loss：8.524731 accuracy：0.0000 micro_f1：0.0000 macro_f1：0.0000\n"
     ]
    },
    {
     "name": "stdout",
     "output_type": "stream",
     "text": [
      "-----bert model output\n"
     ]
    },
    {
     "name": "stderr",
     "output_type": "stream",
     "text": [
      "【train】 epoch：7 step:479/630 loss：0.035259\n",
      "/opt/conda/lib/python3.7/site-packages/sklearn/metrics/_classification.py:1580: UndefinedMetricWarning: F-score is ill-defined and being set to 0.0 in labels with no true nor predicted samples. Use `zero_division` parameter to control this behavior.\n",
      "  _warn_prf(average, \"true nor predicted\", \"F-score is\", len(true_sum))\n",
      "【dev】 loss：8.517982 accuracy：0.0000 micro_f1：0.0000 macro_f1：0.0000\n"
     ]
    },
    {
     "name": "stdout",
     "output_type": "stream",
     "text": [
      "-----bert model output\n"
     ]
    },
    {
     "name": "stderr",
     "output_type": "stream",
     "text": [
      "【train】 epoch：7 step:480/630 loss：0.039003\n",
      "/opt/conda/lib/python3.7/site-packages/sklearn/metrics/_classification.py:1580: UndefinedMetricWarning: F-score is ill-defined and being set to 0.0 in labels with no true nor predicted samples. Use `zero_division` parameter to control this behavior.\n",
      "  _warn_prf(average, \"true nor predicted\", \"F-score is\", len(true_sum))\n",
      "【dev】 loss：8.511411 accuracy：0.0000 micro_f1：0.0000 macro_f1：0.0000\n"
     ]
    },
    {
     "name": "stdout",
     "output_type": "stream",
     "text": [
      "-----bert model output\n"
     ]
    },
    {
     "name": "stderr",
     "output_type": "stream",
     "text": [
      "【train】 epoch：7 step:481/630 loss：0.035537\n",
      "/opt/conda/lib/python3.7/site-packages/sklearn/metrics/_classification.py:1580: UndefinedMetricWarning: F-score is ill-defined and being set to 0.0 in labels with no true nor predicted samples. Use `zero_division` parameter to control this behavior.\n",
      "  _warn_prf(average, \"true nor predicted\", \"F-score is\", len(true_sum))\n",
      "【dev】 loss：8.504827 accuracy：0.0000 micro_f1：0.0000 macro_f1：0.0000\n"
     ]
    },
    {
     "name": "stdout",
     "output_type": "stream",
     "text": [
      "-----bert model output\n"
     ]
    },
    {
     "name": "stderr",
     "output_type": "stream",
     "text": [
      "【train】 epoch：7 step:482/630 loss：0.036765\n",
      "/opt/conda/lib/python3.7/site-packages/sklearn/metrics/_classification.py:1580: UndefinedMetricWarning: F-score is ill-defined and being set to 0.0 in labels with no true nor predicted samples. Use `zero_division` parameter to control this behavior.\n",
      "  _warn_prf(average, \"true nor predicted\", \"F-score is\", len(true_sum))\n",
      "【dev】 loss：8.497858 accuracy：0.0000 micro_f1：0.0000 macro_f1：0.0000\n"
     ]
    },
    {
     "name": "stdout",
     "output_type": "stream",
     "text": [
      "-----bert model output\n"
     ]
    },
    {
     "name": "stderr",
     "output_type": "stream",
     "text": [
      "【train】 epoch：7 step:483/630 loss：0.037068\n",
      "/opt/conda/lib/python3.7/site-packages/sklearn/metrics/_classification.py:1580: UndefinedMetricWarning: F-score is ill-defined and being set to 0.0 in labels with no true nor predicted samples. Use `zero_division` parameter to control this behavior.\n",
      "  _warn_prf(average, \"true nor predicted\", \"F-score is\", len(true_sum))\n",
      "【dev】 loss：8.490905 accuracy：0.0000 micro_f1：0.0000 macro_f1：0.0000\n"
     ]
    },
    {
     "name": "stdout",
     "output_type": "stream",
     "text": [
      "-----bert model output\n"
     ]
    },
    {
     "name": "stderr",
     "output_type": "stream",
     "text": [
      "【train】 epoch：7 step:484/630 loss：0.036081\n",
      "/opt/conda/lib/python3.7/site-packages/sklearn/metrics/_classification.py:1580: UndefinedMetricWarning: F-score is ill-defined and being set to 0.0 in labels with no true nor predicted samples. Use `zero_division` parameter to control this behavior.\n",
      "  _warn_prf(average, \"true nor predicted\", \"F-score is\", len(true_sum))\n",
      "【dev】 loss：8.483717 accuracy：0.0000 micro_f1：0.0000 macro_f1：0.0000\n"
     ]
    },
    {
     "name": "stdout",
     "output_type": "stream",
     "text": [
      "-----bert model output\n"
     ]
    },
    {
     "name": "stderr",
     "output_type": "stream",
     "text": [
      "【train】 epoch：7 step:485/630 loss：0.037696\n",
      "/opt/conda/lib/python3.7/site-packages/sklearn/metrics/_classification.py:1580: UndefinedMetricWarning: F-score is ill-defined and being set to 0.0 in labels with no true nor predicted samples. Use `zero_division` parameter to control this behavior.\n",
      "  _warn_prf(average, \"true nor predicted\", \"F-score is\", len(true_sum))\n",
      "【dev】 loss：8.476445 accuracy：0.0000 micro_f1：0.0000 macro_f1：0.0000\n"
     ]
    },
    {
     "name": "stdout",
     "output_type": "stream",
     "text": [
      "-----bert model output\n"
     ]
    },
    {
     "name": "stderr",
     "output_type": "stream",
     "text": [
      "【train】 epoch：7 step:486/630 loss：0.033116\n",
      "/opt/conda/lib/python3.7/site-packages/sklearn/metrics/_classification.py:1580: UndefinedMetricWarning: F-score is ill-defined and being set to 0.0 in labels with no true nor predicted samples. Use `zero_division` parameter to control this behavior.\n",
      "  _warn_prf(average, \"true nor predicted\", \"F-score is\", len(true_sum))\n",
      "【dev】 loss：8.469265 accuracy：0.0000 micro_f1：0.0000 macro_f1：0.0000\n"
     ]
    },
    {
     "name": "stdout",
     "output_type": "stream",
     "text": [
      "-----bert model output\n"
     ]
    },
    {
     "name": "stderr",
     "output_type": "stream",
     "text": [
      "【train】 epoch：7 step:487/630 loss：0.036200\n",
      "/opt/conda/lib/python3.7/site-packages/sklearn/metrics/_classification.py:1580: UndefinedMetricWarning: F-score is ill-defined and being set to 0.0 in labels with no true nor predicted samples. Use `zero_division` parameter to control this behavior.\n",
      "  _warn_prf(average, \"true nor predicted\", \"F-score is\", len(true_sum))\n",
      "【dev】 loss：8.462462 accuracy：0.0000 micro_f1：0.0000 macro_f1：0.0000\n"
     ]
    },
    {
     "name": "stdout",
     "output_type": "stream",
     "text": [
      "-----bert model output\n"
     ]
    },
    {
     "name": "stderr",
     "output_type": "stream",
     "text": [
      "【train】 epoch：7 step:488/630 loss：0.034925\n",
      "/opt/conda/lib/python3.7/site-packages/sklearn/metrics/_classification.py:1580: UndefinedMetricWarning: F-score is ill-defined and being set to 0.0 in labels with no true nor predicted samples. Use `zero_division` parameter to control this behavior.\n",
      "  _warn_prf(average, \"true nor predicted\", \"F-score is\", len(true_sum))\n",
      "【dev】 loss：8.455449 accuracy：0.0000 micro_f1：0.0000 macro_f1：0.0000\n"
     ]
    },
    {
     "name": "stdout",
     "output_type": "stream",
     "text": [
      "-----bert model output\n"
     ]
    },
    {
     "name": "stderr",
     "output_type": "stream",
     "text": [
      "【train】 epoch：7 step:489/630 loss：0.037773\n",
      "/opt/conda/lib/python3.7/site-packages/sklearn/metrics/_classification.py:1580: UndefinedMetricWarning: F-score is ill-defined and being set to 0.0 in labels with no true nor predicted samples. Use `zero_division` parameter to control this behavior.\n",
      "  _warn_prf(average, \"true nor predicted\", \"F-score is\", len(true_sum))\n",
      "【dev】 loss：8.448427 accuracy：0.0000 micro_f1：0.0000 macro_f1：0.0000\n"
     ]
    },
    {
     "name": "stdout",
     "output_type": "stream",
     "text": [
      "-----bert model output\n"
     ]
    },
    {
     "name": "stderr",
     "output_type": "stream",
     "text": [
      "【train】 epoch：7 step:490/630 loss：0.038045\n",
      "/opt/conda/lib/python3.7/site-packages/sklearn/metrics/_classification.py:1580: UndefinedMetricWarning: F-score is ill-defined and being set to 0.0 in labels with no true nor predicted samples. Use `zero_division` parameter to control this behavior.\n",
      "  _warn_prf(average, \"true nor predicted\", \"F-score is\", len(true_sum))\n",
      "【dev】 loss：8.441571 accuracy：0.0000 micro_f1：0.0000 macro_f1：0.0000\n"
     ]
    },
    {
     "name": "stdout",
     "output_type": "stream",
     "text": [
      "-----bert model output\n"
     ]
    },
    {
     "name": "stderr",
     "output_type": "stream",
     "text": [
      "【train】 epoch：7 step:491/630 loss：0.038170\n",
      "/opt/conda/lib/python3.7/site-packages/sklearn/metrics/_classification.py:1580: UndefinedMetricWarning: F-score is ill-defined and being set to 0.0 in labels with no true nor predicted samples. Use `zero_division` parameter to control this behavior.\n",
      "  _warn_prf(average, \"true nor predicted\", \"F-score is\", len(true_sum))\n",
      "【dev】 loss：8.435079 accuracy：0.0000 micro_f1：0.0000 macro_f1：0.0000\n"
     ]
    },
    {
     "name": "stdout",
     "output_type": "stream",
     "text": [
      "-----bert model output\n"
     ]
    },
    {
     "name": "stderr",
     "output_type": "stream",
     "text": [
      "【train】 epoch：7 step:492/630 loss：0.034859\n",
      "/opt/conda/lib/python3.7/site-packages/sklearn/metrics/_classification.py:1580: UndefinedMetricWarning: F-score is ill-defined and being set to 0.0 in labels with no true nor predicted samples. Use `zero_division` parameter to control this behavior.\n",
      "  _warn_prf(average, \"true nor predicted\", \"F-score is\", len(true_sum))\n",
      "【dev】 loss：8.428623 accuracy：0.0000 micro_f1：0.0000 macro_f1：0.0000\n"
     ]
    },
    {
     "name": "stdout",
     "output_type": "stream",
     "text": [
      "-----bert model output\n"
     ]
    },
    {
     "name": "stderr",
     "output_type": "stream",
     "text": [
      "【train】 epoch：7 step:493/630 loss：0.036214\n",
      "/opt/conda/lib/python3.7/site-packages/sklearn/metrics/_classification.py:1580: UndefinedMetricWarning: F-score is ill-defined and being set to 0.0 in labels with no true nor predicted samples. Use `zero_division` parameter to control this behavior.\n",
      "  _warn_prf(average, \"true nor predicted\", \"F-score is\", len(true_sum))\n",
      "【dev】 loss：8.422256 accuracy：0.0000 micro_f1：0.0000 macro_f1：0.0000\n"
     ]
    },
    {
     "name": "stdout",
     "output_type": "stream",
     "text": [
      "-----bert model output\n"
     ]
    },
    {
     "name": "stderr",
     "output_type": "stream",
     "text": [
      "【train】 epoch：7 step:494/630 loss：0.034650\n",
      "/opt/conda/lib/python3.7/site-packages/sklearn/metrics/_classification.py:1580: UndefinedMetricWarning: F-score is ill-defined and being set to 0.0 in labels with no true nor predicted samples. Use `zero_division` parameter to control this behavior.\n",
      "  _warn_prf(average, \"true nor predicted\", \"F-score is\", len(true_sum))\n",
      "【dev】 loss：8.415657 accuracy：0.0000 micro_f1：0.0000 macro_f1：0.0000\n"
     ]
    },
    {
     "name": "stdout",
     "output_type": "stream",
     "text": [
      "-----bert model output\n"
     ]
    },
    {
     "name": "stderr",
     "output_type": "stream",
     "text": [
      "【train】 epoch：7 step:495/630 loss：0.037130\n",
      "/opt/conda/lib/python3.7/site-packages/sklearn/metrics/_classification.py:1580: UndefinedMetricWarning: F-score is ill-defined and being set to 0.0 in labels with no true nor predicted samples. Use `zero_division` parameter to control this behavior.\n",
      "  _warn_prf(average, \"true nor predicted\", \"F-score is\", len(true_sum))\n",
      "【dev】 loss：8.409124 accuracy：0.0000 micro_f1：0.0000 macro_f1：0.0000\n"
     ]
    },
    {
     "name": "stdout",
     "output_type": "stream",
     "text": [
      "-----bert model output\n"
     ]
    },
    {
     "name": "stderr",
     "output_type": "stream",
     "text": [
      "【train】 epoch：7 step:496/630 loss：0.040474\n",
      "/opt/conda/lib/python3.7/site-packages/sklearn/metrics/_classification.py:1580: UndefinedMetricWarning: F-score is ill-defined and being set to 0.0 in labels with no true nor predicted samples. Use `zero_division` parameter to control this behavior.\n",
      "  _warn_prf(average, \"true nor predicted\", \"F-score is\", len(true_sum))\n",
      "【dev】 loss：8.402977 accuracy：0.0000 micro_f1：0.0000 macro_f1：0.0000\n"
     ]
    },
    {
     "name": "stdout",
     "output_type": "stream",
     "text": [
      "-----bert model output\n"
     ]
    },
    {
     "name": "stderr",
     "output_type": "stream",
     "text": [
      "【train】 epoch：7 step:497/630 loss：0.031517\n",
      "/opt/conda/lib/python3.7/site-packages/sklearn/metrics/_classification.py:1580: UndefinedMetricWarning: F-score is ill-defined and being set to 0.0 in labels with no true nor predicted samples. Use `zero_division` parameter to control this behavior.\n",
      "  _warn_prf(average, \"true nor predicted\", \"F-score is\", len(true_sum))\n",
      "【dev】 loss：8.396687 accuracy：0.0000 micro_f1：0.0000 macro_f1：0.0000\n"
     ]
    },
    {
     "name": "stdout",
     "output_type": "stream",
     "text": [
      "-----bert model output\n"
     ]
    },
    {
     "name": "stderr",
     "output_type": "stream",
     "text": [
      "【train】 epoch：7 step:498/630 loss：0.036823\n",
      "/opt/conda/lib/python3.7/site-packages/sklearn/metrics/_classification.py:1580: UndefinedMetricWarning: F-score is ill-defined and being set to 0.0 in labels with no true nor predicted samples. Use `zero_division` parameter to control this behavior.\n",
      "  _warn_prf(average, \"true nor predicted\", \"F-score is\", len(true_sum))\n",
      "【dev】 loss：8.390295 accuracy：0.0000 micro_f1：0.0000 macro_f1：0.0000\n"
     ]
    },
    {
     "name": "stdout",
     "output_type": "stream",
     "text": [
      "-----bert model output\n"
     ]
    },
    {
     "name": "stderr",
     "output_type": "stream",
     "text": [
      "【train】 epoch：7 step:499/630 loss：0.036082\n",
      "/opt/conda/lib/python3.7/site-packages/sklearn/metrics/_classification.py:1580: UndefinedMetricWarning: F-score is ill-defined and being set to 0.0 in labels with no true nor predicted samples. Use `zero_division` parameter to control this behavior.\n",
      "  _warn_prf(average, \"true nor predicted\", \"F-score is\", len(true_sum))\n",
      "【dev】 loss：8.383766 accuracy：0.0000 micro_f1：0.0000 macro_f1：0.0000\n"
     ]
    },
    {
     "name": "stdout",
     "output_type": "stream",
     "text": [
      "-----bert model output\n"
     ]
    },
    {
     "name": "stderr",
     "output_type": "stream",
     "text": [
      "【train】 epoch：7 step:500/630 loss：0.036838\n",
      "/opt/conda/lib/python3.7/site-packages/sklearn/metrics/_classification.py:1580: UndefinedMetricWarning: F-score is ill-defined and being set to 0.0 in labels with no true nor predicted samples. Use `zero_division` parameter to control this behavior.\n",
      "  _warn_prf(average, \"true nor predicted\", \"F-score is\", len(true_sum))\n",
      "【dev】 loss：8.377497 accuracy：0.0000 micro_f1：0.0000 macro_f1：0.0000\n"
     ]
    },
    {
     "name": "stdout",
     "output_type": "stream",
     "text": [
      "-----bert model output\n"
     ]
    },
    {
     "name": "stderr",
     "output_type": "stream",
     "text": [
      "【train】 epoch：7 step:501/630 loss：0.037204\n",
      "/opt/conda/lib/python3.7/site-packages/sklearn/metrics/_classification.py:1580: UndefinedMetricWarning: F-score is ill-defined and being set to 0.0 in labels with no true nor predicted samples. Use `zero_division` parameter to control this behavior.\n",
      "  _warn_prf(average, \"true nor predicted\", \"F-score is\", len(true_sum))\n",
      "【dev】 loss：8.371524 accuracy：0.0000 micro_f1：0.0000 macro_f1：0.0000\n"
     ]
    },
    {
     "name": "stdout",
     "output_type": "stream",
     "text": [
      "-----bert model output\n"
     ]
    },
    {
     "name": "stderr",
     "output_type": "stream",
     "text": [
      "【train】 epoch：7 step:502/630 loss：0.036945\n",
      "/opt/conda/lib/python3.7/site-packages/sklearn/metrics/_classification.py:1580: UndefinedMetricWarning: F-score is ill-defined and being set to 0.0 in labels with no true nor predicted samples. Use `zero_division` parameter to control this behavior.\n",
      "  _warn_prf(average, \"true nor predicted\", \"F-score is\", len(true_sum))\n",
      "【dev】 loss：8.365339 accuracy：0.0000 micro_f1：0.0000 macro_f1：0.0000\n",
      "【train】 epoch：7 step:503/630 loss：0.038267\n"
     ]
    },
    {
     "name": "stdout",
     "output_type": "stream",
     "text": [
      "-----bert model output\n"
     ]
    },
    {
     "name": "stderr",
     "output_type": "stream",
     "text": [
      "/opt/conda/lib/python3.7/site-packages/sklearn/metrics/_classification.py:1580: UndefinedMetricWarning: F-score is ill-defined and being set to 0.0 in labels with no true nor predicted samples. Use `zero_division` parameter to control this behavior.\n",
      "  _warn_prf(average, \"true nor predicted\", \"F-score is\", len(true_sum))\n",
      "【dev】 loss：8.359300 accuracy：0.0000 micro_f1：0.0000 macro_f1：0.0000\n"
     ]
    },
    {
     "name": "stdout",
     "output_type": "stream",
     "text": [
      "-----bert model output\n"
     ]
    },
    {
     "name": "stderr",
     "output_type": "stream",
     "text": [
      "【train】 epoch：8 step:504/630 loss：0.035794\n",
      "/opt/conda/lib/python3.7/site-packages/sklearn/metrics/_classification.py:1580: UndefinedMetricWarning: F-score is ill-defined and being set to 0.0 in labels with no true nor predicted samples. Use `zero_division` parameter to control this behavior.\n",
      "  _warn_prf(average, \"true nor predicted\", \"F-score is\", len(true_sum))\n",
      "【dev】 loss：8.353239 accuracy：0.0000 micro_f1：0.0000 macro_f1：0.0000\n"
     ]
    },
    {
     "name": "stdout",
     "output_type": "stream",
     "text": [
      "-----bert model output\n"
     ]
    },
    {
     "name": "stderr",
     "output_type": "stream",
     "text": [
      "【train】 epoch：8 step:505/630 loss：0.033943\n",
      "/opt/conda/lib/python3.7/site-packages/sklearn/metrics/_classification.py:1580: UndefinedMetricWarning: F-score is ill-defined and being set to 0.0 in labels with no true nor predicted samples. Use `zero_division` parameter to control this behavior.\n",
      "  _warn_prf(average, \"true nor predicted\", \"F-score is\", len(true_sum))\n",
      "【dev】 loss：8.347425 accuracy：0.0000 micro_f1：0.0000 macro_f1：0.0000\n"
     ]
    },
    {
     "name": "stdout",
     "output_type": "stream",
     "text": [
      "-----bert model output\n"
     ]
    },
    {
     "name": "stderr",
     "output_type": "stream",
     "text": [
      "【train】 epoch：8 step:506/630 loss：0.037512\n",
      "/opt/conda/lib/python3.7/site-packages/sklearn/metrics/_classification.py:1580: UndefinedMetricWarning: F-score is ill-defined and being set to 0.0 in labels with no true nor predicted samples. Use `zero_division` parameter to control this behavior.\n",
      "  _warn_prf(average, \"true nor predicted\", \"F-score is\", len(true_sum))\n",
      "【dev】 loss：8.341810 accuracy：0.0000 micro_f1：0.0000 macro_f1：0.0000\n"
     ]
    },
    {
     "name": "stdout",
     "output_type": "stream",
     "text": [
      "-----bert model output\n"
     ]
    },
    {
     "name": "stderr",
     "output_type": "stream",
     "text": [
      "【train】 epoch：8 step:507/630 loss：0.032320\n",
      "/opt/conda/lib/python3.7/site-packages/sklearn/metrics/_classification.py:1580: UndefinedMetricWarning: F-score is ill-defined and being set to 0.0 in labels with no true nor predicted samples. Use `zero_division` parameter to control this behavior.\n",
      "  _warn_prf(average, \"true nor predicted\", \"F-score is\", len(true_sum))\n",
      "【dev】 loss：8.336132 accuracy：0.0000 micro_f1：0.0000 macro_f1：0.0000\n"
     ]
    },
    {
     "name": "stdout",
     "output_type": "stream",
     "text": [
      "-----bert model output\n"
     ]
    },
    {
     "name": "stderr",
     "output_type": "stream",
     "text": [
      "【train】 epoch：8 step:508/630 loss：0.044044\n",
      "/opt/conda/lib/python3.7/site-packages/sklearn/metrics/_classification.py:1580: UndefinedMetricWarning: F-score is ill-defined and being set to 0.0 in labels with no true nor predicted samples. Use `zero_division` parameter to control this behavior.\n",
      "  _warn_prf(average, \"true nor predicted\", \"F-score is\", len(true_sum))\n",
      "【dev】 loss：8.330709 accuracy：0.0000 micro_f1：0.0000 macro_f1：0.0000\n"
     ]
    },
    {
     "name": "stdout",
     "output_type": "stream",
     "text": [
      "-----bert model output\n"
     ]
    },
    {
     "name": "stderr",
     "output_type": "stream",
     "text": [
      "【train】 epoch：8 step:509/630 loss：0.041448\n",
      "/opt/conda/lib/python3.7/site-packages/sklearn/metrics/_classification.py:1580: UndefinedMetricWarning: F-score is ill-defined and being set to 0.0 in labels with no true nor predicted samples. Use `zero_division` parameter to control this behavior.\n",
      "  _warn_prf(average, \"true nor predicted\", \"F-score is\", len(true_sum))\n",
      "【dev】 loss：8.325089 accuracy：0.0000 micro_f1：0.0000 macro_f1：0.0000\n"
     ]
    },
    {
     "name": "stdout",
     "output_type": "stream",
     "text": [
      "-----bert model output\n"
     ]
    },
    {
     "name": "stderr",
     "output_type": "stream",
     "text": [
      "【train】 epoch：8 step:510/630 loss：0.034011\n",
      "/opt/conda/lib/python3.7/site-packages/sklearn/metrics/_classification.py:1580: UndefinedMetricWarning: F-score is ill-defined and being set to 0.0 in labels with no true nor predicted samples. Use `zero_division` parameter to control this behavior.\n",
      "  _warn_prf(average, \"true nor predicted\", \"F-score is\", len(true_sum))\n",
      "【dev】 loss：8.319364 accuracy：0.0000 micro_f1：0.0000 macro_f1：0.0000\n"
     ]
    },
    {
     "name": "stdout",
     "output_type": "stream",
     "text": [
      "-----bert model output\n"
     ]
    },
    {
     "name": "stderr",
     "output_type": "stream",
     "text": [
      "【train】 epoch：8 step:511/630 loss：0.035891\n",
      "/opt/conda/lib/python3.7/site-packages/sklearn/metrics/_classification.py:1580: UndefinedMetricWarning: F-score is ill-defined and being set to 0.0 in labels with no true nor predicted samples. Use `zero_division` parameter to control this behavior.\n",
      "  _warn_prf(average, \"true nor predicted\", \"F-score is\", len(true_sum))\n",
      "【dev】 loss：8.313639 accuracy：0.0000 micro_f1：0.0000 macro_f1：0.0000\n"
     ]
    },
    {
     "name": "stdout",
     "output_type": "stream",
     "text": [
      "-----bert model output\n"
     ]
    },
    {
     "name": "stderr",
     "output_type": "stream",
     "text": [
      "【train】 epoch：8 step:512/630 loss：0.040471\n",
      "/opt/conda/lib/python3.7/site-packages/sklearn/metrics/_classification.py:1580: UndefinedMetricWarning: F-score is ill-defined and being set to 0.0 in labels with no true nor predicted samples. Use `zero_division` parameter to control this behavior.\n",
      "  _warn_prf(average, \"true nor predicted\", \"F-score is\", len(true_sum))\n",
      "【dev】 loss：8.307912 accuracy：0.0000 micro_f1：0.0000 macro_f1：0.0000\n"
     ]
    },
    {
     "name": "stdout",
     "output_type": "stream",
     "text": [
      "-----bert model output\n"
     ]
    },
    {
     "name": "stderr",
     "output_type": "stream",
     "text": [
      "【train】 epoch：8 step:513/630 loss：0.033048\n",
      "/opt/conda/lib/python3.7/site-packages/sklearn/metrics/_classification.py:1580: UndefinedMetricWarning: F-score is ill-defined and being set to 0.0 in labels with no true nor predicted samples. Use `zero_division` parameter to control this behavior.\n",
      "  _warn_prf(average, \"true nor predicted\", \"F-score is\", len(true_sum))\n",
      "【dev】 loss：8.301787 accuracy：0.0000 micro_f1：0.0000 macro_f1：0.0000\n"
     ]
    },
    {
     "name": "stdout",
     "output_type": "stream",
     "text": [
      "-----bert model output\n"
     ]
    },
    {
     "name": "stderr",
     "output_type": "stream",
     "text": [
      "【train】 epoch：8 step:514/630 loss：0.042650\n",
      "/opt/conda/lib/python3.7/site-packages/sklearn/metrics/_classification.py:1580: UndefinedMetricWarning: F-score is ill-defined and being set to 0.0 in labels with no true nor predicted samples. Use `zero_division` parameter to control this behavior.\n",
      "  _warn_prf(average, \"true nor predicted\", \"F-score is\", len(true_sum))\n",
      "【dev】 loss：8.295767 accuracy：0.0000 micro_f1：0.0000 macro_f1：0.0000\n"
     ]
    },
    {
     "name": "stdout",
     "output_type": "stream",
     "text": [
      "-----bert model output\n"
     ]
    },
    {
     "name": "stderr",
     "output_type": "stream",
     "text": [
      "【train】 epoch：8 step:515/630 loss：0.035197\n",
      "/opt/conda/lib/python3.7/site-packages/sklearn/metrics/_classification.py:1580: UndefinedMetricWarning: F-score is ill-defined and being set to 0.0 in labels with no true nor predicted samples. Use `zero_division` parameter to control this behavior.\n",
      "  _warn_prf(average, \"true nor predicted\", \"F-score is\", len(true_sum))\n",
      "【dev】 loss：8.289629 accuracy：0.0000 micro_f1：0.0000 macro_f1：0.0000\n"
     ]
    },
    {
     "name": "stdout",
     "output_type": "stream",
     "text": [
      "-----bert model output\n"
     ]
    },
    {
     "name": "stderr",
     "output_type": "stream",
     "text": [
      "【train】 epoch：8 step:516/630 loss：0.040963\n",
      "/opt/conda/lib/python3.7/site-packages/sklearn/metrics/_classification.py:1580: UndefinedMetricWarning: F-score is ill-defined and being set to 0.0 in labels with no true nor predicted samples. Use `zero_division` parameter to control this behavior.\n",
      "  _warn_prf(average, \"true nor predicted\", \"F-score is\", len(true_sum))\n",
      "【dev】 loss：8.283448 accuracy：0.0000 micro_f1：0.0000 macro_f1：0.0000\n"
     ]
    },
    {
     "name": "stdout",
     "output_type": "stream",
     "text": [
      "-----bert model output\n"
     ]
    },
    {
     "name": "stderr",
     "output_type": "stream",
     "text": [
      "【train】 epoch：8 step:517/630 loss：0.035593\n",
      "/opt/conda/lib/python3.7/site-packages/sklearn/metrics/_classification.py:1580: UndefinedMetricWarning: F-score is ill-defined and being set to 0.0 in labels with no true nor predicted samples. Use `zero_division` parameter to control this behavior.\n",
      "  _warn_prf(average, \"true nor predicted\", \"F-score is\", len(true_sum))\n",
      "【dev】 loss：8.277725 accuracy：0.0000 micro_f1：0.0000 macro_f1：0.0000\n"
     ]
    },
    {
     "name": "stdout",
     "output_type": "stream",
     "text": [
      "-----bert model output\n"
     ]
    },
    {
     "name": "stderr",
     "output_type": "stream",
     "text": [
      "【train】 epoch：8 step:518/630 loss：0.036823\n",
      "/opt/conda/lib/python3.7/site-packages/sklearn/metrics/_classification.py:1580: UndefinedMetricWarning: F-score is ill-defined and being set to 0.0 in labels with no true nor predicted samples. Use `zero_division` parameter to control this behavior.\n",
      "  _warn_prf(average, \"true nor predicted\", \"F-score is\", len(true_sum))\n",
      "【dev】 loss：8.271921 accuracy：0.0000 micro_f1：0.0000 macro_f1：0.0000\n"
     ]
    },
    {
     "name": "stdout",
     "output_type": "stream",
     "text": [
      "-----bert model output\n"
     ]
    },
    {
     "name": "stderr",
     "output_type": "stream",
     "text": [
      "【train】 epoch：8 step:519/630 loss：0.031857\n",
      "/opt/conda/lib/python3.7/site-packages/sklearn/metrics/_classification.py:1580: UndefinedMetricWarning: F-score is ill-defined and being set to 0.0 in labels with no true nor predicted samples. Use `zero_division` parameter to control this behavior.\n",
      "  _warn_prf(average, \"true nor predicted\", \"F-score is\", len(true_sum))\n",
      "【dev】 loss：8.266130 accuracy：0.0000 micro_f1：0.0000 macro_f1：0.0000\n"
     ]
    },
    {
     "name": "stdout",
     "output_type": "stream",
     "text": [
      "-----bert model output\n"
     ]
    },
    {
     "name": "stderr",
     "output_type": "stream",
     "text": [
      "【train】 epoch：8 step:520/630 loss：0.036117\n",
      "/opt/conda/lib/python3.7/site-packages/sklearn/metrics/_classification.py:1580: UndefinedMetricWarning: F-score is ill-defined and being set to 0.0 in labels with no true nor predicted samples. Use `zero_division` parameter to control this behavior.\n",
      "  _warn_prf(average, \"true nor predicted\", \"F-score is\", len(true_sum))\n",
      "【dev】 loss：8.260553 accuracy：0.0000 micro_f1：0.0000 macro_f1：0.0000\n"
     ]
    },
    {
     "name": "stdout",
     "output_type": "stream",
     "text": [
      "-----bert model output\n"
     ]
    },
    {
     "name": "stderr",
     "output_type": "stream",
     "text": [
      "【train】 epoch：8 step:521/630 loss：0.034824\n",
      "/opt/conda/lib/python3.7/site-packages/sklearn/metrics/_classification.py:1580: UndefinedMetricWarning: F-score is ill-defined and being set to 0.0 in labels with no true nor predicted samples. Use `zero_division` parameter to control this behavior.\n",
      "  _warn_prf(average, \"true nor predicted\", \"F-score is\", len(true_sum))\n",
      "【dev】 loss：8.255025 accuracy：0.0000 micro_f1：0.0000 macro_f1：0.0000\n"
     ]
    },
    {
     "name": "stdout",
     "output_type": "stream",
     "text": [
      "-----bert model output\n"
     ]
    },
    {
     "name": "stderr",
     "output_type": "stream",
     "text": [
      "【train】 epoch：8 step:522/630 loss：0.037213\n",
      "/opt/conda/lib/python3.7/site-packages/sklearn/metrics/_classification.py:1580: UndefinedMetricWarning: F-score is ill-defined and being set to 0.0 in labels with no true nor predicted samples. Use `zero_division` parameter to control this behavior.\n",
      "  _warn_prf(average, \"true nor predicted\", \"F-score is\", len(true_sum))\n",
      "【dev】 loss：8.249590 accuracy：0.0000 micro_f1：0.0000 macro_f1：0.0000\n"
     ]
    },
    {
     "name": "stdout",
     "output_type": "stream",
     "text": [
      "-----bert model output\n"
     ]
    },
    {
     "name": "stderr",
     "output_type": "stream",
     "text": [
      "【train】 epoch：8 step:523/630 loss：0.040846\n",
      "/opt/conda/lib/python3.7/site-packages/sklearn/metrics/_classification.py:1580: UndefinedMetricWarning: F-score is ill-defined and being set to 0.0 in labels with no true nor predicted samples. Use `zero_division` parameter to control this behavior.\n",
      "  _warn_prf(average, \"true nor predicted\", \"F-score is\", len(true_sum))\n",
      "【dev】 loss：8.244249 accuracy：0.0000 micro_f1：0.0000 macro_f1：0.0000\n"
     ]
    },
    {
     "name": "stdout",
     "output_type": "stream",
     "text": [
      "-----bert model output\n"
     ]
    },
    {
     "name": "stderr",
     "output_type": "stream",
     "text": [
      "【train】 epoch：8 step:524/630 loss：0.037012\n",
      "/opt/conda/lib/python3.7/site-packages/sklearn/metrics/_classification.py:1580: UndefinedMetricWarning: F-score is ill-defined and being set to 0.0 in labels with no true nor predicted samples. Use `zero_division` parameter to control this behavior.\n",
      "  _warn_prf(average, \"true nor predicted\", \"F-score is\", len(true_sum))\n",
      "【dev】 loss：8.239016 accuracy：0.0000 micro_f1：0.0000 macro_f1：0.0000\n"
     ]
    },
    {
     "name": "stdout",
     "output_type": "stream",
     "text": [
      "-----bert model output\n"
     ]
    },
    {
     "name": "stderr",
     "output_type": "stream",
     "text": [
      "【train】 epoch：8 step:525/630 loss：0.036825\n",
      "/opt/conda/lib/python3.7/site-packages/sklearn/metrics/_classification.py:1580: UndefinedMetricWarning: F-score is ill-defined and being set to 0.0 in labels with no true nor predicted samples. Use `zero_division` parameter to control this behavior.\n",
      "  _warn_prf(average, \"true nor predicted\", \"F-score is\", len(true_sum))\n",
      "【dev】 loss：8.233736 accuracy：0.0000 micro_f1：0.0000 macro_f1：0.0000\n"
     ]
    },
    {
     "name": "stdout",
     "output_type": "stream",
     "text": [
      "-----bert model output\n"
     ]
    },
    {
     "name": "stderr",
     "output_type": "stream",
     "text": [
      "【train】 epoch：8 step:526/630 loss：0.036679\n",
      "/opt/conda/lib/python3.7/site-packages/sklearn/metrics/_classification.py:1580: UndefinedMetricWarning: F-score is ill-defined and being set to 0.0 in labels with no true nor predicted samples. Use `zero_division` parameter to control this behavior.\n",
      "  _warn_prf(average, \"true nor predicted\", \"F-score is\", len(true_sum))\n",
      "【dev】 loss：8.228395 accuracy：0.0000 micro_f1：0.0000 macro_f1：0.0000\n"
     ]
    },
    {
     "name": "stdout",
     "output_type": "stream",
     "text": [
      "-----bert model output\n"
     ]
    },
    {
     "name": "stderr",
     "output_type": "stream",
     "text": [
      "【train】 epoch：8 step:527/630 loss：0.036120\n",
      "/opt/conda/lib/python3.7/site-packages/sklearn/metrics/_classification.py:1580: UndefinedMetricWarning: F-score is ill-defined and being set to 0.0 in labels with no true nor predicted samples. Use `zero_division` parameter to control this behavior.\n",
      "  _warn_prf(average, \"true nor predicted\", \"F-score is\", len(true_sum))\n",
      "【dev】 loss：8.223235 accuracy：0.0000 micro_f1：0.0000 macro_f1：0.0000\n"
     ]
    },
    {
     "name": "stdout",
     "output_type": "stream",
     "text": [
      "-----bert model output\n"
     ]
    },
    {
     "name": "stderr",
     "output_type": "stream",
     "text": [
      "【train】 epoch：8 step:528/630 loss：0.031671\n",
      "/opt/conda/lib/python3.7/site-packages/sklearn/metrics/_classification.py:1580: UndefinedMetricWarning: F-score is ill-defined and being set to 0.0 in labels with no true nor predicted samples. Use `zero_division` parameter to control this behavior.\n",
      "  _warn_prf(average, \"true nor predicted\", \"F-score is\", len(true_sum))\n",
      "【dev】 loss：8.217713 accuracy：0.0000 micro_f1：0.0000 macro_f1：0.0000\n"
     ]
    },
    {
     "name": "stdout",
     "output_type": "stream",
     "text": [
      "-----bert model output\n"
     ]
    },
    {
     "name": "stderr",
     "output_type": "stream",
     "text": [
      "【train】 epoch：8 step:529/630 loss：0.034540\n",
      "/opt/conda/lib/python3.7/site-packages/sklearn/metrics/_classification.py:1580: UndefinedMetricWarning: F-score is ill-defined and being set to 0.0 in labels with no true nor predicted samples. Use `zero_division` parameter to control this behavior.\n",
      "  _warn_prf(average, \"true nor predicted\", \"F-score is\", len(true_sum))\n",
      "【dev】 loss：8.212155 accuracy：0.0000 micro_f1：0.0000 macro_f1：0.0000\n"
     ]
    },
    {
     "name": "stdout",
     "output_type": "stream",
     "text": [
      "-----bert model output\n"
     ]
    },
    {
     "name": "stderr",
     "output_type": "stream",
     "text": [
      "【train】 epoch：8 step:530/630 loss：0.034174\n",
      "/opt/conda/lib/python3.7/site-packages/sklearn/metrics/_classification.py:1580: UndefinedMetricWarning: F-score is ill-defined and being set to 0.0 in labels with no true nor predicted samples. Use `zero_division` parameter to control this behavior.\n",
      "  _warn_prf(average, \"true nor predicted\", \"F-score is\", len(true_sum))\n",
      "【dev】 loss：8.206798 accuracy：0.0000 micro_f1：0.0000 macro_f1：0.0000\n"
     ]
    },
    {
     "name": "stdout",
     "output_type": "stream",
     "text": [
      "-----bert model output\n"
     ]
    },
    {
     "name": "stderr",
     "output_type": "stream",
     "text": [
      "【train】 epoch：8 step:531/630 loss：0.037938\n",
      "/opt/conda/lib/python3.7/site-packages/sklearn/metrics/_classification.py:1580: UndefinedMetricWarning: F-score is ill-defined and being set to 0.0 in labels with no true nor predicted samples. Use `zero_division` parameter to control this behavior.\n",
      "  _warn_prf(average, \"true nor predicted\", \"F-score is\", len(true_sum))\n",
      "【dev】 loss：8.201632 accuracy：0.0000 micro_f1：0.0000 macro_f1：0.0000\n"
     ]
    },
    {
     "name": "stdout",
     "output_type": "stream",
     "text": [
      "-----bert model output\n"
     ]
    },
    {
     "name": "stderr",
     "output_type": "stream",
     "text": [
      "【train】 epoch：8 step:532/630 loss：0.038469\n",
      "/opt/conda/lib/python3.7/site-packages/sklearn/metrics/_classification.py:1580: UndefinedMetricWarning: F-score is ill-defined and being set to 0.0 in labels with no true nor predicted samples. Use `zero_division` parameter to control this behavior.\n",
      "  _warn_prf(average, \"true nor predicted\", \"F-score is\", len(true_sum))\n",
      "【dev】 loss：8.196914 accuracy：0.0000 micro_f1：0.0000 macro_f1：0.0000\n"
     ]
    },
    {
     "name": "stdout",
     "output_type": "stream",
     "text": [
      "-----bert model output\n"
     ]
    },
    {
     "name": "stderr",
     "output_type": "stream",
     "text": [
      "【train】 epoch：8 step:533/630 loss：0.033655\n",
      "/opt/conda/lib/python3.7/site-packages/sklearn/metrics/_classification.py:1580: UndefinedMetricWarning: F-score is ill-defined and being set to 0.0 in labels with no true nor predicted samples. Use `zero_division` parameter to control this behavior.\n",
      "  _warn_prf(average, \"true nor predicted\", \"F-score is\", len(true_sum))\n",
      "【dev】 loss：8.192272 accuracy：0.0000 micro_f1：0.0000 macro_f1：0.0000\n"
     ]
    },
    {
     "name": "stdout",
     "output_type": "stream",
     "text": [
      "-----bert model output\n"
     ]
    },
    {
     "name": "stderr",
     "output_type": "stream",
     "text": [
      "【train】 epoch：8 step:534/630 loss：0.037577\n",
      "/opt/conda/lib/python3.7/site-packages/sklearn/metrics/_classification.py:1580: UndefinedMetricWarning: F-score is ill-defined and being set to 0.0 in labels with no true nor predicted samples. Use `zero_division` parameter to control this behavior.\n",
      "  _warn_prf(average, \"true nor predicted\", \"F-score is\", len(true_sum))\n",
      "【dev】 loss：8.187793 accuracy：0.0000 micro_f1：0.0000 macro_f1：0.0000\n"
     ]
    },
    {
     "name": "stdout",
     "output_type": "stream",
     "text": [
      "-----bert model output\n"
     ]
    },
    {
     "name": "stderr",
     "output_type": "stream",
     "text": [
      "【train】 epoch：8 step:535/630 loss：0.033762\n",
      "/opt/conda/lib/python3.7/site-packages/sklearn/metrics/_classification.py:1580: UndefinedMetricWarning: F-score is ill-defined and being set to 0.0 in labels with no true nor predicted samples. Use `zero_division` parameter to control this behavior.\n",
      "  _warn_prf(average, \"true nor predicted\", \"F-score is\", len(true_sum))\n",
      "【dev】 loss：8.183090 accuracy：0.0000 micro_f1：0.0000 macro_f1：0.0000\n"
     ]
    },
    {
     "name": "stdout",
     "output_type": "stream",
     "text": [
      "-----bert model output\n"
     ]
    },
    {
     "name": "stderr",
     "output_type": "stream",
     "text": [
      "【train】 epoch：8 step:536/630 loss：0.034796\n",
      "/opt/conda/lib/python3.7/site-packages/sklearn/metrics/_classification.py:1580: UndefinedMetricWarning: F-score is ill-defined and being set to 0.0 in labels with no true nor predicted samples. Use `zero_division` parameter to control this behavior.\n",
      "  _warn_prf(average, \"true nor predicted\", \"F-score is\", len(true_sum))\n",
      "【dev】 loss：8.178505 accuracy：0.0000 micro_f1：0.0000 macro_f1：0.0000\n"
     ]
    },
    {
     "name": "stdout",
     "output_type": "stream",
     "text": [
      "-----bert model output\n"
     ]
    },
    {
     "name": "stderr",
     "output_type": "stream",
     "text": [
      "【train】 epoch：8 step:537/630 loss：0.036089\n",
      "/opt/conda/lib/python3.7/site-packages/sklearn/metrics/_classification.py:1580: UndefinedMetricWarning: F-score is ill-defined and being set to 0.0 in labels with no true nor predicted samples. Use `zero_division` parameter to control this behavior.\n",
      "  _warn_prf(average, \"true nor predicted\", \"F-score is\", len(true_sum))\n",
      "【dev】 loss：8.174241 accuracy：0.0000 micro_f1：0.0000 macro_f1：0.0000\n"
     ]
    },
    {
     "name": "stdout",
     "output_type": "stream",
     "text": [
      "-----bert model output\n"
     ]
    },
    {
     "name": "stderr",
     "output_type": "stream",
     "text": [
      "【train】 epoch：8 step:538/630 loss：0.039904\n",
      "/opt/conda/lib/python3.7/site-packages/sklearn/metrics/_classification.py:1580: UndefinedMetricWarning: F-score is ill-defined and being set to 0.0 in labels with no true nor predicted samples. Use `zero_division` parameter to control this behavior.\n",
      "  _warn_prf(average, \"true nor predicted\", \"F-score is\", len(true_sum))\n",
      "【dev】 loss：8.170466 accuracy：0.0000 micro_f1：0.0000 macro_f1：0.0000\n"
     ]
    },
    {
     "name": "stdout",
     "output_type": "stream",
     "text": [
      "-----bert model output\n"
     ]
    },
    {
     "name": "stderr",
     "output_type": "stream",
     "text": [
      "【train】 epoch：8 step:539/630 loss：0.034783\n",
      "/opt/conda/lib/python3.7/site-packages/sklearn/metrics/_classification.py:1580: UndefinedMetricWarning: F-score is ill-defined and being set to 0.0 in labels with no true nor predicted samples. Use `zero_division` parameter to control this behavior.\n",
      "  _warn_prf(average, \"true nor predicted\", \"F-score is\", len(true_sum))\n",
      "【dev】 loss：8.166307 accuracy：0.0000 micro_f1：0.0000 macro_f1：0.0000\n"
     ]
    },
    {
     "name": "stdout",
     "output_type": "stream",
     "text": [
      "-----bert model output\n"
     ]
    },
    {
     "name": "stderr",
     "output_type": "stream",
     "text": [
      "【train】 epoch：8 step:540/630 loss：0.038623\n",
      "/opt/conda/lib/python3.7/site-packages/sklearn/metrics/_classification.py:1580: UndefinedMetricWarning: F-score is ill-defined and being set to 0.0 in labels with no true nor predicted samples. Use `zero_division` parameter to control this behavior.\n",
      "  _warn_prf(average, \"true nor predicted\", \"F-score is\", len(true_sum))\n",
      "【dev】 loss：8.162158 accuracy：0.0000 micro_f1：0.0000 macro_f1：0.0000\n"
     ]
    },
    {
     "name": "stdout",
     "output_type": "stream",
     "text": [
      "-----bert model output\n"
     ]
    },
    {
     "name": "stderr",
     "output_type": "stream",
     "text": [
      "【train】 epoch：8 step:541/630 loss：0.033555\n",
      "/opt/conda/lib/python3.7/site-packages/sklearn/metrics/_classification.py:1580: UndefinedMetricWarning: F-score is ill-defined and being set to 0.0 in labels with no true nor predicted samples. Use `zero_division` parameter to control this behavior.\n",
      "  _warn_prf(average, \"true nor predicted\", \"F-score is\", len(true_sum))\n",
      "【dev】 loss：8.157632 accuracy：0.0000 micro_f1：0.0000 macro_f1：0.0000\n"
     ]
    },
    {
     "name": "stdout",
     "output_type": "stream",
     "text": [
      "-----bert model output\n"
     ]
    },
    {
     "name": "stderr",
     "output_type": "stream",
     "text": [
      "【train】 epoch：8 step:542/630 loss：0.033366\n",
      "/opt/conda/lib/python3.7/site-packages/sklearn/metrics/_classification.py:1580: UndefinedMetricWarning: F-score is ill-defined and being set to 0.0 in labels with no true nor predicted samples. Use `zero_division` parameter to control this behavior.\n",
      "  _warn_prf(average, \"true nor predicted\", \"F-score is\", len(true_sum))\n",
      "【dev】 loss：8.153083 accuracy：0.0000 micro_f1：0.0000 macro_f1：0.0000\n"
     ]
    },
    {
     "name": "stdout",
     "output_type": "stream",
     "text": [
      "-----bert model output\n"
     ]
    },
    {
     "name": "stderr",
     "output_type": "stream",
     "text": [
      "【train】 epoch：8 step:543/630 loss：0.037165\n",
      "/opt/conda/lib/python3.7/site-packages/sklearn/metrics/_classification.py:1580: UndefinedMetricWarning: F-score is ill-defined and being set to 0.0 in labels with no true nor predicted samples. Use `zero_division` parameter to control this behavior.\n",
      "  _warn_prf(average, \"true nor predicted\", \"F-score is\", len(true_sum))\n",
      "【dev】 loss：8.148700 accuracy：0.0000 micro_f1：0.0000 macro_f1：0.0000\n"
     ]
    },
    {
     "name": "stdout",
     "output_type": "stream",
     "text": [
      "-----bert model output\n"
     ]
    },
    {
     "name": "stderr",
     "output_type": "stream",
     "text": [
      "【train】 epoch：8 step:544/630 loss：0.033451\n",
      "/opt/conda/lib/python3.7/site-packages/sklearn/metrics/_classification.py:1580: UndefinedMetricWarning: F-score is ill-defined and being set to 0.0 in labels with no true nor predicted samples. Use `zero_division` parameter to control this behavior.\n",
      "  _warn_prf(average, \"true nor predicted\", \"F-score is\", len(true_sum))\n",
      "【dev】 loss：8.144299 accuracy：0.0000 micro_f1：0.0000 macro_f1：0.0000\n"
     ]
    },
    {
     "name": "stdout",
     "output_type": "stream",
     "text": [
      "-----bert model output\n"
     ]
    },
    {
     "name": "stderr",
     "output_type": "stream",
     "text": [
      "【train】 epoch：8 step:545/630 loss：0.035052\n",
      "/opt/conda/lib/python3.7/site-packages/sklearn/metrics/_classification.py:1580: UndefinedMetricWarning: F-score is ill-defined and being set to 0.0 in labels with no true nor predicted samples. Use `zero_division` parameter to control this behavior.\n",
      "  _warn_prf(average, \"true nor predicted\", \"F-score is\", len(true_sum))\n",
      "【dev】 loss：8.139629 accuracy：0.0000 micro_f1：0.0000 macro_f1：0.0000\n"
     ]
    },
    {
     "name": "stdout",
     "output_type": "stream",
     "text": [
      "-----bert model output\n"
     ]
    },
    {
     "name": "stderr",
     "output_type": "stream",
     "text": [
      "【train】 epoch：8 step:546/630 loss：0.034331\n",
      "/opt/conda/lib/python3.7/site-packages/sklearn/metrics/_classification.py:1580: UndefinedMetricWarning: F-score is ill-defined and being set to 0.0 in labels with no true nor predicted samples. Use `zero_division` parameter to control this behavior.\n",
      "  _warn_prf(average, \"true nor predicted\", \"F-score is\", len(true_sum))\n",
      "【dev】 loss：8.134846 accuracy：0.0000 micro_f1：0.0000 macro_f1：0.0000\n"
     ]
    },
    {
     "name": "stdout",
     "output_type": "stream",
     "text": [
      "-----bert model output\n"
     ]
    },
    {
     "name": "stderr",
     "output_type": "stream",
     "text": [
      "【train】 epoch：8 step:547/630 loss：0.034039\n",
      "/opt/conda/lib/python3.7/site-packages/sklearn/metrics/_classification.py:1580: UndefinedMetricWarning: F-score is ill-defined and being set to 0.0 in labels with no true nor predicted samples. Use `zero_division` parameter to control this behavior.\n",
      "  _warn_prf(average, \"true nor predicted\", \"F-score is\", len(true_sum))\n",
      "【dev】 loss：8.129796 accuracy：0.0000 micro_f1：0.0000 macro_f1：0.0000\n"
     ]
    },
    {
     "name": "stdout",
     "output_type": "stream",
     "text": [
      "-----bert model output\n"
     ]
    },
    {
     "name": "stderr",
     "output_type": "stream",
     "text": [
      "【train】 epoch：8 step:548/630 loss：0.037069\n",
      "/opt/conda/lib/python3.7/site-packages/sklearn/metrics/_classification.py:1580: UndefinedMetricWarning: F-score is ill-defined and being set to 0.0 in labels with no true nor predicted samples. Use `zero_division` parameter to control this behavior.\n",
      "  _warn_prf(average, \"true nor predicted\", \"F-score is\", len(true_sum))\n",
      "【dev】 loss：8.124655 accuracy：0.0000 micro_f1：0.0000 macro_f1：0.0000\n"
     ]
    },
    {
     "name": "stdout",
     "output_type": "stream",
     "text": [
      "-----bert model output\n"
     ]
    },
    {
     "name": "stderr",
     "output_type": "stream",
     "text": [
      "【train】 epoch：8 step:549/630 loss：0.032488\n",
      "/opt/conda/lib/python3.7/site-packages/sklearn/metrics/_classification.py:1580: UndefinedMetricWarning: F-score is ill-defined and being set to 0.0 in labels with no true nor predicted samples. Use `zero_division` parameter to control this behavior.\n",
      "  _warn_prf(average, \"true nor predicted\", \"F-score is\", len(true_sum))\n",
      "【dev】 loss：8.119495 accuracy：0.0000 micro_f1：0.0000 macro_f1：0.0000\n"
     ]
    },
    {
     "name": "stdout",
     "output_type": "stream",
     "text": [
      "-----bert model output\n"
     ]
    },
    {
     "name": "stderr",
     "output_type": "stream",
     "text": [
      "【train】 epoch：8 step:550/630 loss：0.034261\n",
      "/opt/conda/lib/python3.7/site-packages/sklearn/metrics/_classification.py:1580: UndefinedMetricWarning: F-score is ill-defined and being set to 0.0 in labels with no true nor predicted samples. Use `zero_division` parameter to control this behavior.\n",
      "  _warn_prf(average, \"true nor predicted\", \"F-score is\", len(true_sum))\n",
      "【dev】 loss：8.114765 accuracy：0.0000 micro_f1：0.0000 macro_f1：0.0000\n"
     ]
    },
    {
     "name": "stdout",
     "output_type": "stream",
     "text": [
      "-----bert model output\n"
     ]
    },
    {
     "name": "stderr",
     "output_type": "stream",
     "text": [
      "【train】 epoch：8 step:551/630 loss：0.033214\n",
      "/opt/conda/lib/python3.7/site-packages/sklearn/metrics/_classification.py:1580: UndefinedMetricWarning: F-score is ill-defined and being set to 0.0 in labels with no true nor predicted samples. Use `zero_division` parameter to control this behavior.\n",
      "  _warn_prf(average, \"true nor predicted\", \"F-score is\", len(true_sum))\n",
      "【dev】 loss：8.109722 accuracy：0.0000 micro_f1：0.0000 macro_f1：0.0000\n"
     ]
    },
    {
     "name": "stdout",
     "output_type": "stream",
     "text": [
      "-----bert model output\n"
     ]
    },
    {
     "name": "stderr",
     "output_type": "stream",
     "text": [
      "【train】 epoch：8 step:552/630 loss：0.036125\n",
      "/opt/conda/lib/python3.7/site-packages/sklearn/metrics/_classification.py:1580: UndefinedMetricWarning: F-score is ill-defined and being set to 0.0 in labels with no true nor predicted samples. Use `zero_division` parameter to control this behavior.\n",
      "  _warn_prf(average, \"true nor predicted\", \"F-score is\", len(true_sum))\n",
      "【dev】 loss：8.104564 accuracy：0.0000 micro_f1：0.0000 macro_f1：0.0000\n"
     ]
    },
    {
     "name": "stdout",
     "output_type": "stream",
     "text": [
      "-----bert model output\n"
     ]
    },
    {
     "name": "stderr",
     "output_type": "stream",
     "text": [
      "【train】 epoch：8 step:553/630 loss：0.037082\n",
      "/opt/conda/lib/python3.7/site-packages/sklearn/metrics/_classification.py:1580: UndefinedMetricWarning: F-score is ill-defined and being set to 0.0 in labels with no true nor predicted samples. Use `zero_division` parameter to control this behavior.\n",
      "  _warn_prf(average, \"true nor predicted\", \"F-score is\", len(true_sum))\n",
      "【dev】 loss：8.099498 accuracy：0.0000 micro_f1：0.0000 macro_f1：0.0000\n"
     ]
    },
    {
     "name": "stdout",
     "output_type": "stream",
     "text": [
      "-----bert model output\n"
     ]
    },
    {
     "name": "stderr",
     "output_type": "stream",
     "text": [
      "【train】 epoch：8 step:554/630 loss：0.036963\n",
      "/opt/conda/lib/python3.7/site-packages/sklearn/metrics/_classification.py:1580: UndefinedMetricWarning: F-score is ill-defined and being set to 0.0 in labels with no true nor predicted samples. Use `zero_division` parameter to control this behavior.\n",
      "  _warn_prf(average, \"true nor predicted\", \"F-score is\", len(true_sum))\n",
      "【dev】 loss：8.094806 accuracy：0.0000 micro_f1：0.0000 macro_f1：0.0000\n"
     ]
    },
    {
     "name": "stdout",
     "output_type": "stream",
     "text": [
      "-----bert model output\n"
     ]
    },
    {
     "name": "stderr",
     "output_type": "stream",
     "text": [
      "【train】 epoch：8 step:555/630 loss：0.033057\n",
      "/opt/conda/lib/python3.7/site-packages/sklearn/metrics/_classification.py:1580: UndefinedMetricWarning: F-score is ill-defined and being set to 0.0 in labels with no true nor predicted samples. Use `zero_division` parameter to control this behavior.\n",
      "  _warn_prf(average, \"true nor predicted\", \"F-score is\", len(true_sum))\n",
      "【dev】 loss：8.090132 accuracy：0.0000 micro_f1：0.0000 macro_f1：0.0000\n"
     ]
    },
    {
     "name": "stdout",
     "output_type": "stream",
     "text": [
      "-----bert model output\n"
     ]
    },
    {
     "name": "stderr",
     "output_type": "stream",
     "text": [
      "【train】 epoch：8 step:556/630 loss：0.034239\n",
      "/opt/conda/lib/python3.7/site-packages/sklearn/metrics/_classification.py:1580: UndefinedMetricWarning: F-score is ill-defined and being set to 0.0 in labels with no true nor predicted samples. Use `zero_division` parameter to control this behavior.\n",
      "  _warn_prf(average, \"true nor predicted\", \"F-score is\", len(true_sum))\n",
      "【dev】 loss：8.085489 accuracy：0.0000 micro_f1：0.0000 macro_f1：0.0000\n"
     ]
    },
    {
     "name": "stdout",
     "output_type": "stream",
     "text": [
      "-----bert model output\n"
     ]
    },
    {
     "name": "stderr",
     "output_type": "stream",
     "text": [
      "【train】 epoch：8 step:557/630 loss：0.032521\n",
      "/opt/conda/lib/python3.7/site-packages/sklearn/metrics/_classification.py:1580: UndefinedMetricWarning: F-score is ill-defined and being set to 0.0 in labels with no true nor predicted samples. Use `zero_division` parameter to control this behavior.\n",
      "  _warn_prf(average, \"true nor predicted\", \"F-score is\", len(true_sum))\n",
      "【dev】 loss：8.080614 accuracy：0.0000 micro_f1：0.0000 macro_f1：0.0000\n"
     ]
    },
    {
     "name": "stdout",
     "output_type": "stream",
     "text": [
      "-----bert model output\n"
     ]
    },
    {
     "name": "stderr",
     "output_type": "stream",
     "text": [
      "【train】 epoch：8 step:558/630 loss：0.037022\n",
      "/opt/conda/lib/python3.7/site-packages/sklearn/metrics/_classification.py:1580: UndefinedMetricWarning: F-score is ill-defined and being set to 0.0 in labels with no true nor predicted samples. Use `zero_division` parameter to control this behavior.\n",
      "  _warn_prf(average, \"true nor predicted\", \"F-score is\", len(true_sum))\n",
      "【dev】 loss：8.075797 accuracy：0.0000 micro_f1：0.0000 macro_f1：0.0000\n"
     ]
    },
    {
     "name": "stdout",
     "output_type": "stream",
     "text": [
      "-----bert model output\n"
     ]
    },
    {
     "name": "stderr",
     "output_type": "stream",
     "text": [
      "【train】 epoch：8 step:559/630 loss：0.039858\n",
      "/opt/conda/lib/python3.7/site-packages/sklearn/metrics/_classification.py:1580: UndefinedMetricWarning: F-score is ill-defined and being set to 0.0 in labels with no true nor predicted samples. Use `zero_division` parameter to control this behavior.\n",
      "  _warn_prf(average, \"true nor predicted\", \"F-score is\", len(true_sum))\n",
      "【dev】 loss：8.071385 accuracy：0.0000 micro_f1：0.0000 macro_f1：0.0000\n"
     ]
    },
    {
     "name": "stdout",
     "output_type": "stream",
     "text": [
      "-----bert model output\n"
     ]
    },
    {
     "name": "stderr",
     "output_type": "stream",
     "text": [
      "【train】 epoch：8 step:560/630 loss：0.030673\n",
      "/opt/conda/lib/python3.7/site-packages/sklearn/metrics/_classification.py:1580: UndefinedMetricWarning: F-score is ill-defined and being set to 0.0 in labels with no true nor predicted samples. Use `zero_division` parameter to control this behavior.\n",
      "  _warn_prf(average, \"true nor predicted\", \"F-score is\", len(true_sum))\n",
      "【dev】 loss：8.066835 accuracy：0.0000 micro_f1：0.0000 macro_f1：0.0000\n"
     ]
    },
    {
     "name": "stdout",
     "output_type": "stream",
     "text": [
      "-----bert model output\n"
     ]
    },
    {
     "name": "stderr",
     "output_type": "stream",
     "text": [
      "【train】 epoch：8 step:561/630 loss：0.035363\n",
      "/opt/conda/lib/python3.7/site-packages/sklearn/metrics/_classification.py:1580: UndefinedMetricWarning: F-score is ill-defined and being set to 0.0 in labels with no true nor predicted samples. Use `zero_division` parameter to control this behavior.\n",
      "  _warn_prf(average, \"true nor predicted\", \"F-score is\", len(true_sum))\n",
      "【dev】 loss：8.062171 accuracy：0.0000 micro_f1：0.0000 macro_f1：0.0000\n"
     ]
    },
    {
     "name": "stdout",
     "output_type": "stream",
     "text": [
      "-----bert model output\n"
     ]
    },
    {
     "name": "stderr",
     "output_type": "stream",
     "text": [
      "【train】 epoch：8 step:562/630 loss：0.034389\n",
      "/opt/conda/lib/python3.7/site-packages/sklearn/metrics/_classification.py:1580: UndefinedMetricWarning: F-score is ill-defined and being set to 0.0 in labels with no true nor predicted samples. Use `zero_division` parameter to control this behavior.\n",
      "  _warn_prf(average, \"true nor predicted\", \"F-score is\", len(true_sum))\n",
      "【dev】 loss：8.057455 accuracy：0.0000 micro_f1：0.0000 macro_f1：0.0000\n"
     ]
    },
    {
     "name": "stdout",
     "output_type": "stream",
     "text": [
      "-----bert model output\n"
     ]
    },
    {
     "name": "stderr",
     "output_type": "stream",
     "text": [
      "【train】 epoch：8 step:563/630 loss：0.035680\n",
      "/opt/conda/lib/python3.7/site-packages/sklearn/metrics/_classification.py:1580: UndefinedMetricWarning: F-score is ill-defined and being set to 0.0 in labels with no true nor predicted samples. Use `zero_division` parameter to control this behavior.\n",
      "  _warn_prf(average, \"true nor predicted\", \"F-score is\", len(true_sum))\n",
      "【dev】 loss：8.052985 accuracy：0.0000 micro_f1：0.0000 macro_f1：0.0000\n"
     ]
    },
    {
     "name": "stdout",
     "output_type": "stream",
     "text": [
      "-----bert model output\n"
     ]
    },
    {
     "name": "stderr",
     "output_type": "stream",
     "text": [
      "【train】 epoch：8 step:564/630 loss：0.035597\n",
      "/opt/conda/lib/python3.7/site-packages/sklearn/metrics/_classification.py:1580: UndefinedMetricWarning: F-score is ill-defined and being set to 0.0 in labels with no true nor predicted samples. Use `zero_division` parameter to control this behavior.\n",
      "  _warn_prf(average, \"true nor predicted\", \"F-score is\", len(true_sum))\n",
      "【dev】 loss：8.048771 accuracy：0.0000 micro_f1：0.0000 macro_f1：0.0000\n"
     ]
    },
    {
     "name": "stdout",
     "output_type": "stream",
     "text": [
      "-----bert model output\n"
     ]
    },
    {
     "name": "stderr",
     "output_type": "stream",
     "text": [
      "【train】 epoch：8 step:565/630 loss：0.034997\n",
      "/opt/conda/lib/python3.7/site-packages/sklearn/metrics/_classification.py:1580: UndefinedMetricWarning: F-score is ill-defined and being set to 0.0 in labels with no true nor predicted samples. Use `zero_division` parameter to control this behavior.\n",
      "  _warn_prf(average, \"true nor predicted\", \"F-score is\", len(true_sum))\n",
      "【dev】 loss：8.044288 accuracy：0.0000 micro_f1：0.0000 macro_f1：0.0000\n",
      "【train】 epoch：8 step:566/630 loss：0.037681\n"
     ]
    },
    {
     "name": "stdout",
     "output_type": "stream",
     "text": [
      "-----bert model output\n"
     ]
    },
    {
     "name": "stderr",
     "output_type": "stream",
     "text": [
      "/opt/conda/lib/python3.7/site-packages/sklearn/metrics/_classification.py:1580: UndefinedMetricWarning: F-score is ill-defined and being set to 0.0 in labels with no true nor predicted samples. Use `zero_division` parameter to control this behavior.\n",
      "  _warn_prf(average, \"true nor predicted\", \"F-score is\", len(true_sum))\n",
      "【dev】 loss：8.039905 accuracy：0.0000 micro_f1：0.0000 macro_f1：0.0000\n"
     ]
    },
    {
     "name": "stdout",
     "output_type": "stream",
     "text": [
      "-----bert model output\n"
     ]
    },
    {
     "name": "stderr",
     "output_type": "stream",
     "text": [
      "【train】 epoch：9 step:567/630 loss：0.032982\n",
      "/opt/conda/lib/python3.7/site-packages/sklearn/metrics/_classification.py:1580: UndefinedMetricWarning: F-score is ill-defined and being set to 0.0 in labels with no true nor predicted samples. Use `zero_division` parameter to control this behavior.\n",
      "  _warn_prf(average, \"true nor predicted\", \"F-score is\", len(true_sum))\n",
      "【dev】 loss：8.035567 accuracy：0.0000 micro_f1：0.0000 macro_f1：0.0000\n"
     ]
    },
    {
     "name": "stdout",
     "output_type": "stream",
     "text": [
      "-----bert model output\n"
     ]
    },
    {
     "name": "stderr",
     "output_type": "stream",
     "text": [
      "【train】 epoch：9 step:568/630 loss：0.032203\n",
      "/opt/conda/lib/python3.7/site-packages/sklearn/metrics/_classification.py:1580: UndefinedMetricWarning: F-score is ill-defined and being set to 0.0 in labels with no true nor predicted samples. Use `zero_division` parameter to control this behavior.\n",
      "  _warn_prf(average, \"true nor predicted\", \"F-score is\", len(true_sum))\n",
      "【dev】 loss：8.031474 accuracy：0.0000 micro_f1：0.0000 macro_f1：0.0000\n"
     ]
    },
    {
     "name": "stdout",
     "output_type": "stream",
     "text": [
      "-----bert model output\n"
     ]
    },
    {
     "name": "stderr",
     "output_type": "stream",
     "text": [
      "【train】 epoch：9 step:569/630 loss：0.037757\n",
      "/opt/conda/lib/python3.7/site-packages/sklearn/metrics/_classification.py:1580: UndefinedMetricWarning: F-score is ill-defined and being set to 0.0 in labels with no true nor predicted samples. Use `zero_division` parameter to control this behavior.\n",
      "  _warn_prf(average, \"true nor predicted\", \"F-score is\", len(true_sum))\n",
      "【dev】 loss：8.027495 accuracy：0.0000 micro_f1：0.0000 macro_f1：0.0000\n"
     ]
    },
    {
     "name": "stdout",
     "output_type": "stream",
     "text": [
      "-----bert model output\n"
     ]
    },
    {
     "name": "stderr",
     "output_type": "stream",
     "text": [
      "【train】 epoch：9 step:570/630 loss：0.030857\n",
      "/opt/conda/lib/python3.7/site-packages/sklearn/metrics/_classification.py:1580: UndefinedMetricWarning: F-score is ill-defined and being set to 0.0 in labels with no true nor predicted samples. Use `zero_division` parameter to control this behavior.\n",
      "  _warn_prf(average, \"true nor predicted\", \"F-score is\", len(true_sum))\n",
      "【dev】 loss：8.023426 accuracy：0.0000 micro_f1：0.0000 macro_f1：0.0000\n"
     ]
    },
    {
     "name": "stdout",
     "output_type": "stream",
     "text": [
      "-----bert model output\n"
     ]
    },
    {
     "name": "stderr",
     "output_type": "stream",
     "text": [
      "【train】 epoch：9 step:571/630 loss：0.041997\n",
      "/opt/conda/lib/python3.7/site-packages/sklearn/metrics/_classification.py:1580: UndefinedMetricWarning: F-score is ill-defined and being set to 0.0 in labels with no true nor predicted samples. Use `zero_division` parameter to control this behavior.\n",
      "  _warn_prf(average, \"true nor predicted\", \"F-score is\", len(true_sum))\n",
      "【dev】 loss：8.019656 accuracy：0.0000 micro_f1：0.0000 macro_f1：0.0000\n"
     ]
    },
    {
     "name": "stdout",
     "output_type": "stream",
     "text": [
      "-----bert model output\n"
     ]
    },
    {
     "name": "stderr",
     "output_type": "stream",
     "text": [
      "【train】 epoch：9 step:572/630 loss：0.039426\n",
      "/opt/conda/lib/python3.7/site-packages/sklearn/metrics/_classification.py:1580: UndefinedMetricWarning: F-score is ill-defined and being set to 0.0 in labels with no true nor predicted samples. Use `zero_division` parameter to control this behavior.\n",
      "  _warn_prf(average, \"true nor predicted\", \"F-score is\", len(true_sum))\n",
      "【dev】 loss：8.015630 accuracy：0.0000 micro_f1：0.0000 macro_f1：0.0000\n"
     ]
    },
    {
     "name": "stdout",
     "output_type": "stream",
     "text": [
      "-----bert model output\n"
     ]
    },
    {
     "name": "stderr",
     "output_type": "stream",
     "text": [
      "【train】 epoch：9 step:573/630 loss：0.032296\n",
      "/opt/conda/lib/python3.7/site-packages/sklearn/metrics/_classification.py:1580: UndefinedMetricWarning: F-score is ill-defined and being set to 0.0 in labels with no true nor predicted samples. Use `zero_division` parameter to control this behavior.\n",
      "  _warn_prf(average, \"true nor predicted\", \"F-score is\", len(true_sum))\n",
      "【dev】 loss：8.011465 accuracy：0.0000 micro_f1：0.0000 macro_f1：0.0000\n"
     ]
    },
    {
     "name": "stdout",
     "output_type": "stream",
     "text": [
      "-----bert model output\n"
     ]
    },
    {
     "name": "stderr",
     "output_type": "stream",
     "text": [
      "【train】 epoch：9 step:574/630 loss：0.033379\n",
      "/opt/conda/lib/python3.7/site-packages/sklearn/metrics/_classification.py:1580: UndefinedMetricWarning: F-score is ill-defined and being set to 0.0 in labels with no true nor predicted samples. Use `zero_division` parameter to control this behavior.\n",
      "  _warn_prf(average, \"true nor predicted\", \"F-score is\", len(true_sum))\n",
      "【dev】 loss：8.007334 accuracy：0.0000 micro_f1：0.0000 macro_f1：0.0000\n"
     ]
    },
    {
     "name": "stdout",
     "output_type": "stream",
     "text": [
      "-----bert model output\n"
     ]
    },
    {
     "name": "stderr",
     "output_type": "stream",
     "text": [
      "【train】 epoch：9 step:575/630 loss：0.039503\n",
      "/opt/conda/lib/python3.7/site-packages/sklearn/metrics/_classification.py:1580: UndefinedMetricWarning: F-score is ill-defined and being set to 0.0 in labels with no true nor predicted samples. Use `zero_division` parameter to control this behavior.\n",
      "  _warn_prf(average, \"true nor predicted\", \"F-score is\", len(true_sum))\n",
      "【dev】 loss：8.003217 accuracy：0.0000 micro_f1：0.0000 macro_f1：0.0000\n"
     ]
    },
    {
     "name": "stdout",
     "output_type": "stream",
     "text": [
      "-----bert model output\n"
     ]
    },
    {
     "name": "stderr",
     "output_type": "stream",
     "text": [
      "【train】 epoch：9 step:576/630 loss：0.030057\n",
      "/opt/conda/lib/python3.7/site-packages/sklearn/metrics/_classification.py:1580: UndefinedMetricWarning: F-score is ill-defined and being set to 0.0 in labels with no true nor predicted samples. Use `zero_division` parameter to control this behavior.\n",
      "  _warn_prf(average, \"true nor predicted\", \"F-score is\", len(true_sum))\n",
      "【dev】 loss：7.998772 accuracy：0.0000 micro_f1：0.0000 macro_f1：0.0000\n"
     ]
    },
    {
     "name": "stdout",
     "output_type": "stream",
     "text": [
      "-----bert model output\n"
     ]
    },
    {
     "name": "stderr",
     "output_type": "stream",
     "text": [
      "【train】 epoch：9 step:577/630 loss：0.040971\n",
      "/opt/conda/lib/python3.7/site-packages/sklearn/metrics/_classification.py:1580: UndefinedMetricWarning: F-score is ill-defined and being set to 0.0 in labels with no true nor predicted samples. Use `zero_division` parameter to control this behavior.\n",
      "  _warn_prf(average, \"true nor predicted\", \"F-score is\", len(true_sum))\n",
      "【dev】 loss：7.994396 accuracy：0.0000 micro_f1：0.0000 macro_f1：0.0000\n"
     ]
    },
    {
     "name": "stdout",
     "output_type": "stream",
     "text": [
      "-----bert model output\n"
     ]
    },
    {
     "name": "stderr",
     "output_type": "stream",
     "text": [
      "【train】 epoch：9 step:578/630 loss：0.035493\n",
      "/opt/conda/lib/python3.7/site-packages/sklearn/metrics/_classification.py:1580: UndefinedMetricWarning: F-score is ill-defined and being set to 0.0 in labels with no true nor predicted samples. Use `zero_division` parameter to control this behavior.\n",
      "  _warn_prf(average, \"true nor predicted\", \"F-score is\", len(true_sum))\n",
      "【dev】 loss：7.989871 accuracy：0.0000 micro_f1：0.0000 macro_f1：0.0000\n"
     ]
    },
    {
     "name": "stdout",
     "output_type": "stream",
     "text": [
      "-----bert model output\n"
     ]
    },
    {
     "name": "stderr",
     "output_type": "stream",
     "text": [
      "【train】 epoch：9 step:579/630 loss：0.039394\n",
      "/opt/conda/lib/python3.7/site-packages/sklearn/metrics/_classification.py:1580: UndefinedMetricWarning: F-score is ill-defined and being set to 0.0 in labels with no true nor predicted samples. Use `zero_division` parameter to control this behavior.\n",
      "  _warn_prf(average, \"true nor predicted\", \"F-score is\", len(true_sum))\n",
      "【dev】 loss：7.985304 accuracy：0.0000 micro_f1：0.0000 macro_f1：0.0000\n"
     ]
    },
    {
     "name": "stdout",
     "output_type": "stream",
     "text": [
      "-----bert model output\n"
     ]
    },
    {
     "name": "stderr",
     "output_type": "stream",
     "text": [
      "【train】 epoch：9 step:580/630 loss：0.033386\n",
      "/opt/conda/lib/python3.7/site-packages/sklearn/metrics/_classification.py:1580: UndefinedMetricWarning: F-score is ill-defined and being set to 0.0 in labels with no true nor predicted samples. Use `zero_division` parameter to control this behavior.\n",
      "  _warn_prf(average, \"true nor predicted\", \"F-score is\", len(true_sum))\n",
      "【dev】 loss：7.981204 accuracy：0.0000 micro_f1：0.0000 macro_f1：0.0000\n"
     ]
    },
    {
     "name": "stdout",
     "output_type": "stream",
     "text": [
      "-----bert model output\n"
     ]
    },
    {
     "name": "stderr",
     "output_type": "stream",
     "text": [
      "【train】 epoch：9 step:581/630 loss：0.034455\n",
      "/opt/conda/lib/python3.7/site-packages/sklearn/metrics/_classification.py:1580: UndefinedMetricWarning: F-score is ill-defined and being set to 0.0 in labels with no true nor predicted samples. Use `zero_division` parameter to control this behavior.\n",
      "  _warn_prf(average, \"true nor predicted\", \"F-score is\", len(true_sum))\n",
      "【dev】 loss：7.977041 accuracy：0.0000 micro_f1：0.0000 macro_f1：0.0000\n"
     ]
    },
    {
     "name": "stdout",
     "output_type": "stream",
     "text": [
      "-----bert model output\n"
     ]
    },
    {
     "name": "stderr",
     "output_type": "stream",
     "text": [
      "【train】 epoch：9 step:582/630 loss：0.031671\n",
      "/opt/conda/lib/python3.7/site-packages/sklearn/metrics/_classification.py:1580: UndefinedMetricWarning: F-score is ill-defined and being set to 0.0 in labels with no true nor predicted samples. Use `zero_division` parameter to control this behavior.\n",
      "  _warn_prf(average, \"true nor predicted\", \"F-score is\", len(true_sum))\n",
      "【dev】 loss：7.972845 accuracy：0.0000 micro_f1：0.0000 macro_f1：0.0000\n"
     ]
    },
    {
     "name": "stdout",
     "output_type": "stream",
     "text": [
      "-----bert model output\n"
     ]
    },
    {
     "name": "stderr",
     "output_type": "stream",
     "text": [
      "【train】 epoch：9 step:583/630 loss：0.034150\n",
      "/opt/conda/lib/python3.7/site-packages/sklearn/metrics/_classification.py:1580: UndefinedMetricWarning: F-score is ill-defined and being set to 0.0 in labels with no true nor predicted samples. Use `zero_division` parameter to control this behavior.\n",
      "  _warn_prf(average, \"true nor predicted\", \"F-score is\", len(true_sum))\n",
      "【dev】 loss：7.968799 accuracy：0.0000 micro_f1：0.0000 macro_f1：0.0000\n"
     ]
    },
    {
     "name": "stdout",
     "output_type": "stream",
     "text": [
      "-----bert model output\n"
     ]
    },
    {
     "name": "stderr",
     "output_type": "stream",
     "text": [
      "【train】 epoch：9 step:584/630 loss：0.031463\n",
      "/opt/conda/lib/python3.7/site-packages/sklearn/metrics/_classification.py:1580: UndefinedMetricWarning: F-score is ill-defined and being set to 0.0 in labels with no true nor predicted samples. Use `zero_division` parameter to control this behavior.\n",
      "  _warn_prf(average, \"true nor predicted\", \"F-score is\", len(true_sum))\n",
      "【dev】 loss：7.964736 accuracy：0.0000 micro_f1：0.0000 macro_f1：0.0000\n"
     ]
    },
    {
     "name": "stdout",
     "output_type": "stream",
     "text": [
      "-----bert model output\n"
     ]
    },
    {
     "name": "stderr",
     "output_type": "stream",
     "text": [
      "【train】 epoch：9 step:585/630 loss：0.035907\n",
      "/opt/conda/lib/python3.7/site-packages/sklearn/metrics/_classification.py:1580: UndefinedMetricWarning: F-score is ill-defined and being set to 0.0 in labels with no true nor predicted samples. Use `zero_division` parameter to control this behavior.\n",
      "  _warn_prf(average, \"true nor predicted\", \"F-score is\", len(true_sum))\n",
      "【dev】 loss：7.960774 accuracy：0.0000 micro_f1：0.0000 macro_f1：0.0000\n"
     ]
    },
    {
     "name": "stdout",
     "output_type": "stream",
     "text": [
      "-----bert model output\n"
     ]
    },
    {
     "name": "stderr",
     "output_type": "stream",
     "text": [
      "【train】 epoch：9 step:586/630 loss：0.040882\n",
      "/opt/conda/lib/python3.7/site-packages/sklearn/metrics/_classification.py:1580: UndefinedMetricWarning: F-score is ill-defined and being set to 0.0 in labels with no true nor predicted samples. Use `zero_division` parameter to control this behavior.\n",
      "  _warn_prf(average, \"true nor predicted\", \"F-score is\", len(true_sum))\n",
      "【dev】 loss：7.956898 accuracy：0.0000 micro_f1：0.0000 macro_f1：0.0000\n"
     ]
    },
    {
     "name": "stdout",
     "output_type": "stream",
     "text": [
      "-----bert model output\n"
     ]
    },
    {
     "name": "stderr",
     "output_type": "stream",
     "text": [
      "【train】 epoch：9 step:587/630 loss：0.035634\n",
      "/opt/conda/lib/python3.7/site-packages/sklearn/metrics/_classification.py:1580: UndefinedMetricWarning: F-score is ill-defined and being set to 0.0 in labels with no true nor predicted samples. Use `zero_division` parameter to control this behavior.\n",
      "  _warn_prf(average, \"true nor predicted\", \"F-score is\", len(true_sum))\n",
      "【dev】 loss：7.953125 accuracy：0.0000 micro_f1：0.0000 macro_f1：0.0000\n"
     ]
    },
    {
     "name": "stdout",
     "output_type": "stream",
     "text": [
      "-----bert model output\n"
     ]
    },
    {
     "name": "stderr",
     "output_type": "stream",
     "text": [
      "【train】 epoch：9 step:588/630 loss：0.036027\n",
      "/opt/conda/lib/python3.7/site-packages/sklearn/metrics/_classification.py:1580: UndefinedMetricWarning: F-score is ill-defined and being set to 0.0 in labels with no true nor predicted samples. Use `zero_division` parameter to control this behavior.\n",
      "  _warn_prf(average, \"true nor predicted\", \"F-score is\", len(true_sum))\n",
      "【dev】 loss：7.949252 accuracy：0.0000 micro_f1：0.0000 macro_f1：0.0000\n"
     ]
    },
    {
     "name": "stdout",
     "output_type": "stream",
     "text": [
      "-----bert model output\n"
     ]
    },
    {
     "name": "stderr",
     "output_type": "stream",
     "text": [
      "【train】 epoch：9 step:589/630 loss：0.035666\n",
      "/opt/conda/lib/python3.7/site-packages/sklearn/metrics/_classification.py:1580: UndefinedMetricWarning: F-score is ill-defined and being set to 0.0 in labels with no true nor predicted samples. Use `zero_division` parameter to control this behavior.\n",
      "  _warn_prf(average, \"true nor predicted\", \"F-score is\", len(true_sum))\n",
      "【dev】 loss：7.945370 accuracy：0.0000 micro_f1：0.0000 macro_f1：0.0000\n"
     ]
    },
    {
     "name": "stdout",
     "output_type": "stream",
     "text": [
      "-----bert model output\n"
     ]
    },
    {
     "name": "stderr",
     "output_type": "stream",
     "text": [
      "【train】 epoch：9 step:590/630 loss：0.034545\n",
      "/opt/conda/lib/python3.7/site-packages/sklearn/metrics/_classification.py:1580: UndefinedMetricWarning: F-score is ill-defined and being set to 0.0 in labels with no true nor predicted samples. Use `zero_division` parameter to control this behavior.\n",
      "  _warn_prf(average, \"true nor predicted\", \"F-score is\", len(true_sum))\n",
      "【dev】 loss：7.941641 accuracy：0.0000 micro_f1：0.0000 macro_f1：0.0000\n"
     ]
    },
    {
     "name": "stdout",
     "output_type": "stream",
     "text": [
      "-----bert model output\n"
     ]
    },
    {
     "name": "stderr",
     "output_type": "stream",
     "text": [
      "【train】 epoch：9 step:591/630 loss：0.031282\n",
      "/opt/conda/lib/python3.7/site-packages/sklearn/metrics/_classification.py:1580: UndefinedMetricWarning: F-score is ill-defined and being set to 0.0 in labels with no true nor predicted samples. Use `zero_division` parameter to control this behavior.\n",
      "  _warn_prf(average, \"true nor predicted\", \"F-score is\", len(true_sum))\n",
      "【dev】 loss：7.937533 accuracy：0.0000 micro_f1：0.0000 macro_f1：0.0000\n"
     ]
    },
    {
     "name": "stdout",
     "output_type": "stream",
     "text": [
      "-----bert model output\n"
     ]
    },
    {
     "name": "stderr",
     "output_type": "stream",
     "text": [
      "【train】 epoch：9 step:592/630 loss：0.033068\n",
      "/opt/conda/lib/python3.7/site-packages/sklearn/metrics/_classification.py:1580: UndefinedMetricWarning: F-score is ill-defined and being set to 0.0 in labels with no true nor predicted samples. Use `zero_division` parameter to control this behavior.\n",
      "  _warn_prf(average, \"true nor predicted\", \"F-score is\", len(true_sum))\n",
      "【dev】 loss：7.933359 accuracy：0.0000 micro_f1：0.0000 macro_f1：0.0000\n"
     ]
    },
    {
     "name": "stdout",
     "output_type": "stream",
     "text": [
      "-----bert model output\n"
     ]
    },
    {
     "name": "stderr",
     "output_type": "stream",
     "text": [
      "【train】 epoch：9 step:593/630 loss：0.033122\n",
      "/opt/conda/lib/python3.7/site-packages/sklearn/metrics/_classification.py:1580: UndefinedMetricWarning: F-score is ill-defined and being set to 0.0 in labels with no true nor predicted samples. Use `zero_division` parameter to control this behavior.\n",
      "  _warn_prf(average, \"true nor predicted\", \"F-score is\", len(true_sum))\n",
      "【dev】 loss：7.929317 accuracy：0.0000 micro_f1：0.0000 macro_f1：0.0000\n"
     ]
    },
    {
     "name": "stdout",
     "output_type": "stream",
     "text": [
      "-----bert model output\n"
     ]
    },
    {
     "name": "stderr",
     "output_type": "stream",
     "text": [
      "【train】 epoch：9 step:594/630 loss：0.036448\n",
      "/opt/conda/lib/python3.7/site-packages/sklearn/metrics/_classification.py:1580: UndefinedMetricWarning: F-score is ill-defined and being set to 0.0 in labels with no true nor predicted samples. Use `zero_division` parameter to control this behavior.\n",
      "  _warn_prf(average, \"true nor predicted\", \"F-score is\", len(true_sum))\n",
      "【dev】 loss：7.925484 accuracy：0.0000 micro_f1：0.0000 macro_f1：0.0000\n"
     ]
    },
    {
     "name": "stdout",
     "output_type": "stream",
     "text": [
      "-----bert model output\n"
     ]
    },
    {
     "name": "stderr",
     "output_type": "stream",
     "text": [
      "【train】 epoch：9 step:595/630 loss：0.037518\n",
      "/opt/conda/lib/python3.7/site-packages/sklearn/metrics/_classification.py:1580: UndefinedMetricWarning: F-score is ill-defined and being set to 0.0 in labels with no true nor predicted samples. Use `zero_division` parameter to control this behavior.\n",
      "  _warn_prf(average, \"true nor predicted\", \"F-score is\", len(true_sum))\n",
      "【dev】 loss：7.922059 accuracy：0.0000 micro_f1：0.0000 macro_f1：0.0000\n"
     ]
    },
    {
     "name": "stdout",
     "output_type": "stream",
     "text": [
      "-----bert model output\n"
     ]
    },
    {
     "name": "stderr",
     "output_type": "stream",
     "text": [
      "【train】 epoch：9 step:596/630 loss：0.033006\n",
      "/opt/conda/lib/python3.7/site-packages/sklearn/metrics/_classification.py:1580: UndefinedMetricWarning: F-score is ill-defined and being set to 0.0 in labels with no true nor predicted samples. Use `zero_division` parameter to control this behavior.\n",
      "  _warn_prf(average, \"true nor predicted\", \"F-score is\", len(true_sum))\n",
      "【dev】 loss：7.918768 accuracy：0.0000 micro_f1：0.0000 macro_f1：0.0000\n"
     ]
    },
    {
     "name": "stdout",
     "output_type": "stream",
     "text": [
      "-----bert model output\n"
     ]
    },
    {
     "name": "stderr",
     "output_type": "stream",
     "text": [
      "【train】 epoch：9 step:597/630 loss：0.036571\n",
      "/opt/conda/lib/python3.7/site-packages/sklearn/metrics/_classification.py:1580: UndefinedMetricWarning: F-score is ill-defined and being set to 0.0 in labels with no true nor predicted samples. Use `zero_division` parameter to control this behavior.\n",
      "  _warn_prf(average, \"true nor predicted\", \"F-score is\", len(true_sum))\n",
      "【dev】 loss：7.915644 accuracy：0.0000 micro_f1：0.0000 macro_f1：0.0000\n"
     ]
    },
    {
     "name": "stdout",
     "output_type": "stream",
     "text": [
      "-----bert model output\n"
     ]
    },
    {
     "name": "stderr",
     "output_type": "stream",
     "text": [
      "【train】 epoch：9 step:598/630 loss：0.032742\n",
      "/opt/conda/lib/python3.7/site-packages/sklearn/metrics/_classification.py:1580: UndefinedMetricWarning: F-score is ill-defined and being set to 0.0 in labels with no true nor predicted samples. Use `zero_division` parameter to control this behavior.\n",
      "  _warn_prf(average, \"true nor predicted\", \"F-score is\", len(true_sum))\n",
      "【dev】 loss：7.912292 accuracy：0.0000 micro_f1：0.0000 macro_f1：0.0000\n"
     ]
    },
    {
     "name": "stdout",
     "output_type": "stream",
     "text": [
      "-----bert model output\n"
     ]
    },
    {
     "name": "stderr",
     "output_type": "stream",
     "text": [
      "【train】 epoch：9 step:599/630 loss：0.034068\n",
      "/opt/conda/lib/python3.7/site-packages/sklearn/metrics/_classification.py:1580: UndefinedMetricWarning: F-score is ill-defined and being set to 0.0 in labels with no true nor predicted samples. Use `zero_division` parameter to control this behavior.\n",
      "  _warn_prf(average, \"true nor predicted\", \"F-score is\", len(true_sum))\n",
      "【dev】 loss：7.909116 accuracy：0.0000 micro_f1：0.0000 macro_f1：0.0000\n"
     ]
    },
    {
     "name": "stdout",
     "output_type": "stream",
     "text": [
      "-----bert model output\n"
     ]
    },
    {
     "name": "stderr",
     "output_type": "stream",
     "text": [
      "【train】 epoch：9 step:600/630 loss：0.036503\n",
      "/opt/conda/lib/python3.7/site-packages/sklearn/metrics/_classification.py:1580: UndefinedMetricWarning: F-score is ill-defined and being set to 0.0 in labels with no true nor predicted samples. Use `zero_division` parameter to control this behavior.\n",
      "  _warn_prf(average, \"true nor predicted\", \"F-score is\", len(true_sum))\n",
      "【dev】 loss：7.906213 accuracy：0.0000 micro_f1：0.0000 macro_f1：0.0000\n"
     ]
    },
    {
     "name": "stdout",
     "output_type": "stream",
     "text": [
      "-----bert model output\n"
     ]
    },
    {
     "name": "stderr",
     "output_type": "stream",
     "text": [
      "【train】 epoch：9 step:601/630 loss：0.038879\n",
      "/opt/conda/lib/python3.7/site-packages/sklearn/metrics/_classification.py:1580: UndefinedMetricWarning: F-score is ill-defined and being set to 0.0 in labels with no true nor predicted samples. Use `zero_division` parameter to control this behavior.\n",
      "  _warn_prf(average, \"true nor predicted\", \"F-score is\", len(true_sum))\n",
      "【dev】 loss：7.903715 accuracy：0.0000 micro_f1：0.0000 macro_f1：0.0000\n"
     ]
    },
    {
     "name": "stdout",
     "output_type": "stream",
     "text": [
      "-----bert model output\n"
     ]
    },
    {
     "name": "stderr",
     "output_type": "stream",
     "text": [
      "【train】 epoch：9 step:602/630 loss：0.033516\n",
      "/opt/conda/lib/python3.7/site-packages/sklearn/metrics/_classification.py:1580: UndefinedMetricWarning: F-score is ill-defined and being set to 0.0 in labels with no true nor predicted samples. Use `zero_division` parameter to control this behavior.\n",
      "  _warn_prf(average, \"true nor predicted\", \"F-score is\", len(true_sum))\n",
      "【dev】 loss：7.900739 accuracy：0.0000 micro_f1：0.0000 macro_f1：0.0000\n"
     ]
    },
    {
     "name": "stdout",
     "output_type": "stream",
     "text": [
      "-----bert model output\n"
     ]
    },
    {
     "name": "stderr",
     "output_type": "stream",
     "text": [
      "【train】 epoch：9 step:603/630 loss：0.038137\n",
      "/opt/conda/lib/python3.7/site-packages/sklearn/metrics/_classification.py:1580: UndefinedMetricWarning: F-score is ill-defined and being set to 0.0 in labels with no true nor predicted samples. Use `zero_division` parameter to control this behavior.\n",
      "  _warn_prf(average, \"true nor predicted\", \"F-score is\", len(true_sum))\n",
      "【dev】 loss：7.897715 accuracy：0.0000 micro_f1：0.0000 macro_f1：0.0000\n"
     ]
    },
    {
     "name": "stdout",
     "output_type": "stream",
     "text": [
      "-----bert model output\n"
     ]
    },
    {
     "name": "stderr",
     "output_type": "stream",
     "text": [
      "【train】 epoch：9 step:604/630 loss：0.032451\n",
      "/opt/conda/lib/python3.7/site-packages/sklearn/metrics/_classification.py:1580: UndefinedMetricWarning: F-score is ill-defined and being set to 0.0 in labels with no true nor predicted samples. Use `zero_division` parameter to control this behavior.\n",
      "  _warn_prf(average, \"true nor predicted\", \"F-score is\", len(true_sum))\n",
      "【dev】 loss：7.894274 accuracy：0.0000 micro_f1：0.0000 macro_f1：0.0000\n"
     ]
    },
    {
     "name": "stdout",
     "output_type": "stream",
     "text": [
      "-----bert model output\n"
     ]
    },
    {
     "name": "stderr",
     "output_type": "stream",
     "text": [
      "【train】 epoch：9 step:605/630 loss：0.032446\n",
      "/opt/conda/lib/python3.7/site-packages/sklearn/metrics/_classification.py:1580: UndefinedMetricWarning: F-score is ill-defined and being set to 0.0 in labels with no true nor predicted samples. Use `zero_division` parameter to control this behavior.\n",
      "  _warn_prf(average, \"true nor predicted\", \"F-score is\", len(true_sum))\n",
      "【dev】 loss：7.890859 accuracy：0.0000 micro_f1：0.0000 macro_f1：0.0000\n"
     ]
    },
    {
     "name": "stdout",
     "output_type": "stream",
     "text": [
      "-----bert model output\n"
     ]
    },
    {
     "name": "stderr",
     "output_type": "stream",
     "text": [
      "【train】 epoch：9 step:606/630 loss：0.037402\n",
      "/opt/conda/lib/python3.7/site-packages/sklearn/metrics/_classification.py:1580: UndefinedMetricWarning: F-score is ill-defined and being set to 0.0 in labels with no true nor predicted samples. Use `zero_division` parameter to control this behavior.\n",
      "  _warn_prf(average, \"true nor predicted\", \"F-score is\", len(true_sum))\n",
      "【dev】 loss：7.887554 accuracy：0.0000 micro_f1：0.0000 macro_f1：0.0000\n"
     ]
    },
    {
     "name": "stdout",
     "output_type": "stream",
     "text": [
      "-----bert model output\n"
     ]
    },
    {
     "name": "stderr",
     "output_type": "stream",
     "text": [
      "【train】 epoch：9 step:607/630 loss：0.033598\n",
      "/opt/conda/lib/python3.7/site-packages/sklearn/metrics/_classification.py:1580: UndefinedMetricWarning: F-score is ill-defined and being set to 0.0 in labels with no true nor predicted samples. Use `zero_division` parameter to control this behavior.\n",
      "  _warn_prf(average, \"true nor predicted\", \"F-score is\", len(true_sum))\n",
      "【dev】 loss：7.884237 accuracy：0.0000 micro_f1：0.0000 macro_f1：0.0000\n"
     ]
    },
    {
     "name": "stdout",
     "output_type": "stream",
     "text": [
      "-----bert model output\n"
     ]
    },
    {
     "name": "stderr",
     "output_type": "stream",
     "text": [
      "【train】 epoch：9 step:608/630 loss：0.033990\n",
      "/opt/conda/lib/python3.7/site-packages/sklearn/metrics/_classification.py:1580: UndefinedMetricWarning: F-score is ill-defined and being set to 0.0 in labels with no true nor predicted samples. Use `zero_division` parameter to control this behavior.\n",
      "  _warn_prf(average, \"true nor predicted\", \"F-score is\", len(true_sum))\n",
      "【dev】 loss：7.880629 accuracy：0.0000 micro_f1：0.0000 macro_f1：0.0000\n"
     ]
    },
    {
     "name": "stdout",
     "output_type": "stream",
     "text": [
      "-----bert model output\n"
     ]
    },
    {
     "name": "stderr",
     "output_type": "stream",
     "text": [
      "【train】 epoch：9 step:609/630 loss：0.034288\n",
      "/opt/conda/lib/python3.7/site-packages/sklearn/metrics/_classification.py:1580: UndefinedMetricWarning: F-score is ill-defined and being set to 0.0 in labels with no true nor predicted samples. Use `zero_division` parameter to control this behavior.\n",
      "  _warn_prf(average, \"true nor predicted\", \"F-score is\", len(true_sum))\n",
      "【dev】 loss：7.876938 accuracy：0.0000 micro_f1：0.0000 macro_f1：0.0000\n"
     ]
    },
    {
     "name": "stdout",
     "output_type": "stream",
     "text": [
      "-----bert model output\n"
     ]
    },
    {
     "name": "stderr",
     "output_type": "stream",
     "text": [
      "【train】 epoch：9 step:610/630 loss：0.033516\n",
      "/opt/conda/lib/python3.7/site-packages/sklearn/metrics/_classification.py:1580: UndefinedMetricWarning: F-score is ill-defined and being set to 0.0 in labels with no true nor predicted samples. Use `zero_division` parameter to control this behavior.\n",
      "  _warn_prf(average, \"true nor predicted\", \"F-score is\", len(true_sum))\n",
      "【dev】 loss：7.873070 accuracy：0.0000 micro_f1：0.0000 macro_f1：0.0000\n"
     ]
    },
    {
     "name": "stdout",
     "output_type": "stream",
     "text": [
      "-----bert model output\n"
     ]
    },
    {
     "name": "stderr",
     "output_type": "stream",
     "text": [
      "【train】 epoch：9 step:611/630 loss：0.035700\n",
      "/opt/conda/lib/python3.7/site-packages/sklearn/metrics/_classification.py:1580: UndefinedMetricWarning: F-score is ill-defined and being set to 0.0 in labels with no true nor predicted samples. Use `zero_division` parameter to control this behavior.\n",
      "  _warn_prf(average, \"true nor predicted\", \"F-score is\", len(true_sum))\n",
      "【dev】 loss：7.869081 accuracy：0.0000 micro_f1：0.0000 macro_f1：0.0000\n"
     ]
    },
    {
     "name": "stdout",
     "output_type": "stream",
     "text": [
      "-----bert model output\n"
     ]
    },
    {
     "name": "stderr",
     "output_type": "stream",
     "text": [
      "【train】 epoch：9 step:612/630 loss：0.031107\n",
      "/opt/conda/lib/python3.7/site-packages/sklearn/metrics/_classification.py:1580: UndefinedMetricWarning: F-score is ill-defined and being set to 0.0 in labels with no true nor predicted samples. Use `zero_division` parameter to control this behavior.\n",
      "  _warn_prf(average, \"true nor predicted\", \"F-score is\", len(true_sum))\n",
      "【dev】 loss：7.865181 accuracy：0.0000 micro_f1：0.0000 macro_f1：0.0000\n"
     ]
    },
    {
     "name": "stdout",
     "output_type": "stream",
     "text": [
      "-----bert model output\n"
     ]
    },
    {
     "name": "stderr",
     "output_type": "stream",
     "text": [
      "【train】 epoch：9 step:613/630 loss：0.031737\n",
      "/opt/conda/lib/python3.7/site-packages/sklearn/metrics/_classification.py:1580: UndefinedMetricWarning: F-score is ill-defined and being set to 0.0 in labels with no true nor predicted samples. Use `zero_division` parameter to control this behavior.\n",
      "  _warn_prf(average, \"true nor predicted\", \"F-score is\", len(true_sum))\n",
      "【dev】 loss：7.861590 accuracy：0.0000 micro_f1：0.0000 macro_f1：0.0000\n"
     ]
    },
    {
     "name": "stdout",
     "output_type": "stream",
     "text": [
      "-----bert model output\n"
     ]
    },
    {
     "name": "stderr",
     "output_type": "stream",
     "text": [
      "【train】 epoch：9 step:614/630 loss：0.033134\n",
      "/opt/conda/lib/python3.7/site-packages/sklearn/metrics/_classification.py:1580: UndefinedMetricWarning: F-score is ill-defined and being set to 0.0 in labels with no true nor predicted samples. Use `zero_division` parameter to control this behavior.\n",
      "  _warn_prf(average, \"true nor predicted\", \"F-score is\", len(true_sum))\n",
      "【dev】 loss：7.857710 accuracy：0.0000 micro_f1：0.0000 macro_f1：0.0000\n"
     ]
    },
    {
     "name": "stdout",
     "output_type": "stream",
     "text": [
      "-----bert model output\n"
     ]
    },
    {
     "name": "stderr",
     "output_type": "stream",
     "text": [
      "【train】 epoch：9 step:615/630 loss：0.034932\n",
      "/opt/conda/lib/python3.7/site-packages/sklearn/metrics/_classification.py:1580: UndefinedMetricWarning: F-score is ill-defined and being set to 0.0 in labels with no true nor predicted samples. Use `zero_division` parameter to control this behavior.\n",
      "  _warn_prf(average, \"true nor predicted\", \"F-score is\", len(true_sum))\n",
      "【dev】 loss：7.853818 accuracy：0.0000 micro_f1：0.0000 macro_f1：0.0000\n"
     ]
    },
    {
     "name": "stdout",
     "output_type": "stream",
     "text": [
      "-----bert model output\n"
     ]
    },
    {
     "name": "stderr",
     "output_type": "stream",
     "text": [
      "【train】 epoch：9 step:616/630 loss：0.034503\n",
      "/opt/conda/lib/python3.7/site-packages/sklearn/metrics/_classification.py:1580: UndefinedMetricWarning: F-score is ill-defined and being set to 0.0 in labels with no true nor predicted samples. Use `zero_division` parameter to control this behavior.\n",
      "  _warn_prf(average, \"true nor predicted\", \"F-score is\", len(true_sum))\n",
      "【dev】 loss：7.850043 accuracy：0.0000 micro_f1：0.0000 macro_f1：0.0000\n"
     ]
    },
    {
     "name": "stdout",
     "output_type": "stream",
     "text": [
      "-----bert model output\n"
     ]
    },
    {
     "name": "stderr",
     "output_type": "stream",
     "text": [
      "【train】 epoch：9 step:617/630 loss：0.036461\n",
      "/opt/conda/lib/python3.7/site-packages/sklearn/metrics/_classification.py:1580: UndefinedMetricWarning: F-score is ill-defined and being set to 0.0 in labels with no true nor predicted samples. Use `zero_division` parameter to control this behavior.\n",
      "  _warn_prf(average, \"true nor predicted\", \"F-score is\", len(true_sum))\n",
      "【dev】 loss：7.846600 accuracy：0.0000 micro_f1：0.0000 macro_f1：0.0000\n"
     ]
    },
    {
     "name": "stdout",
     "output_type": "stream",
     "text": [
      "-----bert model output\n"
     ]
    },
    {
     "name": "stderr",
     "output_type": "stream",
     "text": [
      "【train】 epoch：9 step:618/630 loss：0.031971\n",
      "/opt/conda/lib/python3.7/site-packages/sklearn/metrics/_classification.py:1580: UndefinedMetricWarning: F-score is ill-defined and being set to 0.0 in labels with no true nor predicted samples. Use `zero_division` parameter to control this behavior.\n",
      "  _warn_prf(average, \"true nor predicted\", \"F-score is\", len(true_sum))\n",
      "【dev】 loss：7.843151 accuracy：0.0000 micro_f1：0.0000 macro_f1：0.0000\n"
     ]
    },
    {
     "name": "stdout",
     "output_type": "stream",
     "text": [
      "-----bert model output\n"
     ]
    },
    {
     "name": "stderr",
     "output_type": "stream",
     "text": [
      "【train】 epoch：9 step:619/630 loss：0.034553\n",
      "/opt/conda/lib/python3.7/site-packages/sklearn/metrics/_classification.py:1580: UndefinedMetricWarning: F-score is ill-defined and being set to 0.0 in labels with no true nor predicted samples. Use `zero_division` parameter to control this behavior.\n",
      "  _warn_prf(average, \"true nor predicted\", \"F-score is\", len(true_sum))\n",
      "【dev】 loss：7.839766 accuracy：0.0000 micro_f1：0.0000 macro_f1：0.0000\n"
     ]
    },
    {
     "name": "stdout",
     "output_type": "stream",
     "text": [
      "-----bert model output\n"
     ]
    },
    {
     "name": "stderr",
     "output_type": "stream",
     "text": [
      "【train】 epoch：9 step:620/630 loss：0.029939\n",
      "/opt/conda/lib/python3.7/site-packages/sklearn/metrics/_classification.py:1580: UndefinedMetricWarning: F-score is ill-defined and being set to 0.0 in labels with no true nor predicted samples. Use `zero_division` parameter to control this behavior.\n",
      "  _warn_prf(average, \"true nor predicted\", \"F-score is\", len(true_sum))\n",
      "【dev】 loss：7.836149 accuracy：0.0000 micro_f1：0.0000 macro_f1：0.0000\n"
     ]
    },
    {
     "name": "stdout",
     "output_type": "stream",
     "text": [
      "-----bert model output\n"
     ]
    },
    {
     "name": "stderr",
     "output_type": "stream",
     "text": [
      "【train】 epoch：9 step:621/630 loss：0.035118\n",
      "/opt/conda/lib/python3.7/site-packages/sklearn/metrics/_classification.py:1580: UndefinedMetricWarning: F-score is ill-defined and being set to 0.0 in labels with no true nor predicted samples. Use `zero_division` parameter to control this behavior.\n",
      "  _warn_prf(average, \"true nor predicted\", \"F-score is\", len(true_sum))\n",
      "【dev】 loss：7.832574 accuracy：0.0000 micro_f1：0.0000 macro_f1：0.0000\n"
     ]
    },
    {
     "name": "stdout",
     "output_type": "stream",
     "text": [
      "-----bert model output\n"
     ]
    },
    {
     "name": "stderr",
     "output_type": "stream",
     "text": [
      "【train】 epoch：9 step:622/630 loss：0.040829\n",
      "/opt/conda/lib/python3.7/site-packages/sklearn/metrics/_classification.py:1580: UndefinedMetricWarning: F-score is ill-defined and being set to 0.0 in labels with no true nor predicted samples. Use `zero_division` parameter to control this behavior.\n",
      "  _warn_prf(average, \"true nor predicted\", \"F-score is\", len(true_sum))\n",
      "【dev】 loss：7.829331 accuracy：0.0000 micro_f1：0.0000 macro_f1：0.0000\n"
     ]
    },
    {
     "name": "stdout",
     "output_type": "stream",
     "text": [
      "-----bert model output\n"
     ]
    },
    {
     "name": "stderr",
     "output_type": "stream",
     "text": [
      "【train】 epoch：9 step:623/630 loss：0.030262\n",
      "/opt/conda/lib/python3.7/site-packages/sklearn/metrics/_classification.py:1580: UndefinedMetricWarning: F-score is ill-defined and being set to 0.0 in labels with no true nor predicted samples. Use `zero_division` parameter to control this behavior.\n",
      "  _warn_prf(average, \"true nor predicted\", \"F-score is\", len(true_sum))\n",
      "【dev】 loss：7.826001 accuracy：0.0000 micro_f1：0.0000 macro_f1：0.0000\n"
     ]
    },
    {
     "name": "stdout",
     "output_type": "stream",
     "text": [
      "-----bert model output\n"
     ]
    },
    {
     "name": "stderr",
     "output_type": "stream",
     "text": [
      "【train】 epoch：9 step:624/630 loss：0.033386\n",
      "/opt/conda/lib/python3.7/site-packages/sklearn/metrics/_classification.py:1580: UndefinedMetricWarning: F-score is ill-defined and being set to 0.0 in labels with no true nor predicted samples. Use `zero_division` parameter to control this behavior.\n",
      "  _warn_prf(average, \"true nor predicted\", \"F-score is\", len(true_sum))\n",
      "【dev】 loss：7.822554 accuracy：0.0000 micro_f1：0.0000 macro_f1：0.0000\n"
     ]
    },
    {
     "name": "stdout",
     "output_type": "stream",
     "text": [
      "-----bert model output\n"
     ]
    },
    {
     "name": "stderr",
     "output_type": "stream",
     "text": [
      "【train】 epoch：9 step:625/630 loss：0.033762\n",
      "/opt/conda/lib/python3.7/site-packages/sklearn/metrics/_classification.py:1580: UndefinedMetricWarning: F-score is ill-defined and being set to 0.0 in labels with no true nor predicted samples. Use `zero_division` parameter to control this behavior.\n",
      "  _warn_prf(average, \"true nor predicted\", \"F-score is\", len(true_sum))\n",
      "【dev】 loss：7.819025 accuracy：0.0000 micro_f1：0.0000 macro_f1：0.0000\n"
     ]
    },
    {
     "name": "stdout",
     "output_type": "stream",
     "text": [
      "-----bert model output\n"
     ]
    },
    {
     "name": "stderr",
     "output_type": "stream",
     "text": [
      "【train】 epoch：9 step:626/630 loss：0.033348\n",
      "/opt/conda/lib/python3.7/site-packages/sklearn/metrics/_classification.py:1580: UndefinedMetricWarning: F-score is ill-defined and being set to 0.0 in labels with no true nor predicted samples. Use `zero_division` parameter to control this behavior.\n",
      "  _warn_prf(average, \"true nor predicted\", \"F-score is\", len(true_sum))\n",
      "【dev】 loss：7.815748 accuracy：0.0000 micro_f1：0.0000 macro_f1：0.0000\n"
     ]
    },
    {
     "name": "stdout",
     "output_type": "stream",
     "text": [
      "-----bert model output\n"
     ]
    },
    {
     "name": "stderr",
     "output_type": "stream",
     "text": [
      "【train】 epoch：9 step:627/630 loss：0.034508\n",
      "/opt/conda/lib/python3.7/site-packages/sklearn/metrics/_classification.py:1580: UndefinedMetricWarning: F-score is ill-defined and being set to 0.0 in labels with no true nor predicted samples. Use `zero_division` parameter to control this behavior.\n",
      "  _warn_prf(average, \"true nor predicted\", \"F-score is\", len(true_sum))\n",
      "【dev】 loss：7.812726 accuracy：0.0000 micro_f1：0.0000 macro_f1：0.0000\n"
     ]
    },
    {
     "name": "stdout",
     "output_type": "stream",
     "text": [
      "-----bert model output\n"
     ]
    },
    {
     "name": "stderr",
     "output_type": "stream",
     "text": [
      "【train】 epoch：9 step:628/630 loss：0.034528\n",
      "/opt/conda/lib/python3.7/site-packages/sklearn/metrics/_classification.py:1580: UndefinedMetricWarning: F-score is ill-defined and being set to 0.0 in labels with no true nor predicted samples. Use `zero_division` parameter to control this behavior.\n",
      "  _warn_prf(average, \"true nor predicted\", \"F-score is\", len(true_sum))\n",
      "【dev】 loss：7.809429 accuracy：0.0000 micro_f1：0.0000 macro_f1：0.0000\n",
      "【train】 epoch：9 step:629/630 loss：0.036406\n"
     ]
    },
    {
     "name": "stdout",
     "output_type": "stream",
     "text": [
      "-----bert model output\n"
     ]
    },
    {
     "name": "stderr",
     "output_type": "stream",
     "text": [
      "/opt/conda/lib/python3.7/site-packages/sklearn/metrics/_classification.py:1580: UndefinedMetricWarning: F-score is ill-defined and being set to 0.0 in labels with no true nor predicted samples. Use `zero_division` parameter to control this behavior.\n",
      "  _warn_prf(average, \"true nor predicted\", \"F-score is\", len(true_sum))\n",
      "【dev】 loss：7.806165 accuracy：0.0000 micro_f1：0.0000 macro_f1：0.0000\n"
     ]
    }
   ],
   "source": [
    "main()"
   ]
  },
  {
   "cell_type": "code",
   "execution_count": null,
   "id": "72decb01",
   "metadata": {
    "papermill": {
     "duration": 0.102219,
     "end_time": "2022-09-13T07:24:34.231133",
     "exception": false,
     "start_time": "2022-09-13T07:24:34.128914",
     "status": "completed"
    },
    "tags": []
   },
   "outputs": [],
   "source": []
  },
  {
   "cell_type": "code",
   "execution_count": null,
   "id": "5b464d68",
   "metadata": {
    "papermill": {
     "duration": 0.100871,
     "end_time": "2022-09-13T07:24:34.432912",
     "exception": false,
     "start_time": "2022-09-13T07:24:34.332041",
     "status": "completed"
    },
    "tags": []
   },
   "outputs": [],
   "source": []
  },
  {
   "cell_type": "code",
   "execution_count": null,
   "id": "54a3a8dc",
   "metadata": {
    "papermill": {
     "duration": 0.215246,
     "end_time": "2022-09-13T07:24:34.748832",
     "exception": false,
     "start_time": "2022-09-13T07:24:34.533586",
     "status": "completed"
    },
    "tags": []
   },
   "outputs": [],
   "source": [
    "\n",
    "\n",
    "\n"
   ]
  }
 ],
 "metadata": {
  "kernelspec": {
   "display_name": "Python 3",
   "language": "python",
   "name": "python3"
  },
  "language_info": {
   "codemirror_mode": {
    "name": "ipython",
    "version": 3
   },
   "file_extension": ".py",
   "mimetype": "text/x-python",
   "name": "python",
   "nbconvert_exporter": "python",
   "pygments_lexer": "ipython3",
   "version": "3.7.12"
  },
  "papermill": {
   "default_parameters": {},
   "duration": 3789.429808,
   "end_time": "2022-09-13T07:24:37.227127",
   "environment_variables": {},
   "exception": null,
   "input_path": "__notebook__.ipynb",
   "output_path": "__notebook__.ipynb",
   "parameters": {},
   "start_time": "2022-09-13T06:21:27.797319",
   "version": "2.3.4"
  },
  "widgets": {
   "application/vnd.jupyter.widget-state+json": {
    "state": {
     "003346bfc95549cd8957bc117e45e14f": {
      "model_module": "@jupyter-widgets/base",
      "model_module_version": "1.2.0",
      "model_name": "LayoutModel",
      "state": {
       "_model_module": "@jupyter-widgets/base",
       "_model_module_version": "1.2.0",
       "_model_name": "LayoutModel",
       "_view_count": null,
       "_view_module": "@jupyter-widgets/base",
       "_view_module_version": "1.2.0",
       "_view_name": "LayoutView",
       "align_content": null,
       "align_items": null,
       "align_self": null,
       "border": null,
       "bottom": null,
       "display": null,
       "flex": null,
       "flex_flow": null,
       "grid_area": null,
       "grid_auto_columns": null,
       "grid_auto_flow": null,
       "grid_auto_rows": null,
       "grid_column": null,
       "grid_gap": null,
       "grid_row": null,
       "grid_template_areas": null,
       "grid_template_columns": null,
       "grid_template_rows": null,
       "height": null,
       "justify_content": null,
       "justify_items": null,
       "left": null,
       "margin": null,
       "max_height": null,
       "max_width": null,
       "min_height": null,
       "min_width": null,
       "object_fit": null,
       "object_position": null,
       "order": null,
       "overflow": null,
       "overflow_x": null,
       "overflow_y": null,
       "padding": null,
       "right": null,
       "top": null,
       "visibility": null,
       "width": null
      }
     },
     "015b7fbdd73f483ebd1e827c66901ae5": {
      "model_module": "@jupyter-widgets/base",
      "model_module_version": "1.2.0",
      "model_name": "LayoutModel",
      "state": {
       "_model_module": "@jupyter-widgets/base",
       "_model_module_version": "1.2.0",
       "_model_name": "LayoutModel",
       "_view_count": null,
       "_view_module": "@jupyter-widgets/base",
       "_view_module_version": "1.2.0",
       "_view_name": "LayoutView",
       "align_content": null,
       "align_items": null,
       "align_self": null,
       "border": null,
       "bottom": null,
       "display": null,
       "flex": null,
       "flex_flow": null,
       "grid_area": null,
       "grid_auto_columns": null,
       "grid_auto_flow": null,
       "grid_auto_rows": null,
       "grid_column": null,
       "grid_gap": null,
       "grid_row": null,
       "grid_template_areas": null,
       "grid_template_columns": null,
       "grid_template_rows": null,
       "height": null,
       "justify_content": null,
       "justify_items": null,
       "left": null,
       "margin": null,
       "max_height": null,
       "max_width": null,
       "min_height": null,
       "min_width": null,
       "object_fit": null,
       "object_position": null,
       "order": null,
       "overflow": null,
       "overflow_x": null,
       "overflow_y": null,
       "padding": null,
       "right": null,
       "top": null,
       "visibility": null,
       "width": null
      }
     },
     "05756cda5ea64c4dbdda00efd54381e0": {
      "model_module": "@jupyter-widgets/base",
      "model_module_version": "1.2.0",
      "model_name": "LayoutModel",
      "state": {
       "_model_module": "@jupyter-widgets/base",
       "_model_module_version": "1.2.0",
       "_model_name": "LayoutModel",
       "_view_count": null,
       "_view_module": "@jupyter-widgets/base",
       "_view_module_version": "1.2.0",
       "_view_name": "LayoutView",
       "align_content": null,
       "align_items": null,
       "align_self": null,
       "border": null,
       "bottom": null,
       "display": null,
       "flex": null,
       "flex_flow": null,
       "grid_area": null,
       "grid_auto_columns": null,
       "grid_auto_flow": null,
       "grid_auto_rows": null,
       "grid_column": null,
       "grid_gap": null,
       "grid_row": null,
       "grid_template_areas": null,
       "grid_template_columns": null,
       "grid_template_rows": null,
       "height": null,
       "justify_content": null,
       "justify_items": null,
       "left": null,
       "margin": null,
       "max_height": null,
       "max_width": null,
       "min_height": null,
       "min_width": null,
       "object_fit": null,
       "object_position": null,
       "order": null,
       "overflow": null,
       "overflow_x": null,
       "overflow_y": null,
       "padding": null,
       "right": null,
       "top": null,
       "visibility": null,
       "width": null
      }
     },
     "0663b5375ccf4d5db9a291d1f680dd23": {
      "model_module": "@jupyter-widgets/base",
      "model_module_version": "1.2.0",
      "model_name": "LayoutModel",
      "state": {
       "_model_module": "@jupyter-widgets/base",
       "_model_module_version": "1.2.0",
       "_model_name": "LayoutModel",
       "_view_count": null,
       "_view_module": "@jupyter-widgets/base",
       "_view_module_version": "1.2.0",
       "_view_name": "LayoutView",
       "align_content": null,
       "align_items": null,
       "align_self": null,
       "border": null,
       "bottom": null,
       "display": null,
       "flex": null,
       "flex_flow": null,
       "grid_area": null,
       "grid_auto_columns": null,
       "grid_auto_flow": null,
       "grid_auto_rows": null,
       "grid_column": null,
       "grid_gap": null,
       "grid_row": null,
       "grid_template_areas": null,
       "grid_template_columns": null,
       "grid_template_rows": null,
       "height": null,
       "justify_content": null,
       "justify_items": null,
       "left": null,
       "margin": null,
       "max_height": null,
       "max_width": null,
       "min_height": null,
       "min_width": null,
       "object_fit": null,
       "object_position": null,
       "order": null,
       "overflow": null,
       "overflow_x": null,
       "overflow_y": null,
       "padding": null,
       "right": null,
       "top": null,
       "visibility": null,
       "width": null
      }
     },
     "073e81979dca485f8df43044d4ee826f": {
      "model_module": "@jupyter-widgets/controls",
      "model_module_version": "1.5.0",
      "model_name": "HBoxModel",
      "state": {
       "_dom_classes": [],
       "_model_module": "@jupyter-widgets/controls",
       "_model_module_version": "1.5.0",
       "_model_name": "HBoxModel",
       "_view_count": null,
       "_view_module": "@jupyter-widgets/controls",
       "_view_module_version": "1.5.0",
       "_view_name": "HBoxView",
       "box_style": "",
       "children": [
        "IPY_MODEL_67f6dea3a02e4bf780340064ebd748f3",
        "IPY_MODEL_71900d5b17ed4d559f90fb2908e362c8",
        "IPY_MODEL_185558c438c047e982a54289af74d542"
       ],
       "layout": "IPY_MODEL_865726a6d05b46bfbc71848db50696c3"
      }
     },
     "0b75edb4f210467dbe4c9dfe0d561be3": {
      "model_module": "@jupyter-widgets/controls",
      "model_module_version": "1.5.0",
      "model_name": "HBoxModel",
      "state": {
       "_dom_classes": [],
       "_model_module": "@jupyter-widgets/controls",
       "_model_module_version": "1.5.0",
       "_model_name": "HBoxModel",
       "_view_count": null,
       "_view_module": "@jupyter-widgets/controls",
       "_view_module_version": "1.5.0",
       "_view_name": "HBoxView",
       "box_style": "",
       "children": [
        "IPY_MODEL_887c1927b0194d7f95ead633cdf27eb4",
        "IPY_MODEL_fb8aa5b1bfd24b6baa736f9228eff653",
        "IPY_MODEL_949dc3c8f6cf4e27affbf61d5976405b"
       ],
       "layout": "IPY_MODEL_71e19c4b1d1f492a965a91a5dd002641"
      }
     },
     "14ac89f268ec429eb02c26b32de9b333": {
      "model_module": "@jupyter-widgets/controls",
      "model_module_version": "1.5.0",
      "model_name": "HTMLModel",
      "state": {
       "_dom_classes": [],
       "_model_module": "@jupyter-widgets/controls",
       "_model_module_version": "1.5.0",
       "_model_name": "HTMLModel",
       "_view_count": null,
       "_view_module": "@jupyter-widgets/controls",
       "_view_module_version": "1.5.0",
       "_view_name": "HTMLView",
       "description": "",
       "description_tooltip": null,
       "layout": "IPY_MODEL_fdf820c555cc41f5bb16f720e26fd3d8",
       "placeholder": "​",
       "style": "IPY_MODEL_f91338437aa4431e91e5d1724ac255d4",
       "value": "Downloading: 100%"
      }
     },
     "1741b06429a04e21948c26e0948d0f48": {
      "model_module": "@jupyter-widgets/controls",
      "model_module_version": "1.5.0",
      "model_name": "ProgressStyleModel",
      "state": {
       "_model_module": "@jupyter-widgets/controls",
       "_model_module_version": "1.5.0",
       "_model_name": "ProgressStyleModel",
       "_view_count": null,
       "_view_module": "@jupyter-widgets/base",
       "_view_module_version": "1.2.0",
       "_view_name": "StyleView",
       "bar_color": null,
       "description_width": ""
      }
     },
     "185558c438c047e982a54289af74d542": {
      "model_module": "@jupyter-widgets/controls",
      "model_module_version": "1.5.0",
      "model_name": "HTMLModel",
      "state": {
       "_dom_classes": [],
       "_model_module": "@jupyter-widgets/controls",
       "_model_module_version": "1.5.0",
       "_model_name": "HTMLModel",
       "_view_count": null,
       "_view_module": "@jupyter-widgets/controls",
       "_view_module_version": "1.5.0",
       "_view_name": "HTMLView",
       "description": "",
       "description_tooltip": null,
       "layout": "IPY_MODEL_b62d659ab3d74b01baadf06945aedf48",
       "placeholder": "​",
       "style": "IPY_MODEL_204b07eb6f4b4c5aaabcea172fc8835a",
       "value": " 2.00/2.00 [00:00&lt;00:00, 77.2B/s]"
      }
     },
     "1ea03b14bc9a4f889c1562415e00a629": {
      "model_module": "@jupyter-widgets/base",
      "model_module_version": "1.2.0",
      "model_name": "LayoutModel",
      "state": {
       "_model_module": "@jupyter-widgets/base",
       "_model_module_version": "1.2.0",
       "_model_name": "LayoutModel",
       "_view_count": null,
       "_view_module": "@jupyter-widgets/base",
       "_view_module_version": "1.2.0",
       "_view_name": "LayoutView",
       "align_content": null,
       "align_items": null,
       "align_self": null,
       "border": null,
       "bottom": null,
       "display": null,
       "flex": null,
       "flex_flow": null,
       "grid_area": null,
       "grid_auto_columns": null,
       "grid_auto_flow": null,
       "grid_auto_rows": null,
       "grid_column": null,
       "grid_gap": null,
       "grid_row": null,
       "grid_template_areas": null,
       "grid_template_columns": null,
       "grid_template_rows": null,
       "height": null,
       "justify_content": null,
       "justify_items": null,
       "left": null,
       "margin": null,
       "max_height": null,
       "max_width": null,
       "min_height": null,
       "min_width": null,
       "object_fit": null,
       "object_position": null,
       "order": null,
       "overflow": null,
       "overflow_x": null,
       "overflow_y": null,
       "padding": null,
       "right": null,
       "top": null,
       "visibility": null,
       "width": null
      }
     },
     "1eee2a3400d04c31a5de258126098559": {
      "model_module": "@jupyter-widgets/controls",
      "model_module_version": "1.5.0",
      "model_name": "DescriptionStyleModel",
      "state": {
       "_model_module": "@jupyter-widgets/controls",
       "_model_module_version": "1.5.0",
       "_model_name": "DescriptionStyleModel",
       "_view_count": null,
       "_view_module": "@jupyter-widgets/base",
       "_view_module_version": "1.2.0",
       "_view_name": "StyleView",
       "description_width": ""
      }
     },
     "204b07eb6f4b4c5aaabcea172fc8835a": {
      "model_module": "@jupyter-widgets/controls",
      "model_module_version": "1.5.0",
      "model_name": "DescriptionStyleModel",
      "state": {
       "_model_module": "@jupyter-widgets/controls",
       "_model_module_version": "1.5.0",
       "_model_name": "DescriptionStyleModel",
       "_view_count": null,
       "_view_module": "@jupyter-widgets/base",
       "_view_module_version": "1.2.0",
       "_view_name": "StyleView",
       "description_width": ""
      }
     },
     "24c820d547b646a1a1c595df42590098": {
      "model_module": "@jupyter-widgets/base",
      "model_module_version": "1.2.0",
      "model_name": "LayoutModel",
      "state": {
       "_model_module": "@jupyter-widgets/base",
       "_model_module_version": "1.2.0",
       "_model_name": "LayoutModel",
       "_view_count": null,
       "_view_module": "@jupyter-widgets/base",
       "_view_module_version": "1.2.0",
       "_view_name": "LayoutView",
       "align_content": null,
       "align_items": null,
       "align_self": null,
       "border": null,
       "bottom": null,
       "display": null,
       "flex": null,
       "flex_flow": null,
       "grid_area": null,
       "grid_auto_columns": null,
       "grid_auto_flow": null,
       "grid_auto_rows": null,
       "grid_column": null,
       "grid_gap": null,
       "grid_row": null,
       "grid_template_areas": null,
       "grid_template_columns": null,
       "grid_template_rows": null,
       "height": null,
       "justify_content": null,
       "justify_items": null,
       "left": null,
       "margin": null,
       "max_height": null,
       "max_width": null,
       "min_height": null,
       "min_width": null,
       "object_fit": null,
       "object_position": null,
       "order": null,
       "overflow": null,
       "overflow_x": null,
       "overflow_y": null,
       "padding": null,
       "right": null,
       "top": null,
       "visibility": null,
       "width": null
      }
     },
     "29516b73fe954991988a83e3f494775b": {
      "model_module": "@jupyter-widgets/base",
      "model_module_version": "1.2.0",
      "model_name": "LayoutModel",
      "state": {
       "_model_module": "@jupyter-widgets/base",
       "_model_module_version": "1.2.0",
       "_model_name": "LayoutModel",
       "_view_count": null,
       "_view_module": "@jupyter-widgets/base",
       "_view_module_version": "1.2.0",
       "_view_name": "LayoutView",
       "align_content": null,
       "align_items": null,
       "align_self": null,
       "border": null,
       "bottom": null,
       "display": null,
       "flex": null,
       "flex_flow": null,
       "grid_area": null,
       "grid_auto_columns": null,
       "grid_auto_flow": null,
       "grid_auto_rows": null,
       "grid_column": null,
       "grid_gap": null,
       "grid_row": null,
       "grid_template_areas": null,
       "grid_template_columns": null,
       "grid_template_rows": null,
       "height": null,
       "justify_content": null,
       "justify_items": null,
       "left": null,
       "margin": null,
       "max_height": null,
       "max_width": null,
       "min_height": null,
       "min_width": null,
       "object_fit": null,
       "object_position": null,
       "order": null,
       "overflow": null,
       "overflow_x": null,
       "overflow_y": null,
       "padding": null,
       "right": null,
       "top": null,
       "visibility": null,
       "width": null
      }
     },
     "29dd7eec15c54e6d9ed4cd28651dacba": {
      "model_module": "@jupyter-widgets/controls",
      "model_module_version": "1.5.0",
      "model_name": "ProgressStyleModel",
      "state": {
       "_model_module": "@jupyter-widgets/controls",
       "_model_module_version": "1.5.0",
       "_model_name": "ProgressStyleModel",
       "_view_count": null,
       "_view_module": "@jupyter-widgets/base",
       "_view_module_version": "1.2.0",
       "_view_name": "StyleView",
       "bar_color": null,
       "description_width": ""
      }
     },
     "29e187193c9d494a9ab4670c07c8f87c": {
      "model_module": "@jupyter-widgets/controls",
      "model_module_version": "1.5.0",
      "model_name": "HTMLModel",
      "state": {
       "_dom_classes": [],
       "_model_module": "@jupyter-widgets/controls",
       "_model_module_version": "1.5.0",
       "_model_name": "HTMLModel",
       "_view_count": null,
       "_view_module": "@jupyter-widgets/controls",
       "_view_module_version": "1.5.0",
       "_view_name": "HTMLView",
       "description": "",
       "description_tooltip": null,
       "layout": "IPY_MODEL_b7ecc4539daf4809a9afccf692b0abf7",
       "placeholder": "​",
       "style": "IPY_MODEL_c638efccfafa46e7b0fa46100355164e",
       "value": "Downloading: 100%"
      }
     },
     "43077a5ea04c4a2ea44e4220e8760365": {
      "model_module": "@jupyter-widgets/controls",
      "model_module_version": "1.5.0",
      "model_name": "HBoxModel",
      "state": {
       "_dom_classes": [],
       "_model_module": "@jupyter-widgets/controls",
       "_model_module_version": "1.5.0",
       "_model_name": "HBoxModel",
       "_view_count": null,
       "_view_module": "@jupyter-widgets/controls",
       "_view_module_version": "1.5.0",
       "_view_name": "HBoxView",
       "box_style": "",
       "children": [
        "IPY_MODEL_29e187193c9d494a9ab4670c07c8f87c",
        "IPY_MODEL_b723595b1457483a98e398458a67f015",
        "IPY_MODEL_4a1825cb9ac8439eb73224388c29fe7a"
       ],
       "layout": "IPY_MODEL_0663b5375ccf4d5db9a291d1f680dd23"
      }
     },
     "454d64ac811e4f6e9fc3c22eee33efb3": {
      "model_module": "@jupyter-widgets/controls",
      "model_module_version": "1.5.0",
      "model_name": "HBoxModel",
      "state": {
       "_dom_classes": [],
       "_model_module": "@jupyter-widgets/controls",
       "_model_module_version": "1.5.0",
       "_model_name": "HBoxModel",
       "_view_count": null,
       "_view_module": "@jupyter-widgets/controls",
       "_view_module_version": "1.5.0",
       "_view_name": "HBoxView",
       "box_style": "",
       "children": [
        "IPY_MODEL_14ac89f268ec429eb02c26b32de9b333",
        "IPY_MODEL_4a5ac630332a42d7a7b80cbfd87c30d4",
        "IPY_MODEL_5e957f596ae246df8cd18e151574e9c6"
       ],
       "layout": "IPY_MODEL_015b7fbdd73f483ebd1e827c66901ae5"
      }
     },
     "45dda138a8854b8f8d1118572410254e": {
      "model_module": "@jupyter-widgets/base",
      "model_module_version": "1.2.0",
      "model_name": "LayoutModel",
      "state": {
       "_model_module": "@jupyter-widgets/base",
       "_model_module_version": "1.2.0",
       "_model_name": "LayoutModel",
       "_view_count": null,
       "_view_module": "@jupyter-widgets/base",
       "_view_module_version": "1.2.0",
       "_view_name": "LayoutView",
       "align_content": null,
       "align_items": null,
       "align_self": null,
       "border": null,
       "bottom": null,
       "display": null,
       "flex": null,
       "flex_flow": null,
       "grid_area": null,
       "grid_auto_columns": null,
       "grid_auto_flow": null,
       "grid_auto_rows": null,
       "grid_column": null,
       "grid_gap": null,
       "grid_row": null,
       "grid_template_areas": null,
       "grid_template_columns": null,
       "grid_template_rows": null,
       "height": null,
       "justify_content": null,
       "justify_items": null,
       "left": null,
       "margin": null,
       "max_height": null,
       "max_width": null,
       "min_height": null,
       "min_width": null,
       "object_fit": null,
       "object_position": null,
       "order": null,
       "overflow": null,
       "overflow_x": null,
       "overflow_y": null,
       "padding": null,
       "right": null,
       "top": null,
       "visibility": null,
       "width": null
      }
     },
     "493344f92b844ec1b9252b30135bc796": {
      "model_module": "@jupyter-widgets/controls",
      "model_module_version": "1.5.0",
      "model_name": "DescriptionStyleModel",
      "state": {
       "_model_module": "@jupyter-widgets/controls",
       "_model_module_version": "1.5.0",
       "_model_name": "DescriptionStyleModel",
       "_view_count": null,
       "_view_module": "@jupyter-widgets/base",
       "_view_module_version": "1.2.0",
       "_view_name": "StyleView",
       "description_width": ""
      }
     },
     "4a1825cb9ac8439eb73224388c29fe7a": {
      "model_module": "@jupyter-widgets/controls",
      "model_module_version": "1.5.0",
      "model_name": "HTMLModel",
      "state": {
       "_dom_classes": [],
       "_model_module": "@jupyter-widgets/controls",
       "_model_module_version": "1.5.0",
       "_model_name": "HTMLModel",
       "_view_count": null,
       "_view_module": "@jupyter-widgets/controls",
       "_view_module_version": "1.5.0",
       "_view_name": "HTMLView",
       "description": "",
       "description_tooltip": null,
       "layout": "IPY_MODEL_24c820d547b646a1a1c595df42590098",
       "placeholder": "​",
       "style": "IPY_MODEL_b222409dd44c4455860e5307170c6a70",
       "value": " 19.0/19.0 [00:00&lt;00:00, 754B/s]"
      }
     },
     "4a5ac630332a42d7a7b80cbfd87c30d4": {
      "model_module": "@jupyter-widgets/controls",
      "model_module_version": "1.5.0",
      "model_name": "FloatProgressModel",
      "state": {
       "_dom_classes": [],
       "_model_module": "@jupyter-widgets/controls",
       "_model_module_version": "1.5.0",
       "_model_name": "FloatProgressModel",
       "_view_count": null,
       "_view_module": "@jupyter-widgets/controls",
       "_view_module_version": "1.5.0",
       "_view_name": "ProgressView",
       "bar_style": "success",
       "description": "",
       "description_tooltip": null,
       "layout": "IPY_MODEL_05756cda5ea64c4dbdda00efd54381e0",
       "max": 109540.0,
       "min": 0.0,
       "orientation": "horizontal",
       "style": "IPY_MODEL_1741b06429a04e21948c26e0948d0f48",
       "value": 109540.0
      }
     },
     "4ea94475a6da4e6cbc0bd31dd92455c8": {
      "model_module": "@jupyter-widgets/controls",
      "model_module_version": "1.5.0",
      "model_name": "HBoxModel",
      "state": {
       "_dom_classes": [],
       "_model_module": "@jupyter-widgets/controls",
       "_model_module_version": "1.5.0",
       "_model_name": "HBoxModel",
       "_view_count": null,
       "_view_module": "@jupyter-widgets/controls",
       "_view_module_version": "1.5.0",
       "_view_name": "HBoxView",
       "box_style": "",
       "children": [
        "IPY_MODEL_8ddc6a6ab92a452684c20f76ea2aa65a",
        "IPY_MODEL_aaf4553ebf45404b812c1b965c812e05",
        "IPY_MODEL_9664319be54b47058e3207e17dbb68e6"
       ],
       "layout": "IPY_MODEL_fe21a44fdbae4c9f99a0a791997ae494"
      }
     },
     "5a11d10351b34d228b77bd67bffdf5aa": {
      "model_module": "@jupyter-widgets/base",
      "model_module_version": "1.2.0",
      "model_name": "LayoutModel",
      "state": {
       "_model_module": "@jupyter-widgets/base",
       "_model_module_version": "1.2.0",
       "_model_name": "LayoutModel",
       "_view_count": null,
       "_view_module": "@jupyter-widgets/base",
       "_view_module_version": "1.2.0",
       "_view_name": "LayoutView",
       "align_content": null,
       "align_items": null,
       "align_self": null,
       "border": null,
       "bottom": null,
       "display": null,
       "flex": null,
       "flex_flow": null,
       "grid_area": null,
       "grid_auto_columns": null,
       "grid_auto_flow": null,
       "grid_auto_rows": null,
       "grid_column": null,
       "grid_gap": null,
       "grid_row": null,
       "grid_template_areas": null,
       "grid_template_columns": null,
       "grid_template_rows": null,
       "height": null,
       "justify_content": null,
       "justify_items": null,
       "left": null,
       "margin": null,
       "max_height": null,
       "max_width": null,
       "min_height": null,
       "min_width": null,
       "object_fit": null,
       "object_position": null,
       "order": null,
       "overflow": null,
       "overflow_x": null,
       "overflow_y": null,
       "padding": null,
       "right": null,
       "top": null,
       "visibility": null,
       "width": null
      }
     },
     "5e957f596ae246df8cd18e151574e9c6": {
      "model_module": "@jupyter-widgets/controls",
      "model_module_version": "1.5.0",
      "model_name": "HTMLModel",
      "state": {
       "_dom_classes": [],
       "_model_module": "@jupyter-widgets/controls",
       "_model_module_version": "1.5.0",
       "_model_name": "HTMLModel",
       "_view_count": null,
       "_view_module": "@jupyter-widgets/controls",
       "_view_module_version": "1.5.0",
       "_view_name": "HTMLView",
       "description": "",
       "description_tooltip": null,
       "layout": "IPY_MODEL_29516b73fe954991988a83e3f494775b",
       "placeholder": "​",
       "style": "IPY_MODEL_1eee2a3400d04c31a5de258126098559",
       "value": " 107k/107k [00:00&lt;00:00, 218kB/s]"
      }
     },
     "6655277de64b46c7acd1cef3edbcc104": {
      "model_module": "@jupyter-widgets/base",
      "model_module_version": "1.2.0",
      "model_name": "LayoutModel",
      "state": {
       "_model_module": "@jupyter-widgets/base",
       "_model_module_version": "1.2.0",
       "_model_name": "LayoutModel",
       "_view_count": null,
       "_view_module": "@jupyter-widgets/base",
       "_view_module_version": "1.2.0",
       "_view_name": "LayoutView",
       "align_content": null,
       "align_items": null,
       "align_self": null,
       "border": null,
       "bottom": null,
       "display": null,
       "flex": null,
       "flex_flow": null,
       "grid_area": null,
       "grid_auto_columns": null,
       "grid_auto_flow": null,
       "grid_auto_rows": null,
       "grid_column": null,
       "grid_gap": null,
       "grid_row": null,
       "grid_template_areas": null,
       "grid_template_columns": null,
       "grid_template_rows": null,
       "height": null,
       "justify_content": null,
       "justify_items": null,
       "left": null,
       "margin": null,
       "max_height": null,
       "max_width": null,
       "min_height": null,
       "min_width": null,
       "object_fit": null,
       "object_position": null,
       "order": null,
       "overflow": null,
       "overflow_x": null,
       "overflow_y": null,
       "padding": null,
       "right": null,
       "top": null,
       "visibility": null,
       "width": null
      }
     },
     "67f6dea3a02e4bf780340064ebd748f3": {
      "model_module": "@jupyter-widgets/controls",
      "model_module_version": "1.5.0",
      "model_name": "HTMLModel",
      "state": {
       "_dom_classes": [],
       "_model_module": "@jupyter-widgets/controls",
       "_model_module_version": "1.5.0",
       "_model_name": "HTMLModel",
       "_view_count": null,
       "_view_module": "@jupyter-widgets/controls",
       "_view_module_version": "1.5.0",
       "_view_name": "HTMLView",
       "description": "",
       "description_tooltip": null,
       "layout": "IPY_MODEL_003346bfc95549cd8957bc117e45e14f",
       "placeholder": "​",
       "style": "IPY_MODEL_f4fcf79a2a534c86a4c504f25f045ff9",
       "value": "Downloading: 100%"
      }
     },
     "6aaa01c29cf0403a80b0abc0386f86d0": {
      "model_module": "@jupyter-widgets/base",
      "model_module_version": "1.2.0",
      "model_name": "LayoutModel",
      "state": {
       "_model_module": "@jupyter-widgets/base",
       "_model_module_version": "1.2.0",
       "_model_name": "LayoutModel",
       "_view_count": null,
       "_view_module": "@jupyter-widgets/base",
       "_view_module_version": "1.2.0",
       "_view_name": "LayoutView",
       "align_content": null,
       "align_items": null,
       "align_self": null,
       "border": null,
       "bottom": null,
       "display": null,
       "flex": null,
       "flex_flow": null,
       "grid_area": null,
       "grid_auto_columns": null,
       "grid_auto_flow": null,
       "grid_auto_rows": null,
       "grid_column": null,
       "grid_gap": null,
       "grid_row": null,
       "grid_template_areas": null,
       "grid_template_columns": null,
       "grid_template_rows": null,
       "height": null,
       "justify_content": null,
       "justify_items": null,
       "left": null,
       "margin": null,
       "max_height": null,
       "max_width": null,
       "min_height": null,
       "min_width": null,
       "object_fit": null,
       "object_position": null,
       "order": null,
       "overflow": null,
       "overflow_x": null,
       "overflow_y": null,
       "padding": null,
       "right": null,
       "top": null,
       "visibility": null,
       "width": null
      }
     },
     "7089bbea89ed4dc48fb4059bb8d50ea9": {
      "model_module": "@jupyter-widgets/base",
      "model_module_version": "1.2.0",
      "model_name": "LayoutModel",
      "state": {
       "_model_module": "@jupyter-widgets/base",
       "_model_module_version": "1.2.0",
       "_model_name": "LayoutModel",
       "_view_count": null,
       "_view_module": "@jupyter-widgets/base",
       "_view_module_version": "1.2.0",
       "_view_name": "LayoutView",
       "align_content": null,
       "align_items": null,
       "align_self": null,
       "border": null,
       "bottom": null,
       "display": null,
       "flex": null,
       "flex_flow": null,
       "grid_area": null,
       "grid_auto_columns": null,
       "grid_auto_flow": null,
       "grid_auto_rows": null,
       "grid_column": null,
       "grid_gap": null,
       "grid_row": null,
       "grid_template_areas": null,
       "grid_template_columns": null,
       "grid_template_rows": null,
       "height": null,
       "justify_content": null,
       "justify_items": null,
       "left": null,
       "margin": null,
       "max_height": null,
       "max_width": null,
       "min_height": null,
       "min_width": null,
       "object_fit": null,
       "object_position": null,
       "order": null,
       "overflow": null,
       "overflow_x": null,
       "overflow_y": null,
       "padding": null,
       "right": null,
       "top": null,
       "visibility": null,
       "width": null
      }
     },
     "71900d5b17ed4d559f90fb2908e362c8": {
      "model_module": "@jupyter-widgets/controls",
      "model_module_version": "1.5.0",
      "model_name": "FloatProgressModel",
      "state": {
       "_dom_classes": [],
       "_model_module": "@jupyter-widgets/controls",
       "_model_module_version": "1.5.0",
       "_model_name": "FloatProgressModel",
       "_view_count": null,
       "_view_module": "@jupyter-widgets/controls",
       "_view_module_version": "1.5.0",
       "_view_name": "ProgressView",
       "bar_style": "success",
       "description": "",
       "description_tooltip": null,
       "layout": "IPY_MODEL_1ea03b14bc9a4f889c1562415e00a629",
       "max": 2.0,
       "min": 0.0,
       "orientation": "horizontal",
       "style": "IPY_MODEL_f8469e7f5ab84746a2f14ae8c975410f",
       "value": 2.0
      }
     },
     "71e19c4b1d1f492a965a91a5dd002641": {
      "model_module": "@jupyter-widgets/base",
      "model_module_version": "1.2.0",
      "model_name": "LayoutModel",
      "state": {
       "_model_module": "@jupyter-widgets/base",
       "_model_module_version": "1.2.0",
       "_model_name": "LayoutModel",
       "_view_count": null,
       "_view_module": "@jupyter-widgets/base",
       "_view_module_version": "1.2.0",
       "_view_name": "LayoutView",
       "align_content": null,
       "align_items": null,
       "align_self": null,
       "border": null,
       "bottom": null,
       "display": null,
       "flex": null,
       "flex_flow": null,
       "grid_area": null,
       "grid_auto_columns": null,
       "grid_auto_flow": null,
       "grid_auto_rows": null,
       "grid_column": null,
       "grid_gap": null,
       "grid_row": null,
       "grid_template_areas": null,
       "grid_template_columns": null,
       "grid_template_rows": null,
       "height": null,
       "justify_content": null,
       "justify_items": null,
       "left": null,
       "margin": null,
       "max_height": null,
       "max_width": null,
       "min_height": null,
       "min_width": null,
       "object_fit": null,
       "object_position": null,
       "order": null,
       "overflow": null,
       "overflow_x": null,
       "overflow_y": null,
       "padding": null,
       "right": null,
       "top": null,
       "visibility": null,
       "width": null
      }
     },
     "775a1a4f75b648849d8b4c6733ca5994": {
      "model_module": "@jupyter-widgets/controls",
      "model_module_version": "1.5.0",
      "model_name": "DescriptionStyleModel",
      "state": {
       "_model_module": "@jupyter-widgets/controls",
       "_model_module_version": "1.5.0",
       "_model_name": "DescriptionStyleModel",
       "_view_count": null,
       "_view_module": "@jupyter-widgets/base",
       "_view_module_version": "1.2.0",
       "_view_name": "StyleView",
       "description_width": ""
      }
     },
     "865726a6d05b46bfbc71848db50696c3": {
      "model_module": "@jupyter-widgets/base",
      "model_module_version": "1.2.0",
      "model_name": "LayoutModel",
      "state": {
       "_model_module": "@jupyter-widgets/base",
       "_model_module_version": "1.2.0",
       "_model_name": "LayoutModel",
       "_view_count": null,
       "_view_module": "@jupyter-widgets/base",
       "_view_module_version": "1.2.0",
       "_view_name": "LayoutView",
       "align_content": null,
       "align_items": null,
       "align_self": null,
       "border": null,
       "bottom": null,
       "display": null,
       "flex": null,
       "flex_flow": null,
       "grid_area": null,
       "grid_auto_columns": null,
       "grid_auto_flow": null,
       "grid_auto_rows": null,
       "grid_column": null,
       "grid_gap": null,
       "grid_row": null,
       "grid_template_areas": null,
       "grid_template_columns": null,
       "grid_template_rows": null,
       "height": null,
       "justify_content": null,
       "justify_items": null,
       "left": null,
       "margin": null,
       "max_height": null,
       "max_width": null,
       "min_height": null,
       "min_width": null,
       "object_fit": null,
       "object_position": null,
       "order": null,
       "overflow": null,
       "overflow_x": null,
       "overflow_y": null,
       "padding": null,
       "right": null,
       "top": null,
       "visibility": null,
       "width": null
      }
     },
     "887c1927b0194d7f95ead633cdf27eb4": {
      "model_module": "@jupyter-widgets/controls",
      "model_module_version": "1.5.0",
      "model_name": "HTMLModel",
      "state": {
       "_dom_classes": [],
       "_model_module": "@jupyter-widgets/controls",
       "_model_module_version": "1.5.0",
       "_model_name": "HTMLModel",
       "_view_count": null,
       "_view_module": "@jupyter-widgets/controls",
       "_view_module_version": "1.5.0",
       "_view_name": "HTMLView",
       "description": "",
       "description_tooltip": null,
       "layout": "IPY_MODEL_c1c5dee7cb3f4981979d1ede05204637",
       "placeholder": "​",
       "style": "IPY_MODEL_eb9cd59c66844d13805d3c1dc4205aa7",
       "value": "Downloading: 100%"
      }
     },
     "8ddc6a6ab92a452684c20f76ea2aa65a": {
      "model_module": "@jupyter-widgets/controls",
      "model_module_version": "1.5.0",
      "model_name": "HTMLModel",
      "state": {
       "_dom_classes": [],
       "_model_module": "@jupyter-widgets/controls",
       "_model_module_version": "1.5.0",
       "_model_name": "HTMLModel",
       "_view_count": null,
       "_view_module": "@jupyter-widgets/controls",
       "_view_module_version": "1.5.0",
       "_view_name": "HTMLView",
       "description": "",
       "description_tooltip": null,
       "layout": "IPY_MODEL_bcc614c29e924ebabac454295f2d0485",
       "placeholder": "​",
       "style": "IPY_MODEL_e6a16220708b4504b1001a9352eb336b",
       "value": "Downloading: 100%"
      }
     },
     "949dc3c8f6cf4e27affbf61d5976405b": {
      "model_module": "@jupyter-widgets/controls",
      "model_module_version": "1.5.0",
      "model_name": "HTMLModel",
      "state": {
       "_dom_classes": [],
       "_model_module": "@jupyter-widgets/controls",
       "_model_module_version": "1.5.0",
       "_model_name": "HTMLModel",
       "_view_count": null,
       "_view_module": "@jupyter-widgets/controls",
       "_view_module_version": "1.5.0",
       "_view_name": "HTMLView",
       "description": "",
       "description_tooltip": null,
       "layout": "IPY_MODEL_e06f1d0aafb24649b6b137cb41812942",
       "placeholder": "​",
       "style": "IPY_MODEL_d91f55f99dfe496dad1f48935a90d923",
       "value": " 112/112 [00:00&lt;00:00, 4.24kB/s]"
      }
     },
     "9664319be54b47058e3207e17dbb68e6": {
      "model_module": "@jupyter-widgets/controls",
      "model_module_version": "1.5.0",
      "model_name": "HTMLModel",
      "state": {
       "_dom_classes": [],
       "_model_module": "@jupyter-widgets/controls",
       "_model_module_version": "1.5.0",
       "_model_name": "HTMLModel",
       "_view_count": null,
       "_view_module": "@jupyter-widgets/controls",
       "_view_module_version": "1.5.0",
       "_view_name": "HTMLView",
       "description": "",
       "description_tooltip": null,
       "layout": "IPY_MODEL_5a11d10351b34d228b77bd67bffdf5aa",
       "placeholder": "​",
       "style": "IPY_MODEL_493344f92b844ec1b9252b30135bc796",
       "value": " 689/689 [00:00&lt;00:00, 27.4kB/s]"
      }
     },
     "9c40e7849b034695846273fd2f6dab1d": {
      "model_module": "@jupyter-widgets/controls",
      "model_module_version": "1.5.0",
      "model_name": "ProgressStyleModel",
      "state": {
       "_model_module": "@jupyter-widgets/controls",
       "_model_module_version": "1.5.0",
       "_model_name": "ProgressStyleModel",
       "_view_count": null,
       "_view_module": "@jupyter-widgets/base",
       "_view_module_version": "1.2.0",
       "_view_name": "StyleView",
       "bar_color": null,
       "description_width": ""
      }
     },
     "9df9b297aea4476889d1a5d6a668447c": {
      "model_module": "@jupyter-widgets/controls",
      "model_module_version": "1.5.0",
      "model_name": "HTMLModel",
      "state": {
       "_dom_classes": [],
       "_model_module": "@jupyter-widgets/controls",
       "_model_module_version": "1.5.0",
       "_model_name": "HTMLModel",
       "_view_count": null,
       "_view_module": "@jupyter-widgets/controls",
       "_view_module_version": "1.5.0",
       "_view_name": "HTMLView",
       "description": "",
       "description_tooltip": null,
       "layout": "IPY_MODEL_7089bbea89ed4dc48fb4059bb8d50ea9",
       "placeholder": "​",
       "style": "IPY_MODEL_a047900c12d34d0fad9632c80e2c7fb1",
       "value": "Downloading: 100%"
      }
     },
     "a047900c12d34d0fad9632c80e2c7fb1": {
      "model_module": "@jupyter-widgets/controls",
      "model_module_version": "1.5.0",
      "model_name": "DescriptionStyleModel",
      "state": {
       "_model_module": "@jupyter-widgets/controls",
       "_model_module_version": "1.5.0",
       "_model_name": "DescriptionStyleModel",
       "_view_count": null,
       "_view_module": "@jupyter-widgets/base",
       "_view_module_version": "1.2.0",
       "_view_name": "StyleView",
       "description_width": ""
      }
     },
     "a09ffdef958b479f9a0a70376d48e191": {
      "model_module": "@jupyter-widgets/base",
      "model_module_version": "1.2.0",
      "model_name": "LayoutModel",
      "state": {
       "_model_module": "@jupyter-widgets/base",
       "_model_module_version": "1.2.0",
       "_model_name": "LayoutModel",
       "_view_count": null,
       "_view_module": "@jupyter-widgets/base",
       "_view_module_version": "1.2.0",
       "_view_name": "LayoutView",
       "align_content": null,
       "align_items": null,
       "align_self": null,
       "border": null,
       "bottom": null,
       "display": null,
       "flex": null,
       "flex_flow": null,
       "grid_area": null,
       "grid_auto_columns": null,
       "grid_auto_flow": null,
       "grid_auto_rows": null,
       "grid_column": null,
       "grid_gap": null,
       "grid_row": null,
       "grid_template_areas": null,
       "grid_template_columns": null,
       "grid_template_rows": null,
       "height": null,
       "justify_content": null,
       "justify_items": null,
       "left": null,
       "margin": null,
       "max_height": null,
       "max_width": null,
       "min_height": null,
       "min_width": null,
       "object_fit": null,
       "object_position": null,
       "order": null,
       "overflow": null,
       "overflow_x": null,
       "overflow_y": null,
       "padding": null,
       "right": null,
       "top": null,
       "visibility": null,
       "width": null
      }
     },
     "a6175fc59af84021853295797625680c": {
      "model_module": "@jupyter-widgets/controls",
      "model_module_version": "1.5.0",
      "model_name": "HTMLModel",
      "state": {
       "_dom_classes": [],
       "_model_module": "@jupyter-widgets/controls",
       "_model_module_version": "1.5.0",
       "_model_name": "HTMLModel",
       "_view_count": null,
       "_view_module": "@jupyter-widgets/controls",
       "_view_module_version": "1.5.0",
       "_view_name": "HTMLView",
       "description": "",
       "description_tooltip": null,
       "layout": "IPY_MODEL_a09ffdef958b479f9a0a70376d48e191",
       "placeholder": "​",
       "style": "IPY_MODEL_775a1a4f75b648849d8b4c6733ca5994",
       "value": " 393M/393M [00:35&lt;00:00, 12.5MB/s]"
      }
     },
     "aaf4553ebf45404b812c1b965c812e05": {
      "model_module": "@jupyter-widgets/controls",
      "model_module_version": "1.5.0",
      "model_name": "FloatProgressModel",
      "state": {
       "_dom_classes": [],
       "_model_module": "@jupyter-widgets/controls",
       "_model_module_version": "1.5.0",
       "_model_name": "FloatProgressModel",
       "_view_count": null,
       "_view_module": "@jupyter-widgets/controls",
       "_view_module_version": "1.5.0",
       "_view_name": "ProgressView",
       "bar_style": "success",
       "description": "",
       "description_tooltip": null,
       "layout": "IPY_MODEL_45dda138a8854b8f8d1118572410254e",
       "max": 689.0,
       "min": 0.0,
       "orientation": "horizontal",
       "style": "IPY_MODEL_c4bedb157cea4dc097ce9070d848f1db",
       "value": 689.0
      }
     },
     "b222409dd44c4455860e5307170c6a70": {
      "model_module": "@jupyter-widgets/controls",
      "model_module_version": "1.5.0",
      "model_name": "DescriptionStyleModel",
      "state": {
       "_model_module": "@jupyter-widgets/controls",
       "_model_module_version": "1.5.0",
       "_model_name": "DescriptionStyleModel",
       "_view_count": null,
       "_view_module": "@jupyter-widgets/base",
       "_view_module_version": "1.2.0",
       "_view_name": "StyleView",
       "description_width": ""
      }
     },
     "b62d659ab3d74b01baadf06945aedf48": {
      "model_module": "@jupyter-widgets/base",
      "model_module_version": "1.2.0",
      "model_name": "LayoutModel",
      "state": {
       "_model_module": "@jupyter-widgets/base",
       "_model_module_version": "1.2.0",
       "_model_name": "LayoutModel",
       "_view_count": null,
       "_view_module": "@jupyter-widgets/base",
       "_view_module_version": "1.2.0",
       "_view_name": "LayoutView",
       "align_content": null,
       "align_items": null,
       "align_self": null,
       "border": null,
       "bottom": null,
       "display": null,
       "flex": null,
       "flex_flow": null,
       "grid_area": null,
       "grid_auto_columns": null,
       "grid_auto_flow": null,
       "grid_auto_rows": null,
       "grid_column": null,
       "grid_gap": null,
       "grid_row": null,
       "grid_template_areas": null,
       "grid_template_columns": null,
       "grid_template_rows": null,
       "height": null,
       "justify_content": null,
       "justify_items": null,
       "left": null,
       "margin": null,
       "max_height": null,
       "max_width": null,
       "min_height": null,
       "min_width": null,
       "object_fit": null,
       "object_position": null,
       "order": null,
       "overflow": null,
       "overflow_x": null,
       "overflow_y": null,
       "padding": null,
       "right": null,
       "top": null,
       "visibility": null,
       "width": null
      }
     },
     "b723595b1457483a98e398458a67f015": {
      "model_module": "@jupyter-widgets/controls",
      "model_module_version": "1.5.0",
      "model_name": "FloatProgressModel",
      "state": {
       "_dom_classes": [],
       "_model_module": "@jupyter-widgets/controls",
       "_model_module_version": "1.5.0",
       "_model_name": "FloatProgressModel",
       "_view_count": null,
       "_view_module": "@jupyter-widgets/controls",
       "_view_module_version": "1.5.0",
       "_view_name": "ProgressView",
       "bar_style": "success",
       "description": "",
       "description_tooltip": null,
       "layout": "IPY_MODEL_cb8848a27c5d4153b3e39fce4cfbdbd1",
       "max": 19.0,
       "min": 0.0,
       "orientation": "horizontal",
       "style": "IPY_MODEL_9c40e7849b034695846273fd2f6dab1d",
       "value": 19.0
      }
     },
     "b7ecc4539daf4809a9afccf692b0abf7": {
      "model_module": "@jupyter-widgets/base",
      "model_module_version": "1.2.0",
      "model_name": "LayoutModel",
      "state": {
       "_model_module": "@jupyter-widgets/base",
       "_model_module_version": "1.2.0",
       "_model_name": "LayoutModel",
       "_view_count": null,
       "_view_module": "@jupyter-widgets/base",
       "_view_module_version": "1.2.0",
       "_view_name": "LayoutView",
       "align_content": null,
       "align_items": null,
       "align_self": null,
       "border": null,
       "bottom": null,
       "display": null,
       "flex": null,
       "flex_flow": null,
       "grid_area": null,
       "grid_auto_columns": null,
       "grid_auto_flow": null,
       "grid_auto_rows": null,
       "grid_column": null,
       "grid_gap": null,
       "grid_row": null,
       "grid_template_areas": null,
       "grid_template_columns": null,
       "grid_template_rows": null,
       "height": null,
       "justify_content": null,
       "justify_items": null,
       "left": null,
       "margin": null,
       "max_height": null,
       "max_width": null,
       "min_height": null,
       "min_width": null,
       "object_fit": null,
       "object_position": null,
       "order": null,
       "overflow": null,
       "overflow_x": null,
       "overflow_y": null,
       "padding": null,
       "right": null,
       "top": null,
       "visibility": null,
       "width": null
      }
     },
     "bcc614c29e924ebabac454295f2d0485": {
      "model_module": "@jupyter-widgets/base",
      "model_module_version": "1.2.0",
      "model_name": "LayoutModel",
      "state": {
       "_model_module": "@jupyter-widgets/base",
       "_model_module_version": "1.2.0",
       "_model_name": "LayoutModel",
       "_view_count": null,
       "_view_module": "@jupyter-widgets/base",
       "_view_module_version": "1.2.0",
       "_view_name": "LayoutView",
       "align_content": null,
       "align_items": null,
       "align_self": null,
       "border": null,
       "bottom": null,
       "display": null,
       "flex": null,
       "flex_flow": null,
       "grid_area": null,
       "grid_auto_columns": null,
       "grid_auto_flow": null,
       "grid_auto_rows": null,
       "grid_column": null,
       "grid_gap": null,
       "grid_row": null,
       "grid_template_areas": null,
       "grid_template_columns": null,
       "grid_template_rows": null,
       "height": null,
       "justify_content": null,
       "justify_items": null,
       "left": null,
       "margin": null,
       "max_height": null,
       "max_width": null,
       "min_height": null,
       "min_width": null,
       "object_fit": null,
       "object_position": null,
       "order": null,
       "overflow": null,
       "overflow_x": null,
       "overflow_y": null,
       "padding": null,
       "right": null,
       "top": null,
       "visibility": null,
       "width": null
      }
     },
     "c1c5dee7cb3f4981979d1ede05204637": {
      "model_module": "@jupyter-widgets/base",
      "model_module_version": "1.2.0",
      "model_name": "LayoutModel",
      "state": {
       "_model_module": "@jupyter-widgets/base",
       "_model_module_version": "1.2.0",
       "_model_name": "LayoutModel",
       "_view_count": null,
       "_view_module": "@jupyter-widgets/base",
       "_view_module_version": "1.2.0",
       "_view_name": "LayoutView",
       "align_content": null,
       "align_items": null,
       "align_self": null,
       "border": null,
       "bottom": null,
       "display": null,
       "flex": null,
       "flex_flow": null,
       "grid_area": null,
       "grid_auto_columns": null,
       "grid_auto_flow": null,
       "grid_auto_rows": null,
       "grid_column": null,
       "grid_gap": null,
       "grid_row": null,
       "grid_template_areas": null,
       "grid_template_columns": null,
       "grid_template_rows": null,
       "height": null,
       "justify_content": null,
       "justify_items": null,
       "left": null,
       "margin": null,
       "max_height": null,
       "max_width": null,
       "min_height": null,
       "min_width": null,
       "object_fit": null,
       "object_position": null,
       "order": null,
       "overflow": null,
       "overflow_x": null,
       "overflow_y": null,
       "padding": null,
       "right": null,
       "top": null,
       "visibility": null,
       "width": null
      }
     },
     "c4bedb157cea4dc097ce9070d848f1db": {
      "model_module": "@jupyter-widgets/controls",
      "model_module_version": "1.5.0",
      "model_name": "ProgressStyleModel",
      "state": {
       "_model_module": "@jupyter-widgets/controls",
       "_model_module_version": "1.5.0",
       "_model_name": "ProgressStyleModel",
       "_view_count": null,
       "_view_module": "@jupyter-widgets/base",
       "_view_module_version": "1.2.0",
       "_view_name": "StyleView",
       "bar_color": null,
       "description_width": ""
      }
     },
     "c638efccfafa46e7b0fa46100355164e": {
      "model_module": "@jupyter-widgets/controls",
      "model_module_version": "1.5.0",
      "model_name": "DescriptionStyleModel",
      "state": {
       "_model_module": "@jupyter-widgets/controls",
       "_model_module_version": "1.5.0",
       "_model_name": "DescriptionStyleModel",
       "_view_count": null,
       "_view_module": "@jupyter-widgets/base",
       "_view_module_version": "1.2.0",
       "_view_name": "StyleView",
       "description_width": ""
      }
     },
     "c649b5f59da240979322742bdaa54356": {
      "model_module": "@jupyter-widgets/controls",
      "model_module_version": "1.5.0",
      "model_name": "ProgressStyleModel",
      "state": {
       "_model_module": "@jupyter-widgets/controls",
       "_model_module_version": "1.5.0",
       "_model_name": "ProgressStyleModel",
       "_view_count": null,
       "_view_module": "@jupyter-widgets/base",
       "_view_module_version": "1.2.0",
       "_view_name": "StyleView",
       "bar_color": null,
       "description_width": ""
      }
     },
     "cb8848a27c5d4153b3e39fce4cfbdbd1": {
      "model_module": "@jupyter-widgets/base",
      "model_module_version": "1.2.0",
      "model_name": "LayoutModel",
      "state": {
       "_model_module": "@jupyter-widgets/base",
       "_model_module_version": "1.2.0",
       "_model_name": "LayoutModel",
       "_view_count": null,
       "_view_module": "@jupyter-widgets/base",
       "_view_module_version": "1.2.0",
       "_view_name": "LayoutView",
       "align_content": null,
       "align_items": null,
       "align_self": null,
       "border": null,
       "bottom": null,
       "display": null,
       "flex": null,
       "flex_flow": null,
       "grid_area": null,
       "grid_auto_columns": null,
       "grid_auto_flow": null,
       "grid_auto_rows": null,
       "grid_column": null,
       "grid_gap": null,
       "grid_row": null,
       "grid_template_areas": null,
       "grid_template_columns": null,
       "grid_template_rows": null,
       "height": null,
       "justify_content": null,
       "justify_items": null,
       "left": null,
       "margin": null,
       "max_height": null,
       "max_width": null,
       "min_height": null,
       "min_width": null,
       "object_fit": null,
       "object_position": null,
       "order": null,
       "overflow": null,
       "overflow_x": null,
       "overflow_y": null,
       "padding": null,
       "right": null,
       "top": null,
       "visibility": null,
       "width": null
      }
     },
     "d91f55f99dfe496dad1f48935a90d923": {
      "model_module": "@jupyter-widgets/controls",
      "model_module_version": "1.5.0",
      "model_name": "DescriptionStyleModel",
      "state": {
       "_model_module": "@jupyter-widgets/controls",
       "_model_module_version": "1.5.0",
       "_model_name": "DescriptionStyleModel",
       "_view_count": null,
       "_view_module": "@jupyter-widgets/base",
       "_view_module_version": "1.2.0",
       "_view_name": "StyleView",
       "description_width": ""
      }
     },
     "dd34b9ffa84948bea3487d8da0696dfd": {
      "model_module": "@jupyter-widgets/controls",
      "model_module_version": "1.5.0",
      "model_name": "HBoxModel",
      "state": {
       "_dom_classes": [],
       "_model_module": "@jupyter-widgets/controls",
       "_model_module_version": "1.5.0",
       "_model_name": "HBoxModel",
       "_view_count": null,
       "_view_module": "@jupyter-widgets/controls",
       "_view_module_version": "1.5.0",
       "_view_name": "HBoxView",
       "box_style": "",
       "children": [
        "IPY_MODEL_9df9b297aea4476889d1a5d6a668447c",
        "IPY_MODEL_f78c5e7dcc5b4a0caa01a77cfba9c3fc",
        "IPY_MODEL_a6175fc59af84021853295797625680c"
       ],
       "layout": "IPY_MODEL_e2f364c9560a4dd5ade9a55fe5625f00"
      }
     },
     "e06f1d0aafb24649b6b137cb41812942": {
      "model_module": "@jupyter-widgets/base",
      "model_module_version": "1.2.0",
      "model_name": "LayoutModel",
      "state": {
       "_model_module": "@jupyter-widgets/base",
       "_model_module_version": "1.2.0",
       "_model_name": "LayoutModel",
       "_view_count": null,
       "_view_module": "@jupyter-widgets/base",
       "_view_module_version": "1.2.0",
       "_view_name": "LayoutView",
       "align_content": null,
       "align_items": null,
       "align_self": null,
       "border": null,
       "bottom": null,
       "display": null,
       "flex": null,
       "flex_flow": null,
       "grid_area": null,
       "grid_auto_columns": null,
       "grid_auto_flow": null,
       "grid_auto_rows": null,
       "grid_column": null,
       "grid_gap": null,
       "grid_row": null,
       "grid_template_areas": null,
       "grid_template_columns": null,
       "grid_template_rows": null,
       "height": null,
       "justify_content": null,
       "justify_items": null,
       "left": null,
       "margin": null,
       "max_height": null,
       "max_width": null,
       "min_height": null,
       "min_width": null,
       "object_fit": null,
       "object_position": null,
       "order": null,
       "overflow": null,
       "overflow_x": null,
       "overflow_y": null,
       "padding": null,
       "right": null,
       "top": null,
       "visibility": null,
       "width": null
      }
     },
     "e2f364c9560a4dd5ade9a55fe5625f00": {
      "model_module": "@jupyter-widgets/base",
      "model_module_version": "1.2.0",
      "model_name": "LayoutModel",
      "state": {
       "_model_module": "@jupyter-widgets/base",
       "_model_module_version": "1.2.0",
       "_model_name": "LayoutModel",
       "_view_count": null,
       "_view_module": "@jupyter-widgets/base",
       "_view_module_version": "1.2.0",
       "_view_name": "LayoutView",
       "align_content": null,
       "align_items": null,
       "align_self": null,
       "border": null,
       "bottom": null,
       "display": null,
       "flex": null,
       "flex_flow": null,
       "grid_area": null,
       "grid_auto_columns": null,
       "grid_auto_flow": null,
       "grid_auto_rows": null,
       "grid_column": null,
       "grid_gap": null,
       "grid_row": null,
       "grid_template_areas": null,
       "grid_template_columns": null,
       "grid_template_rows": null,
       "height": null,
       "justify_content": null,
       "justify_items": null,
       "left": null,
       "margin": null,
       "max_height": null,
       "max_width": null,
       "min_height": null,
       "min_width": null,
       "object_fit": null,
       "object_position": null,
       "order": null,
       "overflow": null,
       "overflow_x": null,
       "overflow_y": null,
       "padding": null,
       "right": null,
       "top": null,
       "visibility": null,
       "width": null
      }
     },
     "e6a16220708b4504b1001a9352eb336b": {
      "model_module": "@jupyter-widgets/controls",
      "model_module_version": "1.5.0",
      "model_name": "DescriptionStyleModel",
      "state": {
       "_model_module": "@jupyter-widgets/controls",
       "_model_module_version": "1.5.0",
       "_model_name": "DescriptionStyleModel",
       "_view_count": null,
       "_view_module": "@jupyter-widgets/base",
       "_view_module_version": "1.2.0",
       "_view_name": "StyleView",
       "description_width": ""
      }
     },
     "eb9cd59c66844d13805d3c1dc4205aa7": {
      "model_module": "@jupyter-widgets/controls",
      "model_module_version": "1.5.0",
      "model_name": "DescriptionStyleModel",
      "state": {
       "_model_module": "@jupyter-widgets/controls",
       "_model_module_version": "1.5.0",
       "_model_name": "DescriptionStyleModel",
       "_view_count": null,
       "_view_module": "@jupyter-widgets/base",
       "_view_module_version": "1.2.0",
       "_view_name": "StyleView",
       "description_width": ""
      }
     },
     "f4fcf79a2a534c86a4c504f25f045ff9": {
      "model_module": "@jupyter-widgets/controls",
      "model_module_version": "1.5.0",
      "model_name": "DescriptionStyleModel",
      "state": {
       "_model_module": "@jupyter-widgets/controls",
       "_model_module_version": "1.5.0",
       "_model_name": "DescriptionStyleModel",
       "_view_count": null,
       "_view_module": "@jupyter-widgets/base",
       "_view_module_version": "1.2.0",
       "_view_name": "StyleView",
       "description_width": ""
      }
     },
     "f78c5e7dcc5b4a0caa01a77cfba9c3fc": {
      "model_module": "@jupyter-widgets/controls",
      "model_module_version": "1.5.0",
      "model_name": "FloatProgressModel",
      "state": {
       "_dom_classes": [],
       "_model_module": "@jupyter-widgets/controls",
       "_model_module_version": "1.5.0",
       "_model_name": "FloatProgressModel",
       "_view_count": null,
       "_view_module": "@jupyter-widgets/controls",
       "_view_module_version": "1.5.0",
       "_view_name": "ProgressView",
       "bar_style": "success",
       "description": "",
       "description_tooltip": null,
       "layout": "IPY_MODEL_6655277de64b46c7acd1cef3edbcc104",
       "max": 411578458.0,
       "min": 0.0,
       "orientation": "horizontal",
       "style": "IPY_MODEL_c649b5f59da240979322742bdaa54356",
       "value": 411578458.0
      }
     },
     "f8469e7f5ab84746a2f14ae8c975410f": {
      "model_module": "@jupyter-widgets/controls",
      "model_module_version": "1.5.0",
      "model_name": "ProgressStyleModel",
      "state": {
       "_model_module": "@jupyter-widgets/controls",
       "_model_module_version": "1.5.0",
       "_model_name": "ProgressStyleModel",
       "_view_count": null,
       "_view_module": "@jupyter-widgets/base",
       "_view_module_version": "1.2.0",
       "_view_name": "StyleView",
       "bar_color": null,
       "description_width": ""
      }
     },
     "f91338437aa4431e91e5d1724ac255d4": {
      "model_module": "@jupyter-widgets/controls",
      "model_module_version": "1.5.0",
      "model_name": "DescriptionStyleModel",
      "state": {
       "_model_module": "@jupyter-widgets/controls",
       "_model_module_version": "1.5.0",
       "_model_name": "DescriptionStyleModel",
       "_view_count": null,
       "_view_module": "@jupyter-widgets/base",
       "_view_module_version": "1.2.0",
       "_view_name": "StyleView",
       "description_width": ""
      }
     },
     "fb8aa5b1bfd24b6baa736f9228eff653": {
      "model_module": "@jupyter-widgets/controls",
      "model_module_version": "1.5.0",
      "model_name": "FloatProgressModel",
      "state": {
       "_dom_classes": [],
       "_model_module": "@jupyter-widgets/controls",
       "_model_module_version": "1.5.0",
       "_model_name": "FloatProgressModel",
       "_view_count": null,
       "_view_module": "@jupyter-widgets/controls",
       "_view_module_version": "1.5.0",
       "_view_name": "ProgressView",
       "bar_style": "success",
       "description": "",
       "description_tooltip": null,
       "layout": "IPY_MODEL_6aaa01c29cf0403a80b0abc0386f86d0",
       "max": 112.0,
       "min": 0.0,
       "orientation": "horizontal",
       "style": "IPY_MODEL_29dd7eec15c54e6d9ed4cd28651dacba",
       "value": 112.0
      }
     },
     "fdf820c555cc41f5bb16f720e26fd3d8": {
      "model_module": "@jupyter-widgets/base",
      "model_module_version": "1.2.0",
      "model_name": "LayoutModel",
      "state": {
       "_model_module": "@jupyter-widgets/base",
       "_model_module_version": "1.2.0",
       "_model_name": "LayoutModel",
       "_view_count": null,
       "_view_module": "@jupyter-widgets/base",
       "_view_module_version": "1.2.0",
       "_view_name": "LayoutView",
       "align_content": null,
       "align_items": null,
       "align_self": null,
       "border": null,
       "bottom": null,
       "display": null,
       "flex": null,
       "flex_flow": null,
       "grid_area": null,
       "grid_auto_columns": null,
       "grid_auto_flow": null,
       "grid_auto_rows": null,
       "grid_column": null,
       "grid_gap": null,
       "grid_row": null,
       "grid_template_areas": null,
       "grid_template_columns": null,
       "grid_template_rows": null,
       "height": null,
       "justify_content": null,
       "justify_items": null,
       "left": null,
       "margin": null,
       "max_height": null,
       "max_width": null,
       "min_height": null,
       "min_width": null,
       "object_fit": null,
       "object_position": null,
       "order": null,
       "overflow": null,
       "overflow_x": null,
       "overflow_y": null,
       "padding": null,
       "right": null,
       "top": null,
       "visibility": null,
       "width": null
      }
     },
     "fe21a44fdbae4c9f99a0a791997ae494": {
      "model_module": "@jupyter-widgets/base",
      "model_module_version": "1.2.0",
      "model_name": "LayoutModel",
      "state": {
       "_model_module": "@jupyter-widgets/base",
       "_model_module_version": "1.2.0",
       "_model_name": "LayoutModel",
       "_view_count": null,
       "_view_module": "@jupyter-widgets/base",
       "_view_module_version": "1.2.0",
       "_view_name": "LayoutView",
       "align_content": null,
       "align_items": null,
       "align_self": null,
       "border": null,
       "bottom": null,
       "display": null,
       "flex": null,
       "flex_flow": null,
       "grid_area": null,
       "grid_auto_columns": null,
       "grid_auto_flow": null,
       "grid_auto_rows": null,
       "grid_column": null,
       "grid_gap": null,
       "grid_row": null,
       "grid_template_areas": null,
       "grid_template_columns": null,
       "grid_template_rows": null,
       "height": null,
       "justify_content": null,
       "justify_items": null,
       "left": null,
       "margin": null,
       "max_height": null,
       "max_width": null,
       "min_height": null,
       "min_width": null,
       "object_fit": null,
       "object_position": null,
       "order": null,
       "overflow": null,
       "overflow_x": null,
       "overflow_y": null,
       "padding": null,
       "right": null,
       "top": null,
       "visibility": null,
       "width": null
      }
     }
    },
    "version_major": 2,
    "version_minor": 0
   }
  }
 },
 "nbformat": 4,
 "nbformat_minor": 5
}
